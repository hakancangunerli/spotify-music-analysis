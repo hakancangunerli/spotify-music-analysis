{
 "cells": [
  {
   "cell_type": "code",
   "execution_count": 52,
   "metadata": {},
   "outputs": [],
   "source": [
    "using Pkg; \n",
    "# Pkg.add(\"DataFrames\"); Pkg.add(\"CSV\");Pkg.add(\"XLSX\"); Pkg.add(\"PyPlot\");\n",
    "using DataFrames, CSV, XLSX;\n",
    "using PyPlot;"
   ]
  },
  {
   "cell_type": "code",
   "execution_count": 53,
   "metadata": {},
   "outputs": [
    {
     "data": {
      "text/html": [
       "<div><div style = \"float: left;\"><span>5×15 DataFrame</span></div><div style = \"clear: both;\"></div></div><div class = \"data-frame\" style = \"overflow-x: scroll;\"><table class = \"data-frame\" style = \"margin-bottom: 6px;\"><thead><tr class = \"header\"><th class = \"rowNumber\" style = \"font-weight: bold; text-align: right;\">Row</th><th style = \"text-align: left;\">title</th><th style = \"text-align: left;\">artist</th><th style = \"text-align: left;\">top genre</th><th style = \"text-align: left;\">year</th><th style = \"text-align: left;\">added</th><th style = \"text-align: left;\">bpm</th><th style = \"text-align: left;\">nrgy</th><th style = \"text-align: left;\">dnce</th><th style = \"text-align: left;\">dB</th><th style = \"text-align: left;\">live</th><th style = \"text-align: left;\">val</th><th style = \"text-align: left;\">dur</th><th style = \"text-align: left;\">acous</th><th style = \"text-align: left;\">spch</th><th style = \"text-align: left;\">pop</th></tr><tr class = \"subheader headerLastRow\"><th class = \"rowNumber\" style = \"font-weight: bold; text-align: right;\"></th><th title = \"Any\" style = \"text-align: left;\">Any</th><th title = \"Any\" style = \"text-align: left;\">Any</th><th title = \"Any\" style = \"text-align: left;\">Any</th><th title = \"Any\" style = \"text-align: left;\">Any</th><th title = \"Any\" style = \"text-align: left;\">Any</th><th title = \"Any\" style = \"text-align: left;\">Any</th><th title = \"Any\" style = \"text-align: left;\">Any</th><th title = \"Any\" style = \"text-align: left;\">Any</th><th title = \"Any\" style = \"text-align: left;\">Any</th><th title = \"Any\" style = \"text-align: left;\">Any</th><th title = \"Any\" style = \"text-align: left;\">Any</th><th title = \"Any\" style = \"text-align: left;\">Any</th><th title = \"Any\" style = \"text-align: left;\">Any</th><th title = \"Any\" style = \"text-align: left;\">Any</th><th title = \"Any\" style = \"text-align: left;\">Any</th></tr></thead><tbody><tr><td class = \"rowNumber\" style = \"font-weight: bold; text-align: right;\">1</td><td style = \"text-align: left;\">STAY (with Justin Bieber)</td><td style = \"text-align: left;\">The Kid LAROI</td><td style = \"text-align: left;\">australian hip hop</td><td style = \"text-align: left;\">2021</td><td style = \"text-align: left;\">2021‑11‑10</td><td style = \"text-align: left;\">170</td><td style = \"text-align: left;\">76</td><td style = \"text-align: left;\">59</td><td style = \"text-align: left;\">-5</td><td style = \"text-align: left;\">10</td><td style = \"text-align: left;\">48</td><td style = \"text-align: left;\">142</td><td style = \"text-align: left;\">4</td><td style = \"text-align: left;\">5</td><td style = \"text-align: left;\">98</td></tr><tr><td class = \"rowNumber\" style = \"font-weight: bold; text-align: right;\">2</td><td style = \"text-align: left;\">INDUSTRY BABY (feat. Jack Harlow)</td><td style = \"text-align: left;\">Lil Nas X</td><td style = \"text-align: left;\">lgbtq+ hip hop</td><td style = \"text-align: left;\">2021</td><td style = \"text-align: left;\">2021‑11‑10</td><td style = \"text-align: left;\">150</td><td style = \"text-align: left;\">70</td><td style = \"text-align: left;\">74</td><td style = \"text-align: left;\">-7</td><td style = \"text-align: left;\">5</td><td style = \"text-align: left;\">89</td><td style = \"text-align: left;\">212</td><td style = \"text-align: left;\">2</td><td style = \"text-align: left;\">6</td><td style = \"text-align: left;\">97</td></tr><tr><td class = \"rowNumber\" style = \"font-weight: bold; text-align: right;\">3</td><td style = \"text-align: left;\">love nwantiti (ah ah ah)</td><td style = \"text-align: left;\">CKay</td><td style = \"text-align: left;\">afro r&amp;b</td><td style = \"text-align: left;\">2019</td><td style = \"text-align: left;\">2021‑11‑10</td><td style = \"text-align: left;\">93</td><td style = \"text-align: left;\">74</td><td style = \"text-align: left;\">73</td><td style = \"text-align: left;\">-4</td><td style = \"text-align: left;\">16</td><td style = \"text-align: left;\">53</td><td style = \"text-align: left;\">146</td><td style = \"text-align: left;\">37</td><td style = \"text-align: left;\">4</td><td style = \"text-align: left;\">95</td></tr><tr><td class = \"rowNumber\" style = \"font-weight: bold; text-align: right;\">4</td><td style = \"text-align: left;\">Beggin&apos;</td><td style = \"text-align: left;\">Måneskin</td><td style = \"text-align: left;\">indie rock italiano</td><td style = \"text-align: left;\">2017</td><td style = \"text-align: left;\">2021‑11‑10</td><td style = \"text-align: left;\">134</td><td style = \"text-align: left;\">80</td><td style = \"text-align: left;\">71</td><td style = \"text-align: left;\">-5</td><td style = \"text-align: left;\">36</td><td style = \"text-align: left;\">59</td><td style = \"text-align: left;\">212</td><td style = \"text-align: left;\">13</td><td style = \"text-align: left;\">5</td><td style = \"text-align: left;\">95</td></tr><tr><td class = \"rowNumber\" style = \"font-weight: bold; text-align: right;\">5</td><td style = \"text-align: left;\">THATS WHAT I WANT</td><td style = \"text-align: left;\">Lil Nas X</td><td style = \"text-align: left;\">lgbtq+ hip hop</td><td style = \"text-align: left;\">2021</td><td style = \"text-align: left;\">2021‑11‑10</td><td style = \"text-align: left;\">88</td><td style = \"text-align: left;\">85</td><td style = \"text-align: left;\">74</td><td style = \"text-align: left;\">-5</td><td style = \"text-align: left;\">5</td><td style = \"text-align: left;\">55</td><td style = \"text-align: left;\">144</td><td style = \"text-align: left;\">1</td><td style = \"text-align: left;\">22</td><td style = \"text-align: left;\">94</td></tr></tbody></table></div>"
      ],
      "text/latex": [
       "\\begin{tabular}{r|cccccc}\n",
       "\t& title & artist & top genre & year & added & \\\\\n",
       "\t\\hline\n",
       "\t& Any & Any & Any & Any & Any & \\\\\n",
       "\t\\hline\n",
       "\t1 & STAY (with Justin Bieber) & The Kid LAROI & australian hip hop & 2021 & 2021‑11‑10 & $\\dots$ \\\\\n",
       "\t2 & INDUSTRY BABY (feat. Jack Harlow) & Lil Nas X & lgbtq+ hip hop & 2021 & 2021‑11‑10 & $\\dots$ \\\\\n",
       "\t3 & love nwantiti (ah ah ah) & CKay & afro r\\&b & 2019 & 2021‑11‑10 & $\\dots$ \\\\\n",
       "\t4 & Beggin' & Måneskin & indie rock italiano & 2017 & 2021‑11‑10 & $\\dots$ \\\\\n",
       "\t5 & THATS WHAT I WANT & Lil Nas X & lgbtq+ hip hop & 2021 & 2021‑11‑10 & $\\dots$ \\\\\n",
       "\\end{tabular}\n"
      ],
      "text/plain": [
       "\u001b[1m5×15 DataFrame\n",
       "\u001b[1m Row │\u001b[1m title                             \u001b[1m artist        \u001b[1m top genre           \u001b[1m  ⋯\n",
       "     │\u001b[90m Any                               \u001b[90m Any           \u001b[90m Any                 \u001b[90m  ⋯\n",
       "─────┼──────────────────────────────────────────────────────────────────────────\n",
       "   1 │ STAY (with Justin Bieber)          The Kid LAROI  australian hip hop    ⋯\n",
       "   2 │ INDUSTRY BABY (feat. Jack Harlow)  Lil Nas X      lgbtq+ hip hop\n",
       "   3 │ love nwantiti (ah ah ah)           CKay           afro r&b\n",
       "   4 │ Beggin'                            Måneskin       indie rock italiano\n",
       "   5 │ THATS WHAT I WANT                  Lil Nas X      lgbtq+ hip hop        ⋯\n",
       "\u001b[36m                                                              12 columns omitted"
      ]
     },
     "metadata": {},
     "output_type": "display_data"
    }
   ],
   "source": [
    "df = DataFrame(XLSX.readtable(\"MusicList.xlsx\", \"Sheet1\"));\n",
    "\n",
    "first(df,5)"
   ]
  },
  {
   "cell_type": "code",
   "execution_count": 54,
   "metadata": {},
   "outputs": [],
   "source": [
    "genres = [\"hip hop\", \"pop\", \"rock\", \"country\", \"drill\", \"jazz\", \"turkish\", \"lo-fi\", \"classical\", \"blues\", \"reggae\", \"folk\", \"metal\", \"dance\", \"electronic\", \"indie\", \"soul\", \"latin\", \"world\", \"other\", \"r&b\", \"rap\", \"house\"]\n",
    "\n",
    "for i in 1:length(genres)\n",
    "    df[occursin.(genres[i], coalesce.(df[:, \"top genre\"], \"\")), \"top genre\"] .= genres[i]\n",
    "end"
   ]
  },
  {
   "cell_type": "code",
   "execution_count": 55,
   "metadata": {},
   "outputs": [
    {
     "data": {
      "text/html": [
       "<div><div style = \"float: left;\"><span>3037×15 DataFrame</span></div><div style = \"float: right;\"><span style = \"font-style: italic;\">3012 rows omitted</span></div><div style = \"clear: both;\"></div></div><div class = \"data-frame\" style = \"overflow-x: scroll;\"><table class = \"data-frame\" style = \"margin-bottom: 6px;\"><thead><tr class = \"header\"><th class = \"rowNumber\" style = \"font-weight: bold; text-align: right;\">Row</th><th style = \"text-align: left;\">title</th><th style = \"text-align: left;\">artist</th><th style = \"text-align: left;\">top genre</th><th style = \"text-align: left;\">year</th><th style = \"text-align: left;\">added</th><th style = \"text-align: left;\">bpm</th><th style = \"text-align: left;\">nrgy</th><th style = \"text-align: left;\">dnce</th><th style = \"text-align: left;\">dB</th><th style = \"text-align: left;\">live</th><th style = \"text-align: left;\">val</th><th style = \"text-align: left;\">dur</th><th style = \"text-align: left;\">acous</th><th style = \"text-align: left;\">spch</th><th style = \"text-align: left;\">pop</th></tr><tr class = \"subheader headerLastRow\"><th class = \"rowNumber\" style = \"font-weight: bold; text-align: right;\"></th><th title = \"Any\" style = \"text-align: left;\">Any</th><th title = \"Any\" style = \"text-align: left;\">Any</th><th title = \"String\" style = \"text-align: left;\">String</th><th title = \"Any\" style = \"text-align: left;\">Any</th><th title = \"Any\" style = \"text-align: left;\">Any</th><th title = \"Any\" style = \"text-align: left;\">Any</th><th title = \"Any\" style = \"text-align: left;\">Any</th><th title = \"Any\" style = \"text-align: left;\">Any</th><th title = \"Any\" style = \"text-align: left;\">Any</th><th title = \"Any\" style = \"text-align: left;\">Any</th><th title = \"Any\" style = \"text-align: left;\">Any</th><th title = \"Any\" style = \"text-align: left;\">Any</th><th title = \"Any\" style = \"text-align: left;\">Any</th><th title = \"Any\" style = \"text-align: left;\">Any</th><th title = \"Any\" style = \"text-align: left;\">Any</th></tr></thead><tbody><tr><td class = \"rowNumber\" style = \"font-weight: bold; text-align: right;\">1</td><td style = \"text-align: left;\">STAY (with Justin Bieber)</td><td style = \"text-align: left;\">The Kid LAROI</td><td style = \"text-align: left;\">hip hop</td><td style = \"text-align: left;\">2021</td><td style = \"text-align: left;\">2021‑11‑10</td><td style = \"text-align: left;\">170</td><td style = \"text-align: left;\">76</td><td style = \"text-align: left;\">59</td><td style = \"text-align: left;\">-5</td><td style = \"text-align: left;\">10</td><td style = \"text-align: left;\">48</td><td style = \"text-align: left;\">142</td><td style = \"text-align: left;\">4</td><td style = \"text-align: left;\">5</td><td style = \"text-align: left;\">98</td></tr><tr><td class = \"rowNumber\" style = \"font-weight: bold; text-align: right;\">2</td><td style = \"text-align: left;\">INDUSTRY BABY (feat. Jack Harlow)</td><td style = \"text-align: left;\">Lil Nas X</td><td style = \"text-align: left;\">hip hop</td><td style = \"text-align: left;\">2021</td><td style = \"text-align: left;\">2021‑11‑10</td><td style = \"text-align: left;\">150</td><td style = \"text-align: left;\">70</td><td style = \"text-align: left;\">74</td><td style = \"text-align: left;\">-7</td><td style = \"text-align: left;\">5</td><td style = \"text-align: left;\">89</td><td style = \"text-align: left;\">212</td><td style = \"text-align: left;\">2</td><td style = \"text-align: left;\">6</td><td style = \"text-align: left;\">97</td></tr><tr><td class = \"rowNumber\" style = \"font-weight: bold; text-align: right;\">3</td><td style = \"text-align: left;\">love nwantiti (ah ah ah)</td><td style = \"text-align: left;\">CKay</td><td style = \"text-align: left;\">r&amp;b</td><td style = \"text-align: left;\">2019</td><td style = \"text-align: left;\">2021‑11‑10</td><td style = \"text-align: left;\">93</td><td style = \"text-align: left;\">74</td><td style = \"text-align: left;\">73</td><td style = \"text-align: left;\">-4</td><td style = \"text-align: left;\">16</td><td style = \"text-align: left;\">53</td><td style = \"text-align: left;\">146</td><td style = \"text-align: left;\">37</td><td style = \"text-align: left;\">4</td><td style = \"text-align: left;\">95</td></tr><tr><td class = \"rowNumber\" style = \"font-weight: bold; text-align: right;\">4</td><td style = \"text-align: left;\">Beggin&apos;</td><td style = \"text-align: left;\">Måneskin</td><td style = \"text-align: left;\">rock</td><td style = \"text-align: left;\">2017</td><td style = \"text-align: left;\">2021‑11‑10</td><td style = \"text-align: left;\">134</td><td style = \"text-align: left;\">80</td><td style = \"text-align: left;\">71</td><td style = \"text-align: left;\">-5</td><td style = \"text-align: left;\">36</td><td style = \"text-align: left;\">59</td><td style = \"text-align: left;\">212</td><td style = \"text-align: left;\">13</td><td style = \"text-align: left;\">5</td><td style = \"text-align: left;\">95</td></tr><tr><td class = \"rowNumber\" style = \"font-weight: bold; text-align: right;\">5</td><td style = \"text-align: left;\">THATS WHAT I WANT</td><td style = \"text-align: left;\">Lil Nas X</td><td style = \"text-align: left;\">hip hop</td><td style = \"text-align: left;\">2021</td><td style = \"text-align: left;\">2021‑11‑10</td><td style = \"text-align: left;\">88</td><td style = \"text-align: left;\">85</td><td style = \"text-align: left;\">74</td><td style = \"text-align: left;\">-5</td><td style = \"text-align: left;\">5</td><td style = \"text-align: left;\">55</td><td style = \"text-align: left;\">144</td><td style = \"text-align: left;\">1</td><td style = \"text-align: left;\">22</td><td style = \"text-align: left;\">94</td></tr><tr><td class = \"rowNumber\" style = \"font-weight: bold; text-align: right;\">6</td><td style = \"text-align: left;\">love nwantiti (feat. Dj Yo! &amp; AX&apos;EL) - Remix</td><td style = \"text-align: left;\">CKay</td><td style = \"text-align: left;\">r&amp;b</td><td style = \"text-align: left;\">2021</td><td style = \"text-align: left;\">2021‑11‑10</td><td style = \"text-align: left;\">120</td><td style = \"text-align: left;\">60</td><td style = \"text-align: left;\">58</td><td style = \"text-align: left;\">-5</td><td style = \"text-align: left;\">5</td><td style = \"text-align: left;\">44</td><td style = \"text-align: left;\">188</td><td style = \"text-align: left;\">44</td><td style = \"text-align: left;\">6</td><td style = \"text-align: left;\">94</td></tr><tr><td class = \"rowNumber\" style = \"font-weight: bold; text-align: right;\">7</td><td style = \"text-align: left;\">Blinding Lights</td><td style = \"text-align: left;\">The Weeknd</td><td style = \"text-align: left;\">r&amp;b</td><td style = \"text-align: left;\">2020</td><td style = \"text-align: left;\">2021‑11‑10</td><td style = \"text-align: left;\">171</td><td style = \"text-align: left;\">73</td><td style = \"text-align: left;\">51</td><td style = \"text-align: left;\">-6</td><td style = \"text-align: left;\">9</td><td style = \"text-align: left;\">33</td><td style = \"text-align: left;\">200</td><td style = \"text-align: left;\">0</td><td style = \"text-align: left;\">6</td><td style = \"text-align: left;\">92</td></tr><tr><td class = \"rowNumber\" style = \"font-weight: bold; text-align: right;\">8</td><td style = \"text-align: left;\">Heat Waves</td><td style = \"text-align: left;\">Glass Animals</td><td style = \"text-align: left;\">pop</td><td style = \"text-align: left;\">2020</td><td style = \"text-align: left;\">2021‑10‑10</td><td style = \"text-align: left;\">81</td><td style = \"text-align: left;\">53</td><td style = \"text-align: left;\">76</td><td style = \"text-align: left;\">-7</td><td style = \"text-align: left;\">9</td><td style = \"text-align: left;\">53</td><td style = \"text-align: left;\">239</td><td style = \"text-align: left;\">44</td><td style = \"text-align: left;\">9</td><td style = \"text-align: left;\">92</td></tr><tr><td class = \"rowNumber\" style = \"font-weight: bold; text-align: right;\">9</td><td style = \"text-align: left;\">Knife Talk (with 21 Savage ft. Project Pat)</td><td style = \"text-align: left;\">Drake</td><td style = \"text-align: left;\">hip hop</td><td style = \"text-align: left;\">2021</td><td style = \"text-align: left;\">2021‑11‑10</td><td style = \"text-align: left;\">146</td><td style = \"text-align: left;\">42</td><td style = \"text-align: left;\">85</td><td style = \"text-align: left;\">-10</td><td style = \"text-align: left;\">8</td><td style = \"text-align: left;\">15</td><td style = \"text-align: left;\">243</td><td style = \"text-align: left;\">6</td><td style = \"text-align: left;\">32</td><td style = \"text-align: left;\">91</td></tr><tr><td class = \"rowNumber\" style = \"font-weight: bold; text-align: right;\">10</td><td style = \"text-align: left;\">Fair Trade (with Travis Scott)</td><td style = \"text-align: left;\">Drake</td><td style = \"text-align: left;\">hip hop</td><td style = \"text-align: left;\">2021</td><td style = \"text-align: left;\">2021‑11‑10</td><td style = \"text-align: left;\">168</td><td style = \"text-align: left;\">47</td><td style = \"text-align: left;\">67</td><td style = \"text-align: left;\">-9</td><td style = \"text-align: left;\">22</td><td style = \"text-align: left;\">29</td><td style = \"text-align: left;\">291</td><td style = \"text-align: left;\">5</td><td style = \"text-align: left;\">26</td><td style = \"text-align: left;\">91</td></tr><tr><td class = \"rowNumber\" style = \"font-weight: bold; text-align: right;\">11</td><td style = \"text-align: left;\">Heat Waves</td><td style = \"text-align: left;\">Glass Animals</td><td style = \"text-align: left;\">pop</td><td style = \"text-align: left;\">2020</td><td style = \"text-align: left;\">2021‑11‑10</td><td style = \"text-align: left;\">81</td><td style = \"text-align: left;\">53</td><td style = \"text-align: left;\">76</td><td style = \"text-align: left;\">-7</td><td style = \"text-align: left;\">9</td><td style = \"text-align: left;\">53</td><td style = \"text-align: left;\">239</td><td style = \"text-align: left;\">44</td><td style = \"text-align: left;\">9</td><td style = \"text-align: left;\">89</td></tr><tr><td class = \"rowNumber\" style = \"font-weight: bold; text-align: right;\">12</td><td style = \"text-align: left;\">Get Into It (Yuh)</td><td style = \"text-align: left;\">Doja Cat</td><td style = \"text-align: left;\">pop</td><td style = \"text-align: left;\">2021</td><td style = \"text-align: left;\">2021‑11‑10</td><td style = \"text-align: left;\">92</td><td style = \"text-align: left;\">66</td><td style = \"text-align: left;\">91</td><td style = \"text-align: left;\">-6</td><td style = \"text-align: left;\">9</td><td style = \"text-align: left;\">79</td><td style = \"text-align: left;\">138</td><td style = \"text-align: left;\">32</td><td style = \"text-align: left;\">16</td><td style = \"text-align: left;\">88</td></tr><tr><td class = \"rowNumber\" style = \"font-weight: bold; text-align: right;\">13</td><td style = \"text-align: left;\">Mood (feat. iann dior)</td><td style = \"text-align: left;\">24kGoldn</td><td style = \"text-align: left;\">rap</td><td style = \"text-align: left;\">2021</td><td style = \"text-align: left;\">2021‑11‑10</td><td style = \"text-align: left;\">91</td><td style = \"text-align: left;\">72</td><td style = \"text-align: left;\">70</td><td style = \"text-align: left;\">-4</td><td style = \"text-align: left;\">32</td><td style = \"text-align: left;\">73</td><td style = \"text-align: left;\">141</td><td style = \"text-align: left;\">17</td><td style = \"text-align: left;\">4</td><td style = \"text-align: left;\">88</td></tr><tr><td style = \"text-align: right;\">&vellip;</td><td style = \"text-align: right;\">&vellip;</td><td style = \"text-align: right;\">&vellip;</td><td style = \"text-align: right;\">&vellip;</td><td style = \"text-align: right;\">&vellip;</td><td style = \"text-align: right;\">&vellip;</td><td style = \"text-align: right;\">&vellip;</td><td style = \"text-align: right;\">&vellip;</td><td style = \"text-align: right;\">&vellip;</td><td style = \"text-align: right;\">&vellip;</td><td style = \"text-align: right;\">&vellip;</td><td style = \"text-align: right;\">&vellip;</td><td style = \"text-align: right;\">&vellip;</td><td style = \"text-align: right;\">&vellip;</td><td style = \"text-align: right;\">&vellip;</td><td style = \"text-align: right;\">&vellip;</td></tr><tr><td class = \"rowNumber\" style = \"font-weight: bold; text-align: right;\">3026</td><td style = \"text-align: left;\">Çakkıdı</td><td style = \"text-align: left;\">Kenan Doğulu</td><td style = \"text-align: left;\">pop</td><td style = \"text-align: left;\">2006</td><td style = \"text-align: left;\">2021‑11‑10</td><td style = \"text-align: left;\">105</td><td style = \"text-align: left;\">69</td><td style = \"text-align: left;\">88</td><td style = \"text-align: left;\">-9</td><td style = \"text-align: left;\">3</td><td style = \"text-align: left;\">51</td><td style = \"text-align: left;\">199</td><td style = \"text-align: left;\">12</td><td style = \"text-align: left;\">13</td><td style = \"text-align: left;\">0</td></tr><tr><td class = \"rowNumber\" style = \"font-weight: bold; text-align: right;\">3027</td><td style = \"text-align: left;\">Ara Beni Lütfen</td><td style = \"text-align: left;\">Kenan Doğulu</td><td style = \"text-align: left;\">pop</td><td style = \"text-align: left;\">2006</td><td style = \"text-align: left;\">2021‑11‑10</td><td style = \"text-align: left;\">94</td><td style = \"text-align: left;\">68</td><td style = \"text-align: left;\">71</td><td style = \"text-align: left;\">-8</td><td style = \"text-align: left;\">12</td><td style = \"text-align: left;\">63</td><td style = \"text-align: left;\">280</td><td style = \"text-align: left;\">24</td><td style = \"text-align: left;\">9</td><td style = \"text-align: left;\">0</td></tr><tr><td class = \"rowNumber\" style = \"font-weight: bold; text-align: right;\">3028</td><td style = \"text-align: left;\">Bu Son Olsun (Apaslar)</td><td style = \"text-align: left;\">Cem Karaca</td><td style = \"text-align: left;\">rock</td><td style = \"text-align: left;\">1994</td><td style = \"text-align: left;\">2021‑11‑10</td><td style = \"text-align: left;\">96</td><td style = \"text-align: left;\">41</td><td style = \"text-align: left;\">40</td><td style = \"text-align: left;\">-12</td><td style = \"text-align: left;\">92</td><td style = \"text-align: left;\">67</td><td style = \"text-align: left;\">169</td><td style = \"text-align: left;\">74</td><td style = \"text-align: left;\">3</td><td style = \"text-align: left;\">0</td></tr><tr><td class = \"rowNumber\" style = \"font-weight: bold; text-align: right;\">3029</td><td style = \"text-align: left;\">Doktor</td><td style = \"text-align: left;\">Kenan Doğulu</td><td style = \"text-align: left;\">pop</td><td style = \"text-align: left;\">2012</td><td style = \"text-align: left;\">2021‑11‑10</td><td style = \"text-align: left;\">124</td><td style = \"text-align: left;\">88</td><td style = \"text-align: left;\">86</td><td style = \"text-align: left;\">-3</td><td style = \"text-align: left;\">7</td><td style = \"text-align: left;\">77</td><td style = \"text-align: left;\">212</td><td style = \"text-align: left;\">20</td><td style = \"text-align: left;\">9</td><td style = \"text-align: left;\">0</td></tr><tr><td class = \"rowNumber\" style = \"font-weight: bold; text-align: right;\">3030</td><td style = \"text-align: left;\">Shake It Up - Original Version</td><td style = \"text-align: left;\">Kenan Doğulu</td><td style = \"text-align: left;\">pop</td><td style = \"text-align: left;\">2007</td><td style = \"text-align: left;\">2021‑11‑10</td><td style = \"text-align: left;\">108</td><td style = \"text-align: left;\">76</td><td style = \"text-align: left;\">79</td><td style = \"text-align: left;\">-8</td><td style = \"text-align: left;\">4</td><td style = \"text-align: left;\">90</td><td style = \"text-align: left;\">184</td><td style = \"text-align: left;\">1</td><td style = \"text-align: left;\">9</td><td style = \"text-align: left;\">0</td></tr><tr><td class = \"rowNumber\" style = \"font-weight: bold; text-align: right;\">3031</td><td style = \"text-align: left;\">Sangfroid</td><td style = \"text-align: left;\">Infinity Ripple</td><td style = \"text-align: left;\">calming instrumental</td><td style = \"text-align: left;\">2019</td><td style = \"text-align: left;\">2021‑11‑10</td><td style = \"text-align: left;\">85</td><td style = \"text-align: left;\">8</td><td style = \"text-align: left;\">59</td><td style = \"text-align: left;\">-23</td><td style = \"text-align: left;\">11</td><td style = \"text-align: left;\">13</td><td style = \"text-align: left;\">178</td><td style = \"text-align: left;\">98</td><td style = \"text-align: left;\">3</td><td style = \"text-align: left;\">0</td></tr><tr><td class = \"rowNumber\" style = \"font-weight: bold; text-align: right;\">3032</td><td style = \"text-align: left;\">Carmen Suite No.2/ Habanera (1.Akt) (Bizet)</td><td style = \"text-align: left;\">Georges Bizet</td><td style = \"text-align: left;\">classical</td><td style = \"text-align: left;\">2009</td><td style = \"text-align: left;\">2021‑11‑10</td><td style = \"text-align: left;\">123</td><td style = \"text-align: left;\">1</td><td style = \"text-align: left;\">61</td><td style = \"text-align: left;\">-26</td><td style = \"text-align: left;\">18</td><td style = \"text-align: left;\">49</td><td style = \"text-align: left;\">132</td><td style = \"text-align: left;\">94</td><td style = \"text-align: left;\">4</td><td style = \"text-align: left;\">0</td></tr><tr><td class = \"rowNumber\" style = \"font-weight: bold; text-align: right;\">3033</td><td style = \"text-align: left;\">Valse sentimentale, Op.51, No.6</td><td style = \"text-align: left;\">Pyotr Ilyich Tchaikovsky</td><td style = \"text-align: left;\">classical</td><td style = \"text-align: left;\">2016</td><td style = \"text-align: left;\">2021‑11‑10</td><td style = \"text-align: left;\">90</td><td style = \"text-align: left;\">1</td><td style = \"text-align: left;\">21</td><td style = \"text-align: left;\">-35</td><td style = \"text-align: left;\">7</td><td style = \"text-align: left;\">6</td><td style = \"text-align: left;\">180</td><td style = \"text-align: left;\">98</td><td style = \"text-align: left;\">5</td><td style = \"text-align: left;\">0</td></tr><tr><td class = \"rowNumber\" style = \"font-weight: bold; text-align: right;\">3034</td><td style = \"text-align: left;\">Dancing with the Rabbi</td><td style = \"text-align: left;\">Giora Feidman</td><td style = \"text-align: left;\">klezmer</td><td style = \"text-align: left;\">1998</td><td style = \"text-align: left;\">2020‑10‑29</td><td style = \"text-align: left;\">101</td><td style = \"text-align: left;\">37</td><td style = \"text-align: left;\">47</td><td style = \"text-align: left;\">-16</td><td style = \"text-align: left;\">14</td><td style = \"text-align: left;\">69</td><td style = \"text-align: left;\">238</td><td style = \"text-align: left;\">50</td><td style = \"text-align: left;\">4</td><td style = \"text-align: left;\">0</td></tr><tr><td class = \"rowNumber\" style = \"font-weight: bold; text-align: right;\">3035</td><td style = \"text-align: left;\">Trap Nilüfer</td><td style = \"text-align: left;\">Orkundk</td><td style = \"text-align: left;\">hip hop</td><td style = \"text-align: left;\">2020</td><td style = \"text-align: left;\">2020‑10‑29</td><td style = \"text-align: left;\">145</td><td style = \"text-align: left;\">31</td><td style = \"text-align: left;\">46</td><td style = \"text-align: left;\">-15</td><td style = \"text-align: left;\">57</td><td style = \"text-align: left;\">24</td><td style = \"text-align: left;\">219</td><td style = \"text-align: left;\">26</td><td style = \"text-align: left;\">5</td><td style = \"text-align: left;\">0</td></tr><tr><td class = \"rowNumber\" style = \"font-weight: bold; text-align: right;\">3036</td><td style = \"text-align: left;\">The Court Of The Crimson King (Including The Return Of The Fire Witch And The Dance Of The Puppets)</td><td style = \"text-align: left;\">King Crimson</td><td style = \"text-align: left;\">rock</td><td style = \"text-align: left;\">1969</td><td style = \"text-align: left;\">2020‑10‑25</td><td style = \"text-align: left;\">135</td><td style = \"text-align: left;\">35</td><td style = \"text-align: left;\">34</td><td style = \"text-align: left;\">-12</td><td style = \"text-align: left;\">33</td><td style = \"text-align: left;\">7</td><td style = \"text-align: left;\">563</td><td style = \"text-align: left;\">7</td><td style = \"text-align: left;\">4</td><td style = \"text-align: left;\">0</td></tr><tr><td class = \"rowNumber\" style = \"font-weight: bold; text-align: right;\">3037</td><td style = \"text-align: left;\">West End Girls - Ben Liebrand 9 Course Suite</td><td style = \"text-align: left;\">Pet Shop Boys</td><td style = \"text-align: left;\">pop</td><td style = \"text-align: left;\">2020</td><td style = \"text-align: left;\">2020‑10‑24</td><td style = \"text-align: left;\">121</td><td style = \"text-align: left;\">78</td><td style = \"text-align: left;\">75</td><td style = \"text-align: left;\">-6</td><td style = \"text-align: left;\">37</td><td style = \"text-align: left;\">53</td><td style = \"text-align: left;\">518</td><td style = \"text-align: left;\">5</td><td style = \"text-align: left;\">4</td><td style = \"text-align: left;\">0</td></tr></tbody></table></div>"
      ],
      "text/latex": [
       "\\begin{tabular}{r|cccccc}\n",
       "\t& title & artist & top genre & year & added & \\\\\n",
       "\t\\hline\n",
       "\t& Any & Any & String & Any & Any & \\\\\n",
       "\t\\hline\n",
       "\t1 & STAY (with Justin Bieber) & The Kid LAROI & hip hop & 2021 & 2021‑11‑10 & $\\dots$ \\\\\n",
       "\t2 & INDUSTRY BABY (feat. Jack Harlow) & Lil Nas X & hip hop & 2021 & 2021‑11‑10 & $\\dots$ \\\\\n",
       "\t3 & love nwantiti (ah ah ah) & CKay & r\\&b & 2019 & 2021‑11‑10 & $\\dots$ \\\\\n",
       "\t4 & Beggin' & Måneskin & rock & 2017 & 2021‑11‑10 & $\\dots$ \\\\\n",
       "\t5 & THATS WHAT I WANT & Lil Nas X & hip hop & 2021 & 2021‑11‑10 & $\\dots$ \\\\\n",
       "\t6 & love nwantiti (feat. Dj Yo! \\& AX'EL) - Remix & CKay & r\\&b & 2021 & 2021‑11‑10 & $\\dots$ \\\\\n",
       "\t7 & Blinding Lights & The Weeknd & r\\&b & 2020 & 2021‑11‑10 & $\\dots$ \\\\\n",
       "\t8 & Heat Waves & Glass Animals & pop & 2020 & 2021‑10‑10 & $\\dots$ \\\\\n",
       "\t9 & Knife Talk (with 21 Savage ft. Project Pat) & Drake & hip hop & 2021 & 2021‑11‑10 & $\\dots$ \\\\\n",
       "\t10 & Fair Trade (with Travis Scott) & Drake & hip hop & 2021 & 2021‑11‑10 & $\\dots$ \\\\\n",
       "\t11 & Heat Waves & Glass Animals & pop & 2020 & 2021‑11‑10 & $\\dots$ \\\\\n",
       "\t12 & Get Into It (Yuh) & Doja Cat & pop & 2021 & 2021‑11‑10 & $\\dots$ \\\\\n",
       "\t13 & Mood (feat. iann dior) & 24kGoldn & rap & 2021 & 2021‑11‑10 & $\\dots$ \\\\\n",
       "\t14 & Freaks & Surf Curse & dreamo & 2021 & 2021‑11‑10 & $\\dots$ \\\\\n",
       "\t15 & Heat Waves & Glass Animals & pop & 2020 & 2021‑11‑10 & $\\dots$ \\\\\n",
       "\t16 & Levitating (feat. DaBaby) & Dua Lipa & pop & 2020 & 2021‑11‑10 & $\\dots$ \\\\\n",
       "\t17 & Praise God & Kanye West & rap & 2021 & 2021‑11‑10 & $\\dots$ \\\\\n",
       "\t18 & Jocelyn Flores & XXXTENTACION & rap & 2017 & 2021‑11‑10 & $\\dots$ \\\\\n",
       "\t19 & The Nights & Avicii & pop & 2014 & 2021‑11‑10 & $\\dots$ \\\\\n",
       "\t20 & positions & Ariana Grande & pop & 2020 & 2021‑11‑10 & $\\dots$ \\\\\n",
       "\t21 & family ties (with Kendrick Lamar) & Baby Keem & hip hop & 2021 & 2021‑11‑10 & $\\dots$ \\\\\n",
       "\t22 & goosebumps & Travis Scott & rap & 2016 & 2020‑10‑29 & $\\dots$ \\\\\n",
       "\t23 & No Role Modelz & J. Cole & hip hop & 2014 & 2021‑11‑10 & $\\dots$ \\\\\n",
       "\t24 & Everybody Dies In Their Nightmares & XXXTENTACION & rap & 2017 & 2021‑11‑10 & $\\dots$ \\\\\n",
       "\t$\\dots$ & $\\dots$ & $\\dots$ & $\\dots$ & $\\dots$ & $\\dots$ &  \\\\\n",
       "\\end{tabular}\n"
      ],
      "text/plain": [
       "\u001b[1m3037×15 DataFrame\n",
       "\u001b[1m  Row │\u001b[1m title                             \u001b[1m artist                   \u001b[1m top genre ⋯\n",
       "      │\u001b[90m Any                               \u001b[90m Any                      \u001b[90m String    ⋯\n",
       "──────┼─────────────────────────────────────────────────────────────────────────\n",
       "    1 │ STAY (with Justin Bieber)          The Kid LAROI             hip hop   ⋯\n",
       "    2 │ INDUSTRY BABY (feat. Jack Harlow)  Lil Nas X                 hip hop\n",
       "    3 │ love nwantiti (ah ah ah)           CKay                      r&b\n",
       "    4 │ Beggin'                            Måneskin                  rock\n",
       "    5 │ THATS WHAT I WANT                  Lil Nas X                 hip hop   ⋯\n",
       "    6 │ love nwantiti (feat. Dj Yo! & AX…  CKay                      r&b\n",
       "    7 │ Blinding Lights                    The Weeknd                r&b\n",
       "    8 │ Heat Waves                         Glass Animals             pop\n",
       "  ⋮   │                 ⋮                             ⋮                        ⋱\n",
       " 3031 │ Sangfroid                          Infinity Ripple           calming i ⋯\n",
       " 3032 │ Carmen Suite No.2/ Habanera (1.A…  Georges Bizet             classical\n",
       " 3033 │ Valse sentimentale, Op.51, No.6    Pyotr Ilyich Tchaikovsky  classical\n",
       " 3034 │ Dancing with the Rabbi             Giora Feidman             klezmer\n",
       " 3035 │ Trap Nilüfer                       Orkundk                   hip hop   ⋯\n",
       " 3036 │ The Court Of The Crimson King (I…  King Crimson              rock\n",
       " 3037 │ West End Girls - Ben Liebrand 9 …  Pet Shop Boys             pop\n",
       "\u001b[36m                                                13 columns and 3022 rows omitted"
      ]
     },
     "metadata": {},
     "output_type": "display_data"
    }
   ],
   "source": [
    "# convert top genre type to string \n",
    "df[!, \"top genre\"] = string.(df[!, \"top genre\"])\n",
    "\n",
    "df[df[:, \"top genre\"] .== \"hip-hop\", \"top genre\"] .= \"hip hop\"\n",
    "df[df[:, \"top genre\"] .== \"electro\", \"top genre\"] .= \"electronic\"\n",
    "df[df[:, \"top genre\"] .== \"oyun havasi\", \"top genre\"] .= \"turkish\"\n",
    "df[df[:, \"top genre\"] .== \"arabesk\", \"top genre\"] .= \"turkish\"\n",
    "df[df[:, \"top genre\"] .== \"beatlesque\", \"top genre\"] .= \"rock\"\n",
    "df[df[:, \"top genre\"] .== \"bass\", \"top genre\"] .= \"electronic\"\n",
    "df[df[:, \"top genre\"] .== \"edm\", \"top genre\"] .= \"electronic\"\n",
    "df[df[:, \"top genre\"] .== \"baglama\", \"top genre\"] .= \"turkish\"\n",
    "df[df[:, \"top genre\"] .== \"dubstep\", \"top genre\"] .= \"electronic\"\n",
    "\n",
    "\n",
    "# drop the missing in top genre \n",
    "df = df[.!ismissing.(df[:, \"top genre\"]), :]\n",
    "\n",
    "# drop the rows wiht the value \"missing\" in top genre\n",
    "df = df[df[:, \"top genre\"] .!= \"missing\", :]"
   ]
  },
  {
   "cell_type": "code",
   "execution_count": 56,
   "metadata": {},
   "outputs": [
    {
     "ename": "MethodError",
     "evalue": "MethodError: no method matching getindex(::DataFrame)\nClosest candidates are:\n  getindex(::AbstractDataFrame, !Matched::CartesianIndex{2}) at ~/.julia/packages/DataFrames/dgZn3/src/other/broadcasting.jl:3\n  getindex(::AbstractDataFrame, !Matched::Integer, !Matched::Colon) at ~/.julia/packages/DataFrames/dgZn3/src/dataframerow/dataframerow.jl:210\n  getindex(::AbstractDataFrame, !Matched::Integer, !Matched::Union{Colon, Regex, AbstractVector, All, Between, Cols, InvertedIndex}) at ~/.julia/packages/DataFrames/dgZn3/src/dataframerow/dataframerow.jl:208\n  ...",
     "output_type": "error",
     "traceback": [
      "MethodError: no method matching getindex(::DataFrame)\n",
      "Closest candidates are:\n",
      "  getindex(::AbstractDataFrame, !Matched::CartesianIndex{2}) at ~/.julia/packages/DataFrames/dgZn3/src/other/broadcasting.jl:3\n",
      "  getindex(::AbstractDataFrame, !Matched::Integer, !Matched::Colon) at ~/.julia/packages/DataFrames/dgZn3/src/dataframerow/dataframerow.jl:210\n",
      "  getindex(::AbstractDataFrame, !Matched::Integer, !Matched::Union{Colon, Regex, AbstractVector, All, Between, Cols, InvertedIndex}) at ~/.julia/packages/DataFrames/dgZn3/src/dataframerow/dataframerow.jl:208\n",
      "  ...\n",
      "\n",
      "Stacktrace:\n",
      " [1] top-level scope\n",
      "   @ ~/Desktop/spotify-music-analysis/Untitled-1.ipynb:3"
     ]
    }
   ],
   "source": [
    "# df[!, \"top genre\"] export this to csv file\n",
    "\n",
    "CSV.write(\"MusicList.csv\", df[])"
   ]
  }
 ],
 "metadata": {
  "kernelspec": {
   "display_name": "Julia 1.8.5",
   "language": "julia",
   "name": "julia-1.8"
  },
  "language_info": {
   "file_extension": ".jl",
   "mimetype": "application/julia",
   "name": "julia",
   "version": "1.8.5"
  },
  "orig_nbformat": 4
 },
 "nbformat": 4,
 "nbformat_minor": 2
}
