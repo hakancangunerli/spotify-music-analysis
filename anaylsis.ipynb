{
 "cells": [
  {
   "cell_type": "code",
   "execution_count": 616,
   "metadata": {},
   "outputs": [],
   "source": [
    "import pandas as pd\n",
    "import plotly.express as px\n",
    "import plotly.graph_objects as go"
   ]
  },
  {
   "cell_type": "code",
   "execution_count": 617,
   "metadata": {},
   "outputs": [],
   "source": [
    "df = pd.read_excel('MusicList.xlsx')\n",
    "\n",
    "df = df.loc[:, ~df.columns.str.contains('^Unnamed')]\n",
    "\n",
    "\n",
    "df = df[df['top genre'].notna()]\n",
    "\n",
    "# replace every genre description with a general description of what they are \n",
    "# e.g. chicago rap -> rap \n",
    "genres = [\"hip hop\", \"pop\", \"rock\", \"country\", \"drill\", \"jazz\", \"turkish\", \"lo-fi\", \"classical\", \"blues\", \"reggae\", \"folk\", \"metal\", \"dance\", \"electronic\", \"indie\", \"soul\", \"latin\", \"world\", \"other\", \"r&b\", \"rap\", \"house\"]\n",
    "\n",
    "for i in range(len(genres)):\n",
    "    df.loc[df['top genre'].str.contains(genres[i]), 'top genre'] = genres[i]\n",
    "    "
   ]
  },
  {
   "cell_type": "code",
   "execution_count": 618,
   "metadata": {},
   "outputs": [
    {
     "data": {
      "text/html": [
       "<div>\n",
       "<style scoped>\n",
       "    .dataframe tbody tr th:only-of-type {\n",
       "        vertical-align: middle;\n",
       "    }\n",
       "\n",
       "    .dataframe tbody tr th {\n",
       "        vertical-align: top;\n",
       "    }\n",
       "\n",
       "    .dataframe thead th {\n",
       "        text-align: right;\n",
       "    }\n",
       "</style>\n",
       "<table border=\"1\" class=\"dataframe\">\n",
       "  <thead>\n",
       "    <tr style=\"text-align: right;\">\n",
       "      <th></th>\n",
       "      <th>title</th>\n",
       "      <th>artist</th>\n",
       "      <th>top genre</th>\n",
       "      <th>year</th>\n",
       "      <th>added</th>\n",
       "      <th>bpm</th>\n",
       "      <th>nrgy</th>\n",
       "      <th>dnce</th>\n",
       "      <th>dB</th>\n",
       "      <th>live</th>\n",
       "      <th>val</th>\n",
       "      <th>dur</th>\n",
       "      <th>acous</th>\n",
       "      <th>spch</th>\n",
       "      <th>pop</th>\n",
       "    </tr>\n",
       "  </thead>\n",
       "  <tbody>\n",
       "    <tr>\n",
       "      <th>0</th>\n",
       "      <td>STAY (with Justin Bieber)</td>\n",
       "      <td>The Kid LAROI</td>\n",
       "      <td>hip hop</td>\n",
       "      <td>2021</td>\n",
       "      <td>2021‑11‑10</td>\n",
       "      <td>170</td>\n",
       "      <td>76</td>\n",
       "      <td>59</td>\n",
       "      <td>-5</td>\n",
       "      <td>10</td>\n",
       "      <td>48</td>\n",
       "      <td>142</td>\n",
       "      <td>4</td>\n",
       "      <td>5</td>\n",
       "      <td>98</td>\n",
       "    </tr>\n",
       "    <tr>\n",
       "      <th>1</th>\n",
       "      <td>INDUSTRY BABY (feat. Jack Harlow)</td>\n",
       "      <td>Lil Nas X</td>\n",
       "      <td>hip hop</td>\n",
       "      <td>2021</td>\n",
       "      <td>2021‑11‑10</td>\n",
       "      <td>150</td>\n",
       "      <td>70</td>\n",
       "      <td>74</td>\n",
       "      <td>-7</td>\n",
       "      <td>5</td>\n",
       "      <td>89</td>\n",
       "      <td>212</td>\n",
       "      <td>2</td>\n",
       "      <td>6</td>\n",
       "      <td>97</td>\n",
       "    </tr>\n",
       "    <tr>\n",
       "      <th>2</th>\n",
       "      <td>love nwantiti (ah ah ah)</td>\n",
       "      <td>CKay</td>\n",
       "      <td>r&amp;b</td>\n",
       "      <td>2019</td>\n",
       "      <td>2021‑11‑10</td>\n",
       "      <td>93</td>\n",
       "      <td>74</td>\n",
       "      <td>73</td>\n",
       "      <td>-4</td>\n",
       "      <td>16</td>\n",
       "      <td>53</td>\n",
       "      <td>146</td>\n",
       "      <td>37</td>\n",
       "      <td>4</td>\n",
       "      <td>95</td>\n",
       "    </tr>\n",
       "    <tr>\n",
       "      <th>3</th>\n",
       "      <td>Beggin'</td>\n",
       "      <td>Måneskin</td>\n",
       "      <td>rock</td>\n",
       "      <td>2017</td>\n",
       "      <td>2021‑11‑10</td>\n",
       "      <td>134</td>\n",
       "      <td>80</td>\n",
       "      <td>71</td>\n",
       "      <td>-5</td>\n",
       "      <td>36</td>\n",
       "      <td>59</td>\n",
       "      <td>212</td>\n",
       "      <td>13</td>\n",
       "      <td>5</td>\n",
       "      <td>95</td>\n",
       "    </tr>\n",
       "    <tr>\n",
       "      <th>4</th>\n",
       "      <td>THATS WHAT I WANT</td>\n",
       "      <td>Lil Nas X</td>\n",
       "      <td>hip hop</td>\n",
       "      <td>2021</td>\n",
       "      <td>2021‑11‑10</td>\n",
       "      <td>88</td>\n",
       "      <td>85</td>\n",
       "      <td>74</td>\n",
       "      <td>-5</td>\n",
       "      <td>5</td>\n",
       "      <td>55</td>\n",
       "      <td>144</td>\n",
       "      <td>1</td>\n",
       "      <td>22</td>\n",
       "      <td>94</td>\n",
       "    </tr>\n",
       "    <tr>\n",
       "      <th>...</th>\n",
       "      <td>...</td>\n",
       "      <td>...</td>\n",
       "      <td>...</td>\n",
       "      <td>...</td>\n",
       "      <td>...</td>\n",
       "      <td>...</td>\n",
       "      <td>...</td>\n",
       "      <td>...</td>\n",
       "      <td>...</td>\n",
       "      <td>...</td>\n",
       "      <td>...</td>\n",
       "      <td>...</td>\n",
       "      <td>...</td>\n",
       "      <td>...</td>\n",
       "      <td>...</td>\n",
       "    </tr>\n",
       "    <tr>\n",
       "      <th>3196</th>\n",
       "      <td>Carmen Suite No.2/ Habanera (1.Akt) (Bizet)</td>\n",
       "      <td>Georges Bizet</td>\n",
       "      <td>classical</td>\n",
       "      <td>2009</td>\n",
       "      <td>2021‑11‑10</td>\n",
       "      <td>123</td>\n",
       "      <td>1</td>\n",
       "      <td>61</td>\n",
       "      <td>-26</td>\n",
       "      <td>18</td>\n",
       "      <td>49</td>\n",
       "      <td>132</td>\n",
       "      <td>94</td>\n",
       "      <td>4</td>\n",
       "      <td>0</td>\n",
       "    </tr>\n",
       "    <tr>\n",
       "      <th>3197</th>\n",
       "      <td>Valse sentimentale, Op.51, No.6</td>\n",
       "      <td>Pyotr Ilyich Tchaikovsky</td>\n",
       "      <td>classical</td>\n",
       "      <td>2016</td>\n",
       "      <td>2021‑11‑10</td>\n",
       "      <td>90</td>\n",
       "      <td>1</td>\n",
       "      <td>21</td>\n",
       "      <td>-35</td>\n",
       "      <td>7</td>\n",
       "      <td>6</td>\n",
       "      <td>180</td>\n",
       "      <td>98</td>\n",
       "      <td>5</td>\n",
       "      <td>0</td>\n",
       "    </tr>\n",
       "    <tr>\n",
       "      <th>3201</th>\n",
       "      <td>Trap Nilüfer</td>\n",
       "      <td>Orkundk</td>\n",
       "      <td>hip hop</td>\n",
       "      <td>2020</td>\n",
       "      <td>2020‑10‑29</td>\n",
       "      <td>145</td>\n",
       "      <td>31</td>\n",
       "      <td>46</td>\n",
       "      <td>-15</td>\n",
       "      <td>57</td>\n",
       "      <td>24</td>\n",
       "      <td>219</td>\n",
       "      <td>26</td>\n",
       "      <td>5</td>\n",
       "      <td>0</td>\n",
       "    </tr>\n",
       "    <tr>\n",
       "      <th>3202</th>\n",
       "      <td>The Court Of The Crimson King (Including The R...</td>\n",
       "      <td>King Crimson</td>\n",
       "      <td>rock</td>\n",
       "      <td>1969</td>\n",
       "      <td>2020‑10‑25</td>\n",
       "      <td>135</td>\n",
       "      <td>35</td>\n",
       "      <td>34</td>\n",
       "      <td>-12</td>\n",
       "      <td>33</td>\n",
       "      <td>7</td>\n",
       "      <td>563</td>\n",
       "      <td>7</td>\n",
       "      <td>4</td>\n",
       "      <td>0</td>\n",
       "    </tr>\n",
       "    <tr>\n",
       "      <th>3203</th>\n",
       "      <td>West End Girls - Ben Liebrand 9 Course Suite</td>\n",
       "      <td>Pet Shop Boys</td>\n",
       "      <td>pop</td>\n",
       "      <td>2020</td>\n",
       "      <td>2020‑10‑24</td>\n",
       "      <td>121</td>\n",
       "      <td>78</td>\n",
       "      <td>75</td>\n",
       "      <td>-6</td>\n",
       "      <td>37</td>\n",
       "      <td>53</td>\n",
       "      <td>518</td>\n",
       "      <td>5</td>\n",
       "      <td>4</td>\n",
       "      <td>0</td>\n",
       "    </tr>\n",
       "  </tbody>\n",
       "</table>\n",
       "<p>2576 rows × 15 columns</p>\n",
       "</div>"
      ],
      "text/plain": [
       "                                                  title  \\\n",
       "0                             STAY (with Justin Bieber)   \n",
       "1                     INDUSTRY BABY (feat. Jack Harlow)   \n",
       "2                              love nwantiti (ah ah ah)   \n",
       "3                                               Beggin'   \n",
       "4                                     THATS WHAT I WANT   \n",
       "...                                                 ...   \n",
       "3196        Carmen Suite No.2/ Habanera (1.Akt) (Bizet)   \n",
       "3197                    Valse sentimentale, Op.51, No.6   \n",
       "3201                                       Trap Nilüfer   \n",
       "3202  The Court Of The Crimson King (Including The R...   \n",
       "3203       West End Girls - Ben Liebrand 9 Course Suite   \n",
       "\n",
       "                        artist  top genre  year       added  bpm  nrgy  dnce  \\\n",
       "0                The Kid LAROI    hip hop  2021  2021‑11‑10  170    76    59   \n",
       "1                    Lil Nas X    hip hop  2021  2021‑11‑10  150    70    74   \n",
       "2                         CKay        r&b  2019  2021‑11‑10   93    74    73   \n",
       "3                     Måneskin       rock  2017  2021‑11‑10  134    80    71   \n",
       "4                    Lil Nas X    hip hop  2021  2021‑11‑10   88    85    74   \n",
       "...                        ...        ...   ...         ...  ...   ...   ...   \n",
       "3196             Georges Bizet  classical  2009  2021‑11‑10  123     1    61   \n",
       "3197  Pyotr Ilyich Tchaikovsky  classical  2016  2021‑11‑10   90     1    21   \n",
       "3201                   Orkundk    hip hop  2020  2020‑10‑29  145    31    46   \n",
       "3202              King Crimson       rock  1969  2020‑10‑25  135    35    34   \n",
       "3203             Pet Shop Boys        pop  2020  2020‑10‑24  121    78    75   \n",
       "\n",
       "      dB  live  val  dur  acous  spch  pop  \n",
       "0     -5    10   48  142      4     5   98  \n",
       "1     -7     5   89  212      2     6   97  \n",
       "2     -4    16   53  146     37     4   95  \n",
       "3     -5    36   59  212     13     5   95  \n",
       "4     -5     5   55  144      1    22   94  \n",
       "...   ..   ...  ...  ...    ...   ...  ...  \n",
       "3196 -26    18   49  132     94     4    0  \n",
       "3197 -35     7    6  180     98     5    0  \n",
       "3201 -15    57   24  219     26     5    0  \n",
       "3202 -12    33    7  563      7     4    0  \n",
       "3203  -6    37   53  518      5     4    0  \n",
       "\n",
       "[2576 rows x 15 columns]"
      ]
     },
     "execution_count": 618,
     "metadata": {},
     "output_type": "execute_result"
    }
   ],
   "source": [
    "# we need to get rid of some genres that are weirdly defined \n",
    "df.loc[df['top genre'].str.contains('hip-hop'), 'top genre'] = \"hip hop\"\n",
    "df.loc[df['top genre'].str.contains('electro'), 'top genre'] = \"electronic\"\n",
    "df.loc[df['top genre'].str.contains('oyun-havasi'), 'top genre'] = \"turkish\"\n",
    "df.loc[df['top genre'].str.contains('arabesk'), 'top genre'] = \"turkish\"\n",
    "df.loc[df['top genre'].str.contains('beatlesque'), 'top genre'] = \"rock\"\n",
    "df.loc[df['top genre'].str.contains('bass'), 'top genre'] = \"electronic\"\n",
    "df.loc[df['top genre'].str.contains('edm'), 'top genre'] = \"electronic\"\n",
    "df.loc[df['top genre'].str.contains('baglama'), 'top genre'] = \"turkish\"\n",
    "df.loc[df['top genre'].str.contains('dubstep'), 'top genre'] = \"electronic\"\n",
    "\n",
    "\n",
    "\n",
    "#drop if it is not in the list of genres\n",
    "df = df[df['top genre'].isin(genres)]\n",
    "\n",
    "df"
   ]
  },
  {
   "cell_type": "code",
   "execution_count": 619,
   "metadata": {},
   "outputs": [
    {
     "data": {
      "application/vnd.plotly.v1+json": {
       "config": {
        "plotlyServerURL": "https://plot.ly"
       },
       "data": [
        {
         "hovertemplate": "top genre=%{z}<br>artist=The Kid LAROI<br>pop=%{x}<br>dnce=%{y}<br>dur=%{marker.size}<extra></extra>",
         "legendgroup": "hip hop, The Kid LAROI",
         "marker": {
          "color": "#636efa",
          "size": [
           142
          ],
          "sizemode": "area",
          "sizeref": 3.1025,
          "symbol": "circle"
         },
         "mode": "markers",
         "name": "hip hop, The Kid LAROI",
         "scene": "scene",
         "showlegend": true,
         "type": "scatter3d",
         "x": [
          98
         ],
         "y": [
          59
         ],
         "z": [
          "hip hop"
         ]
        },
        {
         "hovertemplate": "top genre=%{z}<br>artist=Lil Nas X<br>pop=%{x}<br>dnce=%{y}<br>dur=%{marker.size}<extra></extra>",
         "legendgroup": "hip hop, Lil Nas X",
         "marker": {
          "color": "#636efa",
          "size": [
           212,
           144,
           157,
           159,
           115
          ],
          "sizemode": "area",
          "sizeref": 3.1025,
          "symbol": "diamond"
         },
         "mode": "markers",
         "name": "hip hop, Lil Nas X",
         "scene": "scene",
         "showlegend": true,
         "type": "scatter3d",
         "x": [
          97,
          94,
          81,
          73,
          68
         ],
         "y": [
          74,
          74,
          88,
          71,
          70
         ],
         "z": [
          "hip hop",
          "hip hop",
          "hip hop",
          "hip hop",
          "hip hop"
         ]
        },
        {
         "hovertemplate": "top genre=%{z}<br>artist=Drake<br>pop=%{x}<br>dnce=%{y}<br>dur=%{marker.size}<extra></extra>",
         "legendgroup": "hip hop, Drake",
         "marker": {
          "color": "#636efa",
          "size": [
           243,
           291,
           174,
           204,
           199,
           261,
           299,
           220,
           267,
           239,
           270,
           205,
           218,
           211,
           240,
           213,
           220,
           247,
           277,
           211,
           206,
           284,
           228,
           236,
           347,
           182,
           237,
           245,
           263,
           320,
           276,
           182,
           241,
           358,
           214,
           246,
           238,
           209,
           207,
           265,
           171,
           250,
           242,
           322,
           189,
           174,
           241,
           220,
           434,
           164,
           174,
           190,
           213,
           225,
           334,
           302,
           219,
           217,
           181,
           178,
           237,
           259,
           186,
           236,
           205,
           205,
           238,
           435,
           163,
           185,
           195,
           158,
           163,
           315,
           273,
           311,
           297,
           308,
           256,
           231,
           209,
           302,
           234,
           234,
           253,
           272,
           196,
           218,
           225,
           254,
           220,
           209,
           213,
           295,
           168,
           150,
           152,
           290,
           223,
           251,
           270,
           209,
           262,
           228,
           154,
           308,
           268,
           329,
           290,
           312,
           212,
           178,
           212,
           321,
           368,
           305,
           265,
           281,
           248,
           254,
           202,
           180,
           151,
           236,
           267,
           206,
           221,
           224,
           207,
           218,
           351,
           283,
           218,
           252,
           241,
           366,
           256,
           254,
           224,
           366,
           266,
           252,
           306,
           296,
           319,
           296,
           256,
           256,
           329
          ],
          "sizemode": "area",
          "sizeref": 3.1025,
          "symbol": "diamond"
         },
         "mode": "markers",
         "name": "hip hop, Drake",
         "scene": "scene",
         "showlegend": true,
         "type": "scatter3d",
         "x": [
          91,
          91,
          83,
          83,
          82,
          82,
          81,
          79,
          78,
          78,
          78,
          78,
          77,
          77,
          77,
          77,
          76,
          76,
          74,
          74,
          73,
          73,
          73,
          73,
          73,
          73,
          73,
          73,
          73,
          72,
          71,
          71,
          71,
          71,
          70,
          70,
          69,
          68,
          68,
          67,
          67,
          67,
          67,
          67,
          67,
          66,
          66,
          66,
          65,
          65,
          65,
          65,
          64,
          64,
          64,
          64,
          63,
          63,
          63,
          63,
          63,
          63,
          63,
          63,
          63,
          62,
          62,
          62,
          62,
          62,
          62,
          62,
          62,
          61,
          61,
          61,
          61,
          61,
          61,
          61,
          61,
          60,
          60,
          60,
          60,
          60,
          60,
          60,
          60,
          60,
          60,
          60,
          59,
          59,
          59,
          59,
          59,
          59,
          59,
          59,
          58,
          58,
          58,
          58,
          58,
          58,
          58,
          58,
          58,
          58,
          57,
          57,
          57,
          57,
          57,
          57,
          56,
          56,
          56,
          56,
          56,
          56,
          55,
          55,
          55,
          55,
          55,
          55,
          55,
          54,
          54,
          54,
          54,
          53,
          53,
          53,
          53,
          53,
          52,
          52,
          52,
          52,
          51,
          50,
          50,
          50,
          47,
          47,
          43
         ],
         "y": [
          85,
          67,
          79,
          84,
          75,
          76,
          81,
          74,
          89,
          91,
          49,
          83,
          84,
          59,
          72,
          52,
          77,
          83,
          63,
          93,
          85,
          62,
          77,
          64,
          49,
          77,
          93,
          59,
          79,
          70,
          72,
          75,
          58,
          46,
          90,
          82,
          72,
          42,
          44,
          40,
          89,
          78,
          71,
          74,
          88,
          79,
          75,
          68,
          52,
          76,
          79,
          83,
          71,
          57,
          69,
          41,
          74,
          73,
          87,
          83,
          61,
          43,
          61,
          79,
          54,
          84,
          45,
          44,
          88,
          76,
          88,
          85,
          89,
          51,
          49,
          82,
          43,
          90,
          68,
          88,
          79,
          50,
          33,
          61,
          65,
          67,
          53,
          78,
          62,
          62,
          68,
          74,
          49,
          52,
          57,
          91,
          88,
          69,
          41,
          81,
          78,
          63,
          67,
          86,
          77,
          42,
          93,
          38,
          54,
          40,
          82,
          91,
          31,
          57,
          47,
          53,
          55,
          56,
          39,
          42,
          85,
          83,
          71,
          47,
          49,
          69,
          79,
          83,
          66,
          86,
          56,
          55,
          84,
          65,
          68,
          43,
          65,
          74,
          82,
          52,
          67,
          65,
          43,
          69,
          52,
          68,
          52,
          42,
          50
         ],
         "z": [
          "hip hop",
          "hip hop",
          "hip hop",
          "hip hop",
          "hip hop",
          "hip hop",
          "hip hop",
          "hip hop",
          "hip hop",
          "hip hop",
          "hip hop",
          "hip hop",
          "hip hop",
          "hip hop",
          "hip hop",
          "hip hop",
          "hip hop",
          "hip hop",
          "hip hop",
          "hip hop",
          "hip hop",
          "hip hop",
          "hip hop",
          "hip hop",
          "hip hop",
          "hip hop",
          "hip hop",
          "hip hop",
          "hip hop",
          "hip hop",
          "hip hop",
          "hip hop",
          "hip hop",
          "hip hop",
          "hip hop",
          "hip hop",
          "hip hop",
          "hip hop",
          "hip hop",
          "hip hop",
          "hip hop",
          "hip hop",
          "hip hop",
          "hip hop",
          "hip hop",
          "hip hop",
          "hip hop",
          "hip hop",
          "hip hop",
          "hip hop",
          "hip hop",
          "hip hop",
          "hip hop",
          "hip hop",
          "hip hop",
          "hip hop",
          "hip hop",
          "hip hop",
          "hip hop",
          "hip hop",
          "hip hop",
          "hip hop",
          "hip hop",
          "hip hop",
          "hip hop",
          "hip hop",
          "hip hop",
          "hip hop",
          "hip hop",
          "hip hop",
          "hip hop",
          "hip hop",
          "hip hop",
          "hip hop",
          "hip hop",
          "hip hop",
          "hip hop",
          "hip hop",
          "hip hop",
          "hip hop",
          "hip hop",
          "hip hop",
          "hip hop",
          "hip hop",
          "hip hop",
          "hip hop",
          "hip hop",
          "hip hop",
          "hip hop",
          "hip hop",
          "hip hop",
          "hip hop",
          "hip hop",
          "hip hop",
          "hip hop",
          "hip hop",
          "hip hop",
          "hip hop",
          "hip hop",
          "hip hop",
          "hip hop",
          "hip hop",
          "hip hop",
          "hip hop",
          "hip hop",
          "hip hop",
          "hip hop",
          "hip hop",
          "hip hop",
          "hip hop",
          "hip hop",
          "hip hop",
          "hip hop",
          "hip hop",
          "hip hop",
          "hip hop",
          "hip hop",
          "hip hop",
          "hip hop",
          "hip hop",
          "hip hop",
          "hip hop",
          "hip hop",
          "hip hop",
          "hip hop",
          "hip hop",
          "hip hop",
          "hip hop",
          "hip hop",
          "hip hop",
          "hip hop",
          "hip hop",
          "hip hop",
          "hip hop",
          "hip hop",
          "hip hop",
          "hip hop",
          "hip hop",
          "hip hop",
          "hip hop",
          "hip hop",
          "hip hop",
          "hip hop",
          "hip hop",
          "hip hop",
          "hip hop",
          "hip hop",
          "hip hop",
          "hip hop"
         ]
        },
        {
         "hovertemplate": "top genre=%{z}<br>artist=Baby Keem<br>pop=%{x}<br>dnce=%{y}<br>dur=%{marker.size}<extra></extra>",
         "legendgroup": "hip hop, Baby Keem",
         "marker": {
          "color": "#636efa",
          "size": [
           252,
           252,
           317,
           130,
           270,
           271,
           156,
           137,
           224,
           270,
           266,
           141,
           155,
           175,
           156,
           271,
           157,
           317,
           252,
           173,
           230,
           220,
           137,
           169,
           77,
           266,
           164,
           270,
           175,
           224,
           141,
           155
          ],
          "sizemode": "area",
          "sizeref": 3.1025,
          "symbol": "cross"
         },
         "mode": "markers",
         "name": "hip hop, Baby Keem",
         "scene": "scene",
         "showlegend": true,
         "type": "scatter3d",
         "x": [
          86,
          78,
          78,
          78,
          75,
          75,
          74,
          70,
          68,
          65,
          65,
          63,
          63,
          63,
          61,
          61,
          60,
          60,
          59,
          59,
          58,
          58,
          58,
          58,
          57,
          57,
          57,
          57,
          56,
          56,
          56,
          55
         ],
         "y": [
          71,
          71,
          67,
          83,
          65,
          62,
          70,
          90,
          89,
          69,
          75,
          79,
          59,
          93,
          70,
          61,
          60,
          66,
          71,
          76,
          82,
          83,
          90,
          97,
          59,
          75,
          65,
          74,
          92,
          89,
          79,
          58
         ],
         "z": [
          "hip hop",
          "hip hop",
          "hip hop",
          "hip hop",
          "hip hop",
          "hip hop",
          "hip hop",
          "hip hop",
          "hip hop",
          "hip hop",
          "hip hop",
          "hip hop",
          "hip hop",
          "hip hop",
          "hip hop",
          "hip hop",
          "hip hop",
          "hip hop",
          "hip hop",
          "hip hop",
          "hip hop",
          "hip hop",
          "hip hop",
          "hip hop",
          "hip hop",
          "hip hop",
          "hip hop",
          "hip hop",
          "hip hop",
          "hip hop",
          "hip hop",
          "hip hop"
         ]
        },
        {
         "hovertemplate": "top genre=%{z}<br>artist=J. Cole<br>pop=%{x}<br>dnce=%{y}<br>dur=%{marker.size}<extra></extra>",
         "legendgroup": "hip hop, J. Cole",
         "marker": {
          "color": "#636efa",
          "size": [
           293,
           214,
           200,
           191,
           217,
           202,
           134,
           190,
           243,
           219,
           316,
           237,
           287,
           258,
           198,
           107
          ],
          "sizemode": "area",
          "sizeref": 3.1025,
          "symbol": "diamond"
         },
         "mode": "markers",
         "name": "hip hop, J. Cole",
         "scene": "scene",
         "showlegend": true,
         "type": "scatter3d",
         "x": [
          85,
          80,
          72,
          70,
          66,
          65,
          64,
          64,
          63,
          62,
          60,
          57,
          57,
          56,
          55,
          49
         ],
         "y": [
          69,
          84,
          83,
          82,
          77,
          74,
          87,
          68,
          48,
          69,
          68,
          73,
          72,
          72,
          62,
          51
         ],
         "z": [
          "hip hop",
          "hip hop",
          "hip hop",
          "hip hop",
          "hip hop",
          "hip hop",
          "hip hop",
          "hip hop",
          "hip hop",
          "hip hop",
          "hip hop",
          "hip hop",
          "hip hop",
          "hip hop",
          "hip hop",
          "hip hop"
         ]
        },
        {
         "hovertemplate": "top genre=%{z}<br>artist=Eminem<br>pop=%{x}<br>dnce=%{y}<br>dur=%{marker.size}<extra></extra>",
         "legendgroup": "hip hop, Eminem",
         "marker": {
          "color": "#636efa",
          "size": [
           284,
           211,
           404,
           248,
           270,
           364,
           322,
           251,
           268,
           245,
           221,
           340,
           254,
           290,
           338,
           298,
           297,
           281,
           262,
           249,
           288,
           216,
           227,
           206,
           142,
           310,
           222,
           183,
           225,
           151,
           315,
           252,
           288,
           304,
           264,
           255,
           245,
           321,
           320,
           253,
           265,
           250,
           370,
           237
          ],
          "sizemode": "area",
          "sizeref": 3.1025,
          "symbol": "square"
         },
         "mode": "markers",
         "name": "hip hop, Eminem",
         "scene": "scene",
         "showlegend": true,
         "type": "scatter3d",
         "x": [
          85,
          84,
          80,
          79,
          78,
          77,
          76,
          76,
          74,
          74,
          73,
          72,
          72,
          71,
          69,
          69,
          68,
          68,
          68,
          67,
          67,
          67,
          66,
          63,
          63,
          62,
          61,
          60,
          59,
          59,
          59,
          58,
          58,
          58,
          58,
          57,
          53,
          52,
          52,
          51,
          51,
          50,
          49,
          48
         ],
         "y": [
          95,
          81,
          78,
          86,
          75,
          71,
          69,
          64,
          87,
          88,
          75,
          67,
          89,
          79,
          94,
          52,
          52,
          62,
          83,
          94,
          90,
          78,
          81,
          84,
          70,
          62,
          91,
          65,
          75,
          65,
          88,
          67,
          51,
          48,
          70,
          61,
          78,
          66,
          75,
          74,
          70,
          84,
          55,
          78
         ],
         "z": [
          "hip hop",
          "hip hop",
          "hip hop",
          "hip hop",
          "hip hop",
          "hip hop",
          "hip hop",
          "hip hop",
          "hip hop",
          "hip hop",
          "hip hop",
          "hip hop",
          "hip hop",
          "hip hop",
          "hip hop",
          "hip hop",
          "hip hop",
          "hip hop",
          "hip hop",
          "hip hop",
          "hip hop",
          "hip hop",
          "hip hop",
          "hip hop",
          "hip hop",
          "hip hop",
          "hip hop",
          "hip hop",
          "hip hop",
          "hip hop",
          "hip hop",
          "hip hop",
          "hip hop",
          "hip hop",
          "hip hop",
          "hip hop",
          "hip hop",
          "hip hop",
          "hip hop",
          "hip hop",
          "hip hop",
          "hip hop",
          "hip hop",
          "hip hop"
         ]
        },
        {
         "hovertemplate": "top genre=%{z}<br>artist=Masked Wolf<br>pop=%{x}<br>dnce=%{y}<br>dur=%{marker.size}<extra></extra>",
         "legendgroup": "hip hop, Masked Wolf",
         "marker": {
          "color": "#636efa",
          "size": [
           133
          ],
          "sizemode": "area",
          "sizeref": 3.1025,
          "symbol": "x"
         },
         "mode": "markers",
         "name": "hip hop, Masked Wolf",
         "scene": "scene",
         "showlegend": true,
         "type": "scatter3d",
         "x": [
          84
         ],
         "y": [
          78
         ],
         "z": [
          "hip hop"
         ]
        },
        {
         "hovertemplate": "top genre=%{z}<br>artist=JAY-Z<br>pop=%{x}<br>dnce=%{y}<br>dur=%{marker.size}<extra></extra>",
         "legendgroup": "hip hop, JAY-Z",
         "marker": {
          "color": "#636efa",
          "size": [
           219,
           277,
           283,
           284,
           238,
           232,
           338,
           219,
           189,
           245,
           290,
           245,
           141
          ],
          "sizemode": "area",
          "sizeref": 3.1025,
          "symbol": "square"
         },
         "mode": "markers",
         "name": "hip hop, JAY-Z",
         "scene": "scene",
         "showlegend": true,
         "type": "scatter3d",
         "x": [
          82,
          81,
          68,
          68,
          67,
          66,
          63,
          55,
          54,
          53,
          53,
          49,
          46
         ],
         "y": [
          79,
          49,
          88,
          26,
          88,
          74,
          68,
          79,
          86,
          78,
          78,
          56,
          74
         ],
         "z": [
          "hip hop",
          "hip hop",
          "hip hop",
          "hip hop",
          "hip hop",
          "hip hop",
          "hip hop",
          "hip hop",
          "hip hop",
          "hip hop",
          "hip hop",
          "hip hop",
          "hip hop"
         ]
        },
        {
         "hovertemplate": "top genre=%{z}<br>artist=Kendrick Lamar<br>pop=%{x}<br>dnce=%{y}<br>dur=%{marker.size}<extra></extra>",
         "legendgroup": "hip hop, Kendrick Lamar",
         "marker": {
          "color": "#636efa",
          "size": [
           177,
           232,
           213,
           186,
           248,
           219,
           275,
           235,
           227,
           216,
           209,
           387,
           387,
           249,
           254,
           350,
           259,
           222,
           215,
           311,
           461,
           160,
           314,
           287,
           301,
           169,
           308,
           300,
           314,
           249,
           311,
           268,
           329,
           118,
           336,
           272,
           300,
           350,
           293,
           262,
           283,
           213,
           213,
           724,
           353,
           496,
           131,
           263,
           242,
           292,
           131,
           727,
           325,
           217,
           208,
           214,
           256,
           225,
           248,
           274,
           279,
           443,
           289,
           279,
           325,
           213,
           249,
           275,
           306,
           254,
           177,
           227,
           461,
           209,
           186,
           308,
           215,
           249,
           160,
           308
          ],
          "sizemode": "area",
          "sizeref": 3.1025,
          "symbol": "cross"
         },
         "mode": "markers",
         "name": "hip hop, Kendrick Lamar",
         "scene": "scene",
         "showlegend": true,
         "type": "scatter3d",
         "x": [
          82,
          80,
          79,
          78,
          76,
          75,
          75,
          74,
          72,
          72,
          71,
          71,
          70,
          67,
          67,
          66,
          66,
          66,
          65,
          65,
          64,
          64,
          64,
          64,
          64,
          64,
          63,
          62,
          62,
          61,
          61,
          61,
          61,
          60,
          60,
          60,
          59,
          59,
          59,
          59,
          58,
          58,
          58,
          58,
          58,
          58,
          57,
          57,
          57,
          56,
          55,
          55,
          54,
          54,
          54,
          53,
          53,
          53,
          50,
          50,
          50,
          50,
          47,
          47,
          46,
          46,
          46,
          45,
          44,
          44,
          44,
          44,
          44,
          44,
          44,
          43,
          43,
          43,
          41,
          24
         ],
         "y": [
          91,
          70,
          80,
          64,
          58,
          80,
          67,
          88,
          66,
          61,
          75,
          72,
          72,
          55,
          57,
          49,
          67,
          86,
          75,
          59,
          59,
          67,
          72,
          51,
          75,
          52,
          68,
          78,
          72,
          71,
          59,
          41,
          55,
          36,
          54,
          54,
          78,
          49,
          73,
          62,
          62,
          55,
          55,
          65,
          76,
          57,
          53,
          67,
          44,
          30,
          62,
          57,
          56,
          42,
          67,
          45,
          53,
          60,
          34,
          50,
          64,
          65,
          67,
          59,
          56,
          80,
          55,
          67,
          67,
          57,
          91,
          66,
          59,
          75,
          64,
          68,
          75,
          71,
          67,
          70
         ],
         "z": [
          "hip hop",
          "hip hop",
          "hip hop",
          "hip hop",
          "hip hop",
          "hip hop",
          "hip hop",
          "hip hop",
          "hip hop",
          "hip hop",
          "hip hop",
          "hip hop",
          "hip hop",
          "hip hop",
          "hip hop",
          "hip hop",
          "hip hop",
          "hip hop",
          "hip hop",
          "hip hop",
          "hip hop",
          "hip hop",
          "hip hop",
          "hip hop",
          "hip hop",
          "hip hop",
          "hip hop",
          "hip hop",
          "hip hop",
          "hip hop",
          "hip hop",
          "hip hop",
          "hip hop",
          "hip hop",
          "hip hop",
          "hip hop",
          "hip hop",
          "hip hop",
          "hip hop",
          "hip hop",
          "hip hop",
          "hip hop",
          "hip hop",
          "hip hop",
          "hip hop",
          "hip hop",
          "hip hop",
          "hip hop",
          "hip hop",
          "hip hop",
          "hip hop",
          "hip hop",
          "hip hop",
          "hip hop",
          "hip hop",
          "hip hop",
          "hip hop",
          "hip hop",
          "hip hop",
          "hip hop",
          "hip hop",
          "hip hop",
          "hip hop",
          "hip hop",
          "hip hop",
          "hip hop",
          "hip hop",
          "hip hop",
          "hip hop",
          "hip hop",
          "hip hop",
          "hip hop",
          "hip hop",
          "hip hop",
          "hip hop",
          "hip hop",
          "hip hop",
          "hip hop",
          "hip hop",
          "hip hop"
         ]
        },
        {
         "hovertemplate": "top genre=%{z}<br>artist=Gorillaz<br>pop=%{x}<br>dnce=%{y}<br>dur=%{marker.size}<extra></extra>",
         "legendgroup": "hip hop, Gorillaz",
         "marker": {
          "color": "#636efa",
          "size": [
           200,
           234,
           230,
           295,
           275,
           254,
           180,
           198,
           222,
           141,
           233,
           180
          ],
          "sizemode": "area",
          "sizeref": 3.1025,
          "symbol": "diamond"
         },
         "mode": "markers",
         "name": "hip hop, Gorillaz",
         "scene": "scene",
         "showlegend": true,
         "type": "scatter3d",
         "x": [
          82,
          76,
          70,
          57,
          57,
          54,
          51,
          47,
          47,
          46,
          37,
          32
         ],
         "y": [
          68,
          69,
          63,
          58,
          64,
          62,
          58,
          63,
          42,
          50,
          35,
          58
         ],
         "z": [
          "hip hop",
          "hip hop",
          "hip hop",
          "hip hop",
          "hip hop",
          "hip hop",
          "hip hop",
          "hip hop",
          "hip hop",
          "hip hop",
          "hip hop",
          "hip hop"
         ]
        },
        {
         "hovertemplate": "top genre=%{z}<br>artist=Childish Gambino<br>pop=%{x}<br>dnce=%{y}<br>dur=%{marker.size}<extra></extra>",
         "legendgroup": "hip hop, Childish Gambino",
         "marker": {
          "color": "#636efa",
          "size": [
           327,
           234,
           297,
           226
          ],
          "sizemode": "area",
          "sizeref": 3.1025,
          "symbol": "square"
         },
         "mode": "markers",
         "name": "hip hop, Childish Gambino",
         "scene": "scene",
         "showlegend": true,
         "type": "scatter3d",
         "x": [
          82,
          77,
          73,
          71
         ],
         "y": [
          74,
          47,
          55,
          85
         ],
         "z": [
          "hip hop",
          "hip hop",
          "hip hop",
          "hip hop"
         ]
        },
        {
         "hovertemplate": "top genre=%{z}<br>artist=A$AP Rocky<br>pop=%{x}<br>dnce=%{y}<br>dur=%{marker.size}<extra></extra>",
         "legendgroup": "hip hop, A$AP Rocky",
         "marker": {
          "color": "#636efa",
          "size": [
           205,
           238,
           187,
           192,
           217,
           140,
           232
          ],
          "sizemode": "area",
          "sizeref": 3.1025,
          "symbol": "square"
         },
         "mode": "markers",
         "name": "hip hop, A$AP Rocky",
         "scene": "scene",
         "showlegend": true,
         "type": "scatter3d",
         "x": [
          82,
          75,
          70,
          66,
          62,
          60,
          55
         ],
         "y": [
          85,
          60,
          90,
          70,
          62,
          71,
          80
         ],
         "z": [
          "hip hop",
          "hip hop",
          "hip hop",
          "hip hop",
          "hip hop",
          "hip hop",
          "hip hop"
         ]
        },
        {
         "hovertemplate": "top genre=%{z}<br>artist=Tyler, The Creator<br>pop=%{x}<br>dnce=%{y}<br>dur=%{marker.size}<extra></extra>",
         "legendgroup": "hip hop, Tyler, The Creator",
         "marker": {
          "color": "#636efa",
          "size": [
           180,
           190,
           265,
           375,
           195,
           146,
           182,
           256,
           321,
           212,
           146,
           225,
           210,
           177,
           205,
           195,
           179,
           201,
           161,
           206,
           194,
           225,
           224,
           206,
           237,
           249,
           36,
           60,
           235,
           15
          ],
          "sizemode": "area",
          "sizeref": 3.1025,
          "symbol": "x"
         },
         "mode": "markers",
         "name": "hip hop, Tyler, The Creator",
         "scene": "scene",
         "showlegend": true,
         "type": "scatter3d",
         "x": [
          81,
          80,
          78,
          77,
          75,
          75,
          73,
          72,
          72,
          71,
          71,
          70,
          70,
          69,
          68,
          68,
          66,
          66,
          65,
          65,
          63,
          63,
          63,
          62,
          62,
          61,
          59,
          58,
          57,
          6
         ],
         "y": [
          56,
          55,
          22,
          52,
          62,
          83,
          54,
          48,
          56,
          83,
          70,
          45,
          42,
          36,
          71,
          69,
          51,
          47,
          64,
          46,
          73,
          55,
          42,
          55,
          54,
          71,
          55,
          40,
          73,
          0
         ],
         "z": [
          "hip hop",
          "hip hop",
          "hip hop",
          "hip hop",
          "hip hop",
          "hip hop",
          "hip hop",
          "hip hop",
          "hip hop",
          "hip hop",
          "hip hop",
          "hip hop",
          "hip hop",
          "hip hop",
          "hip hop",
          "hip hop",
          "hip hop",
          "hip hop",
          "hip hop",
          "hip hop",
          "hip hop",
          "hip hop",
          "hip hop",
          "hip hop",
          "hip hop",
          "hip hop",
          "hip hop",
          "hip hop",
          "hip hop",
          "hip hop"
         ]
        },
        {
         "hovertemplate": "top genre=%{z}<br>artist=DaBaby<br>pop=%{x}<br>dnce=%{y}<br>dur=%{marker.size}<extra></extra>",
         "legendgroup": "hip hop, DaBaby",
         "marker": {
          "color": "#636efa",
          "size": [
           113,
           159,
           160,
           145,
           153,
           142,
           152,
           163
          ],
          "sizemode": "area",
          "sizeref": 3.1025,
          "symbol": "x"
         },
         "mode": "markers",
         "name": "hip hop, DaBaby",
         "scene": "scene",
         "showlegend": true,
         "type": "scatter3d",
         "x": [
          80,
          80,
          79,
          74,
          68,
          67,
          57,
          16
         ],
         "y": [
          90,
          93,
          77,
          77,
          71,
          76,
          87,
          88
         ],
         "z": [
          "hip hop",
          "hip hop",
          "hip hop",
          "hip hop",
          "hip hop",
          "hip hop",
          "hip hop",
          "hip hop"
         ]
        },
        {
         "hovertemplate": "top genre=%{z}<br>artist=Meek Mill<br>pop=%{x}<br>dnce=%{y}<br>dur=%{marker.size}<extra></extra>",
         "legendgroup": "hip hop, Meek Mill",
         "marker": {
          "color": "#636efa",
          "size": [
           181,
           231,
           255
          ],
          "sizemode": "area",
          "sizeref": 3.1025,
          "symbol": "cross"
         },
         "mode": "markers",
         "name": "hip hop, Meek Mill",
         "scene": "scene",
         "showlegend": true,
         "type": "scatter3d",
         "x": [
          80,
          72,
          56
         ],
         "y": [
          89,
          63,
          92
         ],
         "z": [
          "hip hop",
          "hip hop",
          "hip hop"
         ]
        },
        {
         "hovertemplate": "top genre=%{z}<br>artist=Future<br>pop=%{x}<br>dnce=%{y}<br>dur=%{marker.size}<extra></extra>",
         "legendgroup": "hip hop, Future",
         "marker": {
          "color": "#636efa",
          "size": [
           238,
           206,
           189,
           189,
           315,
           197,
           210,
           214,
           281,
           167,
           217,
           187,
           193,
           229,
           226,
           274,
           197,
           167,
           133,
           167,
           194,
           222,
           210,
           181,
           244,
           185,
           187,
           204
          ],
          "sizemode": "area",
          "sizeref": 3.1025,
          "symbol": "diamond"
         },
         "mode": "markers",
         "name": "hip hop, Future",
         "scene": "scene",
         "showlegend": true,
         "type": "scatter3d",
         "x": [
          80,
          66,
          64,
          62,
          60,
          58,
          56,
          55,
          55,
          54,
          53,
          53,
          51,
          51,
          50,
          50,
          49,
          48,
          48,
          47,
          47,
          47,
          46,
          46,
          46,
          46,
          45,
          45
         ],
         "y": [
          68,
          69,
          94,
          72,
          81,
          87,
          66,
          75,
          80,
          84,
          78,
          77,
          89,
          94,
          80,
          76,
          90,
          84,
          76,
          85,
          77,
          86,
          87,
          87,
          62,
          90,
          83,
          83
         ],
         "z": [
          "hip hop",
          "hip hop",
          "hip hop",
          "hip hop",
          "hip hop",
          "hip hop",
          "hip hop",
          "hip hop",
          "hip hop",
          "hip hop",
          "hip hop",
          "hip hop",
          "hip hop",
          "hip hop",
          "hip hop",
          "hip hop",
          "hip hop",
          "hip hop",
          "hip hop",
          "hip hop",
          "hip hop",
          "hip hop",
          "hip hop",
          "hip hop",
          "hip hop",
          "hip hop",
          "hip hop",
          "hip hop"
         ]
        },
        {
         "hovertemplate": "top genre=%{z}<br>artist=21 Savage<br>pop=%{x}<br>dnce=%{y}<br>dur=%{marker.size}<extra></extra>",
         "legendgroup": "hip hop, 21 Savage",
         "marker": {
          "color": "#636efa",
          "size": [
           220,
           289,
           196,
           195,
           194,
           255,
           149,
           202,
           233,
           149,
           229,
           289,
           147,
           194
          ],
          "sizemode": "area",
          "sizeref": 3.1025,
          "symbol": "x"
         },
         "mode": "markers",
         "name": "hip hop, 21 Savage",
         "scene": "scene",
         "showlegend": true,
         "type": "scatter3d",
         "x": [
          79,
          79,
          78,
          76,
          75,
          70,
          65,
          63,
          63,
          58,
          56,
          55,
          53,
          39
         ],
         "y": [
          88,
          84,
          82,
          89,
          65,
          74,
          86,
          70,
          89,
          89,
          72,
          84,
          84,
          85
         ],
         "z": [
          "hip hop",
          "hip hop",
          "hip hop",
          "hip hop",
          "hip hop",
          "hip hop",
          "hip hop",
          "hip hop",
          "hip hop",
          "hip hop",
          "hip hop",
          "hip hop",
          "hip hop",
          "hip hop"
         ]
        },
        {
         "hovertemplate": "top genre=%{z}<br>artist=Mac Miller<br>pop=%{x}<br>dnce=%{y}<br>dur=%{marker.size}<extra></extra>",
         "legendgroup": "hip hop, Mac Miller",
         "marker": {
          "color": "#636efa",
          "size": [
           345,
           209,
           208,
           342,
           162,
           287,
           272,
           289,
           246,
           348,
           250,
           331,
           345,
           170,
           313,
           286,
           237,
           288,
           302,
           298,
           501,
           190,
           202,
           215,
           257,
           232,
           160,
           186,
           218,
           210,
           221,
           254,
           200,
           209,
           170,
           342,
           158,
           232,
           286,
           331,
           298,
           257,
           218,
           160,
           221,
           200,
           237
          ],
          "sizemode": "area",
          "sizeref": 3.1025,
          "symbol": "cross"
         },
         "mode": "markers",
         "name": "hip hop, Mac Miller",
         "scene": "scene",
         "showlegend": true,
         "type": "scatter3d",
         "x": [
          79,
          76,
          76,
          75,
          73,
          72,
          72,
          70,
          70,
          69,
          68,
          68,
          68,
          68,
          66,
          66,
          66,
          66,
          66,
          65,
          64,
          64,
          64,
          63,
          63,
          63,
          62,
          62,
          61,
          61,
          61,
          61,
          59,
          55,
          55,
          55,
          55,
          53,
          53,
          53,
          53,
          52,
          51,
          51,
          51,
          49,
          46
         ],
         "y": [
          52,
          74,
          84,
          79,
          27,
          80,
          52,
          76,
          69,
          53,
          66,
          83,
          79,
          61,
          58,
          78,
          62,
          68,
          57,
          68,
          47,
          88,
          53,
          60,
          88,
          83,
          76,
          48,
          58,
          79,
          70,
          51,
          74,
          74,
          61,
          79,
          72,
          83,
          78,
          83,
          68,
          88,
          58,
          76,
          70,
          74,
          44
         ],
         "z": [
          "hip hop",
          "hip hop",
          "hip hop",
          "hip hop",
          "hip hop",
          "hip hop",
          "hip hop",
          "hip hop",
          "hip hop",
          "hip hop",
          "hip hop",
          "hip hop",
          "hip hop",
          "hip hop",
          "hip hop",
          "hip hop",
          "hip hop",
          "hip hop",
          "hip hop",
          "hip hop",
          "hip hop",
          "hip hop",
          "hip hop",
          "hip hop",
          "hip hop",
          "hip hop",
          "hip hop",
          "hip hop",
          "hip hop",
          "hip hop",
          "hip hop",
          "hip hop",
          "hip hop",
          "hip hop",
          "hip hop",
          "hip hop",
          "hip hop",
          "hip hop",
          "hip hop",
          "hip hop",
          "hip hop",
          "hip hop",
          "hip hop",
          "hip hop",
          "hip hop",
          "hip hop",
          "hip hop"
         ]
        },
        {
         "hovertemplate": "top genre=%{z}<br>artist=Ice Cube<br>pop=%{x}<br>dnce=%{y}<br>dur=%{marker.size}<extra></extra>",
         "legendgroup": "hip hop, Ice Cube",
         "marker": {
          "color": "#636efa",
          "size": [
           260
          ],
          "sizemode": "area",
          "sizeref": 3.1025,
          "symbol": "x"
         },
         "mode": "markers",
         "name": "hip hop, Ice Cube",
         "scene": "scene",
         "showlegend": true,
         "type": "scatter3d",
         "x": [
          79
         ],
         "y": [
          80
         ],
         "z": [
          "hip hop"
         ]
        },
        {
         "hovertemplate": "top genre=%{z}<br>artist=Machine Gun Kelly<br>pop=%{x}<br>dnce=%{y}<br>dur=%{marker.size}<extra></extra>",
         "legendgroup": "hip hop, Machine Gun Kelly",
         "marker": {
          "color": "#636efa",
          "size": [
           169,
           282
          ],
          "sizemode": "area",
          "sizeref": 3.1025,
          "symbol": "diamond"
         },
         "mode": "markers",
         "name": "hip hop, Machine Gun Kelly",
         "scene": "scene",
         "showlegend": true,
         "type": "scatter3d",
         "x": [
          78,
          60
         ],
         "y": [
          63,
          90
         ],
         "z": [
          "hip hop",
          "hip hop"
         ]
        },
        {
         "hovertemplate": "top genre=%{z}<br>artist=Smiley<br>pop=%{x}<br>dnce=%{y}<br>dur=%{marker.size}<extra></extra>",
         "legendgroup": "hip hop, Smiley",
         "marker": {
          "color": "#636efa",
          "size": [
           153
          ],
          "sizemode": "area",
          "sizeref": 3.1025,
          "symbol": "cross"
         },
         "mode": "markers",
         "name": "hip hop, Smiley",
         "scene": "scene",
         "showlegend": true,
         "type": "scatter3d",
         "x": [
          78
         ],
         "y": [
          83
         ],
         "z": [
          "hip hop"
         ]
        },
        {
         "hovertemplate": "top genre=%{z}<br>artist=The Notorious B.I.G.<br>pop=%{x}<br>dnce=%{y}<br>dur=%{marker.size}<extra></extra>",
         "legendgroup": "hip hop, The Notorious B.I.G.",
         "marker": {
          "color": "#636efa",
          "size": [
           230,
           303
          ],
          "sizemode": "area",
          "sizeref": 3.1025,
          "symbol": "diamond"
         },
         "mode": "markers",
         "name": "hip hop, The Notorious B.I.G.",
         "scene": "scene",
         "showlegend": true,
         "type": "scatter3d",
         "x": [
          78,
          76
         ],
         "y": [
          90,
          89
         ],
         "z": [
          "hip hop",
          "hip hop"
         ]
        },
        {
         "hovertemplate": "top genre=%{z}<br>artist=Playboi Carti<br>pop=%{x}<br>dnce=%{y}<br>dur=%{marker.size}<extra></extra>",
         "legendgroup": "hip hop, Playboi Carti",
         "marker": {
          "color": "#636efa",
          "size": [
           182,
           169,
           236,
           192,
           124,
           219,
           194,
           120,
           119,
           93,
           165,
           89
          ],
          "sizemode": "area",
          "sizeref": 3.1025,
          "symbol": "diamond"
         },
         "mode": "markers",
         "name": "hip hop, Playboi Carti",
         "scene": "scene",
         "showlegend": true,
         "type": "scatter3d",
         "x": [
          78,
          76,
          76,
          74,
          74,
          72,
          70,
          70,
          66,
          65,
          65,
          62
         ],
         "y": [
          79,
          72,
          79,
          73,
          64,
          86,
          77,
          69,
          76,
          87,
          89,
          72
         ],
         "z": [
          "hip hop",
          "hip hop",
          "hip hop",
          "hip hop",
          "hip hop",
          "hip hop",
          "hip hop",
          "hip hop",
          "hip hop",
          "hip hop",
          "hip hop",
          "hip hop"
         ]
        },
        {
         "hovertemplate": "top genre=%{z}<br>artist=Lil Baby<br>pop=%{x}<br>dnce=%{y}<br>dur=%{marker.size}<extra></extra>",
         "legendgroup": "hip hop, Lil Baby",
         "marker": {
          "color": "#636efa",
          "size": [
           213
          ],
          "sizemode": "area",
          "sizeref": 3.1025,
          "symbol": "square"
         },
         "mode": "markers",
         "name": "hip hop, Lil Baby",
         "scene": "scene",
         "showlegend": true,
         "type": "scatter3d",
         "x": [
          78
         ],
         "y": [
          79
         ],
         "z": [
          "hip hop"
         ]
        },
        {
         "hovertemplate": "top genre=%{z}<br>artist=DJ Khaled<br>pop=%{x}<br>dnce=%{y}<br>dur=%{marker.size}<extra></extra>",
         "legendgroup": "hip hop, DJ Khaled",
         "marker": {
          "color": "#636efa",
          "size": [
           200,
           326,
           184,
           220,
           197,
           282,
           274,
           291,
           231,
           291,
           246,
           331
          ],
          "sizemode": "area",
          "sizeref": 3.1025,
          "symbol": "cross"
         },
         "mode": "markers",
         "name": "hip hop, DJ Khaled",
         "scene": "scene",
         "showlegend": true,
         "type": "scatter3d",
         "x": [
          78,
          59,
          57,
          43,
          40,
          40,
          37,
          31,
          30,
          29,
          29,
          26
         ],
         "y": [
          80,
          41,
          92,
          69,
          61,
          41,
          69,
          80,
          76,
          67,
          61,
          64
         ],
         "z": [
          "hip hop",
          "hip hop",
          "hip hop",
          "hip hop",
          "hip hop",
          "hip hop",
          "hip hop",
          "hip hop",
          "hip hop",
          "hip hop",
          "hip hop",
          "hip hop"
         ]
        },
        {
         "hovertemplate": "top genre=%{z}<br>artist=Logic<br>pop=%{x}<br>dnce=%{y}<br>dur=%{marker.size}<extra></extra>",
         "legendgroup": "hip hop, Logic",
         "marker": {
          "color": "#636efa",
          "size": [
           250,
           166,
           205,
           100,
           189,
           226,
           162,
           245,
           167,
           219,
           182,
           218,
           260,
           560,
           284,
           204,
           240,
           265,
           241,
           265,
           312,
           200,
           217,
           241,
           203,
           377,
           201,
           338,
           240,
           241,
           221,
           245,
           295,
           174,
           230,
           219,
           207,
           138,
           145,
           175,
           154,
           213,
           157,
           174,
           247,
           263,
           79,
           163
          ],
          "sizemode": "area",
          "sizeref": 3.1025,
          "symbol": "circle"
         },
         "mode": "markers",
         "name": "hip hop, Logic",
         "scene": "scene",
         "showlegend": true,
         "type": "scatter3d",
         "x": [
          78,
          71,
          71,
          69,
          68,
          67,
          65,
          65,
          64,
          63,
          62,
          61,
          61,
          60,
          60,
          59,
          58,
          58,
          58,
          57,
          57,
          55,
          55,
          55,
          54,
          54,
          54,
          54,
          54,
          53,
          53,
          52,
          52,
          52,
          52,
          52,
          51,
          51,
          51,
          51,
          50,
          49,
          49,
          49,
          48,
          48,
          48,
          45
         ],
         "y": [
          62,
          74,
          67,
          77,
          82,
          71,
          89,
          72,
          60,
          78,
          73,
          81,
          74,
          70,
          81,
          67,
          79,
          62,
          57,
          83,
          59,
          71,
          80,
          57,
          80,
          46,
          86,
          76,
          83,
          66,
          75,
          62,
          52,
          62,
          44,
          78,
          86,
          74,
          72,
          82,
          68,
          76,
          85,
          88,
          51,
          68,
          92,
          63
         ],
         "z": [
          "hip hop",
          "hip hop",
          "hip hop",
          "hip hop",
          "hip hop",
          "hip hop",
          "hip hop",
          "hip hop",
          "hip hop",
          "hip hop",
          "hip hop",
          "hip hop",
          "hip hop",
          "hip hop",
          "hip hop",
          "hip hop",
          "hip hop",
          "hip hop",
          "hip hop",
          "hip hop",
          "hip hop",
          "hip hop",
          "hip hop",
          "hip hop",
          "hip hop",
          "hip hop",
          "hip hop",
          "hip hop",
          "hip hop",
          "hip hop",
          "hip hop",
          "hip hop",
          "hip hop",
          "hip hop",
          "hip hop",
          "hip hop",
          "hip hop",
          "hip hop",
          "hip hop",
          "hip hop",
          "hip hop",
          "hip hop",
          "hip hop",
          "hip hop",
          "hip hop",
          "hip hop",
          "hip hop",
          "hip hop"
         ]
        },
        {
         "hovertemplate": "top genre=%{z}<br>artist=Big Sean<br>pop=%{x}<br>dnce=%{y}<br>dur=%{marker.size}<extra></extra>",
         "legendgroup": "hip hop, Big Sean",
         "marker": {
          "color": "#636efa",
          "size": [
           200,
           222,
           243,
           214,
           151,
           143,
           269,
           269,
           178,
           326,
           228,
           287,
           214,
           293,
           231,
           242,
           272,
           273,
           211,
           335,
           226,
           225,
           90,
           256,
           208,
           199,
           227,
           64
          ],
          "sizemode": "area",
          "sizeref": 3.1025,
          "symbol": "diamond"
         },
         "mode": "markers",
         "name": "hip hop, Big Sean",
         "scene": "scene",
         "showlegend": true,
         "type": "scatter3d",
         "x": [
          78,
          73,
          67,
          65,
          64,
          63,
          61,
          60,
          59,
          57,
          56,
          55,
          51,
          51,
          50,
          50,
          49,
          48,
          47,
          46,
          45,
          44,
          44,
          44,
          43,
          43,
          40,
          37
         ],
         "y": [
          72,
          78,
          68,
          75,
          68,
          81,
          62,
          66,
          82,
          48,
          49,
          78,
          66,
          37,
          53,
          47,
          62,
          66,
          51,
          51,
          38,
          59,
          63,
          58,
          71,
          68,
          56,
          39
         ],
         "z": [
          "hip hop",
          "hip hop",
          "hip hop",
          "hip hop",
          "hip hop",
          "hip hop",
          "hip hop",
          "hip hop",
          "hip hop",
          "hip hop",
          "hip hop",
          "hip hop",
          "hip hop",
          "hip hop",
          "hip hop",
          "hip hop",
          "hip hop",
          "hip hop",
          "hip hop",
          "hip hop",
          "hip hop",
          "hip hop",
          "hip hop",
          "hip hop",
          "hip hop",
          "hip hop",
          "hip hop",
          "hip hop"
         ]
        },
        {
         "hovertemplate": "top genre=%{z}<br>artist=Kid Cudi<br>pop=%{x}<br>dnce=%{y}<br>dur=%{marker.size}<extra></extra>",
         "legendgroup": "hip hop, Kid Cudi",
         "marker": {
          "color": "#636efa",
          "size": [
           193,
           192,
           295,
           190
          ],
          "sizemode": "area",
          "sizeref": 3.1025,
          "symbol": "cross"
         },
         "mode": "markers",
         "name": "hip hop, Kid Cudi",
         "scene": "scene",
         "showlegend": true,
         "type": "scatter3d",
         "x": [
          76,
          71,
          71,
          55
         ],
         "y": [
          71,
          69,
          63,
          81
         ],
         "z": [
          "hip hop",
          "hip hop",
          "hip hop",
          "hip hop"
         ]
        },
        {
         "hovertemplate": "top genre=%{z}<br>artist=Migos<br>pop=%{x}<br>dnce=%{y}<br>dur=%{marker.size}<extra></extra>",
         "legendgroup": "hip hop, Migos",
         "marker": {
          "color": "#636efa",
          "size": [
           276,
           190
          ],
          "sizemode": "area",
          "sizeref": 3.1025,
          "symbol": "diamond"
         },
         "mode": "markers",
         "name": "hip hop, Migos",
         "scene": "scene",
         "showlegend": true,
         "type": "scatter3d",
         "x": [
          76,
          71
         ],
         "y": [
          91,
          82
         ],
         "z": [
          "hip hop",
          "hip hop"
         ]
        },
        {
         "hovertemplate": "top genre=%{z}<br>artist=Gunna<br>pop=%{x}<br>dnce=%{y}<br>dur=%{marker.size}<extra></extra>",
         "legendgroup": "hip hop, Gunna",
         "marker": {
          "color": "#636efa",
          "size": [
           198,
           236
          ],
          "sizemode": "area",
          "sizeref": 3.1025,
          "symbol": "square"
         },
         "mode": "markers",
         "name": "hip hop, Gunna",
         "scene": "scene",
         "showlegend": true,
         "type": "scatter3d",
         "x": [
          76,
          54
         ],
         "y": [
          83,
          86
         ],
         "z": [
          "hip hop",
          "hip hop"
         ]
        },
        {
         "hovertemplate": "top genre=%{z}<br>artist=Ski Mask The Slump God<br>pop=%{x}<br>dnce=%{y}<br>dur=%{marker.size}<extra></extra>",
         "legendgroup": "hip hop, Ski Mask The Slump God",
         "marker": {
          "color": "#636efa",
          "size": [
           146,
           210,
           138,
           139,
           110,
           144,
           158
          ],
          "sizemode": "area",
          "sizeref": 3.1025,
          "symbol": "x"
         },
         "mode": "markers",
         "name": "hip hop, Ski Mask The Slump God",
         "scene": "scene",
         "showlegend": true,
         "type": "scatter3d",
         "x": [
          76,
          75,
          74,
          63,
          60,
          44,
          44
         ],
         "y": [
          94,
          80,
          88,
          74,
          78,
          93,
          79
         ],
         "z": [
          "hip hop",
          "hip hop",
          "hip hop",
          "hip hop",
          "hip hop",
          "hip hop",
          "hip hop"
         ]
        },
        {
         "hovertemplate": "top genre=%{z}<br>artist=Aminé<br>pop=%{x}<br>dnce=%{y}<br>dur=%{marker.size}<extra></extra>",
         "legendgroup": "hip hop, Aminé",
         "marker": {
          "color": "#636efa",
          "size": [
           121,
           150,
           259,
           134
          ],
          "sizemode": "area",
          "sizeref": 3.1025,
          "symbol": "cross"
         },
         "mode": "markers",
         "name": "hip hop, Aminé",
         "scene": "scene",
         "showlegend": true,
         "type": "scatter3d",
         "x": [
          76,
          61,
          56,
          56
         ],
         "y": [
          75,
          70,
          64,
          47
         ],
         "z": [
          "hip hop",
          "hip hop",
          "hip hop",
          "hip hop"
         ]
        },
        {
         "hovertemplate": "top genre=%{z}<br>artist=Gnarls Barkley<br>pop=%{x}<br>dnce=%{y}<br>dur=%{marker.size}<extra></extra>",
         "legendgroup": "hip hop, Gnarls Barkley",
         "marker": {
          "color": "#636efa",
          "size": [
           177
          ],
          "sizemode": "area",
          "sizeref": 3.1025,
          "symbol": "circle"
         },
         "mode": "markers",
         "name": "hip hop, Gnarls Barkley",
         "scene": "scene",
         "showlegend": true,
         "type": "scatter3d",
         "x": [
          75
         ],
         "y": [
          86
         ],
         "z": [
          "hip hop"
         ]
        },
        {
         "hovertemplate": "top genre=%{z}<br>artist=Oliver Tree<br>pop=%{x}<br>dnce=%{y}<br>dur=%{marker.size}<extra></extra>",
         "legendgroup": "hip hop, Oliver Tree",
         "marker": {
          "color": "#636efa",
          "size": [
           164,
           145,
           125,
           160,
           163,
           177,
           207
          ],
          "sizemode": "area",
          "sizeref": 3.1025,
          "symbol": "circle"
         },
         "mode": "markers",
         "name": "hip hop, Oliver Tree",
         "scene": "scene",
         "showlegend": true,
         "type": "scatter3d",
         "x": [
          75,
          74,
          67,
          58,
          58,
          57,
          52
         ],
         "y": [
          79,
          56,
          67,
          70,
          77,
          42,
          61
         ],
         "z": [
          "hip hop",
          "hip hop",
          "hip hop",
          "hip hop",
          "hip hop",
          "hip hop",
          "hip hop"
         ]
        },
        {
         "hovertemplate": "top genre=%{z}<br>artist=A$AP Ferg<br>pop=%{x}<br>dnce=%{y}<br>dur=%{marker.size}<extra></extra>",
         "legendgroup": "hip hop, A$AP Ferg",
         "marker": {
          "color": "#636efa",
          "size": [
           223,
           174,
           276,
           190,
           206,
           153
          ],
          "sizemode": "area",
          "sizeref": 3.1025,
          "symbol": "circle"
         },
         "mode": "markers",
         "name": "hip hop, A$AP Ferg",
         "scene": "scene",
         "showlegend": true,
         "type": "scatter3d",
         "x": [
          75,
          75,
          65,
          50,
          49,
          41
         ],
         "y": [
          74,
          80,
          87,
          61,
          65,
          71
         ],
         "z": [
          "hip hop",
          "hip hop",
          "hip hop",
          "hip hop",
          "hip hop",
          "hip hop"
         ]
        },
        {
         "hovertemplate": "top genre=%{z}<br>artist=Tory Lanez<br>pop=%{x}<br>dnce=%{y}<br>dur=%{marker.size}<extra></extra>",
         "legendgroup": "hip hop, Tory Lanez",
         "marker": {
          "color": "#636efa",
          "size": [
           132
          ],
          "sizemode": "area",
          "sizeref": 3.1025,
          "symbol": "cross"
         },
         "mode": "markers",
         "name": "hip hop, Tory Lanez",
         "scene": "scene",
         "showlegend": true,
         "type": "scatter3d",
         "x": [
          75
         ],
         "y": [
          93
         ],
         "z": [
          "hip hop"
         ]
        },
        {
         "hovertemplate": "top genre=%{z}<br>artist=50 Cent<br>pop=%{x}<br>dnce=%{y}<br>dur=%{marker.size}<extra></extra>",
         "legendgroup": "hip hop, 50 Cent",
         "marker": {
          "color": "#636efa",
          "size": [
           249
          ],
          "sizemode": "area",
          "sizeref": 3.1025,
          "symbol": "circle"
         },
         "mode": "markers",
         "name": "hip hop, 50 Cent",
         "scene": "scene",
         "showlegend": true,
         "type": "scatter3d",
         "x": [
          75
         ],
         "y": [
          71
         ],
         "z": [
          "hip hop"
         ]
        },
        {
         "hovertemplate": "top genre=%{z}<br>artist=Key Glock<br>pop=%{x}<br>dnce=%{y}<br>dur=%{marker.size}<extra></extra>",
         "legendgroup": "hip hop, Key Glock",
         "marker": {
          "color": "#636efa",
          "size": [
           147
          ],
          "sizemode": "area",
          "sizeref": 3.1025,
          "symbol": "x"
         },
         "mode": "markers",
         "name": "hip hop, Key Glock",
         "scene": "scene",
         "showlegend": true,
         "type": "scatter3d",
         "x": [
          74
         ],
         "y": [
          80
         ],
         "z": [
          "hip hop"
         ]
        },
        {
         "hovertemplate": "top genre=%{z}<br>artist=KIDS SEE GHOSTS<br>pop=%{x}<br>dnce=%{y}<br>dur=%{marker.size}<extra></extra>",
         "legendgroup": "hip hop, KIDS SEE GHOSTS",
         "marker": {
          "color": "#636efa",
          "size": [
           325,
           153,
           165,
           197,
           245,
           141
          ],
          "sizemode": "area",
          "sizeref": 3.1025,
          "symbol": "square"
         },
         "mode": "markers",
         "name": "hip hop, KIDS SEE GHOSTS",
         "scene": "scene",
         "showlegend": true,
         "type": "scatter3d",
         "x": [
          73,
          69,
          65,
          63,
          61,
          61
         ],
         "y": [
          59,
          77,
          58,
          73,
          84,
          71
         ],
         "z": [
          "hip hop",
          "hip hop",
          "hip hop",
          "hip hop",
          "hip hop",
          "hip hop"
         ]
        },
        {
         "hovertemplate": "top genre=%{z}<br>artist=Jay Rock<br>pop=%{x}<br>dnce=%{y}<br>dur=%{marker.size}<extra></extra>",
         "legendgroup": "hip hop, Jay Rock",
         "marker": {
          "color": "#636efa",
          "size": [
           230,
           215,
           225,
           284
          ],
          "sizemode": "area",
          "sizeref": 3.1025,
          "symbol": "x"
         },
         "mode": "markers",
         "name": "hip hop, Jay Rock",
         "scene": "scene",
         "showlegend": true,
         "type": "scatter3d",
         "x": [
          72,
          66,
          64,
          55
         ],
         "y": [
          65,
          88,
          57,
          84
         ],
         "z": [
          "hip hop",
          "hip hop",
          "hip hop",
          "hip hop"
         ]
        },
        {
         "hovertemplate": "top genre=%{z}<br>artist=Jaden<br>pop=%{x}<br>dnce=%{y}<br>dur=%{marker.size}<extra></extra>",
         "legendgroup": "hip hop, Jaden",
         "marker": {
          "color": "#636efa",
          "size": [
           221,
           468,
           185,
           138,
           271
          ],
          "sizemode": "area",
          "sizeref": 3.1025,
          "symbol": "x"
         },
         "mode": "markers",
         "name": "hip hop, Jaden",
         "scene": "scene",
         "showlegend": true,
         "type": "scatter3d",
         "x": [
          72,
          67,
          53,
          50,
          32
         ],
         "y": [
          79,
          40,
          68,
          72,
          57
         ],
         "z": [
          "hip hop",
          "hip hop",
          "hip hop",
          "hip hop",
          "hip hop"
         ]
        },
        {
         "hovertemplate": "top genre=%{z}<br>artist=NF<br>pop=%{x}<br>dnce=%{y}<br>dur=%{marker.size}<extra></extra>",
         "legendgroup": "hip hop, NF",
         "marker": {
          "color": "#636efa",
          "size": [
           197
          ],
          "sizemode": "area",
          "sizeref": 3.1025,
          "symbol": "cross"
         },
         "mode": "markers",
         "name": "hip hop, NF",
         "scene": "scene",
         "showlegend": true,
         "type": "scatter3d",
         "x": [
          72
         ],
         "y": [
          82
         ],
         "z": [
          "hip hop"
         ]
        },
        {
         "hovertemplate": "top genre=%{z}<br>artist=Young Thug<br>pop=%{x}<br>dnce=%{y}<br>dur=%{marker.size}<extra></extra>",
         "legendgroup": "hip hop, Young Thug",
         "marker": {
          "color": "#636efa",
          "size": [
           200
          ],
          "sizemode": "area",
          "sizeref": 3.1025,
          "symbol": "circle"
         },
         "mode": "markers",
         "name": "hip hop, Young Thug",
         "scene": "scene",
         "showlegend": true,
         "type": "scatter3d",
         "x": [
          72
         ],
         "y": [
          80
         ],
         "z": [
          "hip hop"
         ]
        },
        {
         "hovertemplate": "top genre=%{z}<br>artist=Jack Harlow<br>pop=%{x}<br>dnce=%{y}<br>dur=%{marker.size}<extra></extra>",
         "legendgroup": "hip hop, Jack Harlow",
         "marker": {
          "color": "#636efa",
          "size": [
           125
          ],
          "sizemode": "area",
          "sizeref": 3.1025,
          "symbol": "x"
         },
         "mode": "markers",
         "name": "hip hop, Jack Harlow",
         "scene": "scene",
         "showlegend": true,
         "type": "scatter3d",
         "x": [
          71
         ],
         "y": [
          91
         ],
         "z": [
          "hip hop"
         ]
        },
        {
         "hovertemplate": "top genre=%{z}<br>artist=The Alchemist<br>pop=%{x}<br>dnce=%{y}<br>dur=%{marker.size}<extra></extra>",
         "legendgroup": "hip hop, The Alchemist",
         "marker": {
          "color": "#636efa",
          "size": [
           132
          ],
          "sizemode": "area",
          "sizeref": 3.1025,
          "symbol": "circle"
         },
         "mode": "markers",
         "name": "hip hop, The Alchemist",
         "scene": "scene",
         "showlegend": true,
         "type": "scatter3d",
         "x": [
          71
         ],
         "y": [
          32
         ],
         "z": [
          "hip hop"
         ]
        },
        {
         "hovertemplate": "top genre=%{z}<br>artist=Gucci Mane<br>pop=%{x}<br>dnce=%{y}<br>dur=%{marker.size}<extra></extra>",
         "legendgroup": "hip hop, Gucci Mane",
         "marker": {
          "color": "#636efa",
          "size": [
           203
          ],
          "sizemode": "area",
          "sizeref": 3.1025,
          "symbol": "cross"
         },
         "mode": "markers",
         "name": "hip hop, Gucci Mane",
         "scene": "scene",
         "showlegend": true,
         "type": "scatter3d",
         "x": [
          70
         ],
         "y": [
          80
         ],
         "z": [
          "hip hop"
         ]
        },
        {
         "hovertemplate": "top genre=%{z}<br>artist=Joey Bada$$<br>pop=%{x}<br>dnce=%{y}<br>dur=%{marker.size}<extra></extra>",
         "legendgroup": "hip hop, Joey Bada$$",
         "marker": {
          "color": "#636efa",
          "size": [
           244,
           203,
           183
          ],
          "sizemode": "area",
          "sizeref": 3.1025,
          "symbol": "circle"
         },
         "mode": "markers",
         "name": "hip hop, Joey Bada$$",
         "scene": "scene",
         "showlegend": true,
         "type": "scatter3d",
         "x": [
          69,
          68,
          50
         ],
         "y": [
          78,
          53,
          63
         ],
         "z": [
          "hip hop",
          "hip hop",
          "hip hop"
         ]
        },
        {
         "hovertemplate": "top genre=%{z}<br>artist=Conway the Machine<br>pop=%{x}<br>dnce=%{y}<br>dur=%{marker.size}<extra></extra>",
         "legendgroup": "hip hop, Conway the Machine",
         "marker": {
          "color": "#636efa",
          "size": [
           209
          ],
          "sizemode": "area",
          "sizeref": 3.1025,
          "symbol": "diamond"
         },
         "mode": "markers",
         "name": "hip hop, Conway the Machine",
         "scene": "scene",
         "showlegend": true,
         "type": "scatter3d",
         "x": [
          69
         ],
         "y": [
          86
         ],
         "z": [
          "hip hop"
         ]
        },
        {
         "hovertemplate": "top genre=%{z}<br>artist=NAV<br>pop=%{x}<br>dnce=%{y}<br>dur=%{marker.size}<extra></extra>",
         "legendgroup": "hip hop, NAV",
         "marker": {
          "color": "#636efa",
          "size": [
           161
          ],
          "sizemode": "area",
          "sizeref": 3.1025,
          "symbol": "x"
         },
         "mode": "markers",
         "name": "hip hop, NAV",
         "scene": "scene",
         "showlegend": true,
         "type": "scatter3d",
         "x": [
          69
         ],
         "y": [
          89
         ],
         "z": [
          "hip hop"
         ]
        },
        {
         "hovertemplate": "top genre=%{z}<br>artist=Joyner Lucas<br>pop=%{x}<br>dnce=%{y}<br>dur=%{marker.size}<extra></extra>",
         "legendgroup": "hip hop, Joyner Lucas",
         "marker": {
          "color": "#636efa",
          "size": [
           210
          ],
          "sizemode": "area",
          "sizeref": 3.1025,
          "symbol": "circle"
         },
         "mode": "markers",
         "name": "hip hop, Joyner Lucas",
         "scene": "scene",
         "showlegend": true,
         "type": "scatter3d",
         "x": [
          69
         ],
         "y": [
          67
         ],
         "z": [
          "hip hop"
         ]
        },
        {
         "hovertemplate": "top genre=%{z}<br>artist=Isaiah Rashad<br>pop=%{x}<br>dnce=%{y}<br>dur=%{marker.size}<extra></extra>",
         "legendgroup": "hip hop, Isaiah Rashad",
         "marker": {
          "color": "#636efa",
          "size": [
           189,
           193,
           331,
           261,
           192
          ],
          "sizemode": "area",
          "sizeref": 3.1025,
          "symbol": "x"
         },
         "mode": "markers",
         "name": "hip hop, Isaiah Rashad",
         "scene": "scene",
         "showlegend": true,
         "type": "scatter3d",
         "x": [
          68,
          67,
          66,
          61,
          60
         ],
         "y": [
          87,
          89,
          71,
          61,
          87
         ],
         "z": [
          "hip hop",
          "hip hop",
          "hip hop",
          "hip hop",
          "hip hop"
         ]
        },
        {
         "hovertemplate": "top genre=%{z}<br>artist=Dreamville<br>pop=%{x}<br>dnce=%{y}<br>dur=%{marker.size}<extra></extra>",
         "legendgroup": "hip hop, Dreamville",
         "marker": {
          "color": "#636efa",
          "size": [
           169
          ],
          "sizemode": "area",
          "sizeref": 3.1025,
          "symbol": "diamond"
         },
         "mode": "markers",
         "name": "hip hop, Dreamville",
         "scene": "scene",
         "showlegend": true,
         "type": "scatter3d",
         "x": [
          68
         ],
         "y": [
          76
         ],
         "z": [
          "hip hop"
         ]
        },
        {
         "hovertemplate": "top genre=%{z}<br>artist=Pi’erre Bourne<br>pop=%{x}<br>dnce=%{y}<br>dur=%{marker.size}<extra></extra>",
         "legendgroup": "hip hop, Pi’erre Bourne",
         "marker": {
          "color": "#636efa",
          "size": [
           190
          ],
          "sizemode": "area",
          "sizeref": 3.1025,
          "symbol": "square"
         },
         "mode": "markers",
         "name": "hip hop, Pi’erre Bourne",
         "scene": "scene",
         "showlegend": true,
         "type": "scatter3d",
         "x": [
          67
         ],
         "y": [
          46
         ],
         "z": [
          "hip hop"
         ]
        },
        {
         "hovertemplate": "top genre=%{z}<br>artist=Nas<br>pop=%{x}<br>dnce=%{y}<br>dur=%{marker.size}<extra></extra>",
         "legendgroup": "hip hop, Nas",
         "marker": {
          "color": "#636efa",
          "size": [
           294,
           171,
           251,
           168,
           178
          ],
          "sizemode": "area",
          "sizeref": 3.1025,
          "symbol": "x"
         },
         "mode": "markers",
         "name": "hip hop, Nas",
         "scene": "scene",
         "showlegend": true,
         "type": "scatter3d",
         "x": [
          67,
          57,
          55,
          46,
          42
         ],
         "y": [
          67,
          67,
          62,
          44,
          56
         ],
         "z": [
          "hip hop",
          "hip hop",
          "hip hop",
          "hip hop",
          "hip hop"
         ]
        },
        {
         "hovertemplate": "top genre=%{z}<br>artist=Madvillain<br>pop=%{x}<br>dnce=%{y}<br>dur=%{marker.size}<extra></extra>",
         "legendgroup": "hip hop, Madvillain",
         "marker": {
          "color": "#636efa",
          "size": [
           130
          ],
          "sizemode": "area",
          "sizeref": 3.1025,
          "symbol": "circle"
         },
         "mode": "markers",
         "name": "hip hop, Madvillain",
         "scene": "scene",
         "showlegend": true,
         "type": "scatter3d",
         "x": [
          67
         ],
         "y": [
          36
         ],
         "z": [
          "hip hop"
         ]
        },
        {
         "hovertemplate": "top genre=%{z}<br>artist=Headie One<br>pop=%{x}<br>dnce=%{y}<br>dur=%{marker.size}<extra></extra>",
         "legendgroup": "hip hop, Headie One",
         "marker": {
          "color": "#636efa",
          "size": [
           249
          ],
          "sizemode": "area",
          "sizeref": 3.1025,
          "symbol": "diamond"
         },
         "mode": "markers",
         "name": "hip hop, Headie One",
         "scene": "scene",
         "showlegend": true,
         "type": "scatter3d",
         "x": [
          67
         ],
         "y": [
          68
         ],
         "z": [
          "hip hop"
         ]
        },
        {
         "hovertemplate": "top genre=%{z}<br>artist=A$AP Mob<br>pop=%{x}<br>dnce=%{y}<br>dur=%{marker.size}<extra></extra>",
         "legendgroup": "hip hop, A$AP Mob",
         "marker": {
          "color": "#636efa",
          "size": [
           302,
           231
          ],
          "sizemode": "area",
          "sizeref": 3.1025,
          "symbol": "x"
         },
         "mode": "markers",
         "name": "hip hop, A$AP Mob",
         "scene": "scene",
         "showlegend": true,
         "type": "scatter3d",
         "x": [
          67,
          61
         ],
         "y": [
          84,
          73
         ],
         "z": [
          "hip hop",
          "hip hop"
         ]
        },
        {
         "hovertemplate": "top genre=%{z}<br>artist=JID<br>pop=%{x}<br>dnce=%{y}<br>dur=%{marker.size}<extra></extra>",
         "legendgroup": "hip hop, JID",
         "marker": {
          "color": "#636efa",
          "size": [
           157,
           206,
           213,
           242,
           136,
           270
          ],
          "sizemode": "area",
          "sizeref": 3.1025,
          "symbol": "diamond"
         },
         "mode": "markers",
         "name": "hip hop, JID",
         "scene": "scene",
         "showlegend": true,
         "type": "scatter3d",
         "x": [
          67,
          65,
          64,
          62,
          53,
          51
         ],
         "y": [
          76,
          81,
          84,
          59,
          89,
          51
         ],
         "z": [
          "hip hop",
          "hip hop",
          "hip hop",
          "hip hop",
          "hip hop",
          "hip hop"
         ]
        },
        {
         "hovertemplate": "top genre=%{z}<br>artist=Aitch<br>pop=%{x}<br>dnce=%{y}<br>dur=%{marker.size}<extra></extra>",
         "legendgroup": "hip hop, Aitch",
         "marker": {
          "color": "#636efa",
          "size": [
           183
          ],
          "sizemode": "area",
          "sizeref": 3.1025,
          "symbol": "cross"
         },
         "mode": "markers",
         "name": "hip hop, Aitch",
         "scene": "scene",
         "showlegend": true,
         "type": "scatter3d",
         "x": [
          66
         ],
         "y": [
          87
         ],
         "z": [
          "hip hop"
         ]
        },
        {
         "hovertemplate": "top genre=%{z}<br>artist=Ezhel<br>pop=%{x}<br>dnce=%{y}<br>dur=%{marker.size}<extra></extra>",
         "legendgroup": "hip hop, Ezhel",
         "marker": {
          "color": "#636efa",
          "size": [
           181
          ],
          "sizemode": "area",
          "sizeref": 3.1025,
          "symbol": "square"
         },
         "mode": "markers",
         "name": "hip hop, Ezhel",
         "scene": "scene",
         "showlegend": true,
         "type": "scatter3d",
         "x": [
          66
         ],
         "y": [
          89
         ],
         "z": [
          "hip hop"
         ]
        },
        {
         "hovertemplate": "top genre=%{z}<br>artist=Kent Jones<br>pop=%{x}<br>dnce=%{y}<br>dur=%{marker.size}<extra></extra>",
         "legendgroup": "hip hop, Kent Jones",
         "marker": {
          "color": "#636efa",
          "size": [
           198
          ],
          "sizemode": "area",
          "sizeref": 3.1025,
          "symbol": "x"
         },
         "mode": "markers",
         "name": "hip hop, Kent Jones",
         "scene": "scene",
         "showlegend": true,
         "type": "scatter3d",
         "x": [
          64
         ],
         "y": [
          46
         ],
         "z": [
          "hip hop"
         ]
        },
        {
         "hovertemplate": "top genre=%{z}<br>artist=2 Chainz<br>pop=%{x}<br>dnce=%{y}<br>dur=%{marker.size}<extra></extra>",
         "legendgroup": "hip hop, 2 Chainz",
         "marker": {
          "color": "#636efa",
          "size": [
           172
          ],
          "sizemode": "area",
          "sizeref": 3.1025,
          "symbol": "circle"
         },
         "mode": "markers",
         "name": "hip hop, 2 Chainz",
         "scene": "scene",
         "showlegend": true,
         "type": "scatter3d",
         "x": [
          64
         ],
         "y": [
          90
         ],
         "z": [
          "hip hop"
         ]
        },
        {
         "hovertemplate": "top genre=%{z}<br>artist=Lil Yachty<br>pop=%{x}<br>dnce=%{y}<br>dur=%{marker.size}<extra></extra>",
         "legendgroup": "hip hop, Lil Yachty",
         "marker": {
          "color": "#636efa",
          "size": [
           179,
           171,
           268,
           164
          ],
          "sizemode": "area",
          "sizeref": 3.1025,
          "symbol": "diamond"
         },
         "mode": "markers",
         "name": "hip hop, Lil Yachty",
         "scene": "scene",
         "showlegend": true,
         "type": "scatter3d",
         "x": [
          64,
          63,
          56,
          35
         ],
         "y": [
          89,
          83,
          81,
          87
         ],
         "z": [
          "hip hop",
          "hip hop",
          "hip hop",
          "hip hop"
         ]
        },
        {
         "hovertemplate": "top genre=%{z}<br>artist=Busta Rhymes<br>pop=%{x}<br>dnce=%{y}<br>dur=%{marker.size}<extra></extra>",
         "legendgroup": "hip hop, Busta Rhymes",
         "marker": {
          "color": "#636efa",
          "size": [
           324
          ],
          "sizemode": "area",
          "sizeref": 3.1025,
          "symbol": "cross"
         },
         "mode": "markers",
         "name": "hip hop, Busta Rhymes",
         "scene": "scene",
         "showlegend": true,
         "type": "scatter3d",
         "x": [
          63
         ],
         "y": [
          66
         ],
         "z": [
          "hip hop"
         ]
        },
        {
         "hovertemplate": "top genre=%{z}<br>artist=LL Cool J<br>pop=%{x}<br>dnce=%{y}<br>dur=%{marker.size}<extra></extra>",
         "legendgroup": "hip hop, LL Cool J",
         "marker": {
          "color": "#636efa",
          "size": [
           290
          ],
          "sizemode": "area",
          "sizeref": 3.1025,
          "symbol": "diamond"
         },
         "mode": "markers",
         "name": "hip hop, LL Cool J",
         "scene": "scene",
         "showlegend": true,
         "type": "scatter3d",
         "x": [
          63
         ],
         "y": [
          79
         ],
         "z": [
          "hip hop"
         ]
        },
        {
         "hovertemplate": "top genre=%{z}<br>artist=Fat Joe<br>pop=%{x}<br>dnce=%{y}<br>dur=%{marker.size}<extra></extra>",
         "legendgroup": "hip hop, Fat Joe",
         "marker": {
          "color": "#636efa",
          "size": [
           285
          ],
          "sizemode": "area",
          "sizeref": 3.1025,
          "symbol": "circle"
         },
         "mode": "markers",
         "name": "hip hop, Fat Joe",
         "scene": "scene",
         "showlegend": true,
         "type": "scatter3d",
         "x": [
          63
         ],
         "y": [
          56
         ],
         "z": [
          "hip hop"
         ]
        },
        {
         "hovertemplate": "top genre=%{z}<br>artist=Rich Brian<br>pop=%{x}<br>dnce=%{y}<br>dur=%{marker.size}<extra></extra>",
         "legendgroup": "hip hop, Rich Brian",
         "marker": {
          "color": "#636efa",
          "size": [
           166
          ],
          "sizemode": "area",
          "sizeref": 3.1025,
          "symbol": "diamond"
         },
         "mode": "markers",
         "name": "hip hop, Rich Brian",
         "scene": "scene",
         "showlegend": true,
         "type": "scatter3d",
         "x": [
          63
         ],
         "y": [
          76
         ],
         "z": [
          "hip hop"
         ]
        },
        {
         "hovertemplate": "top genre=%{z}<br>artist=Pete Rock<br>pop=%{x}<br>dnce=%{y}<br>dur=%{marker.size}<extra></extra>",
         "legendgroup": "hip hop, Pete Rock",
         "marker": {
          "color": "#636efa",
          "size": [
           276
          ],
          "sizemode": "area",
          "sizeref": 3.1025,
          "symbol": "circle"
         },
         "mode": "markers",
         "name": "hip hop, Pete Rock",
         "scene": "scene",
         "showlegend": true,
         "type": "scatter3d",
         "x": [
          62
         ],
         "y": [
          80
         ],
         "z": [
          "hip hop"
         ]
        },
        {
         "hovertemplate": "top genre=%{z}<br>artist=NLE Choppa<br>pop=%{x}<br>dnce=%{y}<br>dur=%{marker.size}<extra></extra>",
         "legendgroup": "hip hop, NLE Choppa",
         "marker": {
          "color": "#636efa",
          "size": [
           145,
           186
          ],
          "sizemode": "area",
          "sizeref": 3.1025,
          "symbol": "circle"
         },
         "mode": "markers",
         "name": "hip hop, NLE Choppa",
         "scene": "scene",
         "showlegend": true,
         "type": "scatter3d",
         "x": [
          62,
          48
         ],
         "y": [
          81,
          84
         ],
         "z": [
          "hip hop",
          "hip hop"
         ]
        },
        {
         "hovertemplate": "top genre=%{z}<br>artist=Royce Da 5'9\"<br>pop=%{x}<br>dnce=%{y}<br>dur=%{marker.size}<extra></extra>",
         "legendgroup": "hip hop, Royce Da 5'9\"",
         "marker": {
          "color": "#636efa",
          "size": [
           283
          ],
          "sizemode": "area",
          "sizeref": 3.1025,
          "symbol": "diamond"
         },
         "mode": "markers",
         "name": "hip hop, Royce Da 5'9\"",
         "scene": "scene",
         "showlegend": true,
         "type": "scatter3d",
         "x": [
          60
         ],
         "y": [
          71
         ],
         "z": [
          "hip hop"
         ]
        },
        {
         "hovertemplate": "top genre=%{z}<br>artist=Rich The Kid<br>pop=%{x}<br>dnce=%{y}<br>dur=%{marker.size}<extra></extra>",
         "legendgroup": "hip hop, Rich The Kid",
         "marker": {
          "color": "#636efa",
          "size": [
           167,
           150
          ],
          "sizemode": "area",
          "sizeref": 3.1025,
          "symbol": "circle"
         },
         "mode": "markers",
         "name": "hip hop, Rich The Kid",
         "scene": "scene",
         "showlegend": true,
         "type": "scatter3d",
         "x": [
          60,
          54
         ],
         "y": [
          87,
          87
         ],
         "z": [
          "hip hop",
          "hip hop"
         ]
        },
        {
         "hovertemplate": "top genre=%{z}<br>artist=EARTHGANG<br>pop=%{x}<br>dnce=%{y}<br>dur=%{marker.size}<extra></extra>",
         "legendgroup": "hip hop, EARTHGANG",
         "marker": {
          "color": "#636efa",
          "size": [
           278
          ],
          "sizemode": "area",
          "sizeref": 3.1025,
          "symbol": "circle"
         },
         "mode": "markers",
         "name": "hip hop, EARTHGANG",
         "scene": "scene",
         "showlegend": true,
         "type": "scatter3d",
         "x": [
          60
         ],
         "y": [
          74
         ],
         "z": [
          "hip hop"
         ]
        },
        {
         "hovertemplate": "top genre=%{z}<br>artist=Lil Wayne<br>pop=%{x}<br>dnce=%{y}<br>dur=%{marker.size}<extra></extra>",
         "legendgroup": "hip hop, Lil Wayne",
         "marker": {
          "color": "#636efa",
          "size": [
           249
          ],
          "sizemode": "area",
          "sizeref": 3.1025,
          "symbol": "diamond"
         },
         "mode": "markers",
         "name": "hip hop, Lil Wayne",
         "scene": "scene",
         "showlegend": true,
         "type": "scatter3d",
         "x": [
          60
         ],
         "y": [
          37
         ],
         "z": [
          "hip hop"
         ]
        },
        {
         "hovertemplate": "top genre=%{z}<br>artist=Domo Genesis<br>pop=%{x}<br>dnce=%{y}<br>dur=%{marker.size}<extra></extra>",
         "legendgroup": "hip hop, Domo Genesis",
         "marker": {
          "color": "#636efa",
          "size": [
           162
          ],
          "sizemode": "area",
          "sizeref": 3.1025,
          "symbol": "square"
         },
         "mode": "markers",
         "name": "hip hop, Domo Genesis",
         "scene": "scene",
         "showlegend": true,
         "type": "scatter3d",
         "x": [
          60
         ],
         "y": [
          51
         ],
         "z": [
          "hip hop"
         ]
        },
        {
         "hovertemplate": "top genre=%{z}<br>artist=Pusha T<br>pop=%{x}<br>dnce=%{y}<br>dur=%{marker.size}<extra></extra>",
         "legendgroup": "hip hop, Pusha T",
         "marker": {
          "color": "#636efa",
          "size": [
           166,
           176,
           153
          ],
          "sizemode": "area",
          "sizeref": 3.1025,
          "symbol": "x"
         },
         "mode": "markers",
         "name": "hip hop, Pusha T",
         "scene": "scene",
         "showlegend": true,
         "type": "scatter3d",
         "x": [
          60,
          54,
          53
         ],
         "y": [
          69,
          62,
          68
         ],
         "z": [
          "hip hop",
          "hip hop",
          "hip hop"
         ]
        },
        {
         "hovertemplate": "top genre=%{z}<br>artist=Offset<br>pop=%{x}<br>dnce=%{y}<br>dur=%{marker.size}<extra></extra>",
         "legendgroup": "hip hop, Offset",
         "marker": {
          "color": "#636efa",
          "size": [
           148
          ],
          "sizemode": "area",
          "sizeref": 3.1025,
          "symbol": "x"
         },
         "mode": "markers",
         "name": "hip hop, Offset",
         "scene": "scene",
         "showlegend": true,
         "type": "scatter3d",
         "x": [
          59
         ],
         "y": [
          74
         ],
         "z": [
          "hip hop"
         ]
        },
        {
         "hovertemplate": "top genre=%{z}<br>artist=Ghali<br>pop=%{x}<br>dnce=%{y}<br>dur=%{marker.size}<extra></extra>",
         "legendgroup": "hip hop, Ghali",
         "marker": {
          "color": "#636efa",
          "size": [
           184
          ],
          "sizemode": "area",
          "sizeref": 3.1025,
          "symbol": "cross"
         },
         "mode": "markers",
         "name": "hip hop, Ghali",
         "scene": "scene",
         "showlegend": true,
         "type": "scatter3d",
         "x": [
          58
         ],
         "y": [
          65
         ],
         "z": [
          "hip hop"
         ]
        },
        {
         "hovertemplate": "top genre=%{z}<br>artist=Funk Flex<br>pop=%{x}<br>dnce=%{y}<br>dur=%{marker.size}<extra></extra>",
         "legendgroup": "hip hop, Funk Flex",
         "marker": {
          "color": "#636efa",
          "size": [
           138
          ],
          "sizemode": "area",
          "sizeref": 3.1025,
          "symbol": "circle"
         },
         "mode": "markers",
         "name": "hip hop, Funk Flex",
         "scene": "scene",
         "showlegend": true,
         "type": "scatter3d",
         "x": [
          58
         ],
         "y": [
          50
         ],
         "z": [
          "hip hop"
         ]
        },
        {
         "hovertemplate": "top genre=%{z}<br>artist=Gil Scott-Heron<br>pop=%{x}<br>dnce=%{y}<br>dur=%{marker.size}<extra></extra>",
         "legendgroup": "hip hop, Gil Scott-Heron",
         "marker": {
          "color": "#636efa",
          "size": [
           215,
           200
          ],
          "sizemode": "area",
          "sizeref": 3.1025,
          "symbol": "x"
         },
         "mode": "markers",
         "name": "hip hop, Gil Scott-Heron",
         "scene": "scene",
         "showlegend": true,
         "type": "scatter3d",
         "x": [
          58,
          53
         ],
         "y": [
          75,
          69
         ],
         "z": [
          "hip hop",
          "hip hop"
         ]
        },
        {
         "hovertemplate": "top genre=%{z}<br>artist=Ameer Vann<br>pop=%{x}<br>dnce=%{y}<br>dur=%{marker.size}<extra></extra>",
         "legendgroup": "hip hop, Ameer Vann",
         "marker": {
          "color": "#636efa",
          "size": [
           119
          ],
          "sizemode": "area",
          "sizeref": 3.1025,
          "symbol": "cross"
         },
         "mode": "markers",
         "name": "hip hop, Ameer Vann",
         "scene": "scene",
         "showlegend": true,
         "type": "scatter3d",
         "x": [
          58
         ],
         "y": [
          81
         ],
         "z": [
          "hip hop"
         ]
        },
        {
         "hovertemplate": "top genre=%{z}<br>artist=REASON<br>pop=%{x}<br>dnce=%{y}<br>dur=%{marker.size}<extra></extra>",
         "legendgroup": "hip hop, REASON",
         "marker": {
          "color": "#636efa",
          "size": [
           222,
           162
          ],
          "sizemode": "area",
          "sizeref": 3.1025,
          "symbol": "circle"
         },
         "mode": "markers",
         "name": "hip hop, REASON",
         "scene": "scene",
         "showlegend": true,
         "type": "scatter3d",
         "x": [
          58,
          50
         ],
         "y": [
          63,
          81
         ],
         "z": [
          "hip hop",
          "hip hop"
         ]
        },
        {
         "hovertemplate": "top genre=%{z}<br>artist=Norm Ender<br>pop=%{x}<br>dnce=%{y}<br>dur=%{marker.size}<extra></extra>",
         "legendgroup": "hip hop, Norm Ender",
         "marker": {
          "color": "#636efa",
          "size": [
           192
          ],
          "sizemode": "area",
          "sizeref": 3.1025,
          "symbol": "cross"
         },
         "mode": "markers",
         "name": "hip hop, Norm Ender",
         "scene": "scene",
         "showlegend": true,
         "type": "scatter3d",
         "x": [
          57
         ],
         "y": [
          89
         ],
         "z": [
          "hip hop"
         ]
        },
        {
         "hovertemplate": "top genre=%{z}<br>artist=Ab-Soul<br>pop=%{x}<br>dnce=%{y}<br>dur=%{marker.size}<extra></extra>",
         "legendgroup": "hip hop, Ab-Soul",
         "marker": {
          "color": "#636efa",
          "size": [
           272
          ],
          "sizemode": "area",
          "sizeref": 3.1025,
          "symbol": "diamond"
         },
         "mode": "markers",
         "name": "hip hop, Ab-Soul",
         "scene": "scene",
         "showlegend": true,
         "type": "scatter3d",
         "x": [
          57
         ],
         "y": [
          51
         ],
         "z": [
          "hip hop"
         ]
        },
        {
         "hovertemplate": "top genre=%{z}<br>artist=Danny Brown<br>pop=%{x}<br>dnce=%{y}<br>dur=%{marker.size}<extra></extra>",
         "legendgroup": "hip hop, Danny Brown",
         "marker": {
          "color": "#636efa",
          "size": [
           319
          ],
          "sizemode": "area",
          "sizeref": 3.1025,
          "symbol": "square"
         },
         "mode": "markers",
         "name": "hip hop, Danny Brown",
         "scene": "scene",
         "showlegend": true,
         "type": "scatter3d",
         "x": [
          57
         ],
         "y": [
          69
         ],
         "z": [
          "hip hop"
         ]
        },
        {
         "hovertemplate": "top genre=%{z}<br>artist=Bryson Tiller<br>pop=%{x}<br>dnce=%{y}<br>dur=%{marker.size}<extra></extra>",
         "legendgroup": "hip hop, Bryson Tiller",
         "marker": {
          "color": "#636efa",
          "size": [
           213
          ],
          "sizemode": "area",
          "sizeref": 3.1025,
          "symbol": "x"
         },
         "mode": "markers",
         "name": "hip hop, Bryson Tiller",
         "scene": "scene",
         "showlegend": true,
         "type": "scatter3d",
         "x": [
          57
         ],
         "y": [
          59
         ],
         "z": [
          "hip hop"
         ]
        },
        {
         "hovertemplate": "top genre=%{z}<br>artist=Vince Staples<br>pop=%{x}<br>dnce=%{y}<br>dur=%{marker.size}<extra></extra>",
         "legendgroup": "hip hop, Vince Staples",
         "marker": {
          "color": "#636efa",
          "size": [
           181,
           228,
           161,
           189
          ],
          "sizemode": "area",
          "sizeref": 3.1025,
          "symbol": "cross"
         },
         "mode": "markers",
         "name": "hip hop, Vince Staples",
         "scene": "scene",
         "showlegend": true,
         "type": "scatter3d",
         "x": [
          57,
          56,
          56,
          54
         ],
         "y": [
          71,
          79,
          76,
          73
         ],
         "z": [
          "hip hop",
          "hip hop",
          "hip hop",
          "hip hop"
         ]
        },
        {
         "hovertemplate": "top genre=%{z}<br>artist=Cal Scruby<br>pop=%{x}<br>dnce=%{y}<br>dur=%{marker.size}<extra></extra>",
         "legendgroup": "hip hop, Cal Scruby",
         "marker": {
          "color": "#636efa",
          "size": [
           129
          ],
          "sizemode": "area",
          "sizeref": 3.1025,
          "symbol": "circle"
         },
         "mode": "markers",
         "name": "hip hop, Cal Scruby",
         "scene": "scene",
         "showlegend": true,
         "type": "scatter3d",
         "x": [
          56
         ],
         "y": [
          90
         ],
         "z": [
          "hip hop"
         ]
        },
        {
         "hovertemplate": "top genre=%{z}<br>artist=Action Bronson<br>pop=%{x}<br>dnce=%{y}<br>dur=%{marker.size}<extra></extra>",
         "legendgroup": "hip hop, Action Bronson",
         "marker": {
          "color": "#636efa",
          "size": [
           274,
           172
          ],
          "sizemode": "area",
          "sizeref": 3.1025,
          "symbol": "x"
         },
         "mode": "markers",
         "name": "hip hop, Action Bronson",
         "scene": "scene",
         "showlegend": true,
         "type": "scatter3d",
         "x": [
          56,
          33
         ],
         "y": [
          60,
          56
         ],
         "z": [
          "hip hop",
          "hip hop"
         ]
        },
        {
         "hovertemplate": "top genre=%{z}<br>artist=Spillage Village<br>pop=%{x}<br>dnce=%{y}<br>dur=%{marker.size}<extra></extra>",
         "legendgroup": "hip hop, Spillage Village",
         "marker": {
          "color": "#636efa",
          "size": [
           333
          ],
          "sizemode": "area",
          "sizeref": 3.1025,
          "symbol": "x"
         },
         "mode": "markers",
         "name": "hip hop, Spillage Village",
         "scene": "scene",
         "showlegend": true,
         "type": "scatter3d",
         "x": [
          55
         ],
         "y": [
          50
         ],
         "z": [
          "hip hop"
         ]
        },
        {
         "hovertemplate": "top genre=%{z}<br>artist=LORD$OFDOGTOWN<br>pop=%{x}<br>dnce=%{y}<br>dur=%{marker.size}<extra></extra>",
         "legendgroup": "hip hop, LORD$OFDOGTOWN",
         "marker": {
          "color": "#636efa",
          "size": [
           146
          ],
          "sizemode": "area",
          "sizeref": 3.1025,
          "symbol": "cross"
         },
         "mode": "markers",
         "name": "hip hop, LORD$OFDOGTOWN",
         "scene": "scene",
         "showlegend": true,
         "type": "scatter3d",
         "x": [
          54
         ],
         "y": [
          81
         ],
         "z": [
          "hip hop"
         ]
        },
        {
         "hovertemplate": "top genre=%{z}<br>artist=Bakar<br>pop=%{x}<br>dnce=%{y}<br>dur=%{marker.size}<extra></extra>",
         "legendgroup": "hip hop, Bakar",
         "marker": {
          "color": "#636efa",
          "size": [
           153
          ],
          "sizemode": "area",
          "sizeref": 3.1025,
          "symbol": "circle"
         },
         "mode": "markers",
         "name": "hip hop, Bakar",
         "scene": "scene",
         "showlegend": true,
         "type": "scatter3d",
         "x": [
          54
         ],
         "y": [
          64
         ],
         "z": [
          "hip hop"
         ]
        },
        {
         "hovertemplate": "top genre=%{z}<br>artist=Velet<br>pop=%{x}<br>dnce=%{y}<br>dur=%{marker.size}<extra></extra>",
         "legendgroup": "hip hop, Velet",
         "marker": {
          "color": "#636efa",
          "size": [
           136
          ],
          "sizemode": "area",
          "sizeref": 3.1025,
          "symbol": "circle"
         },
         "mode": "markers",
         "name": "hip hop, Velet",
         "scene": "scene",
         "showlegend": true,
         "type": "scatter3d",
         "x": [
          54
         ],
         "y": [
          86
         ],
         "z": [
          "hip hop"
         ]
        },
        {
         "hovertemplate": "top genre=%{z}<br>artist=Run The Jewels<br>pop=%{x}<br>dnce=%{y}<br>dur=%{marker.size}<extra></extra>",
         "legendgroup": "hip hop, Run The Jewels",
         "marker": {
          "color": "#636efa",
          "size": [
           201
          ],
          "sizemode": "area",
          "sizeref": 3.1025,
          "symbol": "cross"
         },
         "mode": "markers",
         "name": "hip hop, Run The Jewels",
         "scene": "scene",
         "showlegend": true,
         "type": "scatter3d",
         "x": [
          53
         ],
         "y": [
          58
         ],
         "z": [
          "hip hop"
         ]
        },
        {
         "hovertemplate": "top genre=%{z}<br>artist=Noga Erez<br>pop=%{x}<br>dnce=%{y}<br>dur=%{marker.size}<extra></extra>",
         "legendgroup": "hip hop, Noga Erez",
         "marker": {
          "color": "#636efa",
          "size": [
           160
          ],
          "sizemode": "area",
          "sizeref": 3.1025,
          "symbol": "x"
         },
         "mode": "markers",
         "name": "hip hop, Noga Erez",
         "scene": "scene",
         "showlegend": true,
         "type": "scatter3d",
         "x": [
          52
         ],
         "y": [
          90
         ],
         "z": [
          "hip hop"
         ]
        },
        {
         "hovertemplate": "top genre=%{z}<br>artist=Dame D.O.L.L.A<br>pop=%{x}<br>dnce=%{y}<br>dur=%{marker.size}<extra></extra>",
         "legendgroup": "hip hop, Dame D.O.L.L.A",
         "marker": {
          "color": "#636efa",
          "size": [
           171
          ],
          "sizemode": "area",
          "sizeref": 3.1025,
          "symbol": "circle"
         },
         "mode": "markers",
         "name": "hip hop, Dame D.O.L.L.A",
         "scene": "scene",
         "showlegend": true,
         "type": "scatter3d",
         "x": [
          52
         ],
         "y": [
          71
         ],
         "z": [
          "hip hop"
         ]
        },
        {
         "hovertemplate": "top genre=%{z}<br>artist=Zack Fox<br>pop=%{x}<br>dnce=%{y}<br>dur=%{marker.size}<extra></extra>",
         "legendgroup": "hip hop, Zack Fox",
         "marker": {
          "color": "#636efa",
          "size": [
           190
          ],
          "sizemode": "area",
          "sizeref": 3.1025,
          "symbol": "cross"
         },
         "mode": "markers",
         "name": "hip hop, Zack Fox",
         "scene": "scene",
         "showlegend": true,
         "type": "scatter3d",
         "x": [
          51
         ],
         "y": [
          85
         ],
         "z": [
          "hip hop"
         ]
        },
        {
         "hovertemplate": "top genre=%{z}<br>artist=Maxo Kream<br>pop=%{x}<br>dnce=%{y}<br>dur=%{marker.size}<extra></extra>",
         "legendgroup": "hip hop, Maxo Kream",
         "marker": {
          "color": "#636efa",
          "size": [
           156
          ],
          "sizemode": "area",
          "sizeref": 3.1025,
          "symbol": "circle"
         },
         "mode": "markers",
         "name": "hip hop, Maxo Kream",
         "scene": "scene",
         "showlegend": true,
         "type": "scatter3d",
         "x": [
          51
         ],
         "y": [
          84
         ],
         "z": [
          "hip hop"
         ]
        },
        {
         "hovertemplate": "top genre=%{z}<br>artist=Marteria<br>pop=%{x}<br>dnce=%{y}<br>dur=%{marker.size}<extra></extra>",
         "legendgroup": "hip hop, Marteria",
         "marker": {
          "color": "#636efa",
          "size": [
           234
          ],
          "sizemode": "area",
          "sizeref": 3.1025,
          "symbol": "diamond"
         },
         "mode": "markers",
         "name": "hip hop, Marteria",
         "scene": "scene",
         "showlegend": true,
         "type": "scatter3d",
         "x": [
          50
         ],
         "y": [
          66
         ],
         "z": [
          "hip hop"
         ]
        },
        {
         "hovertemplate": "top genre=%{z}<br>artist=JPEGMAFIA<br>pop=%{x}<br>dnce=%{y}<br>dur=%{marker.size}<extra></extra>",
         "legendgroup": "hip hop, JPEGMAFIA",
         "marker": {
          "color": "#636efa",
          "size": [
           127,
           154,
           145
          ],
          "sizemode": "area",
          "sizeref": 3.1025,
          "symbol": "diamond"
         },
         "mode": "markers",
         "name": "hip hop, JPEGMAFIA",
         "scene": "scene",
         "showlegend": true,
         "type": "scatter3d",
         "x": [
          50,
          47,
          38
         ],
         "y": [
          88,
          58,
          71
         ],
         "z": [
          "hip hop",
          "hip hop",
          "hip hop"
         ]
        },
        {
         "hovertemplate": "top genre=%{z}<br>artist=CZARFACE<br>pop=%{x}<br>dnce=%{y}<br>dur=%{marker.size}<extra></extra>",
         "legendgroup": "hip hop, CZARFACE",
         "marker": {
          "color": "#636efa",
          "size": [
           272
          ],
          "sizemode": "area",
          "sizeref": 3.1025,
          "symbol": "diamond"
         },
         "mode": "markers",
         "name": "hip hop, CZARFACE",
         "scene": "scene",
         "showlegend": true,
         "type": "scatter3d",
         "x": [
          50
         ],
         "y": [
          57
         ],
         "z": [
          "hip hop"
         ]
        },
        {
         "hovertemplate": "top genre=%{z}<br>artist=David Dallas<br>pop=%{x}<br>dnce=%{y}<br>dur=%{marker.size}<extra></extra>",
         "legendgroup": "hip hop, David Dallas",
         "marker": {
          "color": "#636efa",
          "size": [
           227
          ],
          "sizemode": "area",
          "sizeref": 3.1025,
          "symbol": "diamond"
         },
         "mode": "markers",
         "name": "hip hop, David Dallas",
         "scene": "scene",
         "showlegend": true,
         "type": "scatter3d",
         "x": [
          49
         ],
         "y": [
          73
         ],
         "z": [
          "hip hop"
         ]
        },
        {
         "hovertemplate": "top genre=%{z}<br>artist=9th Wonder<br>pop=%{x}<br>dnce=%{y}<br>dur=%{marker.size}<extra></extra>",
         "legendgroup": "hip hop, 9th Wonder",
         "marker": {
          "color": "#636efa",
          "size": [
           127
          ],
          "sizemode": "area",
          "sizeref": 3.1025,
          "symbol": "x"
         },
         "mode": "markers",
         "name": "hip hop, 9th Wonder",
         "scene": "scene",
         "showlegend": true,
         "type": "scatter3d",
         "x": [
          49
         ],
         "y": [
          71
         ],
         "z": [
          "hip hop"
         ]
        },
        {
         "hovertemplate": "top genre=%{z}<br>artist=whiterosemoxie<br>pop=%{x}<br>dnce=%{y}<br>dur=%{marker.size}<extra></extra>",
         "legendgroup": "hip hop, whiterosemoxie",
         "marker": {
          "color": "#636efa",
          "size": [
           148
          ],
          "sizemode": "area",
          "sizeref": 3.1025,
          "symbol": "diamond"
         },
         "mode": "markers",
         "name": "hip hop, whiterosemoxie",
         "scene": "scene",
         "showlegend": true,
         "type": "scatter3d",
         "x": [
          49
         ],
         "y": [
          83
         ],
         "z": [
          "hip hop"
         ]
        },
        {
         "hovertemplate": "top genre=%{z}<br>artist=AG Club<br>pop=%{x}<br>dnce=%{y}<br>dur=%{marker.size}<extra></extra>",
         "legendgroup": "hip hop, AG Club",
         "marker": {
          "color": "#636efa",
          "size": [
           183,
           190
          ],
          "sizemode": "area",
          "sizeref": 3.1025,
          "symbol": "square"
         },
         "mode": "markers",
         "name": "hip hop, AG Club",
         "scene": "scene",
         "showlegend": true,
         "type": "scatter3d",
         "x": [
          48,
          45
         ],
         "y": [
          80,
          76
         ],
         "z": [
          "hip hop",
          "hip hop"
         ]
        },
        {
         "hovertemplate": "top genre=%{z}<br>artist=EST Gee<br>pop=%{x}<br>dnce=%{y}<br>dur=%{marker.size}<extra></extra>",
         "legendgroup": "hip hop, EST Gee",
         "marker": {
          "color": "#636efa",
          "size": [
           153
          ],
          "sizemode": "area",
          "sizeref": 3.1025,
          "symbol": "x"
         },
         "mode": "markers",
         "name": "hip hop, EST Gee",
         "scene": "scene",
         "showlegend": true,
         "type": "scatter3d",
         "x": [
          48
         ],
         "y": [
          72
         ],
         "z": [
          "hip hop"
         ]
        },
        {
         "hovertemplate": "top genre=%{z}<br>artist=Terry Presume<br>pop=%{x}<br>dnce=%{y}<br>dur=%{marker.size}<extra></extra>",
         "legendgroup": "hip hop, Terry Presume",
         "marker": {
          "color": "#636efa",
          "size": [
           200
          ],
          "sizemode": "area",
          "sizeref": 3.1025,
          "symbol": "cross"
         },
         "mode": "markers",
         "name": "hip hop, Terry Presume",
         "scene": "scene",
         "showlegend": true,
         "type": "scatter3d",
         "x": [
          48
         ],
         "y": [
          73
         ],
         "z": [
          "hip hop"
         ]
        },
        {
         "hovertemplate": "top genre=%{z}<br>artist=Chavo<br>pop=%{x}<br>dnce=%{y}<br>dur=%{marker.size}<extra></extra>",
         "legendgroup": "hip hop, Chavo",
         "marker": {
          "color": "#636efa",
          "size": [
           200,
           159
          ],
          "sizemode": "area",
          "sizeref": 3.1025,
          "symbol": "circle"
         },
         "mode": "markers",
         "name": "hip hop, Chavo",
         "scene": "scene",
         "showlegend": true,
         "type": "scatter3d",
         "x": [
          48,
          42
         ],
         "y": [
          60,
          77
         ],
         "z": [
          "hip hop",
          "hip hop"
         ]
        },
        {
         "hovertemplate": "top genre=%{z}<br>artist=Kenny Mason<br>pop=%{x}<br>dnce=%{y}<br>dur=%{marker.size}<extra></extra>",
         "legendgroup": "hip hop, Kenny Mason",
         "marker": {
          "color": "#636efa",
          "size": [
           225
          ],
          "sizemode": "area",
          "sizeref": 3.1025,
          "symbol": "x"
         },
         "mode": "markers",
         "name": "hip hop, Kenny Mason",
         "scene": "scene",
         "showlegend": true,
         "type": "scatter3d",
         "x": [
          48
         ],
         "y": [
          75
         ],
         "z": [
          "hip hop"
         ]
        },
        {
         "hovertemplate": "top genre=%{z}<br>artist=Peter $un<br>pop=%{x}<br>dnce=%{y}<br>dur=%{marker.size}<extra></extra>",
         "legendgroup": "hip hop, Peter $un",
         "marker": {
          "color": "#636efa",
          "size": [
           197
          ],
          "sizemode": "area",
          "sizeref": 3.1025,
          "symbol": "cross"
         },
         "mode": "markers",
         "name": "hip hop, Peter $un",
         "scene": "scene",
         "showlegend": true,
         "type": "scatter3d",
         "x": [
          48
         ],
         "y": [
          68
         ],
         "z": [
          "hip hop"
         ]
        },
        {
         "hovertemplate": "top genre=%{z}<br>artist=Anonymuz<br>pop=%{x}<br>dnce=%{y}<br>dur=%{marker.size}<extra></extra>",
         "legendgroup": "hip hop, Anonymuz",
         "marker": {
          "color": "#636efa",
          "size": [
           175
          ],
          "sizemode": "area",
          "sizeref": 3.1025,
          "symbol": "square"
         },
         "mode": "markers",
         "name": "hip hop, Anonymuz",
         "scene": "scene",
         "showlegend": true,
         "type": "scatter3d",
         "x": [
          48
         ],
         "y": [
          78
         ],
         "z": [
          "hip hop"
         ]
        },
        {
         "hovertemplate": "top genre=%{z}<br>artist=Orkundk<br>pop=%{x}<br>dnce=%{y}<br>dur=%{marker.size}<extra></extra>",
         "legendgroup": "hip hop, Orkundk",
         "marker": {
          "color": "#636efa",
          "size": [
           182,
           191,
           221,
           188,
           205,
           186,
           219
          ],
          "sizemode": "area",
          "sizeref": 3.1025,
          "symbol": "circle"
         },
         "mode": "markers",
         "name": "hip hop, Orkundk",
         "scene": "scene",
         "showlegend": true,
         "type": "scatter3d",
         "x": [
          48,
          42,
          41,
          39,
          37,
          31,
          0
         ],
         "y": [
          81,
          70,
          78,
          67,
          84,
          56,
          46
         ],
         "z": [
          "hip hop",
          "hip hop",
          "hip hop",
          "hip hop",
          "hip hop",
          "hip hop",
          "hip hop"
         ]
        },
        {
         "hovertemplate": "top genre=%{z}<br>artist=Pivot Gang<br>pop=%{x}<br>dnce=%{y}<br>dur=%{marker.size}<extra></extra>",
         "legendgroup": "hip hop, Pivot Gang",
         "marker": {
          "color": "#636efa",
          "size": [
           223,
           214
          ],
          "sizemode": "area",
          "sizeref": 3.1025,
          "symbol": "circle"
         },
         "mode": "markers",
         "name": "hip hop, Pivot Gang",
         "scene": "scene",
         "showlegend": true,
         "type": "scatter3d",
         "x": [
          47,
          42
         ],
         "y": [
          76,
          70
         ],
         "z": [
          "hip hop",
          "hip hop"
         ]
        },
        {
         "hovertemplate": "top genre=%{z}<br>artist=Şam<br>pop=%{x}<br>dnce=%{y}<br>dur=%{marker.size}<extra></extra>",
         "legendgroup": "hip hop, Şam",
         "marker": {
          "color": "#636efa",
          "size": [
           144
          ],
          "sizemode": "area",
          "sizeref": 3.1025,
          "symbol": "circle"
         },
         "mode": "markers",
         "name": "hip hop, Şam",
         "scene": "scene",
         "showlegend": true,
         "type": "scatter3d",
         "x": [
          47
         ],
         "y": [
          59
         ],
         "z": [
          "hip hop"
         ]
        },
        {
         "hovertemplate": "top genre=%{z}<br>artist=Shepherd<br>pop=%{x}<br>dnce=%{y}<br>dur=%{marker.size}<extra></extra>",
         "legendgroup": "hip hop, Shepherd",
         "marker": {
          "color": "#636efa",
          "size": [
           240
          ],
          "sizemode": "area",
          "sizeref": 3.1025,
          "symbol": "square"
         },
         "mode": "markers",
         "name": "hip hop, Shepherd",
         "scene": "scene",
         "showlegend": true,
         "type": "scatter3d",
         "x": [
          47
         ],
         "y": [
          77
         ],
         "z": [
          "hip hop"
         ]
        },
        {
         "hovertemplate": "top genre=%{z}<br>artist=Diamond Pistols<br>pop=%{x}<br>dnce=%{y}<br>dur=%{marker.size}<extra></extra>",
         "legendgroup": "hip hop, Diamond Pistols",
         "marker": {
          "color": "#636efa",
          "size": [
           183
          ],
          "sizemode": "area",
          "sizeref": 3.1025,
          "symbol": "cross"
         },
         "mode": "markers",
         "name": "hip hop, Diamond Pistols",
         "scene": "scene",
         "showlegend": true,
         "type": "scatter3d",
         "x": [
          46
         ],
         "y": [
          63
         ],
         "z": [
          "hip hop"
         ]
        },
        {
         "hovertemplate": "top genre=%{z}<br>artist=Reese LAFLARE<br>pop=%{x}<br>dnce=%{y}<br>dur=%{marker.size}<extra></extra>",
         "legendgroup": "hip hop, Reese LAFLARE",
         "marker": {
          "color": "#636efa",
          "size": [
           134
          ],
          "sizemode": "area",
          "sizeref": 3.1025,
          "symbol": "cross"
         },
         "mode": "markers",
         "name": "hip hop, Reese LAFLARE",
         "scene": "scene",
         "showlegend": true,
         "type": "scatter3d",
         "x": [
          46
         ],
         "y": [
          77
         ],
         "z": [
          "hip hop"
         ]
        },
        {
         "hovertemplate": "top genre=%{z}<br>artist=Killa Hakan<br>pop=%{x}<br>dnce=%{y}<br>dur=%{marker.size}<extra></extra>",
         "legendgroup": "hip hop, Killa Hakan",
         "marker": {
          "color": "#636efa",
          "size": [
           378
          ],
          "sizemode": "area",
          "sizeref": 3.1025,
          "symbol": "square"
         },
         "mode": "markers",
         "name": "hip hop, Killa Hakan",
         "scene": "scene",
         "showlegend": true,
         "type": "scatter3d",
         "x": [
          46
         ],
         "y": [
          81
         ],
         "z": [
          "hip hop"
         ]
        },
        {
         "hovertemplate": "top genre=%{z}<br>artist=Big K.R.I.T.<br>pop=%{x}<br>dnce=%{y}<br>dur=%{marker.size}<extra></extra>",
         "legendgroup": "hip hop, Big K.R.I.T.",
         "marker": {
          "color": "#636efa",
          "size": [
           267
          ],
          "sizemode": "area",
          "sizeref": 3.1025,
          "symbol": "x"
         },
         "mode": "markers",
         "name": "hip hop, Big K.R.I.T.",
         "scene": "scene",
         "showlegend": true,
         "type": "scatter3d",
         "x": [
          46
         ],
         "y": [
          72
         ],
         "z": [
          "hip hop"
         ]
        },
        {
         "hovertemplate": "top genre=%{z}<br>artist=Residente<br>pop=%{x}<br>dnce=%{y}<br>dur=%{marker.size}<extra></extra>",
         "legendgroup": "hip hop, Residente",
         "marker": {
          "color": "#636efa",
          "size": [
           236
          ],
          "sizemode": "area",
          "sizeref": 3.1025,
          "symbol": "x"
         },
         "mode": "markers",
         "name": "hip hop, Residente",
         "scene": "scene",
         "showlegend": true,
         "type": "scatter3d",
         "x": [
          45
         ],
         "y": [
          61
         ],
         "z": [
          "hip hop"
         ]
        },
        {
         "hovertemplate": "top genre=%{z}<br>artist=Injury Reserve<br>pop=%{x}<br>dnce=%{y}<br>dur=%{marker.size}<extra></extra>",
         "legendgroup": "hip hop, Injury Reserve",
         "marker": {
          "color": "#636efa",
          "size": [
           256
          ],
          "sizemode": "area",
          "sizeref": 3.1025,
          "symbol": "square"
         },
         "mode": "markers",
         "name": "hip hop, Injury Reserve",
         "scene": "scene",
         "showlegend": true,
         "type": "scatter3d",
         "x": [
          45
         ],
         "y": [
          60
         ],
         "z": [
          "hip hop"
         ]
        },
        {
         "hovertemplate": "top genre=%{z}<br>artist=Armani White<br>pop=%{x}<br>dnce=%{y}<br>dur=%{marker.size}<extra></extra>",
         "legendgroup": "hip hop, Armani White",
         "marker": {
          "color": "#636efa",
          "size": [
           72
          ],
          "sizemode": "area",
          "sizeref": 3.1025,
          "symbol": "circle"
         },
         "mode": "markers",
         "name": "hip hop, Armani White",
         "scene": "scene",
         "showlegend": true,
         "type": "scatter3d",
         "x": [
          45
         ],
         "y": [
          58
         ],
         "z": [
          "hip hop"
         ]
        },
        {
         "hovertemplate": "top genre=%{z}<br>artist=David Wolves<br>pop=%{x}<br>dnce=%{y}<br>dur=%{marker.size}<extra></extra>",
         "legendgroup": "hip hop, David Wolves",
         "marker": {
          "color": "#636efa",
          "size": [
           289
          ],
          "sizemode": "area",
          "sizeref": 3.1025,
          "symbol": "square"
         },
         "mode": "markers",
         "name": "hip hop, David Wolves",
         "scene": "scene",
         "showlegend": true,
         "type": "scatter3d",
         "x": [
          45
         ],
         "y": [
          68
         ],
         "z": [
          "hip hop"
         ]
        },
        {
         "hovertemplate": "top genre=%{z}<br>artist=Lord Apex<br>pop=%{x}<br>dnce=%{y}<br>dur=%{marker.size}<extra></extra>",
         "legendgroup": "hip hop, Lord Apex",
         "marker": {
          "color": "#636efa",
          "size": [
           189
          ],
          "sizemode": "area",
          "sizeref": 3.1025,
          "symbol": "circle"
         },
         "mode": "markers",
         "name": "hip hop, Lord Apex",
         "scene": "scene",
         "showlegend": true,
         "type": "scatter3d",
         "x": [
          44
         ],
         "y": [
          74
         ],
         "z": [
          "hip hop"
         ]
        },
        {
         "hovertemplate": "top genre=%{z}<br>artist=Nana<br>pop=%{x}<br>dnce=%{y}<br>dur=%{marker.size}<extra></extra>",
         "legendgroup": "hip hop, Nana",
         "marker": {
          "color": "#636efa",
          "size": [
           243
          ],
          "sizemode": "area",
          "sizeref": 3.1025,
          "symbol": "diamond"
         },
         "mode": "markers",
         "name": "hip hop, Nana",
         "scene": "scene",
         "showlegend": true,
         "type": "scatter3d",
         "x": [
          44
         ],
         "y": [
          69
         ],
         "z": [
          "hip hop"
         ]
        },
        {
         "hovertemplate": "top genre=%{z}<br>artist=Kembe X<br>pop=%{x}<br>dnce=%{y}<br>dur=%{marker.size}<extra></extra>",
         "legendgroup": "hip hop, Kembe X",
         "marker": {
          "color": "#636efa",
          "size": [
           189,
           196
          ],
          "sizemode": "area",
          "sizeref": 3.1025,
          "symbol": "square"
         },
         "mode": "markers",
         "name": "hip hop, Kembe X",
         "scene": "scene",
         "showlegend": true,
         "type": "scatter3d",
         "x": [
          44,
          39
         ],
         "y": [
          81,
          82
         ],
         "z": [
          "hip hop",
          "hip hop"
         ]
        },
        {
         "hovertemplate": "top genre=%{z}<br>artist=Swavay<br>pop=%{x}<br>dnce=%{y}<br>dur=%{marker.size}<extra></extra>",
         "legendgroup": "hip hop, Swavay",
         "marker": {
          "color": "#636efa",
          "size": [
           199
          ],
          "sizemode": "area",
          "sizeref": 3.1025,
          "symbol": "cross"
         },
         "mode": "markers",
         "name": "hip hop, Swavay",
         "scene": "scene",
         "showlegend": true,
         "type": "scatter3d",
         "x": [
          44
         ],
         "y": [
          84
         ],
         "z": [
          "hip hop"
         ]
        },
        {
         "hovertemplate": "top genre=%{z}<br>artist=Michael Da Vinci<br>pop=%{x}<br>dnce=%{y}<br>dur=%{marker.size}<extra></extra>",
         "legendgroup": "hip hop, Michael Da Vinci",
         "marker": {
          "color": "#636efa",
          "size": [
           138
          ],
          "sizemode": "area",
          "sizeref": 3.1025,
          "symbol": "square"
         },
         "mode": "markers",
         "name": "hip hop, Michael Da Vinci",
         "scene": "scene",
         "showlegend": true,
         "type": "scatter3d",
         "x": [
          43
         ],
         "y": [
          68
         ],
         "z": [
          "hip hop"
         ]
        },
        {
         "hovertemplate": "top genre=%{z}<br>artist=Damu The Fudgemunk<br>pop=%{x}<br>dnce=%{y}<br>dur=%{marker.size}<extra></extra>",
         "legendgroup": "hip hop, Damu The Fudgemunk",
         "marker": {
          "color": "#636efa",
          "size": [
           109,
           109
          ],
          "sizemode": "area",
          "sizeref": 3.1025,
          "symbol": "cross"
         },
         "mode": "markers",
         "name": "hip hop, Damu The Fudgemunk",
         "scene": "scene",
         "showlegend": true,
         "type": "scatter3d",
         "x": [
          43,
          21
         ],
         "y": [
          69,
          64
         ],
         "z": [
          "hip hop",
          "hip hop"
         ]
        },
        {
         "hovertemplate": "top genre=%{z}<br>artist=Wiki<br>pop=%{x}<br>dnce=%{y}<br>dur=%{marker.size}<extra></extra>",
         "legendgroup": "hip hop, Wiki",
         "marker": {
          "color": "#636efa",
          "size": [
           263
          ],
          "sizemode": "area",
          "sizeref": 3.1025,
          "symbol": "circle"
         },
         "mode": "markers",
         "name": "hip hop, Wiki",
         "scene": "scene",
         "showlegend": true,
         "type": "scatter3d",
         "x": [
          43
         ],
         "y": [
          55
         ],
         "z": [
          "hip hop"
         ]
        },
        {
         "hovertemplate": "top genre=%{z}<br>artist=MadeinTYO<br>pop=%{x}<br>dnce=%{y}<br>dur=%{marker.size}<extra></extra>",
         "legendgroup": "hip hop, MadeinTYO",
         "marker": {
          "color": "#636efa",
          "size": [
           248,
           184,
           171
          ],
          "sizemode": "area",
          "sizeref": 3.1025,
          "symbol": "square"
         },
         "mode": "markers",
         "name": "hip hop, MadeinTYO",
         "scene": "scene",
         "showlegend": true,
         "type": "scatter3d",
         "x": [
          43,
          42,
          37
         ],
         "y": [
          80,
          78,
          74
         ],
         "z": [
          "hip hop",
          "hip hop",
          "hip hop"
         ]
        },
        {
         "hovertemplate": "top genre=%{z}<br>artist=MESSIAH!<br>pop=%{x}<br>dnce=%{y}<br>dur=%{marker.size}<extra></extra>",
         "legendgroup": "hip hop, MESSIAH!",
         "marker": {
          "color": "#636efa",
          "size": [
           180
          ],
          "sizemode": "area",
          "sizeref": 3.1025,
          "symbol": "diamond"
         },
         "mode": "markers",
         "name": "hip hop, MESSIAH!",
         "scene": "scene",
         "showlegend": true,
         "type": "scatter3d",
         "x": [
          42
         ],
         "y": [
          53
         ],
         "z": [
          "hip hop"
         ]
        },
        {
         "hovertemplate": "top genre=%{z}<br>artist=Wynne<br>pop=%{x}<br>dnce=%{y}<br>dur=%{marker.size}<extra></extra>",
         "legendgroup": "hip hop, Wynne",
         "marker": {
          "color": "#636efa",
          "size": [
           219
          ],
          "sizemode": "area",
          "sizeref": 3.1025,
          "symbol": "x"
         },
         "mode": "markers",
         "name": "hip hop, Wynne",
         "scene": "scene",
         "showlegend": true,
         "type": "scatter3d",
         "x": [
          42
         ],
         "y": [
          61
         ],
         "z": [
          "hip hop"
         ]
        },
        {
         "hovertemplate": "top genre=%{z}<br>artist=Van Buren Records<br>pop=%{x}<br>dnce=%{y}<br>dur=%{marker.size}<extra></extra>",
         "legendgroup": "hip hop, Van Buren Records",
         "marker": {
          "color": "#636efa",
          "size": [
           228
          ],
          "sizemode": "area",
          "sizeref": 3.1025,
          "symbol": "x"
         },
         "mode": "markers",
         "name": "hip hop, Van Buren Records",
         "scene": "scene",
         "showlegend": true,
         "type": "scatter3d",
         "x": [
          41
         ],
         "y": [
          76
         ],
         "z": [
          "hip hop"
         ]
        },
        {
         "hovertemplate": "top genre=%{z}<br>artist=Jarren Benton<br>pop=%{x}<br>dnce=%{y}<br>dur=%{marker.size}<extra></extra>",
         "legendgroup": "hip hop, Jarren Benton",
         "marker": {
          "color": "#636efa",
          "size": [
           194
          ],
          "sizemode": "area",
          "sizeref": 3.1025,
          "symbol": "cross"
         },
         "mode": "markers",
         "name": "hip hop, Jarren Benton",
         "scene": "scene",
         "showlegend": true,
         "type": "scatter3d",
         "x": [
          41
         ],
         "y": [
          72
         ],
         "z": [
          "hip hop"
         ]
        },
        {
         "hovertemplate": "top genre=%{z}<br>artist=C3llyPizzaz<br>pop=%{x}<br>dnce=%{y}<br>dur=%{marker.size}<extra></extra>",
         "legendgroup": "hip hop, C3llyPizzaz",
         "marker": {
          "color": "#636efa",
          "size": [
           178
          ],
          "sizemode": "area",
          "sizeref": 3.1025,
          "symbol": "circle"
         },
         "mode": "markers",
         "name": "hip hop, C3llyPizzaz",
         "scene": "scene",
         "showlegend": true,
         "type": "scatter3d",
         "x": [
          41
         ],
         "y": [
          35
         ],
         "z": [
          "hip hop"
         ]
        },
        {
         "hovertemplate": "top genre=%{z}<br>artist=N.E.R.D<br>pop=%{x}<br>dnce=%{y}<br>dur=%{marker.size}<extra></extra>",
         "legendgroup": "hip hop, N.E.R.D",
         "marker": {
          "color": "#636efa",
          "size": [
           214
          ],
          "sizemode": "area",
          "sizeref": 3.1025,
          "symbol": "square"
         },
         "mode": "markers",
         "name": "hip hop, N.E.R.D",
         "scene": "scene",
         "showlegend": true,
         "type": "scatter3d",
         "x": [
          41
         ],
         "y": [
          76
         ],
         "z": [
          "hip hop"
         ]
        },
        {
         "hovertemplate": "top genre=%{z}<br>artist=Baloji<br>pop=%{x}<br>dnce=%{y}<br>dur=%{marker.size}<extra></extra>",
         "legendgroup": "hip hop, Baloji",
         "marker": {
          "color": "#636efa",
          "size": [
           208
          ],
          "sizemode": "area",
          "sizeref": 3.1025,
          "symbol": "circle"
         },
         "mode": "markers",
         "name": "hip hop, Baloji",
         "scene": "scene",
         "showlegend": true,
         "type": "scatter3d",
         "x": [
          40
         ],
         "y": [
          74
         ],
         "z": [
          "hip hop"
         ]
        },
        {
         "hovertemplate": "top genre=%{z}<br>artist=Bas<br>pop=%{x}<br>dnce=%{y}<br>dur=%{marker.size}<extra></extra>",
         "legendgroup": "hip hop, Bas",
         "marker": {
          "color": "#636efa",
          "size": [
           239
          ],
          "sizemode": "area",
          "sizeref": 3.1025,
          "symbol": "square"
         },
         "mode": "markers",
         "name": "hip hop, Bas",
         "scene": "scene",
         "showlegend": true,
         "type": "scatter3d",
         "x": [
          40
         ],
         "y": [
          76
         ],
         "z": [
          "hip hop"
         ]
        },
        {
         "hovertemplate": "top genre=%{z}<br>artist=ChocQuibTown<br>pop=%{x}<br>dnce=%{y}<br>dur=%{marker.size}<extra></extra>",
         "legendgroup": "hip hop, ChocQuibTown",
         "marker": {
          "color": "#636efa",
          "size": [
           230,
           214
          ],
          "sizemode": "area",
          "sizeref": 3.1025,
          "symbol": "cross"
         },
         "mode": "markers",
         "name": "hip hop, ChocQuibTown",
         "scene": "scene",
         "showlegend": true,
         "type": "scatter3d",
         "x": [
          39,
          21
         ],
         "y": [
          76,
          92
         ],
         "z": [
          "hip hop",
          "hip hop"
         ]
        },
        {
         "hovertemplate": "top genre=%{z}<br>artist=Earl Sweatshirt<br>pop=%{x}<br>dnce=%{y}<br>dur=%{marker.size}<extra></extra>",
         "legendgroup": "hip hop, Earl Sweatshirt",
         "marker": {
          "color": "#636efa",
          "size": [
           119
          ],
          "sizemode": "area",
          "sizeref": 3.1025,
          "symbol": "cross"
         },
         "mode": "markers",
         "name": "hip hop, Earl Sweatshirt",
         "scene": "scene",
         "showlegend": true,
         "type": "scatter3d",
         "x": [
          39
         ],
         "y": [
          51
         ],
         "z": [
          "hip hop"
         ]
        },
        {
         "hovertemplate": "top genre=%{z}<br>artist=redveil<br>pop=%{x}<br>dnce=%{y}<br>dur=%{marker.size}<extra></extra>",
         "legendgroup": "hip hop, redveil",
         "marker": {
          "color": "#636efa",
          "size": [
           149
          ],
          "sizemode": "area",
          "sizeref": 3.1025,
          "symbol": "circle"
         },
         "mode": "markers",
         "name": "hip hop, redveil",
         "scene": "scene",
         "showlegend": true,
         "type": "scatter3d",
         "x": [
          39
         ],
         "y": [
          22
         ],
         "z": [
          "hip hop"
         ]
        },
        {
         "hovertemplate": "top genre=%{z}<br>artist=Declaime<br>pop=%{x}<br>dnce=%{y}<br>dur=%{marker.size}<extra></extra>",
         "legendgroup": "hip hop, Declaime",
         "marker": {
          "color": "#636efa",
          "size": [
           289
          ],
          "sizemode": "area",
          "sizeref": 3.1025,
          "symbol": "x"
         },
         "mode": "markers",
         "name": "hip hop, Declaime",
         "scene": "scene",
         "showlegend": true,
         "type": "scatter3d",
         "x": [
          39
         ],
         "y": [
          33
         ],
         "z": [
          "hip hop"
         ]
        },
        {
         "hovertemplate": "top genre=%{z}<br>artist=Young Fathers<br>pop=%{x}<br>dnce=%{y}<br>dur=%{marker.size}<extra></extra>",
         "legendgroup": "hip hop, Young Fathers",
         "marker": {
          "color": "#636efa",
          "size": [
           241
          ],
          "sizemode": "area",
          "sizeref": 3.1025,
          "symbol": "cross"
         },
         "mode": "markers",
         "name": "hip hop, Young Fathers",
         "scene": "scene",
         "showlegend": true,
         "type": "scatter3d",
         "x": [
          37
         ],
         "y": [
          58
         ],
         "z": [
          "hip hop"
         ]
        },
        {
         "hovertemplate": "top genre=%{z}<br>artist=Seafood Sam<br>pop=%{x}<br>dnce=%{y}<br>dur=%{marker.size}<extra></extra>",
         "legendgroup": "hip hop, Seafood Sam",
         "marker": {
          "color": "#636efa",
          "size": [
           145
          ],
          "sizemode": "area",
          "sizeref": 3.1025,
          "symbol": "x"
         },
         "mode": "markers",
         "name": "hip hop, Seafood Sam",
         "scene": "scene",
         "showlegend": true,
         "type": "scatter3d",
         "x": [
          37
         ],
         "y": [
          54
         ],
         "z": [
          "hip hop"
         ]
        },
        {
         "hovertemplate": "top genre=%{z}<br>artist=PRhyme<br>pop=%{x}<br>dnce=%{y}<br>dur=%{marker.size}<extra></extra>",
         "legendgroup": "hip hop, PRhyme",
         "marker": {
          "color": "#636efa",
          "size": [
           428
          ],
          "sizemode": "area",
          "sizeref": 3.1025,
          "symbol": "diamond"
         },
         "mode": "markers",
         "name": "hip hop, PRhyme",
         "scene": "scene",
         "showlegend": true,
         "type": "scatter3d",
         "x": [
          37
         ],
         "y": [
          47
         ],
         "z": [
          "hip hop"
         ]
        },
        {
         "hovertemplate": "top genre=%{z}<br>artist=Basim<br>pop=%{x}<br>dnce=%{y}<br>dur=%{marker.size}<extra></extra>",
         "legendgroup": "hip hop, Basim",
         "marker": {
          "color": "#636efa",
          "size": [
           181
          ],
          "sizemode": "area",
          "sizeref": 3.1025,
          "symbol": "x"
         },
         "mode": "markers",
         "name": "hip hop, Basim",
         "scene": "scene",
         "showlegend": true,
         "type": "scatter3d",
         "x": [
          36
         ],
         "y": [
          78
         ],
         "z": [
          "hip hop"
         ]
        },
        {
         "hovertemplate": "top genre=%{z}<br>artist=SAINT LYOR<br>pop=%{x}<br>dnce=%{y}<br>dur=%{marker.size}<extra></extra>",
         "legendgroup": "hip hop, SAINT LYOR",
         "marker": {
          "color": "#636efa",
          "size": [
           179
          ],
          "sizemode": "area",
          "sizeref": 3.1025,
          "symbol": "cross"
         },
         "mode": "markers",
         "name": "hip hop, SAINT LYOR",
         "scene": "scene",
         "showlegend": true,
         "type": "scatter3d",
         "x": [
          36
         ],
         "y": [
          91
         ],
         "z": [
          "hip hop"
         ]
        },
        {
         "hovertemplate": "top genre=%{z}<br>artist=Dabrye<br>pop=%{x}<br>dnce=%{y}<br>dur=%{marker.size}<extra></extra>",
         "legendgroup": "hip hop, Dabrye",
         "marker": {
          "color": "#636efa",
          "size": [
           211
          ],
          "sizemode": "area",
          "sizeref": 3.1025,
          "symbol": "circle"
         },
         "mode": "markers",
         "name": "hip hop, Dabrye",
         "scene": "scene",
         "showlegend": true,
         "type": "scatter3d",
         "x": [
          36
         ],
         "y": [
          45
         ],
         "z": [
          "hip hop"
         ]
        },
        {
         "hovertemplate": "top genre=%{z}<br>artist=Working On Dying<br>pop=%{x}<br>dnce=%{y}<br>dur=%{marker.size}<extra></extra>",
         "legendgroup": "hip hop, Working On Dying",
         "marker": {
          "color": "#636efa",
          "size": [
           118
          ],
          "sizemode": "area",
          "sizeref": 3.1025,
          "symbol": "x"
         },
         "mode": "markers",
         "name": "hip hop, Working On Dying",
         "scene": "scene",
         "showlegend": true,
         "type": "scatter3d",
         "x": [
          35
         ],
         "y": [
          82
         ],
         "z": [
          "hip hop"
         ]
        },
        {
         "hovertemplate": "top genre=%{z}<br>artist=Michael Christmas<br>pop=%{x}<br>dnce=%{y}<br>dur=%{marker.size}<extra></extra>",
         "legendgroup": "hip hop, Michael Christmas",
         "marker": {
          "color": "#636efa",
          "size": [
           150
          ],
          "sizemode": "area",
          "sizeref": 3.1025,
          "symbol": "circle"
         },
         "mode": "markers",
         "name": "hip hop, Michael Christmas",
         "scene": "scene",
         "showlegend": true,
         "type": "scatter3d",
         "x": [
          35
         ],
         "y": [
          65
         ],
         "z": [
          "hip hop"
         ]
        },
        {
         "hovertemplate": "top genre=%{z}<br>artist=BADBADNOTGOOD<br>pop=%{x}<br>dnce=%{y}<br>dur=%{marker.size}<extra></extra>",
         "legendgroup": "hip hop, BADBADNOTGOOD",
         "marker": {
          "color": "#636efa",
          "size": [
           196
          ],
          "sizemode": "area",
          "sizeref": 3.1025,
          "symbol": "x"
         },
         "mode": "markers",
         "name": "hip hop, BADBADNOTGOOD",
         "scene": "scene",
         "showlegend": true,
         "type": "scatter3d",
         "x": [
          34
         ],
         "y": [
          46
         ],
         "z": [
          "hip hop"
         ]
        },
        {
         "hovertemplate": "top genre=%{z}<br>artist=Kipp Stone<br>pop=%{x}<br>dnce=%{y}<br>dur=%{marker.size}<extra></extra>",
         "legendgroup": "hip hop, Kipp Stone",
         "marker": {
          "color": "#636efa",
          "size": [
           258
          ],
          "sizemode": "area",
          "sizeref": 3.1025,
          "symbol": "circle"
         },
         "mode": "markers",
         "name": "hip hop, Kipp Stone",
         "scene": "scene",
         "showlegend": true,
         "type": "scatter3d",
         "x": [
          33
         ],
         "y": [
          74
         ],
         "z": [
          "hip hop"
         ]
        },
        {
         "hovertemplate": "top genre=%{z}<br>artist=Madlib<br>pop=%{x}<br>dnce=%{y}<br>dur=%{marker.size}<extra></extra>",
         "legendgroup": "hip hop, Madlib",
         "marker": {
          "color": "#636efa",
          "size": [
           94
          ],
          "sizemode": "area",
          "sizeref": 3.1025,
          "symbol": "diamond"
         },
         "mode": "markers",
         "name": "hip hop, Madlib",
         "scene": "scene",
         "showlegend": true,
         "type": "scatter3d",
         "x": [
          33
         ],
         "y": [
          21
         ],
         "z": [
          "hip hop"
         ]
        },
        {
         "hovertemplate": "top genre=%{z}<br>artist=Freddie Gibbs<br>pop=%{x}<br>dnce=%{y}<br>dur=%{marker.size}<extra></extra>",
         "legendgroup": "hip hop, Freddie Gibbs",
         "marker": {
          "color": "#636efa",
          "size": [
           104
          ],
          "sizemode": "area",
          "sizeref": 3.1025,
          "symbol": "diamond"
         },
         "mode": "markers",
         "name": "hip hop, Freddie Gibbs",
         "scene": "scene",
         "showlegend": true,
         "type": "scatter3d",
         "x": [
          31
         ],
         "y": [
          74
         ],
         "z": [
          "hip hop"
         ]
        },
        {
         "hovertemplate": "top genre=%{z}<br>artist=Fashawn<br>pop=%{x}<br>dnce=%{y}<br>dur=%{marker.size}<extra></extra>",
         "legendgroup": "hip hop, Fashawn",
         "marker": {
          "color": "#636efa",
          "size": [
           192
          ],
          "sizemode": "area",
          "sizeref": 3.1025,
          "symbol": "diamond"
         },
         "mode": "markers",
         "name": "hip hop, Fashawn",
         "scene": "scene",
         "showlegend": true,
         "type": "scatter3d",
         "x": [
          29
         ],
         "y": [
          84
         ],
         "z": [
          "hip hop"
         ]
        },
        {
         "hovertemplate": "top genre=%{z}<br>artist=Chef BRD<br>pop=%{x}<br>dnce=%{y}<br>dur=%{marker.size}<extra></extra>",
         "legendgroup": "hip hop, Chef BRD",
         "marker": {
          "color": "#636efa",
          "size": [
           146
          ],
          "sizemode": "area",
          "sizeref": 3.1025,
          "symbol": "x"
         },
         "mode": "markers",
         "name": "hip hop, Chef BRD",
         "scene": "scene",
         "showlegend": true,
         "type": "scatter3d",
         "x": [
          28
         ],
         "y": [
          78
         ],
         "z": [
          "hip hop"
         ]
        },
        {
         "hovertemplate": "top genre=%{z}<br>artist=Uno Hype<br>pop=%{x}<br>dnce=%{y}<br>dur=%{marker.size}<extra></extra>",
         "legendgroup": "hip hop, Uno Hype",
         "marker": {
          "color": "#636efa",
          "size": [
           238
          ],
          "sizemode": "area",
          "sizeref": 3.1025,
          "symbol": "cross"
         },
         "mode": "markers",
         "name": "hip hop, Uno Hype",
         "scene": "scene",
         "showlegend": true,
         "type": "scatter3d",
         "x": [
          28
         ],
         "y": [
          72
         ],
         "z": [
          "hip hop"
         ]
        },
        {
         "hovertemplate": "top genre=%{z}<br>artist=CJ Fly<br>pop=%{x}<br>dnce=%{y}<br>dur=%{marker.size}<extra></extra>",
         "legendgroup": "hip hop, CJ Fly",
         "marker": {
          "color": "#636efa",
          "size": [
           183
          ],
          "sizemode": "area",
          "sizeref": 3.1025,
          "symbol": "circle"
         },
         "mode": "markers",
         "name": "hip hop, CJ Fly",
         "scene": "scene",
         "showlegend": true,
         "type": "scatter3d",
         "x": [
          24
         ],
         "y": [
          81
         ],
         "z": [
          "hip hop"
         ]
        },
        {
         "hovertemplate": "top genre=%{z}<br>artist=K-OS<br>pop=%{x}<br>dnce=%{y}<br>dur=%{marker.size}<extra></extra>",
         "legendgroup": "hip hop, K-OS",
         "marker": {
          "color": "#636efa",
          "size": [
           288
          ],
          "sizemode": "area",
          "sizeref": 3.1025,
          "symbol": "diamond"
         },
         "mode": "markers",
         "name": "hip hop, K-OS",
         "scene": "scene",
         "showlegend": true,
         "type": "scatter3d",
         "x": [
          23
         ],
         "y": [
          43
         ],
         "z": [
          "hip hop"
         ]
        },
        {
         "hovertemplate": "top genre=%{z}<br>artist=Kenna<br>pop=%{x}<br>dnce=%{y}<br>dur=%{marker.size}<extra></extra>",
         "legendgroup": "hip hop, Kenna",
         "marker": {
          "color": "#636efa",
          "size": [
           242
          ],
          "sizemode": "area",
          "sizeref": 3.1025,
          "symbol": "cross"
         },
         "mode": "markers",
         "name": "hip hop, Kenna",
         "scene": "scene",
         "showlegend": true,
         "type": "scatter3d",
         "x": [
          20
         ],
         "y": [
          70
         ],
         "z": [
          "hip hop"
         ]
        },
        {
         "hovertemplate": "top genre=%{z}<br>artist=CKay<br>pop=%{x}<br>dnce=%{y}<br>dur=%{marker.size}<extra></extra>",
         "legendgroup": "r&b, CKay",
         "marker": {
          "color": "#EF553B",
          "size": [
           146,
           188
          ],
          "sizemode": "area",
          "sizeref": 3.1025,
          "symbol": "square"
         },
         "mode": "markers",
         "name": "r&b, CKay",
         "scene": "scene",
         "showlegend": true,
         "type": "scatter3d",
         "x": [
          95,
          94
         ],
         "y": [
          73,
          58
         ],
         "z": [
          "r&b",
          "r&b"
         ]
        },
        {
         "hovertemplate": "top genre=%{z}<br>artist=The Weeknd<br>pop=%{x}<br>dnce=%{y}<br>dur=%{marker.size}<extra></extra>",
         "legendgroup": "r&b, The Weeknd",
         "marker": {
          "color": "#EF553B",
          "size": [
           200,
           242,
           230,
           260,
           219,
           236,
           249,
           269,
           231,
           211,
           238,
           233,
           198,
           321,
           206,
           257,
           266,
           220,
           222,
           199,
           220,
           223
          ],
          "sizemode": "area",
          "sizeref": 3.1025,
          "symbol": "cross"
         },
         "mode": "markers",
         "name": "r&b, The Weeknd",
         "scene": "scene",
         "showlegend": true,
         "type": "scatter3d",
         "x": [
          92,
          85,
          84,
          75,
          73,
          72,
          72,
          72,
          70,
          69,
          68,
          67,
          65,
          65,
          56,
          56,
          53,
          51,
          50,
          50,
          49,
          47
         ],
         "y": [
          51,
          59,
          68,
          59,
          71,
          51,
          57,
          77,
          54,
          74,
          77,
          74,
          67,
          47,
          62,
          61,
          67,
          52,
          54,
          60,
          85,
          71
         ],
         "z": [
          "r&b",
          "r&b",
          "r&b",
          "r&b",
          "r&b",
          "r&b",
          "r&b",
          "r&b",
          "r&b",
          "r&b",
          "r&b",
          "r&b",
          "r&b",
          "r&b",
          "r&b",
          "r&b",
          "r&b",
          "r&b",
          "r&b",
          "r&b",
          "r&b",
          "r&b"
         ]
        },
        {
         "hovertemplate": "top genre=%{z}<br>artist=Joji<br>pop=%{x}<br>dnce=%{y}<br>dur=%{marker.size}<extra></extra>",
         "legendgroup": "r&b, Joji",
         "marker": {
          "color": "#EF553B",
          "size": [
           126,
           195,
           202
          ],
          "sizemode": "area",
          "sizeref": 3.1025,
          "symbol": "x"
         },
         "mode": "markers",
         "name": "r&b, Joji",
         "scene": "scene",
         "showlegend": true,
         "type": "scatter3d",
         "x": [
          79,
          55,
          53
         ],
         "y": [
          58,
          45,
          62
         ],
         "z": [
          "r&b",
          "r&b",
          "r&b"
         ]
        },
        {
         "hovertemplate": "top genre=%{z}<br>artist=Frank Ocean<br>pop=%{x}<br>dnce=%{y}<br>dur=%{marker.size}<extra></extra>",
         "legendgroup": "r&b, Frank Ocean",
         "marker": {
          "color": "#EF553B",
          "size": [
           307
          ],
          "sizemode": "area",
          "sizeref": 3.1025,
          "symbol": "square"
         },
         "mode": "markers",
         "name": "r&b, Frank Ocean",
         "scene": "scene",
         "showlegend": true,
         "type": "scatter3d",
         "x": [
          78
         ],
         "y": [
          47
         ],
         "z": [
          "r&b"
         ]
        },
        {
         "hovertemplate": "top genre=%{z}<br>artist=ABRA<br>pop=%{x}<br>dnce=%{y}<br>dur=%{marker.size}<extra></extra>",
         "legendgroup": "r&b, ABRA",
         "marker": {
          "color": "#EF553B",
          "size": [
           144
          ],
          "sizemode": "area",
          "sizeref": 3.1025,
          "symbol": "x"
         },
         "mode": "markers",
         "name": "r&b, ABRA",
         "scene": "scene",
         "showlegend": true,
         "type": "scatter3d",
         "x": [
          64
         ],
         "y": [
          73
         ],
         "z": [
          "r&b"
         ]
        },
        {
         "hovertemplate": "top genre=%{z}<br>artist=Saba<br>pop=%{x}<br>dnce=%{y}<br>dur=%{marker.size}<extra></extra>",
         "legendgroup": "r&b, Saba",
         "marker": {
          "color": "#EF553B",
          "size": [
           163
          ],
          "sizemode": "area",
          "sizeref": 3.1025,
          "symbol": "diamond"
         },
         "mode": "markers",
         "name": "r&b, Saba",
         "scene": "scene",
         "showlegend": true,
         "type": "scatter3d",
         "x": [
          59
         ],
         "y": [
          90
         ],
         "z": [
          "r&b"
         ]
        },
        {
         "hovertemplate": "top genre=%{z}<br>artist=RIZ LA VIE<br>pop=%{x}<br>dnce=%{y}<br>dur=%{marker.size}<extra></extra>",
         "legendgroup": "r&b, RIZ LA VIE",
         "marker": {
          "color": "#EF553B",
          "size": [
           216
          ],
          "sizemode": "area",
          "sizeref": 3.1025,
          "symbol": "circle"
         },
         "mode": "markers",
         "name": "r&b, RIZ LA VIE",
         "scene": "scene",
         "showlegend": true,
         "type": "scatter3d",
         "x": [
          57
         ],
         "y": [
          76
         ],
         "z": [
          "r&b"
         ]
        },
        {
         "hovertemplate": "top genre=%{z}<br>artist=Mk.gee<br>pop=%{x}<br>dnce=%{y}<br>dur=%{marker.size}<extra></extra>",
         "legendgroup": "r&b, Mk.gee",
         "marker": {
          "color": "#EF553B",
          "size": [
           229
          ],
          "sizemode": "area",
          "sizeref": 3.1025,
          "symbol": "cross"
         },
         "mode": "markers",
         "name": "r&b, Mk.gee",
         "scene": "scene",
         "showlegend": true,
         "type": "scatter3d",
         "x": [
          52
         ],
         "y": [
          73
         ],
         "z": [
          "r&b"
         ]
        },
        {
         "hovertemplate": "top genre=%{z}<br>artist=Wesley Joseph<br>pop=%{x}<br>dnce=%{y}<br>dur=%{marker.size}<extra></extra>",
         "legendgroup": "r&b, Wesley Joseph",
         "marker": {
          "color": "#EF553B",
          "size": [
           291
          ],
          "sizemode": "area",
          "sizeref": 3.1025,
          "symbol": "diamond"
         },
         "mode": "markers",
         "name": "r&b, Wesley Joseph",
         "scene": "scene",
         "showlegend": true,
         "type": "scatter3d",
         "x": [
          49
         ],
         "y": [
          66
         ],
         "z": [
          "r&b"
         ]
        },
        {
         "hovertemplate": "top genre=%{z}<br>artist=BJ The Chicago Kid<br>pop=%{x}<br>dnce=%{y}<br>dur=%{marker.size}<extra></extra>",
         "legendgroup": "r&b, BJ The Chicago Kid",
         "marker": {
          "color": "#EF553B",
          "size": [
           329
          ],
          "sizemode": "area",
          "sizeref": 3.1025,
          "symbol": "cross"
         },
         "mode": "markers",
         "name": "r&b, BJ The Chicago Kid",
         "scene": "scene",
         "showlegend": true,
         "type": "scatter3d",
         "x": [
          48
         ],
         "y": [
          45
         ],
         "z": [
          "r&b"
         ]
        },
        {
         "hovertemplate": "top genre=%{z}<br>artist=TOBi<br>pop=%{x}<br>dnce=%{y}<br>dur=%{marker.size}<extra></extra>",
         "legendgroup": "r&b, TOBi",
         "marker": {
          "color": "#EF553B",
          "size": [
           209
          ],
          "sizemode": "area",
          "sizeref": 3.1025,
          "symbol": "cross"
         },
         "mode": "markers",
         "name": "r&b, TOBi",
         "scene": "scene",
         "showlegend": true,
         "type": "scatter3d",
         "x": [
          47
         ],
         "y": [
          70
         ],
         "z": [
          "r&b"
         ]
        },
        {
         "hovertemplate": "top genre=%{z}<br>artist=Jacob Banks<br>pop=%{x}<br>dnce=%{y}<br>dur=%{marker.size}<extra></extra>",
         "legendgroup": "r&b, Jacob Banks",
         "marker": {
          "color": "#EF553B",
          "size": [
           173,
           189
          ],
          "sizemode": "area",
          "sizeref": 3.1025,
          "symbol": "cross"
         },
         "mode": "markers",
         "name": "r&b, Jacob Banks",
         "scene": "scene",
         "showlegend": true,
         "type": "scatter3d",
         "x": [
          45,
          36
         ],
         "y": [
          51,
          57
         ],
         "z": [
          "r&b",
          "r&b"
         ]
        },
        {
         "hovertemplate": "top genre=%{z}<br>artist=Zak Abel<br>pop=%{x}<br>dnce=%{y}<br>dur=%{marker.size}<extra></extra>",
         "legendgroup": "r&b, Zak Abel",
         "marker": {
          "color": "#EF553B",
          "size": [
           192
          ],
          "sizemode": "area",
          "sizeref": 3.1025,
          "symbol": "square"
         },
         "mode": "markers",
         "name": "r&b, Zak Abel",
         "scene": "scene",
         "showlegend": true,
         "type": "scatter3d",
         "x": [
          42
         ],
         "y": [
          68
         ],
         "z": [
          "r&b"
         ]
        },
        {
         "hovertemplate": "top genre=%{z}<br>artist=Jelani Aryeh<br>pop=%{x}<br>dnce=%{y}<br>dur=%{marker.size}<extra></extra>",
         "legendgroup": "r&b, Jelani Aryeh",
         "marker": {
          "color": "#EF553B",
          "size": [
           279
          ],
          "sizemode": "area",
          "sizeref": 3.1025,
          "symbol": "cross"
         },
         "mode": "markers",
         "name": "r&b, Jelani Aryeh",
         "scene": "scene",
         "showlegend": true,
         "type": "scatter3d",
         "x": [
          42
         ],
         "y": [
          55
         ],
         "z": [
          "r&b"
         ]
        },
        {
         "hovertemplate": "top genre=%{z}<br>artist=Janice<br>pop=%{x}<br>dnce=%{y}<br>dur=%{marker.size}<extra></extra>",
         "legendgroup": "r&b, Janice",
         "marker": {
          "color": "#EF553B",
          "size": [
           167
          ],
          "sizemode": "area",
          "sizeref": 3.1025,
          "symbol": "circle"
         },
         "mode": "markers",
         "name": "r&b, Janice",
         "scene": "scene",
         "showlegend": true,
         "type": "scatter3d",
         "x": [
          42
         ],
         "y": [
          73
         ],
         "z": [
          "r&b"
         ]
        },
        {
         "hovertemplate": "top genre=%{z}<br>artist=RealLiveAnimals<br>pop=%{x}<br>dnce=%{y}<br>dur=%{marker.size}<extra></extra>",
         "legendgroup": "r&b, RealLiveAnimals",
         "marker": {
          "color": "#EF553B",
          "size": [
           202
          ],
          "sizemode": "area",
          "sizeref": 3.1025,
          "symbol": "circle"
         },
         "mode": "markers",
         "name": "r&b, RealLiveAnimals",
         "scene": "scene",
         "showlegend": true,
         "type": "scatter3d",
         "x": [
          40
         ],
         "y": [
          81
         ],
         "z": [
          "r&b"
         ]
        },
        {
         "hovertemplate": "top genre=%{z}<br>artist=Marie Dahlstrom<br>pop=%{x}<br>dnce=%{y}<br>dur=%{marker.size}<extra></extra>",
         "legendgroup": "r&b, Marie Dahlstrom",
         "marker": {
          "color": "#EF553B",
          "size": [
           163
          ],
          "sizemode": "area",
          "sizeref": 3.1025,
          "symbol": "diamond"
         },
         "mode": "markers",
         "name": "r&b, Marie Dahlstrom",
         "scene": "scene",
         "showlegend": true,
         "type": "scatter3d",
         "x": [
          30
         ],
         "y": [
          56
         ],
         "z": [
          "r&b"
         ]
        },
        {
         "hovertemplate": "top genre=%{z}<br>artist=TWENTY88<br>pop=%{x}<br>dnce=%{y}<br>dur=%{marker.size}<extra></extra>",
         "legendgroup": "r&b, TWENTY88",
         "marker": {
          "color": "#EF553B",
          "size": [
           177
          ],
          "sizemode": "area",
          "sizeref": 3.1025,
          "symbol": "circle"
         },
         "mode": "markers",
         "name": "r&b, TWENTY88",
         "scene": "scene",
         "showlegend": true,
         "type": "scatter3d",
         "x": [
          17
         ],
         "y": [
          54
         ],
         "z": [
          "r&b"
         ]
        },
        {
         "hovertemplate": "top genre=%{z}<br>artist=Måneskin<br>pop=%{x}<br>dnce=%{y}<br>dur=%{marker.size}<extra></extra>",
         "legendgroup": "rock, Måneskin",
         "marker": {
          "color": "#00cc96",
          "size": [
           212
          ],
          "sizemode": "area",
          "sizeref": 3.1025,
          "symbol": "x"
         },
         "mode": "markers",
         "name": "rock, Måneskin",
         "scene": "scene",
         "showlegend": true,
         "type": "scatter3d",
         "x": [
          95
         ],
         "y": [
          71
         ],
         "z": [
          "rock"
         ]
        },
        {
         "hovertemplate": "top genre=%{z}<br>artist=BØRNS<br>pop=%{x}<br>dnce=%{y}<br>dur=%{marker.size}<extra></extra>",
         "legendgroup": "rock, BØRNS",
         "marker": {
          "color": "#00cc96",
          "size": [
           218,
           215
          ],
          "sizemode": "area",
          "sizeref": 3.1025,
          "symbol": "cross"
         },
         "mode": "markers",
         "name": "rock, BØRNS",
         "scene": "scene",
         "showlegend": true,
         "type": "scatter3d",
         "x": [
          84,
          35
         ],
         "y": [
          61,
          51
         ],
         "z": [
          "rock",
          "rock"
         ]
        },
        {
         "hovertemplate": "top genre=%{z}<br>artist=Nirvana<br>pop=%{x}<br>dnce=%{y}<br>dur=%{marker.size}<extra></extra>",
         "legendgroup": "rock, Nirvana",
         "marker": {
          "color": "#00cc96",
          "size": [
           302
          ],
          "sizemode": "area",
          "sizeref": 3.1025,
          "symbol": "square"
         },
         "mode": "markers",
         "name": "rock, Nirvana",
         "scene": "scene",
         "showlegend": true,
         "type": "scatter3d",
         "x": [
          83
         ],
         "y": [
          50
         ],
         "z": [
          "rock"
         ]
        },
        {
         "hovertemplate": "top genre=%{z}<br>artist=The Killers<br>pop=%{x}<br>dnce=%{y}<br>dur=%{marker.size}<extra></extra>",
         "legendgroup": "rock, The Killers",
         "marker": {
          "color": "#00cc96",
          "size": [
           223,
           220,
           197,
           245,
           222,
           222,
           285,
           197,
           234,
           278,
           192,
           278,
           255,
           214,
           259,
           411,
           243,
           305,
           148,
           245,
           250,
           215,
           274
          ],
          "sizemode": "area",
          "sizeref": 3.1025,
          "symbol": "x"
         },
         "mode": "markers",
         "name": "rock, The Killers",
         "scene": "scene",
         "showlegend": true,
         "type": "scatter3d",
         "x": [
          83,
          76,
          75,
          74,
          67,
          62,
          62,
          61,
          61,
          53,
          52,
          51,
          50,
          43,
          42,
          41,
          41,
          40,
          37,
          37,
          34,
          33,
          32
         ],
         "y": [
          35,
          47,
          50,
          56,
          36,
          47,
          53,
          50,
          35,
          25,
          35,
          60,
          33,
          69,
          59,
          41,
          39,
          42,
          50,
          59,
          44,
          52,
          48
         ],
         "z": [
          "rock",
          "rock",
          "rock",
          "rock",
          "rock",
          "rock",
          "rock",
          "rock",
          "rock",
          "rock",
          "rock",
          "rock",
          "rock",
          "rock",
          "rock",
          "rock",
          "rock",
          "rock",
          "rock",
          "rock",
          "rock",
          "rock",
          "rock"
         ]
        },
        {
         "hovertemplate": "top genre=%{z}<br>artist=Radiohead<br>pop=%{x}<br>dnce=%{y}<br>dur=%{marker.size}<extra></extra>",
         "legendgroup": "rock, Radiohead",
         "marker": {
          "color": "#00cc96",
          "size": [
           239
          ],
          "sizemode": "area",
          "sizeref": 3.1025,
          "symbol": "square"
         },
         "mode": "markers",
         "name": "rock, Radiohead",
         "scene": "scene",
         "showlegend": true,
         "type": "scatter3d",
         "x": [
          83
         ],
         "y": [
          52
         ],
         "z": [
          "rock"
         ]
        },
        {
         "hovertemplate": "top genre=%{z}<br>artist=The White Stripes<br>pop=%{x}<br>dnce=%{y}<br>dur=%{marker.size}<extra></extra>",
         "legendgroup": "rock, The White Stripes",
         "marker": {
          "color": "#00cc96",
          "size": [
           232,
           257
          ],
          "sizemode": "area",
          "sizeref": 3.1025,
          "symbol": "x"
         },
         "mode": "markers",
         "name": "rock, The White Stripes",
         "scene": "scene",
         "showlegend": true,
         "type": "scatter3d",
         "x": [
          83,
          66
         ],
         "y": [
          74,
          70
         ],
         "z": [
          "rock",
          "rock"
         ]
        },
        {
         "hovertemplate": "top genre=%{z}<br>artist=George Michael<br>pop=%{x}<br>dnce=%{y}<br>dur=%{marker.size}<extra></extra>",
         "legendgroup": "rock, George Michael",
         "marker": {
          "color": "#00cc96",
          "size": [
           300
          ],
          "sizemode": "area",
          "sizeref": 3.1025,
          "symbol": "cross"
         },
         "mode": "markers",
         "name": "rock, George Michael",
         "scene": "scene",
         "showlegend": true,
         "type": "scatter3d",
         "x": [
          83
         ],
         "y": [
          57
         ],
         "z": [
          "rock"
         ]
        },
        {
         "hovertemplate": "top genre=%{z}<br>artist=Queen<br>pop=%{x}<br>dnce=%{y}<br>dur=%{marker.size}<extra></extra>",
         "legendgroup": "rock, Queen",
         "marker": {
          "color": "#00cc96",
          "size": [
           354,
           215,
           209,
           122,
           179
          ],
          "sizemode": "area",
          "sizeref": 3.1025,
          "symbol": "circle"
         },
         "mode": "markers",
         "name": "rock, Queen",
         "scene": "scene",
         "showlegend": true,
         "type": "scatter3d",
         "x": [
          82,
          82,
          81,
          78,
          74
         ],
         "y": [
          41,
          93,
          56,
          69,
          27
         ],
         "z": [
          "rock",
          "rock",
          "rock",
          "rock",
          "rock"
         ]
        },
        {
         "hovertemplate": "top genre=%{z}<br>artist=Joy Again<br>pop=%{x}<br>dnce=%{y}<br>dur=%{marker.size}<extra></extra>",
         "legendgroup": "rock, Joy Again",
         "marker": {
          "color": "#00cc96",
          "size": [
           179
          ],
          "sizemode": "area",
          "sizeref": 3.1025,
          "symbol": "x"
         },
         "mode": "markers",
         "name": "rock, Joy Again",
         "scene": "scene",
         "showlegend": true,
         "type": "scatter3d",
         "x": [
          82
         ],
         "y": [
          68
         ],
         "z": [
          "rock"
         ]
        },
        {
         "hovertemplate": "top genre=%{z}<br>artist=Neon Trees<br>pop=%{x}<br>dnce=%{y}<br>dur=%{marker.size}<extra></extra>",
         "legendgroup": "rock, Neon Trees",
         "marker": {
          "color": "#00cc96",
          "size": [
           177
          ],
          "sizemode": "area",
          "sizeref": 3.1025,
          "symbol": "cross"
         },
         "mode": "markers",
         "name": "rock, Neon Trees",
         "scene": "scene",
         "showlegend": true,
         "type": "scatter3d",
         "x": [
          82
         ],
         "y": [
          47
         ],
         "z": [
          "rock"
         ]
        },
        {
         "hovertemplate": "top genre=%{z}<br>artist=Eurythmics<br>pop=%{x}<br>dnce=%{y}<br>dur=%{marker.size}<extra></extra>",
         "legendgroup": "rock, Eurythmics",
         "marker": {
          "color": "#00cc96",
          "size": [
           217
          ],
          "sizemode": "area",
          "sizeref": 3.1025,
          "symbol": "cross"
         },
         "mode": "markers",
         "name": "rock, Eurythmics",
         "scene": "scene",
         "showlegend": true,
         "type": "scatter3d",
         "x": [
          82
         ],
         "y": [
          69
         ],
         "z": [
          "rock"
         ]
        },
        {
         "hovertemplate": "top genre=%{z}<br>artist=TOTO<br>pop=%{x}<br>dnce=%{y}<br>dur=%{marker.size}<extra></extra>",
         "legendgroup": "rock, TOTO",
         "marker": {
          "color": "#00cc96",
          "size": [
           296
          ],
          "sizemode": "area",
          "sizeref": 3.1025,
          "symbol": "circle"
         },
         "mode": "markers",
         "name": "rock, TOTO",
         "scene": "scene",
         "showlegend": true,
         "type": "scatter3d",
         "x": [
          82
         ],
         "y": [
          67
         ],
         "z": [
          "rock"
         ]
        },
        {
         "hovertemplate": "top genre=%{z}<br>artist=The Cranberries<br>pop=%{x}<br>dnce=%{y}<br>dur=%{marker.size}<extra></extra>",
         "legendgroup": "rock, The Cranberries",
         "marker": {
          "color": "#00cc96",
          "size": [
           306
          ],
          "sizemode": "area",
          "sizeref": 3.1025,
          "symbol": "diamond"
         },
         "mode": "markers",
         "name": "rock, The Cranberries",
         "scene": "scene",
         "showlegend": true,
         "type": "scatter3d",
         "x": [
          82
         ],
         "y": [
          31
         ],
         "z": [
          "rock"
         ]
        },
        {
         "hovertemplate": "top genre=%{z}<br>artist=Twenty One Pilots<br>pop=%{x}<br>dnce=%{y}<br>dur=%{marker.size}<extra></extra>",
         "legendgroup": "rock, Twenty One Pilots",
         "marker": {
          "color": "#00cc96",
          "size": [
           196
          ],
          "sizemode": "area",
          "sizeref": 3.1025,
          "symbol": "square"
         },
         "mode": "markers",
         "name": "rock, Twenty One Pilots",
         "scene": "scene",
         "showlegend": true,
         "type": "scatter3d",
         "x": [
          81
         ],
         "y": [
          73
         ],
         "z": [
          "rock"
         ]
        },
        {
         "hovertemplate": "top genre=%{z}<br>artist=Creedence Clearwater Revival<br>pop=%{x}<br>dnce=%{y}<br>dur=%{marker.size}<extra></extra>",
         "legendgroup": "rock, Creedence Clearwater Revival",
         "marker": {
          "color": "#00cc96",
          "size": [
           141
          ],
          "sizemode": "area",
          "sizeref": 3.1025,
          "symbol": "diamond"
         },
         "mode": "markers",
         "name": "rock, Creedence Clearwater Revival",
         "scene": "scene",
         "showlegend": true,
         "type": "scatter3d",
         "x": [
          81
         ],
         "y": [
          64
         ],
         "z": [
          "rock"
         ]
        },
        {
         "hovertemplate": "top genre=%{z}<br>artist=The Verve<br>pop=%{x}<br>dnce=%{y}<br>dur=%{marker.size}<extra></extra>",
         "legendgroup": "rock, The Verve",
         "marker": {
          "color": "#00cc96",
          "size": [
           357
          ],
          "sizemode": "area",
          "sizeref": 3.1025,
          "symbol": "cross"
         },
         "mode": "markers",
         "name": "rock, The Verve",
         "scene": "scene",
         "showlegend": true,
         "type": "scatter3d",
         "x": [
          79
         ],
         "y": [
          36
         ],
         "z": [
          "rock"
         ]
        },
        {
         "hovertemplate": "top genre=%{z}<br>artist=Franz Ferdinand<br>pop=%{x}<br>dnce=%{y}<br>dur=%{marker.size}<extra></extra>",
         "legendgroup": "rock, Franz Ferdinand",
         "marker": {
          "color": "#00cc96",
          "size": [
           237
          ],
          "sizemode": "area",
          "sizeref": 3.1025,
          "symbol": "circle"
         },
         "mode": "markers",
         "name": "rock, Franz Ferdinand",
         "scene": "scene",
         "showlegend": true,
         "type": "scatter3d",
         "x": [
          79
         ],
         "y": [
          28
         ],
         "z": [
          "rock"
         ]
        },
        {
         "hovertemplate": "top genre=%{z}<br>artist=Red Hot Chili Peppers<br>pop=%{x}<br>dnce=%{y}<br>dur=%{marker.size}<extra></extra>",
         "legendgroup": "rock, Red Hot Chili Peppers",
         "marker": {
          "color": "#00cc96",
          "size": [
           255
          ],
          "sizemode": "area",
          "sizeref": 3.1025,
          "symbol": "diamond"
         },
         "mode": "markers",
         "name": "rock, Red Hot Chili Peppers",
         "scene": "scene",
         "showlegend": true,
         "type": "scatter3d",
         "x": [
          79
         ],
         "y": [
          46
         ],
         "z": [
          "rock"
         ]
        },
        {
         "hovertemplate": "top genre=%{z}<br>artist=Oasis<br>pop=%{x}<br>dnce=%{y}<br>dur=%{marker.size}<extra></extra>",
         "legendgroup": "rock, Oasis",
         "marker": {
          "color": "#00cc96",
          "size": [
           259,
           290,
           310
          ],
          "sizemode": "area",
          "sizeref": 3.1025,
          "symbol": "circle"
         },
         "mode": "markers",
         "name": "rock, Oasis",
         "scene": "scene",
         "showlegend": true,
         "type": "scatter3d",
         "x": [
          78,
          72,
          48
         ],
         "y": [
          38,
          33,
          40
         ],
         "z": [
          "rock",
          "rock",
          "rock"
         ]
        },
        {
         "hovertemplate": "top genre=%{z}<br>artist=PUBLIC<br>pop=%{x}<br>dnce=%{y}<br>dur=%{marker.size}<extra></extra>",
         "legendgroup": "rock, PUBLIC",
         "marker": {
          "color": "#00cc96",
          "size": [
           233
          ],
          "sizemode": "area",
          "sizeref": 3.1025,
          "symbol": "square"
         },
         "mode": "markers",
         "name": "rock, PUBLIC",
         "scene": "scene",
         "showlegend": true,
         "type": "scatter3d",
         "x": [
          78
         ],
         "y": [
          61
         ],
         "z": [
          "rock"
         ]
        },
        {
         "hovertemplate": "top genre=%{z}<br>artist=Van Halen<br>pop=%{x}<br>dnce=%{y}<br>dur=%{marker.size}<extra></extra>",
         "legendgroup": "rock, Van Halen",
         "marker": {
          "color": "#00cc96",
          "size": [
           242
          ],
          "sizemode": "area",
          "sizeref": 3.1025,
          "symbol": "x"
         },
         "mode": "markers",
         "name": "rock, Van Halen",
         "scene": "scene",
         "showlegend": true,
         "type": "scatter3d",
         "x": [
          78
         ],
         "y": [
          57
         ],
         "z": [
          "rock"
         ]
        },
        {
         "hovertemplate": "top genre=%{z}<br>artist=Blur<br>pop=%{x}<br>dnce=%{y}<br>dur=%{marker.size}<extra></extra>",
         "legendgroup": "rock, Blur",
         "marker": {
          "color": "#00cc96",
          "size": [
           121,
           122
          ],
          "sizemode": "area",
          "sizeref": 3.1025,
          "symbol": "square"
         },
         "mode": "markers",
         "name": "rock, Blur",
         "scene": "scene",
         "showlegend": true,
         "type": "scatter3d",
         "x": [
          77,
          66
         ],
         "y": [
          67,
          66
         ],
         "z": [
          "rock",
          "rock"
         ]
        },
        {
         "hovertemplate": "top genre=%{z}<br>artist=Pixies<br>pop=%{x}<br>dnce=%{y}<br>dur=%{marker.size}<extra></extra>",
         "legendgroup": "rock, Pixies",
         "marker": {
          "color": "#00cc96",
          "size": [
           235
          ],
          "sizemode": "area",
          "sizeref": 3.1025,
          "symbol": "x"
         },
         "mode": "markers",
         "name": "rock, Pixies",
         "scene": "scene",
         "showlegend": true,
         "type": "scatter3d",
         "x": [
          77
         ],
         "y": [
          52
         ],
         "z": [
          "rock"
         ]
        },
        {
         "hovertemplate": "top genre=%{z}<br>artist=Weezer<br>pop=%{x}<br>dnce=%{y}<br>dur=%{marker.size}<extra></extra>",
         "legendgroup": "rock, Weezer",
         "marker": {
          "color": "#00cc96",
          "size": [
           200,
           259,
           239
          ],
          "sizemode": "area",
          "sizeref": 3.1025,
          "symbol": "cross"
         },
         "mode": "markers",
         "name": "rock, Weezer",
         "scene": "scene",
         "showlegend": true,
         "type": "scatter3d",
         "x": [
          77,
          76,
          60
         ],
         "y": [
          65,
          63,
          53
         ],
         "z": [
          "rock",
          "rock",
          "rock"
         ]
        },
        {
         "hovertemplate": "top genre=%{z}<br>artist=The Strokes<br>pop=%{x}<br>dnce=%{y}<br>dur=%{marker.size}<extra></extra>",
         "legendgroup": "rock, The Strokes",
         "marker": {
          "color": "#00cc96",
          "size": [
           220,
           193,
           189,
           183,
           236,
           210
          ],
          "sizemode": "area",
          "sizeref": 3.1025,
          "symbol": "square"
         },
         "mode": "markers",
         "name": "rock, The Strokes",
         "scene": "scene",
         "showlegend": true,
         "type": "scatter3d",
         "x": [
          75,
          74,
          71,
          68,
          68,
          63
         ],
         "y": [
          49,
          62,
          63,
          54,
          35,
          70
         ],
         "z": [
          "rock",
          "rock",
          "rock",
          "rock",
          "rock",
          "rock"
         ]
        },
        {
         "hovertemplate": "top genre=%{z}<br>artist=Mild High Club<br>pop=%{x}<br>dnce=%{y}<br>dur=%{marker.size}<extra></extra>",
         "legendgroup": "rock, Mild High Club",
         "marker": {
          "color": "#00cc96",
          "size": [
           177
          ],
          "sizemode": "area",
          "sizeref": 3.1025,
          "symbol": "cross"
         },
         "mode": "markers",
         "name": "rock, Mild High Club",
         "scene": "scene",
         "showlegend": true,
         "type": "scatter3d",
         "x": [
          75
         ],
         "y": [
          55
         ],
         "z": [
          "rock"
         ]
        },
        {
         "hovertemplate": "top genre=%{z}<br>artist=The Who<br>pop=%{x}<br>dnce=%{y}<br>dur=%{marker.size}<extra></extra>",
         "legendgroup": "rock, The Who",
         "marker": {
          "color": "#00cc96",
          "size": [
           300,
           299
          ],
          "sizemode": "area",
          "sizeref": 3.1025,
          "symbol": "diamond"
         },
         "mode": "markers",
         "name": "rock, The Who",
         "scene": "scene",
         "showlegend": true,
         "type": "scatter3d",
         "x": [
          75,
          32
         ],
         "y": [
          49,
          41
         ],
         "z": [
          "rock",
          "rock"
         ]
        },
        {
         "hovertemplate": "top genre=%{z}<br>artist=Imagine Dragons<br>pop=%{x}<br>dnce=%{y}<br>dur=%{marker.size}<extra></extra>",
         "legendgroup": "rock, Imagine Dragons",
         "marker": {
          "color": "#00cc96",
          "size": [
           192
          ],
          "sizemode": "area",
          "sizeref": 3.1025,
          "symbol": "circle"
         },
         "mode": "markers",
         "name": "rock, Imagine Dragons",
         "scene": "scene",
         "showlegend": true,
         "type": "scatter3d",
         "x": [
          74
         ],
         "y": [
          63
         ],
         "z": [
          "rock"
         ]
        },
        {
         "hovertemplate": "top genre=%{z}<br>artist=Arctic Monkeys<br>pop=%{x}<br>dnce=%{y}<br>dur=%{marker.size}<extra></extra>",
         "legendgroup": "rock, Arctic Monkeys",
         "marker": {
          "color": "#00cc96",
          "size": [
           193
          ],
          "sizemode": "area",
          "sizeref": 3.1025,
          "symbol": "x"
         },
         "mode": "markers",
         "name": "rock, Arctic Monkeys",
         "scene": "scene",
         "showlegend": true,
         "type": "scatter3d",
         "x": [
          73
         ],
         "y": [
          73
         ],
         "z": [
          "rock"
         ]
        },
        {
         "hovertemplate": "top genre=%{z}<br>artist=The Monkees<br>pop=%{x}<br>dnce=%{y}<br>dur=%{marker.size}<extra></extra>",
         "legendgroup": "rock, The Monkees",
         "marker": {
          "color": "#00cc96",
          "size": [
           167
          ],
          "sizemode": "area",
          "sizeref": 3.1025,
          "symbol": "x"
         },
         "mode": "markers",
         "name": "rock, The Monkees",
         "scene": "scene",
         "showlegend": true,
         "type": "scatter3d",
         "x": [
          73
         ],
         "y": [
          53
         ],
         "z": [
          "rock"
         ]
        },
        {
         "hovertemplate": "top genre=%{z}<br>artist=Deep Purple<br>pop=%{x}<br>dnce=%{y}<br>dur=%{marker.size}<extra></extra>",
         "legendgroup": "rock, Deep Purple",
         "marker": {
          "color": "#00cc96",
          "size": [
           341
          ],
          "sizemode": "area",
          "sizeref": 3.1025,
          "symbol": "cross"
         },
         "mode": "markers",
         "name": "rock, Deep Purple",
         "scene": "scene",
         "showlegend": true,
         "type": "scatter3d",
         "x": [
          73
         ],
         "y": [
          60
         ],
         "z": [
          "rock"
         ]
        },
        {
         "hovertemplate": "top genre=%{z}<br>artist=Metallica<br>pop=%{x}<br>dnce=%{y}<br>dur=%{marker.size}<extra></extra>",
         "legendgroup": "rock, Metallica",
         "marker": {
          "color": "#00cc96",
          "size": [
           515
          ],
          "sizemode": "area",
          "sizeref": 3.1025,
          "symbol": "circle"
         },
         "mode": "markers",
         "name": "rock, Metallica",
         "scene": "scene",
         "showlegend": true,
         "type": "scatter3d",
         "x": [
          73
         ],
         "y": [
          54
         ],
         "z": [
          "rock"
         ]
        },
        {
         "hovertemplate": "top genre=%{z}<br>artist=George Thorogood & The Destroyers<br>pop=%{x}<br>dnce=%{y}<br>dur=%{marker.size}<extra></extra>",
         "legendgroup": "rock, George Thorogood & The Destroyers",
         "marker": {
          "color": "#00cc96",
          "size": [
           292
          ],
          "sizemode": "area",
          "sizeref": 3.1025,
          "symbol": "square"
         },
         "mode": "markers",
         "name": "rock, George Thorogood & The Destroyers",
         "scene": "scene",
         "showlegend": true,
         "type": "scatter3d",
         "x": [
          72
         ],
         "y": [
          46
         ],
         "z": [
          "rock"
         ]
        },
        {
         "hovertemplate": "top genre=%{z}<br>artist=David Bowie<br>pop=%{x}<br>dnce=%{y}<br>dur=%{marker.size}<extra></extra>",
         "legendgroup": "rock, David Bowie",
         "marker": {
          "color": "#00cc96",
          "size": [
           318,
           236
          ],
          "sizemode": "area",
          "sizeref": 3.1025,
          "symbol": "square"
         },
         "mode": "markers",
         "name": "rock, David Bowie",
         "scene": "scene",
         "showlegend": true,
         "type": "scatter3d",
         "x": [
          72,
          70
         ],
         "y": [
          31,
          44
         ],
         "z": [
          "rock",
          "rock"
         ]
        },
        {
         "hovertemplate": "top genre=%{z}<br>artist=Panic! At The Disco<br>pop=%{x}<br>dnce=%{y}<br>dur=%{marker.size}<extra></extra>",
         "legendgroup": "rock, Panic! At The Disco",
         "marker": {
          "color": "#00cc96",
          "size": [
           186
          ],
          "sizemode": "area",
          "sizeref": 3.1025,
          "symbol": "square"
         },
         "mode": "markers",
         "name": "rock, Panic! At The Disco",
         "scene": "scene",
         "showlegend": true,
         "type": "scatter3d",
         "x": [
          71
         ],
         "y": [
          57
         ],
         "z": [
          "rock"
         ]
        },
        {
         "hovertemplate": "top genre=%{z}<br>artist=Beck<br>pop=%{x}<br>dnce=%{y}<br>dur=%{marker.size}<extra></extra>",
         "legendgroup": "rock, Beck",
         "marker": {
          "color": "#00cc96",
          "size": [
           235,
           235,
           314
          ],
          "sizemode": "area",
          "sizeref": 3.1025,
          "symbol": "circle"
         },
         "mode": "markers",
         "name": "rock, Beck",
         "scene": "scene",
         "showlegend": true,
         "type": "scatter3d",
         "x": [
          71,
          67,
          58
         ],
         "y": [
          65,
          62,
          58
         ],
         "z": [
          "rock",
          "rock",
          "rock"
         ]
        },
        {
         "hovertemplate": "top genre=%{z}<br>artist=Ramones<br>pop=%{x}<br>dnce=%{y}<br>dur=%{marker.size}<extra></extra>",
         "legendgroup": "rock, Ramones",
         "marker": {
          "color": "#00cc96",
          "size": [
           134
          ],
          "sizemode": "area",
          "sizeref": 3.1025,
          "symbol": "diamond"
         },
         "mode": "markers",
         "name": "rock, Ramones",
         "scene": "scene",
         "showlegend": true,
         "type": "scatter3d",
         "x": [
          71
         ],
         "y": [
          39
         ],
         "z": [
          "rock"
         ]
        },
        {
         "hovertemplate": "top genre=%{z}<br>artist=YUNGBLUD<br>pop=%{x}<br>dnce=%{y}<br>dur=%{marker.size}<extra></extra>",
         "legendgroup": "rock, YUNGBLUD",
         "marker": {
          "color": "#00cc96",
          "size": [
           172
          ],
          "sizemode": "area",
          "sizeref": 3.1025,
          "symbol": "square"
         },
         "mode": "markers",
         "name": "rock, YUNGBLUD",
         "scene": "scene",
         "showlegend": true,
         "type": "scatter3d",
         "x": [
          71
         ],
         "y": [
          62
         ],
         "z": [
          "rock"
         ]
        },
        {
         "hovertemplate": "top genre=%{z}<br>artist=Black Sabbath<br>pop=%{x}<br>dnce=%{y}<br>dur=%{marker.size}<extra></extra>",
         "legendgroup": "rock, Black Sabbath",
         "marker": {
          "color": "#00cc96",
          "size": [
           355
          ],
          "sizemode": "area",
          "sizeref": 3.1025,
          "symbol": "diamond"
         },
         "mode": "markers",
         "name": "rock, Black Sabbath",
         "scene": "scene",
         "showlegend": true,
         "type": "scatter3d",
         "x": [
          71
         ],
         "y": [
          33
         ],
         "z": [
          "rock"
         ]
        },
        {
         "hovertemplate": "top genre=%{z}<br>artist=Kargo<br>pop=%{x}<br>dnce=%{y}<br>dur=%{marker.size}<extra></extra>",
         "legendgroup": "rock, Kargo",
         "marker": {
          "color": "#00cc96",
          "size": [
           178
          ],
          "sizemode": "area",
          "sizeref": 3.1025,
          "symbol": "cross"
         },
         "mode": "markers",
         "name": "rock, Kargo",
         "scene": "scene",
         "showlegend": true,
         "type": "scatter3d",
         "x": [
          69
         ],
         "y": [
          60
         ],
         "z": [
          "rock"
         ]
        },
        {
         "hovertemplate": "top genre=%{z}<br>artist=Duman<br>pop=%{x}<br>dnce=%{y}<br>dur=%{marker.size}<extra></extra>",
         "legendgroup": "rock, Duman",
         "marker": {
          "color": "#00cc96",
          "size": [
           243,
           292,
           239,
           176,
           265
          ],
          "sizemode": "area",
          "sizeref": 3.1025,
          "symbol": "circle"
         },
         "mode": "markers",
         "name": "rock, Duman",
         "scene": "scene",
         "showlegend": true,
         "type": "scatter3d",
         "x": [
          68,
          66,
          64,
          64,
          58
         ],
         "y": [
          54,
          59,
          78,
          48,
          46
         ],
         "z": [
          "rock",
          "rock",
          "rock",
          "rock",
          "rock"
         ]
        },
        {
         "hovertemplate": "top genre=%{z}<br>artist=Cem Karaca<br>pop=%{x}<br>dnce=%{y}<br>dur=%{marker.size}<extra></extra>",
         "legendgroup": "rock, Cem Karaca",
         "marker": {
          "color": "#00cc96",
          "size": [
           166,
           297,
           250,
           291,
           224,
           220,
           275,
           264,
           213,
           201,
           206,
           189,
           245,
           182,
           96,
           258,
           271,
           259,
           241,
           321,
           167,
           298,
           178,
           184,
           207,
           182,
           199,
           218,
           167,
           183,
           169
          ],
          "sizemode": "area",
          "sizeref": 3.1025,
          "symbol": "circle"
         },
         "mode": "markers",
         "name": "rock, Cem Karaca",
         "scene": "scene",
         "showlegend": true,
         "type": "scatter3d",
         "x": [
          68,
          58,
          57,
          54,
          52,
          51,
          51,
          50,
          49,
          46,
          46,
          44,
          44,
          41,
          40,
          38,
          37,
          36,
          36,
          35,
          26,
          24,
          22,
          18,
          12,
          11,
          8,
          8,
          7,
          0,
          0
         ],
         "y": [
          47,
          30,
          41,
          65,
          28,
          28,
          42,
          34,
          68,
          48,
          74,
          49,
          47,
          63,
          57,
          49,
          46,
          38,
          45,
          30,
          42,
          44,
          15,
          28,
          48,
          63,
          52,
          23,
          48,
          49,
          40
         ],
         "z": [
          "rock",
          "rock",
          "rock",
          "rock",
          "rock",
          "rock",
          "rock",
          "rock",
          "rock",
          "rock",
          "rock",
          "rock",
          "rock",
          "rock",
          "rock",
          "rock",
          "rock",
          "rock",
          "rock",
          "rock",
          "rock",
          "rock",
          "rock",
          "rock",
          "rock",
          "rock",
          "rock",
          "rock",
          "rock",
          "rock",
          "rock"
         ]
        },
        {
         "hovertemplate": "top genre=%{z}<br>artist=Model<br>pop=%{x}<br>dnce=%{y}<br>dur=%{marker.size}<extra></extra>",
         "legendgroup": "rock, Model",
         "marker": {
          "color": "#00cc96",
          "size": [
           255,
           268
          ],
          "sizemode": "area",
          "sizeref": 3.1025,
          "symbol": "x"
         },
         "mode": "markers",
         "name": "rock, Model",
         "scene": "scene",
         "showlegend": true,
         "type": "scatter3d",
         "x": [
          67,
          63
         ],
         "y": [
          54,
          62
         ],
         "z": [
          "rock",
          "rock"
         ]
        },
        {
         "hovertemplate": "top genre=%{z}<br>artist=OK Go<br>pop=%{x}<br>dnce=%{y}<br>dur=%{marker.size}<extra></extra>",
         "legendgroup": "rock, OK Go",
         "marker": {
          "color": "#00cc96",
          "size": [
           180
          ],
          "sizemode": "area",
          "sizeref": 3.1025,
          "symbol": "circle"
         },
         "mode": "markers",
         "name": "rock, OK Go",
         "scene": "scene",
         "showlegend": true,
         "type": "scatter3d",
         "x": [
          67
         ],
         "y": [
          54
         ],
         "z": [
          "rock"
         ]
        },
        {
         "hovertemplate": "top genre=%{z}<br>artist=Kasabian<br>pop=%{x}<br>dnce=%{y}<br>dur=%{marker.size}<extra></extra>",
         "legendgroup": "rock, Kasabian",
         "marker": {
          "color": "#00cc96",
          "size": [
           252,
           214,
           220
          ],
          "sizemode": "area",
          "sizeref": 3.1025,
          "symbol": "circle"
         },
         "mode": "markers",
         "name": "rock, Kasabian",
         "scene": "scene",
         "showlegend": true,
         "type": "scatter3d",
         "x": [
          66,
          61,
          55
         ],
         "y": [
          53,
          24,
          55
         ],
         "z": [
          "rock",
          "rock",
          "rock"
         ]
        },
        {
         "hovertemplate": "top genre=%{z}<br>artist=Megadeth<br>pop=%{x}<br>dnce=%{y}<br>dur=%{marker.size}<extra></extra>",
         "legendgroup": "rock, Megadeth",
         "marker": {
          "color": "#00cc96",
          "size": [
           393
          ],
          "sizemode": "area",
          "sizeref": 3.1025,
          "symbol": "circle"
         },
         "mode": "markers",
         "name": "rock, Megadeth",
         "scene": "scene",
         "showlegend": true,
         "type": "scatter3d",
         "x": [
          66
         ],
         "y": [
          33
         ],
         "z": [
          "rock"
         ]
        },
        {
         "hovertemplate": "top genre=%{z}<br>artist=Circa Waves<br>pop=%{x}<br>dnce=%{y}<br>dur=%{marker.size}<extra></extra>",
         "legendgroup": "rock, Circa Waves",
         "marker": {
          "color": "#00cc96",
          "size": [
           194
          ],
          "sizemode": "area",
          "sizeref": 3.1025,
          "symbol": "diamond"
         },
         "mode": "markers",
         "name": "rock, Circa Waves",
         "scene": "scene",
         "showlegend": true,
         "type": "scatter3d",
         "x": [
          65
         ],
         "y": [
          42
         ],
         "z": [
          "rock"
         ]
        },
        {
         "hovertemplate": "top genre=%{z}<br>artist=Canned Heat<br>pop=%{x}<br>dnce=%{y}<br>dur=%{marker.size}<extra></extra>",
         "legendgroup": "rock, Canned Heat",
         "marker": {
          "color": "#00cc96",
          "size": [
           171
          ],
          "sizemode": "area",
          "sizeref": 3.1025,
          "symbol": "diamond"
         },
         "mode": "markers",
         "name": "rock, Canned Heat",
         "scene": "scene",
         "showlegend": true,
         "type": "scatter3d",
         "x": [
          64
         ],
         "y": [
          65
         ],
         "z": [
          "rock"
         ]
        },
        {
         "hovertemplate": "top genre=%{z}<br>artist=Portugal. The Man<br>pop=%{x}<br>dnce=%{y}<br>dur=%{marker.size}<extra></extra>",
         "legendgroup": "rock, Portugal. The Man",
         "marker": {
          "color": "#00cc96",
          "size": [
           247,
           250
          ],
          "sizemode": "area",
          "sizeref": 3.1025,
          "symbol": "square"
         },
         "mode": "markers",
         "name": "rock, Portugal. The Man",
         "scene": "scene",
         "showlegend": true,
         "type": "scatter3d",
         "x": [
          62,
          57
         ],
         "y": [
          55,
          60
         ],
         "z": [
          "rock",
          "rock"
         ]
        },
        {
         "hovertemplate": "top genre=%{z}<br>artist=Joe Cocker<br>pop=%{x}<br>dnce=%{y}<br>dur=%{marker.size}<extra></extra>",
         "legendgroup": "rock, Joe Cocker",
         "marker": {
          "color": "#00cc96",
          "size": [
           251
          ],
          "sizemode": "area",
          "sizeref": 3.1025,
          "symbol": "square"
         },
         "mode": "markers",
         "name": "rock, Joe Cocker",
         "scene": "scene",
         "showlegend": true,
         "type": "scatter3d",
         "x": [
          62
         ],
         "y": [
          54
         ],
         "z": [
          "rock"
         ]
        },
        {
         "hovertemplate": "top genre=%{z}<br>artist=Özdemir Erdoğan<br>pop=%{x}<br>dnce=%{y}<br>dur=%{marker.size}<extra></extra>",
         "legendgroup": "rock, Özdemir Erdoğan",
         "marker": {
          "color": "#00cc96",
          "size": [
           207,
           179,
           179
          ],
          "sizemode": "area",
          "sizeref": 3.1025,
          "symbol": "cross"
         },
         "mode": "markers",
         "name": "rock, Özdemir Erdoğan",
         "scene": "scene",
         "showlegend": true,
         "type": "scatter3d",
         "x": [
          62,
          57,
          48
         ],
         "y": [
          64,
          39,
          39
         ],
         "z": [
          "rock",
          "rock",
          "rock"
         ]
        },
        {
         "hovertemplate": "top genre=%{z}<br>artist=The Black Keys<br>pop=%{x}<br>dnce=%{y}<br>dur=%{marker.size}<extra></extra>",
         "legendgroup": "rock, The Black Keys",
         "marker": {
          "color": "#00cc96",
          "size": [
           211
          ],
          "sizemode": "area",
          "sizeref": 3.1025,
          "symbol": "cross"
         },
         "mode": "markers",
         "name": "rock, The Black Keys",
         "scene": "scene",
         "showlegend": true,
         "type": "scatter3d",
         "x": [
          61
         ],
         "y": [
          52
         ],
         "z": [
          "rock"
         ]
        },
        {
         "hovertemplate": "top genre=%{z}<br>artist=You Me At Six<br>pop=%{x}<br>dnce=%{y}<br>dur=%{marker.size}<extra></extra>",
         "legendgroup": "rock, You Me At Six",
         "marker": {
          "color": "#00cc96",
          "size": [
           143
          ],
          "sizemode": "area",
          "sizeref": 3.1025,
          "symbol": "circle"
         },
         "mode": "markers",
         "name": "rock, You Me At Six",
         "scene": "scene",
         "showlegend": true,
         "type": "scatter3d",
         "x": [
          61
         ],
         "y": [
          38
         ],
         "z": [
          "rock"
         ]
        },
        {
         "hovertemplate": "top genre=%{z}<br>artist=Fikret Kızılok<br>pop=%{x}<br>dnce=%{y}<br>dur=%{marker.size}<extra></extra>",
         "legendgroup": "rock, Fikret Kızılok",
         "marker": {
          "color": "#00cc96",
          "size": [
           275,
           225
          ],
          "sizemode": "area",
          "sizeref": 3.1025,
          "symbol": "diamond"
         },
         "mode": "markers",
         "name": "rock, Fikret Kızılok",
         "scene": "scene",
         "showlegend": true,
         "type": "scatter3d",
         "x": [
          61,
          42
         ],
         "y": [
          70,
          61
         ],
         "z": [
          "rock",
          "rock"
         ]
        },
        {
         "hovertemplate": "top genre=%{z}<br>artist=Eagles Of Death Metal<br>pop=%{x}<br>dnce=%{y}<br>dur=%{marker.size}<extra></extra>",
         "legendgroup": "rock, Eagles Of Death Metal",
         "marker": {
          "color": "#00cc96",
          "size": [
           159
          ],
          "sizemode": "area",
          "sizeref": 3.1025,
          "symbol": "square"
         },
         "mode": "markers",
         "name": "rock, Eagles Of Death Metal",
         "scene": "scene",
         "showlegend": true,
         "type": "scatter3d",
         "x": [
          59
         ],
         "y": [
          55
         ],
         "z": [
          "rock"
         ]
        },
        {
         "hovertemplate": "top genre=%{z}<br>artist=Los Lobos<br>pop=%{x}<br>dnce=%{y}<br>dur=%{marker.size}<extra></extra>",
         "legendgroup": "rock, Los Lobos",
         "marker": {
          "color": "#00cc96",
          "size": [
           173
          ],
          "sizemode": "area",
          "sizeref": 3.1025,
          "symbol": "circle"
         },
         "mode": "markers",
         "name": "rock, Los Lobos",
         "scene": "scene",
         "showlegend": true,
         "type": "scatter3d",
         "x": [
          58
         ],
         "y": [
          35
         ],
         "z": [
          "rock"
         ]
        },
        {
         "hovertemplate": "top genre=%{z}<br>artist=Haluk Levent<br>pop=%{x}<br>dnce=%{y}<br>dur=%{marker.size}<extra></extra>",
         "legendgroup": "rock, Haluk Levent",
         "marker": {
          "color": "#00cc96",
          "size": [
           269
          ],
          "sizemode": "area",
          "sizeref": 3.1025,
          "symbol": "x"
         },
         "mode": "markers",
         "name": "rock, Haluk Levent",
         "scene": "scene",
         "showlegend": true,
         "type": "scatter3d",
         "x": [
          58
         ],
         "y": [
          66
         ],
         "z": [
          "rock"
         ]
        },
        {
         "hovertemplate": "top genre=%{z}<br>artist=Teddybears<br>pop=%{x}<br>dnce=%{y}<br>dur=%{marker.size}<extra></extra>",
         "legendgroup": "rock, Teddybears",
         "marker": {
          "color": "#00cc96",
          "size": [
           180
          ],
          "sizemode": "area",
          "sizeref": 3.1025,
          "symbol": "diamond"
         },
         "mode": "markers",
         "name": "rock, Teddybears",
         "scene": "scene",
         "showlegend": true,
         "type": "scatter3d",
         "x": [
          57
         ],
         "y": [
          62
         ],
         "z": [
          "rock"
         ]
        },
        {
         "hovertemplate": "top genre=%{z}<br>artist=alt-J<br>pop=%{x}<br>dnce=%{y}<br>dur=%{marker.size}<extra></extra>",
         "legendgroup": "rock, alt-J",
         "marker": {
          "color": "#00cc96",
          "size": [
           232
          ],
          "sizemode": "area",
          "sizeref": 3.1025,
          "symbol": "square"
         },
         "mode": "markers",
         "name": "rock, alt-J",
         "scene": "scene",
         "showlegend": true,
         "type": "scatter3d",
         "x": [
          57
         ],
         "y": [
          65
         ],
         "z": [
          "rock"
         ]
        },
        {
         "hovertemplate": "top genre=%{z}<br>artist=Erkin Koray<br>pop=%{x}<br>dnce=%{y}<br>dur=%{marker.size}<extra></extra>",
         "legendgroup": "rock, Erkin Koray",
         "marker": {
          "color": "#00cc96",
          "size": [
           199,
           315,
           239,
           302,
           217,
           216,
           357,
           314
          ],
          "sizemode": "area",
          "sizeref": 3.1025,
          "symbol": "x"
         },
         "mode": "markers",
         "name": "rock, Erkin Koray",
         "scene": "scene",
         "showlegend": true,
         "type": "scatter3d",
         "x": [
          57,
          56,
          54,
          51,
          50,
          43,
          40,
          39
         ],
         "y": [
          59,
          61,
          47,
          39,
          58,
          39,
          60,
          71
         ],
         "z": [
          "rock",
          "rock",
          "rock",
          "rock",
          "rock",
          "rock",
          "rock",
          "rock"
         ]
        },
        {
         "hovertemplate": "top genre=%{z}<br>artist=MFÖ<br>pop=%{x}<br>dnce=%{y}<br>dur=%{marker.size}<extra></extra>",
         "legendgroup": "rock, MFÖ",
         "marker": {
          "color": "#00cc96",
          "size": [
           189,
           200,
           224,
           253,
           303,
           244,
           193,
           221,
           208
          ],
          "sizemode": "area",
          "sizeref": 3.1025,
          "symbol": "circle"
         },
         "mode": "markers",
         "name": "rock, MFÖ",
         "scene": "scene",
         "showlegend": true,
         "type": "scatter3d",
         "x": [
          56,
          55,
          54,
          52,
          49,
          48,
          45,
          40,
          35
         ],
         "y": [
          51,
          55,
          55,
          62,
          82,
          50,
          46,
          50,
          67
         ],
         "z": [
          "rock",
          "rock",
          "rock",
          "rock",
          "rock",
          "rock",
          "rock",
          "rock",
          "rock"
         ]
        },
        {
         "hovertemplate": "top genre=%{z}<br>artist=Edip Akbayram<br>pop=%{x}<br>dnce=%{y}<br>dur=%{marker.size}<extra></extra>",
         "legendgroup": "rock, Edip Akbayram",
         "marker": {
          "color": "#00cc96",
          "size": [
           223,
           289
          ],
          "sizemode": "area",
          "sizeref": 3.1025,
          "symbol": "diamond"
         },
         "mode": "markers",
         "name": "rock, Edip Akbayram",
         "scene": "scene",
         "showlegend": true,
         "type": "scatter3d",
         "x": [
          56,
          41
         ],
         "y": [
          23,
          39
         ],
         "z": [
          "rock",
          "rock"
         ]
        },
        {
         "hovertemplate": "top genre=%{z}<br>artist=Selda Bağcan<br>pop=%{x}<br>dnce=%{y}<br>dur=%{marker.size}<extra></extra>",
         "legendgroup": "rock, Selda Bağcan",
         "marker": {
          "color": "#00cc96",
          "size": [
           282,
           212,
           186,
           224,
           166
          ],
          "sizemode": "area",
          "sizeref": 3.1025,
          "symbol": "square"
         },
         "mode": "markers",
         "name": "rock, Selda Bağcan",
         "scene": "scene",
         "showlegend": true,
         "type": "scatter3d",
         "x": [
          54,
          54,
          45,
          35,
          35
         ],
         "y": [
          27,
          41,
          41,
          38,
          72
         ],
         "z": [
          "rock",
          "rock",
          "rock",
          "rock",
          "rock"
         ]
        },
        {
         "hovertemplate": "top genre=%{z}<br>artist=Murat Kekilli<br>pop=%{x}<br>dnce=%{y}<br>dur=%{marker.size}<extra></extra>",
         "legendgroup": "rock, Murat Kekilli",
         "marker": {
          "color": "#00cc96",
          "size": [
           251
          ],
          "sizemode": "area",
          "sizeref": 3.1025,
          "symbol": "cross"
         },
         "mode": "markers",
         "name": "rock, Murat Kekilli",
         "scene": "scene",
         "showlegend": true,
         "type": "scatter3d",
         "x": [
          54
         ],
         "y": [
          51
         ],
         "z": [
          "rock"
         ]
        },
        {
         "hovertemplate": "top genre=%{z}<br>artist=Barış Manço<br>pop=%{x}<br>dnce=%{y}<br>dur=%{marker.size}<extra></extra>",
         "legendgroup": "rock, Barış Manço",
         "marker": {
          "color": "#00cc96",
          "size": [
           308,
           371,
           265,
           130,
           288,
           246,
           268,
           206,
           247,
           264,
           288,
           213,
           305
          ],
          "sizemode": "area",
          "sizeref": 3.1025,
          "symbol": "square"
         },
         "mode": "markers",
         "name": "rock, Barış Manço",
         "scene": "scene",
         "showlegend": true,
         "type": "scatter3d",
         "x": [
          53,
          53,
          53,
          50,
          48,
          45,
          44,
          42,
          41,
          38,
          35,
          31,
          0
         ],
         "y": [
          51,
          66,
          46,
          85,
          58,
          48,
          70,
          38,
          48,
          40,
          38,
          70,
          26
         ],
         "z": [
          "rock",
          "rock",
          "rock",
          "rock",
          "rock",
          "rock",
          "rock",
          "rock",
          "rock",
          "rock",
          "rock",
          "rock",
          "rock"
         ]
        },
        {
         "hovertemplate": "top genre=%{z}<br>artist=Téléphone<br>pop=%{x}<br>dnce=%{y}<br>dur=%{marker.size}<extra></extra>",
         "legendgroup": "rock, Téléphone",
         "marker": {
          "color": "#00cc96",
          "size": [
           274
          ],
          "sizemode": "area",
          "sizeref": 3.1025,
          "symbol": "square"
         },
         "mode": "markers",
         "name": "rock, Téléphone",
         "scene": "scene",
         "showlegend": true,
         "type": "scatter3d",
         "x": [
          52
         ],
         "y": [
          53
         ],
         "z": [
          "rock"
         ]
        },
        {
         "hovertemplate": "top genre=%{z}<br>artist=The 1975<br>pop=%{x}<br>dnce=%{y}<br>dur=%{marker.size}<extra></extra>",
         "legendgroup": "rock, The 1975",
         "marker": {
          "color": "#00cc96",
          "size": [
           207
          ],
          "sizemode": "area",
          "sizeref": 3.1025,
          "symbol": "circle"
         },
         "mode": "markers",
         "name": "rock, The 1975",
         "scene": "scene",
         "showlegend": true,
         "type": "scatter3d",
         "x": [
          52
         ],
         "y": [
          48
         ],
         "z": [
          "rock"
         ]
        },
        {
         "hovertemplate": "top genre=%{z}<br>artist=The Hives<br>pop=%{x}<br>dnce=%{y}<br>dur=%{marker.size}<extra></extra>",
         "legendgroup": "rock, The Hives",
         "marker": {
          "color": "#00cc96",
          "size": [
           153,
           127
          ],
          "sizemode": "area",
          "sizeref": 3.1025,
          "symbol": "x"
         },
         "mode": "markers",
         "name": "rock, The Hives",
         "scene": "scene",
         "showlegend": true,
         "type": "scatter3d",
         "x": [
          51,
          0
         ],
         "y": [
          43,
          45
         ],
         "z": [
          "rock",
          "rock"
         ]
        },
        {
         "hovertemplate": "top genre=%{z}<br>artist=Caesars<br>pop=%{x}<br>dnce=%{y}<br>dur=%{marker.size}<extra></extra>",
         "legendgroup": "rock, Caesars",
         "marker": {
          "color": "#00cc96",
          "size": [
           196
          ],
          "sizemode": "area",
          "sizeref": 3.1025,
          "symbol": "x"
         },
         "mode": "markers",
         "name": "rock, Caesars",
         "scene": "scene",
         "showlegend": true,
         "type": "scatter3d",
         "x": [
          50
         ],
         "y": [
          58
         ],
         "z": [
          "rock"
         ]
        },
        {
         "hovertemplate": "top genre=%{z}<br>artist=Tom Grennan<br>pop=%{x}<br>dnce=%{y}<br>dur=%{marker.size}<extra></extra>",
         "legendgroup": "rock, Tom Grennan",
         "marker": {
          "color": "#00cc96",
          "size": [
           194
          ],
          "sizemode": "area",
          "sizeref": 3.1025,
          "symbol": "cross"
         },
         "mode": "markers",
         "name": "rock, Tom Grennan",
         "scene": "scene",
         "showlegend": true,
         "type": "scatter3d",
         "x": [
          50
         ],
         "y": [
          63
         ],
         "z": [
          "rock"
         ]
        },
        {
         "hovertemplate": "top genre=%{z}<br>artist=RAT BOY<br>pop=%{x}<br>dnce=%{y}<br>dur=%{marker.size}<extra></extra>",
         "legendgroup": "rock, RAT BOY",
         "marker": {
          "color": "#00cc96",
          "size": [
           213,
           209
          ],
          "sizemode": "area",
          "sizeref": 3.1025,
          "symbol": "circle"
         },
         "mode": "markers",
         "name": "rock, RAT BOY",
         "scene": "scene",
         "showlegend": true,
         "type": "scatter3d",
         "x": [
          50,
          30
         ],
         "y": [
          49,
          39
         ],
         "z": [
          "rock",
          "rock"
         ]
        },
        {
         "hovertemplate": "top genre=%{z}<br>artist=Umut Kaya<br>pop=%{x}<br>dnce=%{y}<br>dur=%{marker.size}<extra></extra>",
         "legendgroup": "rock, Umut Kaya",
         "marker": {
          "color": "#00cc96",
          "size": [
           199
          ],
          "sizemode": "area",
          "sizeref": 3.1025,
          "symbol": "square"
         },
         "mode": "markers",
         "name": "rock, Umut Kaya",
         "scene": "scene",
         "showlegend": true,
         "type": "scatter3d",
         "x": [
          50
         ],
         "y": [
          59
         ],
         "z": [
          "rock"
         ]
        },
        {
         "hovertemplate": "top genre=%{z}<br>artist=3 Hürel<br>pop=%{x}<br>dnce=%{y}<br>dur=%{marker.size}<extra></extra>",
         "legendgroup": "rock, 3 Hürel",
         "marker": {
          "color": "#00cc96",
          "size": [
           303,
           354
          ],
          "sizemode": "area",
          "sizeref": 3.1025,
          "symbol": "cross"
         },
         "mode": "markers",
         "name": "rock, 3 Hürel",
         "scene": "scene",
         "showlegend": true,
         "type": "scatter3d",
         "x": [
          50,
          47
         ],
         "y": [
          54,
          43
         ],
         "z": [
          "rock",
          "rock"
         ]
        },
        {
         "hovertemplate": "top genre=%{z}<br>artist=Sam Fender<br>pop=%{x}<br>dnce=%{y}<br>dur=%{marker.size}<extra></extra>",
         "legendgroup": "rock, Sam Fender",
         "marker": {
          "color": "#00cc96",
          "size": [
           227
          ],
          "sizemode": "area",
          "sizeref": 3.1025,
          "symbol": "x"
         },
         "mode": "markers",
         "name": "rock, Sam Fender",
         "scene": "scene",
         "showlegend": true,
         "type": "scatter3d",
         "x": [
          49
         ],
         "y": [
          70
         ],
         "z": [
          "rock"
         ]
        },
        {
         "hovertemplate": "top genre=%{z}<br>artist=Hümeyra<br>pop=%{x}<br>dnce=%{y}<br>dur=%{marker.size}<extra></extra>",
         "legendgroup": "rock, Hümeyra",
         "marker": {
          "color": "#00cc96",
          "size": [
           210,
           210
          ],
          "sizemode": "area",
          "sizeref": 3.1025,
          "symbol": "x"
         },
         "mode": "markers",
         "name": "rock, Hümeyra",
         "scene": "scene",
         "showlegend": true,
         "type": "scatter3d",
         "x": [
          48,
          48
         ],
         "y": [
          48,
          33
         ],
         "z": [
          "rock",
          "rock"
         ]
        },
        {
         "hovertemplate": "top genre=%{z}<br>artist=Rana Alagöz<br>pop=%{x}<br>dnce=%{y}<br>dur=%{marker.size}<extra></extra>",
         "legendgroup": "rock, Rana Alagöz",
         "marker": {
          "color": "#00cc96",
          "size": [
           211,
           179
          ],
          "sizemode": "area",
          "sizeref": 3.1025,
          "symbol": "cross"
         },
         "mode": "markers",
         "name": "rock, Rana Alagöz",
         "scene": "scene",
         "showlegend": true,
         "type": "scatter3d",
         "x": [
          48,
          39
         ],
         "y": [
          48,
          70
         ],
         "z": [
          "rock",
          "rock"
         ]
        },
        {
         "hovertemplate": "top genre=%{z}<br>artist=Doves<br>pop=%{x}<br>dnce=%{y}<br>dur=%{marker.size}<extra></extra>",
         "legendgroup": "rock, Doves",
         "marker": {
          "color": "#00cc96",
          "size": [
           255
          ],
          "sizemode": "area",
          "sizeref": 3.1025,
          "symbol": "circle"
         },
         "mode": "markers",
         "name": "rock, Doves",
         "scene": "scene",
         "showlegend": true,
         "type": "scatter3d",
         "x": [
          47
         ],
         "y": [
          31
         ],
         "z": [
          "rock"
         ]
        },
        {
         "hovertemplate": "top genre=%{z}<br>artist=The Fratellis<br>pop=%{x}<br>dnce=%{y}<br>dur=%{marker.size}<extra></extra>",
         "legendgroup": "rock, The Fratellis",
         "marker": {
          "color": "#00cc96",
          "size": [
           215
          ],
          "sizemode": "area",
          "sizeref": 3.1025,
          "symbol": "x"
         },
         "mode": "markers",
         "name": "rock, The Fratellis",
         "scene": "scene",
         "showlegend": true,
         "type": "scatter3d",
         "x": [
          46
         ],
         "y": [
          51
         ],
         "z": [
          "rock"
         ]
        },
        {
         "hovertemplate": "top genre=%{z}<br>artist=Gülden Karaböcek<br>pop=%{x}<br>dnce=%{y}<br>dur=%{marker.size}<extra></extra>",
         "legendgroup": "rock, Gülden Karaböcek",
         "marker": {
          "color": "#00cc96",
          "size": [
           246
          ],
          "sizemode": "area",
          "sizeref": 3.1025,
          "symbol": "circle"
         },
         "mode": "markers",
         "name": "rock, Gülden Karaböcek",
         "scene": "scene",
         "showlegend": true,
         "type": "scatter3d",
         "x": [
          46
         ],
         "y": [
          60
         ],
         "z": [
          "rock"
         ]
        },
        {
         "hovertemplate": "top genre=%{z}<br>artist=Ken Zazpi<br>pop=%{x}<br>dnce=%{y}<br>dur=%{marker.size}<extra></extra>",
         "legendgroup": "rock, Ken Zazpi",
         "marker": {
          "color": "#00cc96",
          "size": [
           203
          ],
          "sizemode": "area",
          "sizeref": 3.1025,
          "symbol": "diamond"
         },
         "mode": "markers",
         "name": "rock, Ken Zazpi",
         "scene": "scene",
         "showlegend": true,
         "type": "scatter3d",
         "x": [
          44
         ],
         "y": [
          57
         ],
         "z": [
          "rock"
         ]
        },
        {
         "hovertemplate": "top genre=%{z}<br>artist=Ram Di Dam<br>pop=%{x}<br>dnce=%{y}<br>dur=%{marker.size}<extra></extra>",
         "legendgroup": "rock, Ram Di Dam",
         "marker": {
          "color": "#00cc96",
          "size": [
           156
          ],
          "sizemode": "area",
          "sizeref": 3.1025,
          "symbol": "x"
         },
         "mode": "markers",
         "name": "rock, Ram Di Dam",
         "scene": "scene",
         "showlegend": true,
         "type": "scatter3d",
         "x": [
          43
         ],
         "y": [
          38
         ],
         "z": [
          "rock"
         ]
        },
        {
         "hovertemplate": "top genre=%{z}<br>artist=The Feeling<br>pop=%{x}<br>dnce=%{y}<br>dur=%{marker.size}<extra></extra>",
         "legendgroup": "rock, The Feeling",
         "marker": {
          "color": "#00cc96",
          "size": [
           356
          ],
          "sizemode": "area",
          "sizeref": 3.1025,
          "symbol": "x"
         },
         "mode": "markers",
         "name": "rock, The Feeling",
         "scene": "scene",
         "showlegend": true,
         "type": "scatter3d",
         "x": [
          43
         ],
         "y": [
          55
         ],
         "z": [
          "rock"
         ]
        },
        {
         "hovertemplate": "top genre=%{z}<br>artist=Mavi Işıklar<br>pop=%{x}<br>dnce=%{y}<br>dur=%{marker.size}<extra></extra>",
         "legendgroup": "rock, Mavi Işıklar",
         "marker": {
          "color": "#00cc96",
          "size": [
           151,
           167,
           134
          ],
          "sizemode": "area",
          "sizeref": 3.1025,
          "symbol": "square"
         },
         "mode": "markers",
         "name": "rock, Mavi Işıklar",
         "scene": "scene",
         "showlegend": true,
         "type": "scatter3d",
         "x": [
          43,
          38,
          32
         ],
         "y": [
          64,
          41,
          34
         ],
         "z": [
          "rock",
          "rock",
          "rock"
         ]
        },
        {
         "hovertemplate": "top genre=%{z}<br>artist=Esin Afşar<br>pop=%{x}<br>dnce=%{y}<br>dur=%{marker.size}<extra></extra>",
         "legendgroup": "rock, Esin Afşar",
         "marker": {
          "color": "#00cc96",
          "size": [
           214
          ],
          "sizemode": "area",
          "sizeref": 3.1025,
          "symbol": "square"
         },
         "mode": "markers",
         "name": "rock, Esin Afşar",
         "scene": "scene",
         "showlegend": true,
         "type": "scatter3d",
         "x": [
          41
         ],
         "y": [
          70
         ],
         "z": [
          "rock"
         ]
        },
        {
         "hovertemplate": "top genre=%{z}<br>artist=Kamuran Akkor<br>pop=%{x}<br>dnce=%{y}<br>dur=%{marker.size}<extra></extra>",
         "legendgroup": "rock, Kamuran Akkor",
         "marker": {
          "color": "#00cc96",
          "size": [
           224
          ],
          "sizemode": "area",
          "sizeref": 3.1025,
          "symbol": "circle"
         },
         "mode": "markers",
         "name": "rock, Kamuran Akkor",
         "scene": "scene",
         "showlegend": true,
         "type": "scatter3d",
         "x": [
          41
         ],
         "y": [
          55
         ],
         "z": [
          "rock"
         ]
        },
        {
         "hovertemplate": "top genre=%{z}<br>artist=Animal Kingdom<br>pop=%{x}<br>dnce=%{y}<br>dur=%{marker.size}<extra></extra>",
         "legendgroup": "rock, Animal Kingdom",
         "marker": {
          "color": "#00cc96",
          "size": [
           195
          ],
          "sizemode": "area",
          "sizeref": 3.1025,
          "symbol": "cross"
         },
         "mode": "markers",
         "name": "rock, Animal Kingdom",
         "scene": "scene",
         "showlegend": true,
         "type": "scatter3d",
         "x": [
          40
         ],
         "y": [
          51
         ],
         "z": [
          "rock"
         ]
        },
        {
         "hovertemplate": "top genre=%{z}<br>artist=Moğollar<br>pop=%{x}<br>dnce=%{y}<br>dur=%{marker.size}<extra></extra>",
         "legendgroup": "rock, Moğollar",
         "marker": {
          "color": "#00cc96",
          "size": [
           235
          ],
          "sizemode": "area",
          "sizeref": 3.1025,
          "symbol": "x"
         },
         "mode": "markers",
         "name": "rock, Moğollar",
         "scene": "scene",
         "showlegend": true,
         "type": "scatter3d",
         "x": [
          40
         ],
         "y": [
          77
         ],
         "z": [
          "rock"
         ]
        },
        {
         "hovertemplate": "top genre=%{z}<br>artist=Asu Maralman<br>pop=%{x}<br>dnce=%{y}<br>dur=%{marker.size}<extra></extra>",
         "legendgroup": "rock, Asu Maralman",
         "marker": {
          "color": "#00cc96",
          "size": [
           168
          ],
          "sizemode": "area",
          "sizeref": 3.1025,
          "symbol": "cross"
         },
         "mode": "markers",
         "name": "rock, Asu Maralman",
         "scene": "scene",
         "showlegend": true,
         "type": "scatter3d",
         "x": [
          40
         ],
         "y": [
          70
         ],
         "z": [
          "rock"
         ]
        },
        {
         "hovertemplate": "top genre=%{z}<br>artist=Spring King<br>pop=%{x}<br>dnce=%{y}<br>dur=%{marker.size}<extra></extra>",
         "legendgroup": "rock, Spring King",
         "marker": {
          "color": "#00cc96",
          "size": [
           196
          ],
          "sizemode": "area",
          "sizeref": 3.1025,
          "symbol": "square"
         },
         "mode": "markers",
         "name": "rock, Spring King",
         "scene": "scene",
         "showlegend": true,
         "type": "scatter3d",
         "x": [
          39
         ],
         "y": [
          39
         ],
         "z": [
          "rock"
         ]
        },
        {
         "hovertemplate": "top genre=%{z}<br>artist=Death Cab for Cutie<br>pop=%{x}<br>dnce=%{y}<br>dur=%{marker.size}<extra></extra>",
         "legendgroup": "rock, Death Cab for Cutie",
         "marker": {
          "color": "#00cc96",
          "size": [
           240
          ],
          "sizemode": "area",
          "sizeref": 3.1025,
          "symbol": "x"
         },
         "mode": "markers",
         "name": "rock, Death Cab for Cutie",
         "scene": "scene",
         "showlegend": true,
         "type": "scatter3d",
         "x": [
          39
         ],
         "y": [
          52
         ],
         "z": [
          "rock"
         ]
        },
        {
         "hovertemplate": "top genre=%{z}<br>artist=Enjoy<br>pop=%{x}<br>dnce=%{y}<br>dur=%{marker.size}<extra></extra>",
         "legendgroup": "rock, Enjoy",
         "marker": {
          "color": "#00cc96",
          "size": [
           140
          ],
          "sizemode": "area",
          "sizeref": 3.1025,
          "symbol": "diamond"
         },
         "mode": "markers",
         "name": "rock, Enjoy",
         "scene": "scene",
         "showlegend": true,
         "type": "scatter3d",
         "x": [
          38
         ],
         "y": [
          58
         ],
         "z": [
          "rock"
         ]
        },
        {
         "hovertemplate": "top genre=%{z}<br>artist=The Amazons<br>pop=%{x}<br>dnce=%{y}<br>dur=%{marker.size}<extra></extra>",
         "legendgroup": "rock, The Amazons",
         "marker": {
          "color": "#00cc96",
          "size": [
           195
          ],
          "sizemode": "area",
          "sizeref": 3.1025,
          "symbol": "circle"
         },
         "mode": "markers",
         "name": "rock, The Amazons",
         "scene": "scene",
         "showlegend": true,
         "type": "scatter3d",
         "x": [
          38
         ],
         "y": [
          26
         ],
         "z": [
          "rock"
         ]
        },
        {
         "hovertemplate": "top genre=%{z}<br>artist=Men Without Hats<br>pop=%{x}<br>dnce=%{y}<br>dur=%{marker.size}<extra></extra>",
         "legendgroup": "rock, Men Without Hats",
         "marker": {
          "color": "#00cc96",
          "size": [
           167
          ],
          "sizemode": "area",
          "sizeref": 3.1025,
          "symbol": "diamond"
         },
         "mode": "markers",
         "name": "rock, Men Without Hats",
         "scene": "scene",
         "showlegend": true,
         "type": "scatter3d",
         "x": [
          37
         ],
         "y": [
          57
         ],
         "z": [
          "rock"
         ]
        },
        {
         "hovertemplate": "top genre=%{z}<br>artist=Bad Sounds<br>pop=%{x}<br>dnce=%{y}<br>dur=%{marker.size}<extra></extra>",
         "legendgroup": "rock, Bad Sounds",
         "marker": {
          "color": "#00cc96",
          "size": [
           175
          ],
          "sizemode": "area",
          "sizeref": 3.1025,
          "symbol": "square"
         },
         "mode": "markers",
         "name": "rock, Bad Sounds",
         "scene": "scene",
         "showlegend": true,
         "type": "scatter3d",
         "x": [
          37
         ],
         "y": [
          48
         ],
         "z": [
          "rock"
         ]
        },
        {
         "hovertemplate": "top genre=%{z}<br>artist=Stereo Honey<br>pop=%{x}<br>dnce=%{y}<br>dur=%{marker.size}<extra></extra>",
         "legendgroup": "rock, Stereo Honey",
         "marker": {
          "color": "#00cc96",
          "size": [
           241
          ],
          "sizemode": "area",
          "sizeref": 3.1025,
          "symbol": "cross"
         },
         "mode": "markers",
         "name": "rock, Stereo Honey",
         "scene": "scene",
         "showlegend": true,
         "type": "scatter3d",
         "x": [
          36
         ],
         "y": [
          47
         ],
         "z": [
          "rock"
         ]
        },
        {
         "hovertemplate": "top genre=%{z}<br>artist=Cahit Berkay<br>pop=%{x}<br>dnce=%{y}<br>dur=%{marker.size}<extra></extra>",
         "legendgroup": "rock, Cahit Berkay",
         "marker": {
          "color": "#00cc96",
          "size": [
           109
          ],
          "sizemode": "area",
          "sizeref": 3.1025,
          "symbol": "x"
         },
         "mode": "markers",
         "name": "rock, Cahit Berkay",
         "scene": "scene",
         "showlegend": true,
         "type": "scatter3d",
         "x": [
          36
         ],
         "y": [
          51
         ],
         "z": [
          "rock"
         ]
        },
        {
         "hovertemplate": "top genre=%{z}<br>artist=Husky Loops<br>pop=%{x}<br>dnce=%{y}<br>dur=%{marker.size}<extra></extra>",
         "legendgroup": "rock, Husky Loops",
         "marker": {
          "color": "#00cc96",
          "size": [
           154
          ],
          "sizemode": "area",
          "sizeref": 3.1025,
          "symbol": "diamond"
         },
         "mode": "markers",
         "name": "rock, Husky Loops",
         "scene": "scene",
         "showlegend": true,
         "type": "scatter3d",
         "x": [
          35
         ],
         "y": [
          42
         ],
         "z": [
          "rock"
         ]
        },
        {
         "hovertemplate": "top genre=%{z}<br>artist=Melody Club<br>pop=%{x}<br>dnce=%{y}<br>dur=%{marker.size}<extra></extra>",
         "legendgroup": "rock, Melody Club",
         "marker": {
          "color": "#00cc96",
          "size": [
           219
          ],
          "sizemode": "area",
          "sizeref": 3.1025,
          "symbol": "square"
         },
         "mode": "markers",
         "name": "rock, Melody Club",
         "scene": "scene",
         "showlegend": true,
         "type": "scatter3d",
         "x": [
          35
         ],
         "y": [
          69
         ],
         "z": [
          "rock"
         ]
        },
        {
         "hovertemplate": "top genre=%{z}<br>artist=Rickie Lee Jones<br>pop=%{x}<br>dnce=%{y}<br>dur=%{marker.size}<extra></extra>",
         "legendgroup": "rock, Rickie Lee Jones",
         "marker": {
          "color": "#00cc96",
          "size": [
           151
          ],
          "sizemode": "area",
          "sizeref": 3.1025,
          "symbol": "diamond"
         },
         "mode": "markers",
         "name": "rock, Rickie Lee Jones",
         "scene": "scene",
         "showlegend": true,
         "type": "scatter3d",
         "x": [
          34
         ],
         "y": [
          32
         ],
         "z": [
          "rock"
         ]
        },
        {
         "hovertemplate": "top genre=%{z}<br>artist=Dover<br>pop=%{x}<br>dnce=%{y}<br>dur=%{marker.size}<extra></extra>",
         "legendgroup": "rock, Dover",
         "marker": {
          "color": "#00cc96",
          "size": [
           180
          ],
          "sizemode": "area",
          "sizeref": 3.1025,
          "symbol": "square"
         },
         "mode": "markers",
         "name": "rock, Dover",
         "scene": "scene",
         "showlegend": true,
         "type": "scatter3d",
         "x": [
          28
         ],
         "y": [
          56
         ],
         "z": [
          "rock"
         ]
        },
        {
         "hovertemplate": "top genre=%{z}<br>artist=Auletta<br>pop=%{x}<br>dnce=%{y}<br>dur=%{marker.size}<extra></extra>",
         "legendgroup": "rock, Auletta",
         "marker": {
          "color": "#00cc96",
          "size": [
           211
          ],
          "sizemode": "area",
          "sizeref": 3.1025,
          "symbol": "x"
         },
         "mode": "markers",
         "name": "rock, Auletta",
         "scene": "scene",
         "showlegend": true,
         "type": "scatter3d",
         "x": [
          26
         ],
         "y": [
          59
         ],
         "z": [
          "rock"
         ]
        },
        {
         "hovertemplate": "top genre=%{z}<br>artist=The Pinker Tones<br>pop=%{x}<br>dnce=%{y}<br>dur=%{marker.size}<extra></extra>",
         "legendgroup": "rock, The Pinker Tones",
         "marker": {
          "color": "#00cc96",
          "size": [
           217
          ],
          "sizemode": "area",
          "sizeref": 3.1025,
          "symbol": "circle"
         },
         "mode": "markers",
         "name": "rock, The Pinker Tones",
         "scene": "scene",
         "showlegend": true,
         "type": "scatter3d",
         "x": [
          24
         ],
         "y": [
          72
         ],
         "z": [
          "rock"
         ]
        },
        {
         "hovertemplate": "top genre=%{z}<br>artist=Nine Black Alps<br>pop=%{x}<br>dnce=%{y}<br>dur=%{marker.size}<extra></extra>",
         "legendgroup": "rock, Nine Black Alps",
         "marker": {
          "color": "#00cc96",
          "size": [
           156
          ],
          "sizemode": "area",
          "sizeref": 3.1025,
          "symbol": "square"
         },
         "mode": "markers",
         "name": "rock, Nine Black Alps",
         "scene": "scene",
         "showlegend": true,
         "type": "scatter3d",
         "x": [
          23
         ],
         "y": [
          34
         ],
         "z": [
          "rock"
         ]
        },
        {
         "hovertemplate": "top genre=%{z}<br>artist=Ersen ve Dadaşlar<br>pop=%{x}<br>dnce=%{y}<br>dur=%{marker.size}<extra></extra>",
         "legendgroup": "rock, Ersen ve Dadaşlar",
         "marker": {
          "color": "#00cc96",
          "size": [
           294
          ],
          "sizemode": "area",
          "sizeref": 3.1025,
          "symbol": "square"
         },
         "mode": "markers",
         "name": "rock, Ersen ve Dadaşlar",
         "scene": "scene",
         "showlegend": true,
         "type": "scatter3d",
         "x": [
          11
         ],
         "y": [
          66
         ],
         "z": [
          "rock"
         ]
        },
        {
         "hovertemplate": "top genre=%{z}<br>artist=King Crimson<br>pop=%{x}<br>dnce=%{y}<br>dur=%{marker.size}<extra></extra>",
         "legendgroup": "rock, King Crimson",
         "marker": {
          "color": "#00cc96",
          "size": [
           563
          ],
          "sizemode": "area",
          "sizeref": 3.1025,
          "symbol": "diamond"
         },
         "mode": "markers",
         "name": "rock, King Crimson",
         "scene": "scene",
         "showlegend": true,
         "type": "scatter3d",
         "x": [
          0
         ],
         "y": [
          34
         ],
         "z": [
          "rock"
         ]
        },
        {
         "hovertemplate": "top genre=%{z}<br>artist=Glass Animals<br>pop=%{x}<br>dnce=%{y}<br>dur=%{marker.size}<extra></extra>",
         "legendgroup": "pop, Glass Animals",
         "marker": {
          "color": "#ab63fa",
          "size": [
           239,
           239,
           239,
           231
          ],
          "sizemode": "area",
          "sizeref": 3.1025,
          "symbol": "circle"
         },
         "mode": "markers",
         "name": "pop, Glass Animals",
         "scene": "scene",
         "showlegend": true,
         "type": "scatter3d",
         "x": [
          92,
          89,
          88,
          68
         ],
         "y": [
          76,
          76,
          76,
          65
         ],
         "z": [
          "pop",
          "pop",
          "pop",
          "pop"
         ]
        },
        {
         "hovertemplate": "top genre=%{z}<br>artist=Doja Cat<br>pop=%{x}<br>dnce=%{y}<br>dur=%{marker.size}<extra></extra>",
         "legendgroup": "pop, Doja Cat",
         "marker": {
          "color": "#ab63fa",
          "size": [
           138,
           238,
           211
          ],
          "sizemode": "area",
          "sizeref": 3.1025,
          "symbol": "square"
         },
         "mode": "markers",
         "name": "pop, Doja Cat",
         "scene": "scene",
         "showlegend": true,
         "type": "scatter3d",
         "x": [
          88,
          83,
          75
         ],
         "y": [
          91,
          79,
          82
         ],
         "z": [
          "pop",
          "pop",
          "pop"
         ]
        },
        {
         "hovertemplate": "top genre=%{z}<br>artist=Dua Lipa<br>pop=%{x}<br>dnce=%{y}<br>dur=%{marker.size}<extra></extra>",
         "legendgroup": "pop, Dua Lipa",
         "marker": {
          "color": "#ab63fa",
          "size": [
           203
          ],
          "sizemode": "area",
          "sizeref": 3.1025,
          "symbol": "cross"
         },
         "mode": "markers",
         "name": "pop, Dua Lipa",
         "scene": "scene",
         "showlegend": true,
         "type": "scatter3d",
         "x": [
          87
         ],
         "y": [
          70
         ],
         "z": [
          "pop"
         ]
        },
        {
         "hovertemplate": "top genre=%{z}<br>artist=Avicii<br>pop=%{x}<br>dnce=%{y}<br>dur=%{marker.size}<extra></extra>",
         "legendgroup": "pop, Avicii",
         "marker": {
          "color": "#ab63fa",
          "size": [
           177,
           247,
           200
          ],
          "sizemode": "area",
          "sizeref": 3.1025,
          "symbol": "square"
         },
         "mode": "markers",
         "name": "pop, Avicii",
         "scene": "scene",
         "showlegend": true,
         "type": "scatter3d",
         "x": [
          86,
          85,
          77
         ],
         "y": [
          53,
          53,
          58
         ],
         "z": [
          "pop",
          "pop",
          "pop"
         ]
        },
        {
         "hovertemplate": "top genre=%{z}<br>artist=Ariana Grande<br>pop=%{x}<br>dnce=%{y}<br>dur=%{marker.size}<extra></extra>",
         "legendgroup": "pop, Ariana Grande",
         "marker": {
          "color": "#ab63fa",
          "size": [
           172,
           179,
           174,
           207,
           168,
           190,
           244,
           194,
           147
          ],
          "sizemode": "area",
          "sizeref": 3.1025,
          "symbol": "x"
         },
         "mode": "markers",
         "name": "pop, Ariana Grande",
         "scene": "scene",
         "showlegend": true,
         "type": "scatter3d",
         "x": [
          86,
          85,
          84,
          82,
          80,
          77,
          76,
          74,
          65
         ],
         "y": [
          74,
          78,
          83,
          72,
          79,
          73,
          62,
          66,
          62
         ],
         "z": [
          "pop",
          "pop",
          "pop",
          "pop",
          "pop",
          "pop",
          "pop",
          "pop",
          "pop"
         ]
        },
        {
         "hovertemplate": "top genre=%{z}<br>artist=Ed Sheeran<br>pop=%{x}<br>dnce=%{y}<br>dur=%{marker.size}<extra></extra>",
         "legendgroup": "pop, Ed Sheeran",
         "marker": {
          "color": "#ab63fa",
          "size": [
           282,
           162
          ],
          "sizemode": "area",
          "sizeref": 3.1025,
          "symbol": "square"
         },
         "mode": "markers",
         "name": "pop, Ed Sheeran",
         "scene": "scene",
         "showlegend": true,
         "type": "scatter3d",
         "x": [
          84,
          67
         ],
         "y": [
          78,
          72
         ],
         "z": [
          "pop",
          "pop"
         ]
        },
        {
         "hovertemplate": "top genre=%{z}<br>artist=Michael Jackson<br>pop=%{x}<br>dnce=%{y}<br>dur=%{marker.size}<extra></extra>",
         "legendgroup": "pop, Michael Jackson",
         "marker": {
          "color": "#ab63fa",
          "size": [
           294,
           258
          ],
          "sizemode": "area",
          "sizeref": 3.1025,
          "symbol": "cross"
         },
         "mode": "markers",
         "name": "pop, Michael Jackson",
         "scene": "scene",
         "showlegend": true,
         "type": "scatter3d",
         "x": [
          84,
          81
         ],
         "y": [
          92,
          78
         ],
         "z": [
          "pop",
          "pop"
         ]
        },
        {
         "hovertemplate": "top genre=%{z}<br>artist=a-ha<br>pop=%{x}<br>dnce=%{y}<br>dur=%{marker.size}<extra></extra>",
         "legendgroup": "pop, a-ha",
         "marker": {
          "color": "#ab63fa",
          "size": [
           225
          ],
          "sizemode": "area",
          "sizeref": 3.1025,
          "symbol": "circle"
         },
         "mode": "markers",
         "name": "pop, a-ha",
         "scene": "scene",
         "showlegend": true,
         "type": "scatter3d",
         "x": [
          84
         ],
         "y": [
          57
         ],
         "z": [
          "pop"
         ]
        },
        {
         "hovertemplate": "top genre=%{z}<br>artist=Cardi B<br>pop=%{x}<br>dnce=%{y}<br>dur=%{marker.size}<extra></extra>",
         "legendgroup": "pop, Cardi B",
         "marker": {
          "color": "#ab63fa",
          "size": [
           188
          ],
          "sizemode": "area",
          "sizeref": 3.1025,
          "symbol": "cross"
         },
         "mode": "markers",
         "name": "pop, Cardi B",
         "scene": "scene",
         "showlegend": true,
         "type": "scatter3d",
         "x": [
          83
         ],
         "y": [
          94
         ],
         "z": [
          "pop"
         ]
        },
        {
         "hovertemplate": "top genre=%{z}<br>artist=Duncan Laurence<br>pop=%{x}<br>dnce=%{y}<br>dur=%{marker.size}<extra></extra>",
         "legendgroup": "pop, Duncan Laurence",
         "marker": {
          "color": "#ab63fa",
          "size": [
           184
          ],
          "sizemode": "area",
          "sizeref": 3.1025,
          "symbol": "circle"
         },
         "mode": "markers",
         "name": "pop, Duncan Laurence",
         "scene": "scene",
         "showlegend": true,
         "type": "scatter3d",
         "x": [
          83
         ],
         "y": [
          45
         ],
         "z": [
          "pop"
         ]
        },
        {
         "hovertemplate": "top genre=%{z}<br>artist=Britney Spears<br>pop=%{x}<br>dnce=%{y}<br>dur=%{marker.size}<extra></extra>",
         "legendgroup": "pop, Britney Spears",
         "marker": {
          "color": "#ab63fa",
          "size": [
           199,
           251,
           211,
           211
          ],
          "sizemode": "area",
          "sizeref": 3.1025,
          "symbol": "x"
         },
         "mode": "markers",
         "name": "pop, Britney Spears",
         "scene": "scene",
         "showlegend": true,
         "type": "scatter3d",
         "x": [
          82,
          80,
          79,
          79
         ],
         "y": [
          77,
          79,
          76,
          75
         ],
         "z": [
          "pop",
          "pop",
          "pop",
          "pop"
         ]
        },
        {
         "hovertemplate": "top genre=%{z}<br>artist=WALK THE MOON<br>pop=%{x}<br>dnce=%{y}<br>dur=%{marker.size}<extra></extra>",
         "legendgroup": "pop, WALK THE MOON",
         "marker": {
          "color": "#ab63fa",
          "size": [
           199,
           321,
           209,
           195,
           233,
           222,
           324
          ],
          "sizemode": "area",
          "sizeref": 3.1025,
          "symbol": "circle"
         },
         "mode": "markers",
         "name": "pop, WALK THE MOON",
         "scene": "scene",
         "showlegend": true,
         "type": "scatter3d",
         "x": [
          82,
          64,
          54,
          46,
          43,
          41,
          37
         ],
         "y": [
          58,
          47,
          47,
          55,
          63,
          54,
          35
         ],
         "z": [
          "pop",
          "pop",
          "pop",
          "pop",
          "pop",
          "pop",
          "pop"
         ]
        },
        {
         "hovertemplate": "top genre=%{z}<br>artist=Sam Smith<br>pop=%{x}<br>dnce=%{y}<br>dur=%{marker.size}<extra></extra>",
         "legendgroup": "pop, Sam Smith",
         "marker": {
          "color": "#ab63fa",
          "size": [
           239,
           201
          ],
          "sizemode": "area",
          "sizeref": 3.1025,
          "symbol": "x"
         },
         "mode": "markers",
         "name": "pop, Sam Smith",
         "scene": "scene",
         "showlegend": true,
         "type": "scatter3d",
         "x": [
          82,
          81
         ],
         "y": [
          68,
          68
         ],
         "z": [
          "pop",
          "pop"
         ]
        },
        {
         "hovertemplate": "top genre=%{z}<br>artist=Harry Styles<br>pop=%{x}<br>dnce=%{y}<br>dur=%{marker.size}<extra></extra>",
         "legendgroup": "pop, Harry Styles",
         "marker": {
          "color": "#ab63fa",
          "size": [
           341,
           176,
           190,
           341
          ],
          "sizemode": "area",
          "sizeref": 3.1025,
          "symbol": "circle"
         },
         "mode": "markers",
         "name": "pop, Harry Styles",
         "scene": "scene",
         "showlegend": true,
         "type": "scatter3d",
         "x": [
          81,
          78,
          70,
          69
         ],
         "y": [
          52,
          38,
          62,
          52
         ],
         "z": [
          "pop",
          "pop",
          "pop",
          "pop"
         ]
        },
        {
         "hovertemplate": "top genre=%{z}<br>artist=Grouplove<br>pop=%{x}<br>dnce=%{y}<br>dur=%{marker.size}<extra></extra>",
         "legendgroup": "pop, Grouplove",
         "marker": {
          "color": "#ab63fa",
          "size": [
           218,
           272,
           254
          ],
          "sizemode": "area",
          "sizeref": 3.1025,
          "symbol": "diamond"
         },
         "mode": "markers",
         "name": "pop, Grouplove",
         "scene": "scene",
         "showlegend": true,
         "type": "scatter3d",
         "x": [
          81,
          42,
          38
         ],
         "y": [
          56,
          54,
          53
         ],
         "z": [
          "pop",
          "pop",
          "pop"
         ]
        },
        {
         "hovertemplate": "top genre=%{z}<br>artist=ABBA<br>pop=%{x}<br>dnce=%{y}<br>dur=%{marker.size}<extra></extra>",
         "legendgroup": "pop, ABBA",
         "marker": {
          "color": "#ab63fa",
          "size": [
           230,
           293,
           213,
           326,
           295,
           169,
           311,
           244,
           253,
           274,
           309,
           175,
           229,
           242,
           193,
           186,
           202,
           292,
           237,
           185,
           166,
           181,
           153
          ],
          "sizemode": "area",
          "sizeref": 3.1025,
          "symbol": "x"
         },
         "mode": "markers",
         "name": "pop, ABBA",
         "scene": "scene",
         "showlegend": true,
         "type": "scatter3d",
         "x": [
          81,
          81,
          76,
          75,
          74,
          73,
          72,
          72,
          72,
          70,
          69,
          64,
          64,
          64,
          63,
          62,
          61,
          60,
          59,
          58,
          31,
          29,
          0
         ],
         "y": [
          54,
          75,
          75,
          50,
          45,
          45,
          21,
          68,
          76,
          68,
          71,
          47,
          28,
          55,
          73,
          79,
          42,
          66,
          65,
          56,
          47,
          42,
          73
         ],
         "z": [
          "pop",
          "pop",
          "pop",
          "pop",
          "pop",
          "pop",
          "pop",
          "pop",
          "pop",
          "pop",
          "pop",
          "pop",
          "pop",
          "pop",
          "pop",
          "pop",
          "pop",
          "pop",
          "pop",
          "pop",
          "pop",
          "pop",
          "pop"
         ]
        },
        {
         "hovertemplate": "top genre=%{z}<br>artist=Whitney Houston<br>pop=%{x}<br>dnce=%{y}<br>dur=%{marker.size}<extra></extra>",
         "legendgroup": "pop, Whitney Houston",
         "marker": {
          "color": "#ab63fa",
          "size": [
           291
          ],
          "sizemode": "area",
          "sizeref": 3.1025,
          "symbol": "cross"
         },
         "mode": "markers",
         "name": "pop, Whitney Houston",
         "scene": "scene",
         "showlegend": true,
         "type": "scatter3d",
         "x": [
          81
         ],
         "y": [
          71
         ],
         "z": [
          "pop"
         ]
        },
        {
         "hovertemplate": "top genre=%{z}<br>artist=Don Toliver<br>pop=%{x}<br>dnce=%{y}<br>dur=%{marker.size}<extra></extra>",
         "legendgroup": "pop, Don Toliver",
         "marker": {
          "color": "#ab63fa",
          "size": [
           154,
           168
          ],
          "sizemode": "area",
          "sizeref": 3.1025,
          "symbol": "circle"
         },
         "mode": "markers",
         "name": "pop, Don Toliver",
         "scene": "scene",
         "showlegend": true,
         "type": "scatter3d",
         "x": [
          81,
          81
         ],
         "y": [
          65,
          63
         ],
         "z": [
          "pop",
          "pop"
         ]
        },
        {
         "hovertemplate": "top genre=%{z}<br>artist=Arizona Zervas<br>pop=%{x}<br>dnce=%{y}<br>dur=%{marker.size}<extra></extra>",
         "legendgroup": "pop, Arizona Zervas",
         "marker": {
          "color": "#ab63fa",
          "size": [
           164
          ],
          "sizemode": "area",
          "sizeref": 3.1025,
          "symbol": "x"
         },
         "mode": "markers",
         "name": "pop, Arizona Zervas",
         "scene": "scene",
         "showlegend": true,
         "type": "scatter3d",
         "x": [
          81
         ],
         "y": [
          62
         ],
         "z": [
          "pop"
         ]
        },
        {
         "hovertemplate": "top genre=%{z}<br>artist=Axwell /\\ Ingrosso<br>pop=%{x}<br>dnce=%{y}<br>dur=%{marker.size}<extra></extra>",
         "legendgroup": "pop, Axwell /\\ Ingrosso",
         "marker": {
          "color": "#ab63fa",
          "size": [
           203
          ],
          "sizemode": "area",
          "sizeref": 3.1025,
          "symbol": "diamond"
         },
         "mode": "markers",
         "name": "pop, Axwell /\\ Ingrosso",
         "scene": "scene",
         "showlegend": true,
         "type": "scatter3d",
         "x": [
          80
         ],
         "y": [
          65
         ],
         "z": [
          "pop"
         ]
        },
        {
         "hovertemplate": "top genre=%{z}<br>artist=Stromae<br>pop=%{x}<br>dnce=%{y}<br>dur=%{marker.size}<extra></extra>",
         "legendgroup": "pop, Stromae",
         "marker": {
          "color": "#ab63fa",
          "size": [
           206,
           232,
           211,
           214,
           175,
           209,
           250,
           189,
           204,
           195,
           188,
           181,
           531,
           240,
           225,
           219,
           176,
           212,
           159,
           239,
           229,
           238,
           185,
           248,
           281,
           172,
           183,
           251,
           167
          ],
          "sizemode": "area",
          "sizeref": 3.1025,
          "symbol": "square"
         },
         "mode": "markers",
         "name": "pop, Stromae",
         "scene": "scene",
         "showlegend": true,
         "type": "scatter3d",
         "x": [
          80,
          74,
          70,
          68,
          63,
          61,
          61,
          59,
          58,
          55,
          55,
          54,
          54,
          53,
          53,
          53,
          53,
          52,
          52,
          51,
          51,
          44,
          43,
          43,
          43,
          41,
          41,
          28,
          0
         ],
         "y": [
          79,
          73,
          70,
          51,
          68,
          74,
          72,
          66,
          72,
          83,
          49,
          43,
          74,
          65,
          85,
          65,
          59,
          73,
          52,
          84,
          55,
          42,
          58,
          66,
          59,
          85,
          37,
          56,
          60
         ],
         "z": [
          "pop",
          "pop",
          "pop",
          "pop",
          "pop",
          "pop",
          "pop",
          "pop",
          "pop",
          "pop",
          "pop",
          "pop",
          "pop",
          "pop",
          "pop",
          "pop",
          "pop",
          "pop",
          "pop",
          "pop",
          "pop",
          "pop",
          "pop",
          "pop",
          "pop",
          "pop",
          "pop",
          "pop",
          "pop"
         ]
        },
        {
         "hovertemplate": "top genre=%{z}<br>artist=Swedish House Mafia<br>pop=%{x}<br>dnce=%{y}<br>dur=%{marker.size}<extra></extra>",
         "legendgroup": "pop, Swedish House Mafia",
         "marker": {
          "color": "#ab63fa",
          "size": [
           213,
           410
          ],
          "sizemode": "area",
          "sizeref": 3.1025,
          "symbol": "square"
         },
         "mode": "markers",
         "name": "pop, Swedish House Mafia",
         "scene": "scene",
         "showlegend": true,
         "type": "scatter3d",
         "x": [
          79,
          65
         ],
         "y": [
          61,
          72
         ],
         "z": [
          "pop",
          "pop"
         ]
        },
        {
         "hovertemplate": "top genre=%{z}<br>artist=Khalid<br>pop=%{x}<br>dnce=%{y}<br>dur=%{marker.size}<extra></extra>",
         "legendgroup": "pop, Khalid",
         "marker": {
          "color": "#ab63fa",
          "size": [
           219,
           239
          ],
          "sizemode": "area",
          "sizeref": 3.1025,
          "symbol": "diamond"
         },
         "mode": "markers",
         "name": "pop, Khalid",
         "scene": "scene",
         "showlegend": true,
         "type": "scatter3d",
         "x": [
          79,
          63
         ],
         "y": [
          74,
          73
         ],
         "z": [
          "pop",
          "pop"
         ]
        },
        {
         "hovertemplate": "top genre=%{z}<br>artist=4 Non Blondes<br>pop=%{x}<br>dnce=%{y}<br>dur=%{marker.size}<extra></extra>",
         "legendgroup": "pop, 4 Non Blondes",
         "marker": {
          "color": "#ab63fa",
          "size": [
           296
          ],
          "sizemode": "area",
          "sizeref": 3.1025,
          "symbol": "square"
         },
         "mode": "markers",
         "name": "pop, 4 Non Blondes",
         "scene": "scene",
         "showlegend": true,
         "type": "scatter3d",
         "x": [
          79
         ],
         "y": [
          56
         ],
         "z": [
          "pop"
         ]
        },
        {
         "hovertemplate": "top genre=%{z}<br>artist=Billie Eilish<br>pop=%{x}<br>dnce=%{y}<br>dur=%{marker.size}<extra></extra>",
         "legendgroup": "pop, Billie Eilish",
         "marker": {
          "color": "#ab63fa",
          "size": [
           204,
           181
          ],
          "sizemode": "area",
          "sizeref": 3.1025,
          "symbol": "circle"
         },
         "mode": "markers",
         "name": "pop, Billie Eilish",
         "scene": "scene",
         "showlegend": true,
         "type": "scatter3d",
         "x": [
          78,
          77
         ],
         "y": [
          48,
          68
         ],
         "z": [
          "pop",
          "pop"
         ]
        },
        {
         "hovertemplate": "top genre=%{z}<br>artist=JAWNY<br>pop=%{x}<br>dnce=%{y}<br>dur=%{marker.size}<extra></extra>",
         "legendgroup": "pop, JAWNY",
         "marker": {
          "color": "#ab63fa",
          "size": [
           136
          ],
          "sizemode": "area",
          "sizeref": 3.1025,
          "symbol": "circle"
         },
         "mode": "markers",
         "name": "pop, JAWNY",
         "scene": "scene",
         "showlegend": true,
         "type": "scatter3d",
         "x": [
          77
         ],
         "y": [
          74
         ],
         "z": [
          "pop"
         ]
        },
        {
         "hovertemplate": "top genre=%{z}<br>artist=M.I.A.<br>pop=%{x}<br>dnce=%{y}<br>dur=%{marker.size}<extra></extra>",
         "legendgroup": "pop, M.I.A.",
         "marker": {
          "color": "#ab63fa",
          "size": [
           205
          ],
          "sizemode": "area",
          "sizeref": 3.1025,
          "symbol": "diamond"
         },
         "mode": "markers",
         "name": "pop, M.I.A.",
         "scene": "scene",
         "showlegend": true,
         "type": "scatter3d",
         "x": [
          77
         ],
         "y": [
          45
         ],
         "z": [
          "pop"
         ]
        },
        {
         "hovertemplate": "top genre=%{z}<br>artist=Y2K<br>pop=%{x}<br>dnce=%{y}<br>dur=%{marker.size}<extra></extra>",
         "legendgroup": "pop, Y2K",
         "marker": {
          "color": "#ab63fa",
          "size": [
           161
          ],
          "sizemode": "area",
          "sizeref": 3.1025,
          "symbol": "circle"
         },
         "mode": "markers",
         "name": "pop, Y2K",
         "scene": "scene",
         "showlegend": true,
         "type": "scatter3d",
         "x": [
          77
         ],
         "y": [
          84
         ],
         "z": [
          "pop"
         ]
        },
        {
         "hovertemplate": "top genre=%{z}<br>artist=Bastille<br>pop=%{x}<br>dnce=%{y}<br>dur=%{marker.size}<extra></extra>",
         "legendgroup": "pop, Bastille",
         "marker": {
          "color": "#ab63fa",
          "size": [
           214,
           214,
           219,
           213,
           175,
           207,
           206,
           218
          ],
          "sizemode": "area",
          "sizeref": 3.1025,
          "symbol": "square"
         },
         "mode": "markers",
         "name": "pop, Bastille",
         "scene": "scene",
         "showlegend": true,
         "type": "scatter3d",
         "x": [
          75,
          57,
          56,
          55,
          48,
          47,
          46,
          35
         ],
         "y": [
          68,
          68,
          57,
          66,
          57,
          71,
          43,
          58
         ],
         "z": [
          "pop",
          "pop",
          "pop",
          "pop",
          "pop",
          "pop",
          "pop",
          "pop"
         ]
        },
        {
         "hovertemplate": "top genre=%{z}<br>artist=Miki Matsubara<br>pop=%{x}<br>dnce=%{y}<br>dur=%{marker.size}<extra></extra>",
         "legendgroup": "pop, Miki Matsubara",
         "marker": {
          "color": "#ab63fa",
          "size": [
           312
          ],
          "sizemode": "area",
          "sizeref": 3.1025,
          "symbol": "x"
         },
         "mode": "markers",
         "name": "pop, Miki Matsubara",
         "scene": "scene",
         "showlegend": true,
         "type": "scatter3d",
         "x": [
          75
         ],
         "y": [
          66
         ],
         "z": [
          "pop"
         ]
        },
        {
         "hovertemplate": "top genre=%{z}<br>artist=Bonnie Tyler<br>pop=%{x}<br>dnce=%{y}<br>dur=%{marker.size}<extra></extra>",
         "legendgroup": "pop, Bonnie Tyler",
         "marker": {
          "color": "#ab63fa",
          "size": [
           348
          ],
          "sizemode": "area",
          "sizeref": 3.1025,
          "symbol": "diamond"
         },
         "mode": "markers",
         "name": "pop, Bonnie Tyler",
         "scene": "scene",
         "showlegend": true,
         "type": "scatter3d",
         "x": [
          74
         ],
         "y": [
          62
         ],
         "z": [
          "pop"
         ]
        },
        {
         "hovertemplate": "top genre=%{z}<br>artist=Beyoncé<br>pop=%{x}<br>dnce=%{y}<br>dur=%{marker.size}<extra></extra>",
         "legendgroup": "pop, Beyoncé",
         "marker": {
          "color": "#ab63fa",
          "size": [
           206,
           214,
           221,
           233,
           322,
           288,
           260,
           290,
           196,
           183,
           234,
           237,
           239,
           204
          ],
          "sizemode": "area",
          "sizeref": 3.1025,
          "symbol": "circle"
         },
         "mode": "markers",
         "name": "pop, Beyoncé",
         "scene": "scene",
         "showlegend": true,
         "type": "scatter3d",
         "x": [
          74,
          71,
          69,
          68,
          64,
          64,
          63,
          62,
          61,
          60,
          60,
          58,
          58,
          54
         ],
         "y": [
          90,
          75,
          52,
          78,
          57,
          64,
          52,
          44,
          25,
          33,
          61,
          46,
          51,
          55
         ],
         "z": [
          "pop",
          "pop",
          "pop",
          "pop",
          "pop",
          "pop",
          "pop",
          "pop",
          "pop",
          "pop",
          "pop",
          "pop",
          "pop",
          "pop"
         ]
        },
        {
         "hovertemplate": "top genre=%{z}<br>artist=Lorde<br>pop=%{x}<br>dnce=%{y}<br>dur=%{marker.size}<extra></extra>",
         "legendgroup": "pop, Lorde",
         "marker": {
          "color": "#ab63fa",
          "size": [
           235,
           278,
           214,
           235,
           278,
           222,
           190,
           271,
           172,
           197,
           367,
           217,
           214,
           179,
           238,
           136,
           256
          ],
          "sizemode": "area",
          "sizeref": 3.1025,
          "symbol": "diamond"
         },
         "mode": "markers",
         "name": "pop, Lorde",
         "scene": "scene",
         "showlegend": true,
         "type": "scatter3d",
         "x": [
          73,
          68,
          64,
          59,
          59,
          58,
          57,
          57,
          57,
          56,
          56,
          56,
          55,
          54,
          52,
          50,
          49
         ],
         "y": [
          59,
          56,
          78,
          59,
          56,
          62,
          77,
          66,
          59,
          80,
          49,
          33,
          78,
          52,
          49,
          55,
          55
         ],
         "z": [
          "pop",
          "pop",
          "pop",
          "pop",
          "pop",
          "pop",
          "pop",
          "pop",
          "pop",
          "pop",
          "pop",
          "pop",
          "pop",
          "pop",
          "pop",
          "pop",
          "pop"
         ]
        },
        {
         "hovertemplate": "top genre=%{z}<br>artist=fun.<br>pop=%{x}<br>dnce=%{y}<br>dur=%{marker.size}<extra></extra>",
         "legendgroup": "pop, fun.",
         "marker": {
          "color": "#ab63fa",
          "size": [
           251
          ],
          "sizemode": "area",
          "sizeref": 3.1025,
          "symbol": "square"
         },
         "mode": "markers",
         "name": "pop, fun.",
         "scene": "scene",
         "showlegend": true,
         "type": "scatter3d",
         "x": [
          73
         ],
         "y": [
          38
         ],
         "z": [
          "pop"
         ]
        },
        {
         "hovertemplate": "top genre=%{z}<br>artist=Dominic Fike<br>pop=%{x}<br>dnce=%{y}<br>dur=%{marker.size}<extra></extra>",
         "legendgroup": "pop, Dominic Fike",
         "marker": {
          "color": "#ab63fa",
          "size": [
           147
          ],
          "sizemode": "area",
          "sizeref": 3.1025,
          "symbol": "cross"
         },
         "mode": "markers",
         "name": "pop, Dominic Fike",
         "scene": "scene",
         "showlegend": true,
         "type": "scatter3d",
         "x": [
          73
         ],
         "y": [
          88
         ],
         "z": [
          "pop"
         ]
        },
        {
         "hovertemplate": "top genre=%{z}<br>artist=Wallows<br>pop=%{x}<br>dnce=%{y}<br>dur=%{marker.size}<extra></extra>",
         "legendgroup": "pop, Wallows",
         "marker": {
          "color": "#ab63fa",
          "size": [
           155,
           193,
           203,
           205
          ],
          "sizemode": "area",
          "sizeref": 3.1025,
          "symbol": "diamond"
         },
         "mode": "markers",
         "name": "pop, Wallows",
         "scene": "scene",
         "showlegend": true,
         "type": "scatter3d",
         "x": [
          73,
          68,
          68,
          60
         ],
         "y": [
          50,
          72,
          66,
          44
         ],
         "z": [
          "pop",
          "pop",
          "pop",
          "pop"
         ]
        },
        {
         "hovertemplate": "top genre=%{z}<br>artist=The Pointer Sisters<br>pop=%{x}<br>dnce=%{y}<br>dur=%{marker.size}<extra></extra>",
         "legendgroup": "pop, The Pointer Sisters",
         "marker": {
          "color": "#ab63fa",
          "size": [
           231,
           229
          ],
          "sizemode": "area",
          "sizeref": 3.1025,
          "symbol": "circle"
         },
         "mode": "markers",
         "name": "pop, The Pointer Sisters",
         "scene": "scene",
         "showlegend": true,
         "type": "scatter3d",
         "x": [
          72,
          65
         ],
         "y": [
          59,
          69
         ],
         "z": [
          "pop",
          "pop"
         ]
        },
        {
         "hovertemplate": "top genre=%{z}<br>artist=Boney M.<br>pop=%{x}<br>dnce=%{y}<br>dur=%{marker.size}<extra></extra>",
         "legendgroup": "pop, Boney M.",
         "marker": {
          "color": "#ab63fa",
          "size": [
           209
          ],
          "sizemode": "area",
          "sizeref": 3.1025,
          "symbol": "diamond"
         },
         "mode": "markers",
         "name": "pop, Boney M.",
         "scene": "scene",
         "showlegend": true,
         "type": "scatter3d",
         "x": [
          72
         ],
         "y": [
          76
         ],
         "z": [
          "pop"
         ]
        },
        {
         "hovertemplate": "top genre=%{z}<br>artist=Desiigner<br>pop=%{x}<br>dnce=%{y}<br>dur=%{marker.size}<extra></extra>",
         "legendgroup": "pop, Desiigner",
         "marker": {
          "color": "#ab63fa",
          "size": [
           247,
           240,
           155,
           152
          ],
          "sizemode": "area",
          "sizeref": 3.1025,
          "symbol": "diamond"
         },
         "mode": "markers",
         "name": "pop, Desiigner",
         "scene": "scene",
         "showlegend": true,
         "type": "scatter3d",
         "x": [
          72,
          69,
          50,
          30
         ],
         "y": [
          58,
          60,
          76,
          70
         ],
         "z": [
          "pop",
          "pop",
          "pop",
          "pop"
         ]
        },
        {
         "hovertemplate": "top genre=%{z}<br>artist=Chris Brown<br>pop=%{x}<br>dnce=%{y}<br>dur=%{marker.size}<extra></extra>",
         "legendgroup": "pop, Chris Brown",
         "marker": {
          "color": "#ab63fa",
          "size": [
           223
          ],
          "sizemode": "area",
          "sizeref": 3.1025,
          "symbol": "diamond"
         },
         "mode": "markers",
         "name": "pop, Chris Brown",
         "scene": "scene",
         "showlegend": true,
         "type": "scatter3d",
         "x": [
          72
         ],
         "y": [
          77
         ],
         "z": [
          "pop"
         ]
        },
        {
         "hovertemplate": "top genre=%{z}<br>artist=benny blanco<br>pop=%{x}<br>dnce=%{y}<br>dur=%{marker.size}<extra></extra>",
         "legendgroup": "pop, benny blanco",
         "marker": {
          "color": "#ab63fa",
          "size": [
           178
          ],
          "sizemode": "area",
          "sizeref": 3.1025,
          "symbol": "x"
         },
         "mode": "markers",
         "name": "pop, benny blanco",
         "scene": "scene",
         "showlegend": true,
         "type": "scatter3d",
         "x": [
          71
         ],
         "y": [
          73
         ],
         "z": [
          "pop"
         ]
        },
        {
         "hovertemplate": "top genre=%{z}<br>artist=beabadoobee<br>pop=%{x}<br>dnce=%{y}<br>dur=%{marker.size}<extra></extra>",
         "legendgroup": "pop, beabadoobee",
         "marker": {
          "color": "#ab63fa",
          "size": [
           127
          ],
          "sizemode": "area",
          "sizeref": 3.1025,
          "symbol": "diamond"
         },
         "mode": "markers",
         "name": "pop, beabadoobee",
         "scene": "scene",
         "showlegend": true,
         "type": "scatter3d",
         "x": [
          69
         ],
         "y": [
          53
         ],
         "z": [
          "pop"
         ]
        },
        {
         "hovertemplate": "top genre=%{z}<br>artist=Phum Viphurit<br>pop=%{x}<br>dnce=%{y}<br>dur=%{marker.size}<extra></extra>",
         "legendgroup": "pop, Phum Viphurit",
         "marker": {
          "color": "#ab63fa",
          "size": [
           237
          ],
          "sizemode": "area",
          "sizeref": 3.1025,
          "symbol": "x"
         },
         "mode": "markers",
         "name": "pop, Phum Viphurit",
         "scene": "scene",
         "showlegend": true,
         "type": "scatter3d",
         "x": [
          69
         ],
         "y": [
          80
         ],
         "z": [
          "pop"
         ]
        },
        {
         "hovertemplate": "top genre=%{z}<br>artist=Selena Gomez<br>pop=%{x}<br>dnce=%{y}<br>dur=%{marker.size}<extra></extra>",
         "legendgroup": "pop, Selena Gomez",
         "marker": {
          "color": "#ab63fa",
          "size": [
           215
          ],
          "sizemode": "area",
          "sizeref": 3.1025,
          "symbol": "square"
         },
         "mode": "markers",
         "name": "pop, Selena Gomez",
         "scene": "scene",
         "showlegend": true,
         "type": "scatter3d",
         "x": [
          68
         ],
         "y": [
          97
         ],
         "z": [
          "pop"
         ]
        },
        {
         "hovertemplate": "top genre=%{z}<br>artist=Kyle Exum<br>pop=%{x}<br>dnce=%{y}<br>dur=%{marker.size}<extra></extra>",
         "legendgroup": "pop, Kyle Exum",
         "marker": {
          "color": "#ab63fa",
          "size": [
           128
          ],
          "sizemode": "area",
          "sizeref": 3.1025,
          "symbol": "x"
         },
         "mode": "markers",
         "name": "pop, Kyle Exum",
         "scene": "scene",
         "showlegend": true,
         "type": "scatter3d",
         "x": [
          68
         ],
         "y": [
          80
         ],
         "z": [
          "pop"
         ]
        },
        {
         "hovertemplate": "top genre=%{z}<br>artist=City Girls<br>pop=%{x}<br>dnce=%{y}<br>dur=%{marker.size}<extra></extra>",
         "legendgroup": "pop, City Girls",
         "marker": {
          "color": "#ab63fa",
          "size": [
           218
          ],
          "sizemode": "area",
          "sizeref": 3.1025,
          "symbol": "circle"
         },
         "mode": "markers",
         "name": "pop, City Girls",
         "scene": "scene",
         "showlegend": true,
         "type": "scatter3d",
         "x": [
          68
         ],
         "y": [
          94
         ],
         "z": [
          "pop"
         ]
        },
        {
         "hovertemplate": "top genre=%{z}<br>artist=Jennifer Lopez<br>pop=%{x}<br>dnce=%{y}<br>dur=%{marker.size}<extra></extra>",
         "legendgroup": "pop, Jennifer Lopez",
         "marker": {
          "color": "#ab63fa",
          "size": [
           238
          ],
          "sizemode": "area",
          "sizeref": 3.1025,
          "symbol": "cross"
         },
         "mode": "markers",
         "name": "pop, Jennifer Lopez",
         "scene": "scene",
         "showlegend": true,
         "type": "scatter3d",
         "x": [
          68
         ],
         "y": [
          82
         ],
         "z": [
          "pop"
         ]
        },
        {
         "hovertemplate": "top genre=%{z}<br>artist=ZAYN<br>pop=%{x}<br>dnce=%{y}<br>dur=%{marker.size}<extra></extra>",
         "legendgroup": "pop, ZAYN",
         "marker": {
          "color": "#ab63fa",
          "size": [
           246
          ],
          "sizemode": "area",
          "sizeref": 3.1025,
          "symbol": "cross"
         },
         "mode": "markers",
         "name": "pop, ZAYN",
         "scene": "scene",
         "showlegend": true,
         "type": "scatter3d",
         "x": [
          67
         ],
         "y": [
          73
         ],
         "z": [
          "pop"
         ]
        },
        {
         "hovertemplate": "top genre=%{z}<br>artist=Peach Pit<br>pop=%{x}<br>dnce=%{y}<br>dur=%{marker.size}<extra></extra>",
         "legendgroup": "pop, Peach Pit",
         "marker": {
          "color": "#ab63fa",
          "size": [
           362
          ],
          "sizemode": "area",
          "sizeref": 3.1025,
          "symbol": "circle"
         },
         "mode": "markers",
         "name": "pop, Peach Pit",
         "scene": "scene",
         "showlegend": true,
         "type": "scatter3d",
         "x": [
          67
         ],
         "y": [
          56
         ],
         "z": [
          "pop"
         ]
        },
        {
         "hovertemplate": "top genre=%{z}<br>artist=Mariya Takeuchi<br>pop=%{x}<br>dnce=%{y}<br>dur=%{marker.size}<extra></extra>",
         "legendgroup": "pop, Mariya Takeuchi",
         "marker": {
          "color": "#ab63fa",
          "size": [
           294
          ],
          "sizemode": "area",
          "sizeref": 3.1025,
          "symbol": "diamond"
         },
         "mode": "markers",
         "name": "pop, Mariya Takeuchi",
         "scene": "scene",
         "showlegend": true,
         "type": "scatter3d",
         "x": [
          66
         ],
         "y": [
          65
         ],
         "z": [
          "pop"
         ]
        },
        {
         "hovertemplate": "top genre=%{z}<br>artist=maNga<br>pop=%{x}<br>dnce=%{y}<br>dur=%{marker.size}<extra></extra>",
         "legendgroup": "pop, maNga",
         "marker": {
          "color": "#ab63fa",
          "size": [
           260,
           272,
           183,
           240,
           210
          ],
          "sizemode": "area",
          "sizeref": 3.1025,
          "symbol": "square"
         },
         "mode": "markers",
         "name": "pop, maNga",
         "scene": "scene",
         "showlegend": true,
         "type": "scatter3d",
         "x": [
          66,
          66,
          64,
          61,
          59
         ],
         "y": [
          64,
          47,
          66,
          70,
          54
         ],
         "z": [
          "pop",
          "pop",
          "pop",
          "pop",
          "pop"
         ]
        },
        {
         "hovertemplate": "top genre=%{z}<br>artist=NCT 127<br>pop=%{x}<br>dnce=%{y}<br>dur=%{marker.size}<extra></extra>",
         "legendgroup": "pop, NCT 127",
         "marker": {
          "color": "#ab63fa",
          "size": [
           237
          ],
          "sizemode": "area",
          "sizeref": 3.1025,
          "symbol": "diamond"
         },
         "mode": "markers",
         "name": "pop, NCT 127",
         "scene": "scene",
         "showlegend": true,
         "type": "scatter3d",
         "x": [
          66
         ],
         "y": [
          71
         ],
         "z": [
          "pop"
         ]
        },
        {
         "hovertemplate": "top genre=%{z}<br>artist=Capital Cities<br>pop=%{x}<br>dnce=%{y}<br>dur=%{marker.size}<extra></extra>",
         "legendgroup": "pop, Capital Cities",
         "marker": {
          "color": "#ab63fa",
          "size": [
           223,
           186
          ],
          "sizemode": "area",
          "sizeref": 3.1025,
          "symbol": "square"
         },
         "mode": "markers",
         "name": "pop, Capital Cities",
         "scene": "scene",
         "showlegend": true,
         "type": "scatter3d",
         "x": [
          65,
          45
         ],
         "y": [
          76,
          66
         ],
         "z": [
          "pop",
          "pop"
         ]
        },
        {
         "hovertemplate": "top genre=%{z}<br>artist=The Veronicas<br>pop=%{x}<br>dnce=%{y}<br>dur=%{marker.size}<extra></extra>",
         "legendgroup": "pop, The Veronicas",
         "marker": {
          "color": "#ab63fa",
          "size": [
           255,
           255
          ],
          "sizemode": "area",
          "sizeref": 3.1025,
          "symbol": "cross"
         },
         "mode": "markers",
         "name": "pop, The Veronicas",
         "scene": "scene",
         "showlegend": true,
         "type": "scatter3d",
         "x": [
          65,
          59
         ],
         "y": [
          56,
          56
         ],
         "z": [
          "pop",
          "pop"
         ]
        },
        {
         "hovertemplate": "top genre=%{z}<br>artist=Fitz and The Tantrums<br>pop=%{x}<br>dnce=%{y}<br>dur=%{marker.size}<extra></extra>",
         "legendgroup": "pop, Fitz and The Tantrums",
         "marker": {
          "color": "#ab63fa",
          "size": [
           209
          ],
          "sizemode": "area",
          "sizeref": 3.1025,
          "symbol": "circle"
         },
         "mode": "markers",
         "name": "pop, Fitz and The Tantrums",
         "scene": "scene",
         "showlegend": true,
         "type": "scatter3d",
         "x": [
          65
         ],
         "y": [
          55
         ],
         "z": [
          "pop"
         ]
        },
        {
         "hovertemplate": "top genre=%{z}<br>artist=Milky Chance<br>pop=%{x}<br>dnce=%{y}<br>dur=%{marker.size}<extra></extra>",
         "legendgroup": "pop, Milky Chance",
         "marker": {
          "color": "#ab63fa",
          "size": [
           241
          ],
          "sizemode": "area",
          "sizeref": 3.1025,
          "symbol": "cross"
         },
         "mode": "markers",
         "name": "pop, Milky Chance",
         "scene": "scene",
         "showlegend": true,
         "type": "scatter3d",
         "x": [
          65
         ],
         "y": [
          69
         ],
         "z": [
          "pop"
         ]
        },
        {
         "hovertemplate": "top genre=%{z}<br>artist=Tarkan<br>pop=%{x}<br>dnce=%{y}<br>dur=%{marker.size}<extra></extra>",
         "legendgroup": "pop, Tarkan",
         "marker": {
          "color": "#ab63fa",
          "size": [
           235,
           246,
           227,
           278,
           229,
           245,
           233,
           261
          ],
          "sizemode": "area",
          "sizeref": 3.1025,
          "symbol": "square"
         },
         "mode": "markers",
         "name": "pop, Tarkan",
         "scene": "scene",
         "showlegend": true,
         "type": "scatter3d",
         "x": [
          65,
          59,
          56,
          56,
          50,
          41,
          32,
          30
         ],
         "y": [
          78,
          75,
          78,
          71,
          73,
          82,
          70,
          68
         ],
         "z": [
          "pop",
          "pop",
          "pop",
          "pop",
          "pop",
          "pop",
          "pop",
          "pop"
         ]
        },
        {
         "hovertemplate": "top genre=%{z}<br>artist=Rudimental<br>pop=%{x}<br>dnce=%{y}<br>dur=%{marker.size}<extra></extra>",
         "legendgroup": "pop, Rudimental",
         "marker": {
          "color": "#ab63fa",
          "size": [
           245
          ],
          "sizemode": "area",
          "sizeref": 3.1025,
          "symbol": "circle"
         },
         "mode": "markers",
         "name": "pop, Rudimental",
         "scene": "scene",
         "showlegend": true,
         "type": "scatter3d",
         "x": [
          65
         ],
         "y": [
          39
         ],
         "z": [
          "pop"
         ]
        },
        {
         "hovertemplate": "top genre=%{z}<br>artist=Charli XCX<br>pop=%{x}<br>dnce=%{y}<br>dur=%{marker.size}<extra></extra>",
         "legendgroup": "pop, Charli XCX",
         "marker": {
          "color": "#ab63fa",
          "size": [
           193
          ],
          "sizemode": "area",
          "sizeref": 3.1025,
          "symbol": "cross"
         },
         "mode": "markers",
         "name": "pop, Charli XCX",
         "scene": "scene",
         "showlegend": true,
         "type": "scatter3d",
         "x": [
          64
         ],
         "y": [
          84
         ],
         "z": [
          "pop"
         ]
        },
        {
         "hovertemplate": "top genre=%{z}<br>artist=Daði Freyr<br>pop=%{x}<br>dnce=%{y}<br>dur=%{marker.size}<extra></extra>",
         "legendgroup": "pop, Daði Freyr",
         "marker": {
          "color": "#ab63fa",
          "size": [
           166
          ],
          "sizemode": "area",
          "sizeref": 3.1025,
          "symbol": "diamond"
         },
         "mode": "markers",
         "name": "pop, Daði Freyr",
         "scene": "scene",
         "showlegend": true,
         "type": "scatter3d",
         "x": [
          63
         ],
         "y": [
          80
         ],
         "z": [
          "pop"
         ]
        },
        {
         "hovertemplate": "top genre=%{z}<br>artist=Tusse<br>pop=%{x}<br>dnce=%{y}<br>dur=%{marker.size}<extra></extra>",
         "legendgroup": "pop, Tusse",
         "marker": {
          "color": "#ab63fa",
          "size": [
           184
          ],
          "sizemode": "area",
          "sizeref": 3.1025,
          "symbol": "square"
         },
         "mode": "markers",
         "name": "pop, Tusse",
         "scene": "scene",
         "showlegend": true,
         "type": "scatter3d",
         "x": [
          63
         ],
         "y": [
          50
         ],
         "z": [
          "pop"
         ]
        },
        {
         "hovertemplate": "top genre=%{z}<br>artist=Vampire Weekend<br>pop=%{x}<br>dnce=%{y}<br>dur=%{marker.size}<extra></extra>",
         "legendgroup": "pop, Vampire Weekend",
         "marker": {
          "color": "#ab63fa",
          "size": [
           269,
           201
          ],
          "sizemode": "area",
          "sizeref": 3.1025,
          "symbol": "x"
         },
         "mode": "markers",
         "name": "pop, Vampire Weekend",
         "scene": "scene",
         "showlegend": true,
         "type": "scatter3d",
         "x": [
          63,
          47
         ],
         "y": [
          62,
          47
         ],
         "z": [
          "pop",
          "pop"
         ]
        },
        {
         "hovertemplate": "top genre=%{z}<br>artist=Yüksek Sadakat<br>pop=%{x}<br>dnce=%{y}<br>dur=%{marker.size}<extra></extra>",
         "legendgroup": "pop, Yüksek Sadakat",
         "marker": {
          "color": "#ab63fa",
          "size": [
           250,
           270
          ],
          "sizemode": "area",
          "sizeref": 3.1025,
          "symbol": "square"
         },
         "mode": "markers",
         "name": "pop, Yüksek Sadakat",
         "scene": "scene",
         "showlegend": true,
         "type": "scatter3d",
         "x": [
          63,
          61
         ],
         "y": [
          64,
          52
         ],
         "z": [
          "pop",
          "pop"
         ]
        },
        {
         "hovertemplate": "top genre=%{z}<br>artist=pewdiepie<br>pop=%{x}<br>dnce=%{y}<br>dur=%{marker.size}<extra></extra>",
         "legendgroup": "pop, pewdiepie",
         "marker": {
          "color": "#ab63fa",
          "size": [
           134,
           155
          ],
          "sizemode": "area",
          "sizeref": 3.1025,
          "symbol": "x"
         },
         "mode": "markers",
         "name": "pop, pewdiepie",
         "scene": "scene",
         "showlegend": true,
         "type": "scatter3d",
         "x": [
          62,
          43
         ],
         "y": [
          80,
          65
         ],
         "z": [
          "pop",
          "pop"
         ]
        },
        {
         "hovertemplate": "top genre=%{z}<br>artist=Rock Mafia<br>pop=%{x}<br>dnce=%{y}<br>dur=%{marker.size}<extra></extra>",
         "legendgroup": "pop, Rock Mafia",
         "marker": {
          "color": "#ab63fa",
          "size": [
           160,
           211
          ],
          "sizemode": "area",
          "sizeref": 3.1025,
          "symbol": "diamond"
         },
         "mode": "markers",
         "name": "pop, Rock Mafia",
         "scene": "scene",
         "showlegend": true,
         "type": "scatter3d",
         "x": [
          62,
          43
         ],
         "y": [
          90,
          60
         ],
         "z": [
          "pop",
          "pop"
         ]
        },
        {
         "hovertemplate": "top genre=%{z}<br>artist=Ayla Dikmen<br>pop=%{x}<br>dnce=%{y}<br>dur=%{marker.size}<extra></extra>",
         "legendgroup": "pop, Ayla Dikmen",
         "marker": {
          "color": "#ab63fa",
          "size": [
           222
          ],
          "sizemode": "area",
          "sizeref": 3.1025,
          "symbol": "x"
         },
         "mode": "markers",
         "name": "pop, Ayla Dikmen",
         "scene": "scene",
         "showlegend": true,
         "type": "scatter3d",
         "x": [
          62
         ],
         "y": [
          32
         ],
         "z": [
          "pop"
         ]
        },
        {
         "hovertemplate": "top genre=%{z}<br>artist=Yalın<br>pop=%{x}<br>dnce=%{y}<br>dur=%{marker.size}<extra></extra>",
         "legendgroup": "pop, Yalın",
         "marker": {
          "color": "#ab63fa",
          "size": [
           230,
           247,
           267,
           235
          ],
          "sizemode": "area",
          "sizeref": 3.1025,
          "symbol": "cross"
         },
         "mode": "markers",
         "name": "pop, Yalın",
         "scene": "scene",
         "showlegend": true,
         "type": "scatter3d",
         "x": [
          62,
          54,
          52,
          43
         ],
         "y": [
          67,
          68,
          57,
          79
         ],
         "z": [
          "pop",
          "pop",
          "pop",
          "pop"
         ]
        },
        {
         "hovertemplate": "top genre=%{z}<br>artist=Smallpools<br>pop=%{x}<br>dnce=%{y}<br>dur=%{marker.size}<extra></extra>",
         "legendgroup": "pop, Smallpools",
         "marker": {
          "color": "#ab63fa",
          "size": [
           216,
           217
          ],
          "sizemode": "area",
          "sizeref": 3.1025,
          "symbol": "square"
         },
         "mode": "markers",
         "name": "pop, Smallpools",
         "scene": "scene",
         "showlegend": true,
         "type": "scatter3d",
         "x": [
          61,
          52
         ],
         "y": [
          61,
          62
         ],
         "z": [
          "pop",
          "pop"
         ]
        },
        {
         "hovertemplate": "top genre=%{z}<br>artist=Teoman<br>pop=%{x}<br>dnce=%{y}<br>dur=%{marker.size}<extra></extra>",
         "legendgroup": "pop, Teoman",
         "marker": {
          "color": "#ab63fa",
          "size": [
           210,
           233,
           250
          ],
          "sizemode": "area",
          "sizeref": 3.1025,
          "symbol": "x"
         },
         "mode": "markers",
         "name": "pop, Teoman",
         "scene": "scene",
         "showlegend": true,
         "type": "scatter3d",
         "x": [
          61,
          59,
          52
         ],
         "y": [
          52,
          70,
          49
         ],
         "z": [
          "pop",
          "pop",
          "pop"
         ]
        },
        {
         "hovertemplate": "top genre=%{z}<br>artist=Pamela<br>pop=%{x}<br>dnce=%{y}<br>dur=%{marker.size}<extra></extra>",
         "legendgroup": "pop, Pamela",
         "marker": {
          "color": "#ab63fa",
          "size": [
           252,
           245
          ],
          "sizemode": "area",
          "sizeref": 3.1025,
          "symbol": "cross"
         },
         "mode": "markers",
         "name": "pop, Pamela",
         "scene": "scene",
         "showlegend": true,
         "type": "scatter3d",
         "x": [
          61,
          51
         ],
         "y": [
          80,
          75
         ],
         "z": [
          "pop",
          "pop"
         ]
        },
        {
         "hovertemplate": "top genre=%{z}<br>artist=Kwabs<br>pop=%{x}<br>dnce=%{y}<br>dur=%{marker.size}<extra></extra>",
         "legendgroup": "pop, Kwabs",
         "marker": {
          "color": "#ab63fa",
          "size": [
           214,
           214
          ],
          "sizemode": "area",
          "sizeref": 3.1025,
          "symbol": "cross"
         },
         "mode": "markers",
         "name": "pop, Kwabs",
         "scene": "scene",
         "showlegend": true,
         "type": "scatter3d",
         "x": [
          60,
          39
         ],
         "y": [
          62,
          62
         ],
         "z": [
          "pop",
          "pop"
         ]
        },
        {
         "hovertemplate": "top genre=%{z}<br>artist=Rex Orange County<br>pop=%{x}<br>dnce=%{y}<br>dur=%{marker.size}<extra></extra>",
         "legendgroup": "pop, Rex Orange County",
         "marker": {
          "color": "#ab63fa",
          "size": [
           299
          ],
          "sizemode": "area",
          "sizeref": 3.1025,
          "symbol": "circle"
         },
         "mode": "markers",
         "name": "pop, Rex Orange County",
         "scene": "scene",
         "showlegend": true,
         "type": "scatter3d",
         "x": [
          60
         ],
         "y": [
          51
         ],
         "z": [
          "pop"
         ]
        },
        {
         "hovertemplate": "top genre=%{z}<br>artist=Athena<br>pop=%{x}<br>dnce=%{y}<br>dur=%{marker.size}<extra></extra>",
         "legendgroup": "pop, Athena",
         "marker": {
          "color": "#ab63fa",
          "size": [
           194,
           147,
           201,
           261,
           207,
           232,
           219,
           178,
           211,
           174,
           176,
           204
          ],
          "sizemode": "area",
          "sizeref": 3.1025,
          "symbol": "square"
         },
         "mode": "markers",
         "name": "pop, Athena",
         "scene": "scene",
         "showlegend": true,
         "type": "scatter3d",
         "x": [
          60,
          59,
          58,
          57,
          51,
          47,
          44,
          44,
          43,
          35,
          30,
          24
         ],
         "y": [
          47,
          86,
          38,
          64,
          56,
          68,
          59,
          90,
          83,
          88,
          78,
          69
         ],
         "z": [
          "pop",
          "pop",
          "pop",
          "pop",
          "pop",
          "pop",
          "pop",
          "pop",
          "pop",
          "pop",
          "pop",
          "pop"
         ]
        },
        {
         "hovertemplate": "top genre=%{z}<br>artist=Seksendört<br>pop=%{x}<br>dnce=%{y}<br>dur=%{marker.size}<extra></extra>",
         "legendgroup": "pop, Seksendört",
         "marker": {
          "color": "#ab63fa",
          "size": [
           288
          ],
          "sizemode": "area",
          "sizeref": 3.1025,
          "symbol": "x"
         },
         "mode": "markers",
         "name": "pop, Seksendört",
         "scene": "scene",
         "showlegend": true,
         "type": "scatter3d",
         "x": [
          60
         ],
         "y": [
          61
         ],
         "z": [
          "pop"
         ]
        },
        {
         "hovertemplate": "top genre=%{z}<br>artist=Jorja Smith<br>pop=%{x}<br>dnce=%{y}<br>dur=%{marker.size}<extra></extra>",
         "legendgroup": "pop, Jorja Smith",
         "marker": {
          "color": "#ab63fa",
          "size": [
           209
          ],
          "sizemode": "area",
          "sizeref": 3.1025,
          "symbol": "square"
         },
         "mode": "markers",
         "name": "pop, Jorja Smith",
         "scene": "scene",
         "showlegend": true,
         "type": "scatter3d",
         "x": [
          60
         ],
         "y": [
          60
         ],
         "z": [
          "pop"
         ]
        },
        {
         "hovertemplate": "top genre=%{z}<br>artist=Joywave<br>pop=%{x}<br>dnce=%{y}<br>dur=%{marker.size}<extra></extra>",
         "legendgroup": "pop, Joywave",
         "marker": {
          "color": "#ab63fa",
          "size": [
           184,
           235,
           232
          ],
          "sizemode": "area",
          "sizeref": 3.1025,
          "symbol": "x"
         },
         "mode": "markers",
         "name": "pop, Joywave",
         "scene": "scene",
         "showlegend": true,
         "type": "scatter3d",
         "x": [
          59,
          56,
          40
         ],
         "y": [
          66,
          83,
          83
         ],
         "z": [
          "pop",
          "pop",
          "pop"
         ]
        },
        {
         "hovertemplate": "top genre=%{z}<br>artist=Mustafa Sandal<br>pop=%{x}<br>dnce=%{y}<br>dur=%{marker.size}<extra></extra>",
         "legendgroup": "pop, Mustafa Sandal",
         "marker": {
          "color": "#ab63fa",
          "size": [
           346,
           236,
           235,
           239
          ],
          "sizemode": "area",
          "sizeref": 3.1025,
          "symbol": "x"
         },
         "mode": "markers",
         "name": "pop, Mustafa Sandal",
         "scene": "scene",
         "showlegend": true,
         "type": "scatter3d",
         "x": [
          59,
          58,
          51,
          39
         ],
         "y": [
          72,
          70,
          77,
          66
         ],
         "z": [
          "pop",
          "pop",
          "pop",
          "pop"
         ]
        },
        {
         "hovertemplate": "top genre=%{z}<br>artist=Esmeray<br>pop=%{x}<br>dnce=%{y}<br>dur=%{marker.size}<extra></extra>",
         "legendgroup": "pop, Esmeray",
         "marker": {
          "color": "#ab63fa",
          "size": [
           248
          ],
          "sizemode": "area",
          "sizeref": 3.1025,
          "symbol": "cross"
         },
         "mode": "markers",
         "name": "pop, Esmeray",
         "scene": "scene",
         "showlegend": true,
         "type": "scatter3d",
         "x": [
          59
         ],
         "y": [
          63
         ],
         "z": [
          "pop"
         ]
        },
        {
         "hovertemplate": "top genre=%{z}<br>artist=Loreen<br>pop=%{x}<br>dnce=%{y}<br>dur=%{marker.size}<extra></extra>",
         "legendgroup": "pop, Loreen",
         "marker": {
          "color": "#ab63fa",
          "size": [
           182
          ],
          "sizemode": "area",
          "sizeref": 3.1025,
          "symbol": "diamond"
         },
         "mode": "markers",
         "name": "pop, Loreen",
         "scene": "scene",
         "showlegend": true,
         "type": "scatter3d",
         "x": [
          58
         ],
         "y": [
          56
         ],
         "z": [
          "pop"
         ]
        },
        {
         "hovertemplate": "top genre=%{z}<br>artist=Måns Zelmerlöw<br>pop=%{x}<br>dnce=%{y}<br>dur=%{marker.size}<extra></extra>",
         "legendgroup": "pop, Måns Zelmerlöw",
         "marker": {
          "color": "#ab63fa",
          "size": [
           191
          ],
          "sizemode": "area",
          "sizeref": 3.1025,
          "symbol": "square"
         },
         "mode": "markers",
         "name": "pop, Måns Zelmerlöw",
         "scene": "scene",
         "showlegend": true,
         "type": "scatter3d",
         "x": [
          58
         ],
         "y": [
          48
         ],
         "z": [
          "pop"
         ]
        },
        {
         "hovertemplate": "top genre=%{z}<br>artist=Manizha<br>pop=%{x}<br>dnce=%{y}<br>dur=%{marker.size}<extra></extra>",
         "legendgroup": "pop, Manizha",
         "marker": {
          "color": "#ab63fa",
          "size": [
           177
          ],
          "sizemode": "area",
          "sizeref": 3.1025,
          "symbol": "x"
         },
         "mode": "markers",
         "name": "pop, Manizha",
         "scene": "scene",
         "showlegend": true,
         "type": "scatter3d",
         "x": [
          58
         ],
         "y": [
          89
         ],
         "z": [
          "pop"
         ]
        },
        {
         "hovertemplate": "top genre=%{z}<br>artist=BANNERS<br>pop=%{x}<br>dnce=%{y}<br>dur=%{marker.size}<extra></extra>",
         "legendgroup": "pop, BANNERS",
         "marker": {
          "color": "#ab63fa",
          "size": [
           225
          ],
          "sizemode": "area",
          "sizeref": 3.1025,
          "symbol": "diamond"
         },
         "mode": "markers",
         "name": "pop, BANNERS",
         "scene": "scene",
         "showlegend": true,
         "type": "scatter3d",
         "x": [
          58
         ],
         "y": [
          32
         ],
         "z": [
          "pop"
         ]
        },
        {
         "hovertemplate": "top genre=%{z}<br>artist=emre aydın<br>pop=%{x}<br>dnce=%{y}<br>dur=%{marker.size}<extra></extra>",
         "legendgroup": "pop, emre aydın",
         "marker": {
          "color": "#ab63fa",
          "size": [
           274,
           277
          ],
          "sizemode": "area",
          "sizeref": 3.1025,
          "symbol": "diamond"
         },
         "mode": "markers",
         "name": "pop, emre aydın",
         "scene": "scene",
         "showlegend": true,
         "type": "scatter3d",
         "x": [
          58,
          56
         ],
         "y": [
          55,
          59
         ],
         "z": [
          "pop",
          "pop"
         ]
        },
        {
         "hovertemplate": "top genre=%{z}<br>artist=Serdar Ortaç<br>pop=%{x}<br>dnce=%{y}<br>dur=%{marker.size}<extra></extra>",
         "legendgroup": "pop, Serdar Ortaç",
         "marker": {
          "color": "#ab63fa",
          "size": [
           317,
           316,
           314
          ],
          "sizemode": "area",
          "sizeref": 3.1025,
          "symbol": "square"
         },
         "mode": "markers",
         "name": "pop, Serdar Ortaç",
         "scene": "scene",
         "showlegend": true,
         "type": "scatter3d",
         "x": [
          58,
          56,
          50
         ],
         "y": [
          79,
          70,
          71
         ],
         "z": [
          "pop",
          "pop",
          "pop"
         ]
        },
        {
         "hovertemplate": "top genre=%{z}<br>artist=Atiye<br>pop=%{x}<br>dnce=%{y}<br>dur=%{marker.size}<extra></extra>",
         "legendgroup": "pop, Atiye",
         "marker": {
          "color": "#ab63fa",
          "size": [
           212
          ],
          "sizemode": "area",
          "sizeref": 3.1025,
          "symbol": "x"
         },
         "mode": "markers",
         "name": "pop, Atiye",
         "scene": "scene",
         "showlegend": true,
         "type": "scatter3d",
         "x": [
          58
         ],
         "y": [
          86
         ],
         "z": [
          "pop"
         ]
        },
        {
         "hovertemplate": "top genre=%{z}<br>artist=Sezen Aksu<br>pop=%{x}<br>dnce=%{y}<br>dur=%{marker.size}<extra></extra>",
         "legendgroup": "pop, Sezen Aksu",
         "marker": {
          "color": "#ab63fa",
          "size": [
           226,
           250
          ],
          "sizemode": "area",
          "sizeref": 3.1025,
          "symbol": "circle"
         },
         "mode": "markers",
         "name": "pop, Sezen Aksu",
         "scene": "scene",
         "showlegend": true,
         "type": "scatter3d",
         "x": [
          58,
          55
         ],
         "y": [
          61,
          75
         ],
         "z": [
          "pop",
          "pop"
         ]
        },
        {
         "hovertemplate": "top genre=%{z}<br>artist=Kenan Doğulu<br>pop=%{x}<br>dnce=%{y}<br>dur=%{marker.size}<extra></extra>",
         "legendgroup": "pop, Kenan Doğulu",
         "marker": {
          "color": "#ab63fa",
          "size": [
           231,
           236,
           214,
           235,
           199,
           280,
           212,
           184
          ],
          "sizemode": "area",
          "sizeref": 3.1025,
          "symbol": "diamond"
         },
         "mode": "markers",
         "name": "pop, Kenan Doğulu",
         "scene": "scene",
         "showlegend": true,
         "type": "scatter3d",
         "x": [
          58,
          52,
          0,
          0,
          0,
          0,
          0,
          0
         ],
         "y": [
          70,
          76,
          85,
          73,
          88,
          71,
          86,
          79
         ],
         "z": [
          "pop",
          "pop",
          "pop",
          "pop",
          "pop",
          "pop",
          "pop",
          "pop"
         ]
        },
        {
         "hovertemplate": "top genre=%{z}<br>artist=Cem Adrian<br>pop=%{x}<br>dnce=%{y}<br>dur=%{marker.size}<extra></extra>",
         "legendgroup": "pop, Cem Adrian",
         "marker": {
          "color": "#ab63fa",
          "size": [
           285,
           227
          ],
          "sizemode": "area",
          "sizeref": 3.1025,
          "symbol": "cross"
         },
         "mode": "markers",
         "name": "pop, Cem Adrian",
         "scene": "scene",
         "showlegend": true,
         "type": "scatter3d",
         "x": [
          57,
          50
         ],
         "y": [
          52,
          39
         ],
         "z": [
          "pop",
          "pop"
         ]
        },
        {
         "hovertemplate": "top genre=%{z}<br>artist=Erol Evgin<br>pop=%{x}<br>dnce=%{y}<br>dur=%{marker.size}<extra></extra>",
         "legendgroup": "pop, Erol Evgin",
         "marker": {
          "color": "#ab63fa",
          "size": [
           180,
           211
          ],
          "sizemode": "area",
          "sizeref": 3.1025,
          "symbol": "x"
         },
         "mode": "markers",
         "name": "pop, Erol Evgin",
         "scene": "scene",
         "showlegend": true,
         "type": "scatter3d",
         "x": [
          57,
          56
         ],
         "y": [
          56,
          57
         ],
         "z": [
          "pop",
          "pop"
         ]
        },
        {
         "hovertemplate": "top genre=%{z}<br>artist=Hepsi<br>pop=%{x}<br>dnce=%{y}<br>dur=%{marker.size}<extra></extra>",
         "legendgroup": "pop, Hepsi",
         "marker": {
          "color": "#ab63fa",
          "size": [
           222,
           205,
           213
          ],
          "sizemode": "area",
          "sizeref": 3.1025,
          "symbol": "cross"
         },
         "mode": "markers",
         "name": "pop, Hepsi",
         "scene": "scene",
         "showlegend": true,
         "type": "scatter3d",
         "x": [
          57,
          52,
          41
         ],
         "y": [
          79,
          84,
          85
         ],
         "z": [
          "pop",
          "pop",
          "pop"
         ]
        },
        {
         "hovertemplate": "top genre=%{z}<br>artist=Özgün<br>pop=%{x}<br>dnce=%{y}<br>dur=%{marker.size}<extra></extra>",
         "legendgroup": "pop, Özgün",
         "marker": {
          "color": "#ab63fa",
          "size": [
           246
          ],
          "sizemode": "area",
          "sizeref": 3.1025,
          "symbol": "diamond"
         },
         "mode": "markers",
         "name": "pop, Özgün",
         "scene": "scene",
         "showlegend": true,
         "type": "scatter3d",
         "x": [
          57
         ],
         "y": [
          57
         ],
         "z": [
          "pop"
         ]
        },
        {
         "hovertemplate": "top genre=%{z}<br>artist=Fei Yu-ching<br>pop=%{x}<br>dnce=%{y}<br>dur=%{marker.size}<extra></extra>",
         "legendgroup": "pop, Fei Yu-ching",
         "marker": {
          "color": "#ab63fa",
          "size": [
           235
          ],
          "sizemode": "area",
          "sizeref": 3.1025,
          "symbol": "x"
         },
         "mode": "markers",
         "name": "pop, Fei Yu-ching",
         "scene": "scene",
         "showlegend": true,
         "type": "scatter3d",
         "x": [
          56
         ],
         "y": [
          29
         ],
         "z": [
          "pop"
         ]
        },
        {
         "hovertemplate": "top genre=%{z}<br>artist=Stefania<br>pop=%{x}<br>dnce=%{y}<br>dur=%{marker.size}<extra></extra>",
         "legendgroup": "pop, Stefania",
         "marker": {
          "color": "#ab63fa",
          "size": [
           180
          ],
          "sizemode": "area",
          "sizeref": 3.1025,
          "symbol": "circle"
         },
         "mode": "markers",
         "name": "pop, Stefania",
         "scene": "scene",
         "showlegend": true,
         "type": "scatter3d",
         "x": [
          56
         ],
         "y": [
          53
         ],
         "z": [
          "pop"
         ]
        },
        {
         "hovertemplate": "top genre=%{z}<br>artist=American Authors<br>pop=%{x}<br>dnce=%{y}<br>dur=%{marker.size}<extra></extra>",
         "legendgroup": "pop, American Authors",
         "marker": {
          "color": "#ab63fa",
          "size": [
           207
          ],
          "sizemode": "area",
          "sizeref": 3.1025,
          "symbol": "x"
         },
         "mode": "markers",
         "name": "pop, American Authors",
         "scene": "scene",
         "showlegend": true,
         "type": "scatter3d",
         "x": [
          56
         ],
         "y": [
          64
         ],
         "z": [
          "pop"
         ]
        },
        {
         "hovertemplate": "top genre=%{z}<br>artist=BROODS<br>pop=%{x}<br>dnce=%{y}<br>dur=%{marker.size}<extra></extra>",
         "legendgroup": "pop, BROODS",
         "marker": {
          "color": "#ab63fa",
          "size": [
           255,
           168
          ],
          "sizemode": "area",
          "sizeref": 3.1025,
          "symbol": "cross"
         },
         "mode": "markers",
         "name": "pop, BROODS",
         "scene": "scene",
         "showlegend": true,
         "type": "scatter3d",
         "x": [
          56,
          47
         ],
         "y": [
          69,
          58
         ],
         "z": [
          "pop",
          "pop"
         ]
        },
        {
         "hovertemplate": "top genre=%{z}<br>artist=Şebnem Ferah<br>pop=%{x}<br>dnce=%{y}<br>dur=%{marker.size}<extra></extra>",
         "legendgroup": "pop, Şebnem Ferah",
         "marker": {
          "color": "#ab63fa",
          "size": [
           314,
           286
          ],
          "sizemode": "area",
          "sizeref": 3.1025,
          "symbol": "diamond"
         },
         "mode": "markers",
         "name": "pop, Şebnem Ferah",
         "scene": "scene",
         "showlegend": true,
         "type": "scatter3d",
         "x": [
          56,
          54
         ],
         "y": [
          17,
          48
         ],
         "z": [
          "pop",
          "pop"
         ]
        },
        {
         "hovertemplate": "top genre=%{z}<br>artist=Tanju Okan<br>pop=%{x}<br>dnce=%{y}<br>dur=%{marker.size}<extra></extra>",
         "legendgroup": "pop, Tanju Okan",
         "marker": {
          "color": "#ab63fa",
          "size": [
           215,
           248,
           182
          ],
          "sizemode": "area",
          "sizeref": 3.1025,
          "symbol": "square"
         },
         "mode": "markers",
         "name": "pop, Tanju Okan",
         "scene": "scene",
         "showlegend": true,
         "type": "scatter3d",
         "x": [
          56,
          49,
          44
         ],
         "y": [
          57,
          33,
          48
         ],
         "z": [
          "pop",
          "pop",
          "pop"
         ]
        },
        {
         "hovertemplate": "top genre=%{z}<br>artist=Youngblood Hawke<br>pop=%{x}<br>dnce=%{y}<br>dur=%{marker.size}<extra></extra>",
         "legendgroup": "pop, Youngblood Hawke",
         "marker": {
          "color": "#ab63fa",
          "size": [
           248
          ],
          "sizemode": "area",
          "sizeref": 3.1025,
          "symbol": "cross"
         },
         "mode": "markers",
         "name": "pop, Youngblood Hawke",
         "scene": "scene",
         "showlegend": true,
         "type": "scatter3d",
         "x": [
          55
         ],
         "y": [
          55
         ],
         "z": [
          "pop"
         ]
        },
        {
         "hovertemplate": "top genre=%{z}<br>artist=The Griswolds<br>pop=%{x}<br>dnce=%{y}<br>dur=%{marker.size}<extra></extra>",
         "legendgroup": "pop, The Griswolds",
         "marker": {
          "color": "#ab63fa",
          "size": [
           226,
           201
          ],
          "sizemode": "area",
          "sizeref": 3.1025,
          "symbol": "circle"
         },
         "mode": "markers",
         "name": "pop, The Griswolds",
         "scene": "scene",
         "showlegend": true,
         "type": "scatter3d",
         "x": [
          55,
          49
         ],
         "y": [
          55,
          72
         ],
         "z": [
          "pop",
          "pop"
         ]
        },
        {
         "hovertemplate": "top genre=%{z}<br>artist=Ajda Pekkan<br>pop=%{x}<br>dnce=%{y}<br>dur=%{marker.size}<extra></extra>",
         "legendgroup": "pop, Ajda Pekkan",
         "marker": {
          "color": "#ab63fa",
          "size": [
           324,
           264,
           205,
           266
          ],
          "sizemode": "area",
          "sizeref": 3.1025,
          "symbol": "cross"
         },
         "mode": "markers",
         "name": "pop, Ajda Pekkan",
         "scene": "scene",
         "showlegend": true,
         "type": "scatter3d",
         "x": [
          55,
          54,
          54,
          16
         ],
         "y": [
          76,
          81,
          42,
          72
         ],
         "z": [
          "pop",
          "pop",
          "pop",
          "pop"
         ]
        },
        {
         "hovertemplate": "top genre=%{z}<br>artist=Hande Yener<br>pop=%{x}<br>dnce=%{y}<br>dur=%{marker.size}<extra></extra>",
         "legendgroup": "pop, Hande Yener",
         "marker": {
          "color": "#ab63fa",
          "size": [
           232,
           213,
           313
          ],
          "sizemode": "area",
          "sizeref": 3.1025,
          "symbol": "diamond"
         },
         "mode": "markers",
         "name": "pop, Hande Yener",
         "scene": "scene",
         "showlegend": true,
         "type": "scatter3d",
         "x": [
          55,
          54,
          44
         ],
         "y": [
          76,
          83,
          69
         ],
         "z": [
          "pop",
          "pop",
          "pop"
         ]
        },
        {
         "hovertemplate": "top genre=%{z}<br>artist=Ozan Doğulu<br>pop=%{x}<br>dnce=%{y}<br>dur=%{marker.size}<extra></extra>",
         "legendgroup": "pop, Ozan Doğulu",
         "marker": {
          "color": "#ab63fa",
          "size": [
           208,
           232
          ],
          "sizemode": "area",
          "sizeref": 3.1025,
          "symbol": "square"
         },
         "mode": "markers",
         "name": "pop, Ozan Doğulu",
         "scene": "scene",
         "showlegend": true,
         "type": "scatter3d",
         "x": [
          55,
          46
         ],
         "y": [
          73,
          64
         ],
         "z": [
          "pop",
          "pop"
         ]
        },
        {
         "hovertemplate": "top genre=%{z}<br>artist=Dario Moreno<br>pop=%{x}<br>dnce=%{y}<br>dur=%{marker.size}<extra></extra>",
         "legendgroup": "pop, Dario Moreno",
         "marker": {
          "color": "#ab63fa",
          "size": [
           185,
           180,
           181
          ],
          "sizemode": "area",
          "sizeref": 3.1025,
          "symbol": "circle"
         },
         "mode": "markers",
         "name": "pop, Dario Moreno",
         "scene": "scene",
         "showlegend": true,
         "type": "scatter3d",
         "x": [
          55,
          49,
          37
         ],
         "y": [
          36,
          38,
          37
         ],
         "z": [
          "pop",
          "pop",
          "pop"
         ]
        },
        {
         "hovertemplate": "top genre=%{z}<br>artist=Nico & Vinz<br>pop=%{x}<br>dnce=%{y}<br>dur=%{marker.size}<extra></extra>",
         "legendgroup": "pop, Nico & Vinz",
         "marker": {
          "color": "#ab63fa",
          "size": [
           227
          ],
          "sizemode": "area",
          "sizeref": 3.1025,
          "symbol": "diamond"
         },
         "mode": "markers",
         "name": "pop, Nico & Vinz",
         "scene": "scene",
         "showlegend": true,
         "type": "scatter3d",
         "x": [
          54
         ],
         "y": [
          71
         ],
         "z": [
          "pop"
         ]
        },
        {
         "hovertemplate": "top genre=%{z}<br>artist=The Royal Concept<br>pop=%{x}<br>dnce=%{y}<br>dur=%{marker.size}<extra></extra>",
         "legendgroup": "pop, The Royal Concept",
         "marker": {
          "color": "#ab63fa",
          "size": [
           194,
           194,
           197,
           204,
           214,
           227,
           222,
           200,
           236,
           237,
           172,
           322
          ],
          "sizemode": "area",
          "sizeref": 3.1025,
          "symbol": "square"
         },
         "mode": "markers",
         "name": "pop, The Royal Concept",
         "scene": "scene",
         "showlegend": true,
         "type": "scatter3d",
         "x": [
          54,
          50,
          45,
          43,
          42,
          37,
          32,
          27,
          17,
          15,
          15,
          12
         ],
         "y": [
          58,
          60,
          39,
          41,
          66,
          58,
          27,
          57,
          61,
          65,
          45,
          56
         ],
         "z": [
          "pop",
          "pop",
          "pop",
          "pop",
          "pop",
          "pop",
          "pop",
          "pop",
          "pop",
          "pop",
          "pop",
          "pop"
         ]
        },
        {
         "hovertemplate": "top genre=%{z}<br>artist=Fireboy DML<br>pop=%{x}<br>dnce=%{y}<br>dur=%{marker.size}<extra></extra>",
         "legendgroup": "pop, Fireboy DML",
         "marker": {
          "color": "#ab63fa",
          "size": [
           164
          ],
          "sizemode": "area",
          "sizeref": 3.1025,
          "symbol": "diamond"
         },
         "mode": "markers",
         "name": "pop, Fireboy DML",
         "scene": "scene",
         "showlegend": true,
         "type": "scatter3d",
         "x": [
          54
         ],
         "y": [
          73
         ],
         "z": [
          "pop"
         ]
        },
        {
         "hovertemplate": "top genre=%{z}<br>artist=Olympic Ayres<br>pop=%{x}<br>dnce=%{y}<br>dur=%{marker.size}<extra></extra>",
         "legendgroup": "pop, Olympic Ayres",
         "marker": {
          "color": "#ab63fa",
          "size": [
           241
          ],
          "sizemode": "area",
          "sizeref": 3.1025,
          "symbol": "cross"
         },
         "mode": "markers",
         "name": "pop, Olympic Ayres",
         "scene": "scene",
         "showlegend": true,
         "type": "scatter3d",
         "x": [
          53
         ],
         "y": [
          62
         ],
         "z": [
          "pop"
         ]
        },
        {
         "hovertemplate": "top genre=%{z}<br>artist=Sofi Tukker<br>pop=%{x}<br>dnce=%{y}<br>dur=%{marker.size}<extra></extra>",
         "legendgroup": "pop, Sofi Tukker",
         "marker": {
          "color": "#ab63fa",
          "size": [
           185
          ],
          "sizemode": "area",
          "sizeref": 3.1025,
          "symbol": "circle"
         },
         "mode": "markers",
         "name": "pop, Sofi Tukker",
         "scene": "scene",
         "showlegend": true,
         "type": "scatter3d",
         "x": [
          53
         ],
         "y": [
          70
         ],
         "z": [
          "pop"
         ]
        },
        {
         "hovertemplate": "top genre=%{z}<br>artist=Embrace<br>pop=%{x}<br>dnce=%{y}<br>dur=%{marker.size}<extra></extra>",
         "legendgroup": "pop, Embrace",
         "marker": {
          "color": "#ab63fa",
          "size": [
           262
          ],
          "sizemode": "area",
          "sizeref": 3.1025,
          "symbol": "square"
         },
         "mode": "markers",
         "name": "pop, Embrace",
         "scene": "scene",
         "showlegend": true,
         "type": "scatter3d",
         "x": [
          53
         ],
         "y": [
          43
         ],
         "z": [
          "pop"
         ]
        },
        {
         "hovertemplate": "top genre=%{z}<br>artist=Dan Croll<br>pop=%{x}<br>dnce=%{y}<br>dur=%{marker.size}<extra></extra>",
         "legendgroup": "pop, Dan Croll",
         "marker": {
          "color": "#ab63fa",
          "size": [
           197
          ],
          "sizemode": "area",
          "sizeref": 3.1025,
          "symbol": "x"
         },
         "mode": "markers",
         "name": "pop, Dan Croll",
         "scene": "scene",
         "showlegend": true,
         "type": "scatter3d",
         "x": [
          53
         ],
         "y": [
          63
         ],
         "z": [
          "pop"
         ]
        },
        {
         "hovertemplate": "top genre=%{z}<br>artist=Füsun Önal<br>pop=%{x}<br>dnce=%{y}<br>dur=%{marker.size}<extra></extra>",
         "legendgroup": "pop, Füsun Önal",
         "marker": {
          "color": "#ab63fa",
          "size": [
           167,
           165,
           144,
           176
          ],
          "sizemode": "area",
          "sizeref": 3.1025,
          "symbol": "diamond"
         },
         "mode": "markers",
         "name": "pop, Füsun Önal",
         "scene": "scene",
         "showlegend": true,
         "type": "scatter3d",
         "x": [
          53,
          49,
          43,
          18
         ],
         "y": [
          77,
          74,
          66,
          51
         ],
         "z": [
          "pop",
          "pop",
          "pop",
          "pop"
         ]
        },
        {
         "hovertemplate": "top genre=%{z}<br>artist=Demet Akalın<br>pop=%{x}<br>dnce=%{y}<br>dur=%{marker.size}<extra></extra>",
         "legendgroup": "pop, Demet Akalın",
         "marker": {
          "color": "#ab63fa",
          "size": [
           235,
           193,
           284,
           274
          ],
          "sizemode": "area",
          "sizeref": 3.1025,
          "symbol": "square"
         },
         "mode": "markers",
         "name": "pop, Demet Akalın",
         "scene": "scene",
         "showlegend": true,
         "type": "scatter3d",
         "x": [
          52,
          49,
          48,
          38
         ],
         "y": [
          69,
          82,
          74,
          73
         ],
         "z": [
          "pop",
          "pop",
          "pop",
          "pop"
         ]
        },
        {
         "hovertemplate": "top genre=%{z}<br>artist=Bonga<br>pop=%{x}<br>dnce=%{y}<br>dur=%{marker.size}<extra></extra>",
         "legendgroup": "pop, Bonga",
         "marker": {
          "color": "#ab63fa",
          "size": [
           301
          ],
          "sizemode": "area",
          "sizeref": 3.1025,
          "symbol": "x"
         },
         "mode": "markers",
         "name": "pop, Bonga",
         "scene": "scene",
         "showlegend": true,
         "type": "scatter3d",
         "x": [
          51
         ],
         "y": [
          65
         ],
         "z": [
          "pop"
         ]
        },
        {
         "hovertemplate": "top genre=%{z}<br>artist=Noa Kirel<br>pop=%{x}<br>dnce=%{y}<br>dur=%{marker.size}<extra></extra>",
         "legendgroup": "pop, Noa Kirel",
         "marker": {
          "color": "#ab63fa",
          "size": [
           186
          ],
          "sizemode": "area",
          "sizeref": 3.1025,
          "symbol": "square"
         },
         "mode": "markers",
         "name": "pop, Noa Kirel",
         "scene": "scene",
         "showlegend": true,
         "type": "scatter3d",
         "x": [
          51
         ],
         "y": [
          71
         ],
         "z": [
          "pop"
         ]
        },
        {
         "hovertemplate": "top genre=%{z}<br>artist=Semiramis Pekkan<br>pop=%{x}<br>dnce=%{y}<br>dur=%{marker.size}<extra></extra>",
         "legendgroup": "pop, Semiramis Pekkan",
         "marker": {
          "color": "#ab63fa",
          "size": [
           239
          ],
          "sizemode": "area",
          "sizeref": 3.1025,
          "symbol": "diamond"
         },
         "mode": "markers",
         "name": "pop, Semiramis Pekkan",
         "scene": "scene",
         "showlegend": true,
         "type": "scatter3d",
         "x": [
          51
         ],
         "y": [
          31
         ],
         "z": [
          "pop"
         ]
        },
        {
         "hovertemplate": "top genre=%{z}<br>artist=20syl<br>pop=%{x}<br>dnce=%{y}<br>dur=%{marker.size}<extra></extra>",
         "legendgroup": "pop, 20syl",
         "marker": {
          "color": "#ab63fa",
          "size": [
           239
          ],
          "sizemode": "area",
          "sizeref": 3.1025,
          "symbol": "square"
         },
         "mode": "markers",
         "name": "pop, 20syl",
         "scene": "scene",
         "showlegend": true,
         "type": "scatter3d",
         "x": [
          50
         ],
         "y": [
          47
         ],
         "z": [
          "pop"
         ]
        },
        {
         "hovertemplate": "top genre=%{z}<br>artist=Bearson<br>pop=%{x}<br>dnce=%{y}<br>dur=%{marker.size}<extra></extra>",
         "legendgroup": "pop, Bearson",
         "marker": {
          "color": "#ab63fa",
          "size": [
           191
          ],
          "sizemode": "area",
          "sizeref": 3.1025,
          "symbol": "square"
         },
         "mode": "markers",
         "name": "pop, Bearson",
         "scene": "scene",
         "showlegend": true,
         "type": "scatter3d",
         "x": [
          50
         ],
         "y": [
          83
         ],
         "z": [
          "pop"
         ]
        },
        {
         "hovertemplate": "top genre=%{z}<br>artist=Gülşen<br>pop=%{x}<br>dnce=%{y}<br>dur=%{marker.size}<extra></extra>",
         "legendgroup": "pop, Gülşen",
         "marker": {
          "color": "#ab63fa",
          "size": [
           187,
           204
          ],
          "sizemode": "area",
          "sizeref": 3.1025,
          "symbol": "x"
         },
         "mode": "markers",
         "name": "pop, Gülşen",
         "scene": "scene",
         "showlegend": true,
         "type": "scatter3d",
         "x": [
          50,
          42
         ],
         "y": [
          75,
          77
         ],
         "z": [
          "pop",
          "pop"
         ]
        },
        {
         "hovertemplate": "top genre=%{z}<br>artist=Emir<br>pop=%{x}<br>dnce=%{y}<br>dur=%{marker.size}<extra></extra>",
         "legendgroup": "pop, Emir",
         "marker": {
          "color": "#ab63fa",
          "size": [
           229
          ],
          "sizemode": "area",
          "sizeref": 3.1025,
          "symbol": "cross"
         },
         "mode": "markers",
         "name": "pop, Emir",
         "scene": "scene",
         "showlegend": true,
         "type": "scatter3d",
         "x": [
          50
         ],
         "y": [
          78
         ],
         "z": [
          "pop"
         ]
        },
        {
         "hovertemplate": "top genre=%{z}<br>artist=Troye Sivan<br>pop=%{x}<br>dnce=%{y}<br>dur=%{marker.size}<extra></extra>",
         "legendgroup": "pop, Troye Sivan",
         "marker": {
          "color": "#ab63fa",
          "size": [
           214
          ],
          "sizemode": "area",
          "sizeref": 3.1025,
          "symbol": "x"
         },
         "mode": "markers",
         "name": "pop, Troye Sivan",
         "scene": "scene",
         "showlegend": true,
         "type": "scatter3d",
         "x": [
          49
         ],
         "y": [
          63
         ],
         "z": [
          "pop"
         ]
        },
        {
         "hovertemplate": "top genre=%{z}<br>artist=Björn Ulvaeus<br>pop=%{x}<br>dnce=%{y}<br>dur=%{marker.size}<extra></extra>",
         "legendgroup": "pop, Björn Ulvaeus",
         "marker": {
          "color": "#ab63fa",
          "size": [
           201,
           210,
           231,
           185
          ],
          "sizemode": "area",
          "sizeref": 3.1025,
          "symbol": "square"
         },
         "mode": "markers",
         "name": "pop, Björn Ulvaeus",
         "scene": "scene",
         "showlegend": true,
         "type": "scatter3d",
         "x": [
          49,
          20,
          20,
          16
         ],
         "y": [
          49,
          27,
          49,
          50
         ],
         "z": [
          "pop",
          "pop",
          "pop",
          "pop"
         ]
        },
        {
         "hovertemplate": "top genre=%{z}<br>artist=Tove Styrke<br>pop=%{x}<br>dnce=%{y}<br>dur=%{marker.size}<extra></extra>",
         "legendgroup": "pop, Tove Styrke",
         "marker": {
          "color": "#ab63fa",
          "size": [
           211
          ],
          "sizemode": "area",
          "sizeref": 3.1025,
          "symbol": "circle"
         },
         "mode": "markers",
         "name": "pop, Tove Styrke",
         "scene": "scene",
         "showlegend": true,
         "type": "scatter3d",
         "x": [
          49
         ],
         "y": [
          76
         ],
         "z": [
          "pop"
         ]
        },
        {
         "hovertemplate": "top genre=%{z}<br>artist=Murat Dalkılıç<br>pop=%{x}<br>dnce=%{y}<br>dur=%{marker.size}<extra></extra>",
         "legendgroup": "pop, Murat Dalkılıç",
         "marker": {
          "color": "#ab63fa",
          "size": [
           243
          ],
          "sizemode": "area",
          "sizeref": 3.1025,
          "symbol": "circle"
         },
         "mode": "markers",
         "name": "pop, Murat Dalkılıç",
         "scene": "scene",
         "showlegend": true,
         "type": "scatter3d",
         "x": [
          49
         ],
         "y": [
          76
         ],
         "z": [
          "pop"
         ]
        },
        {
         "hovertemplate": "top genre=%{z}<br>artist=Sıla<br>pop=%{x}<br>dnce=%{y}<br>dur=%{marker.size}<extra></extra>",
         "legendgroup": "pop, Sıla",
         "marker": {
          "color": "#ab63fa",
          "size": [
           219,
           251
          ],
          "sizemode": "area",
          "sizeref": 3.1025,
          "symbol": "diamond"
         },
         "mode": "markers",
         "name": "pop, Sıla",
         "scene": "scene",
         "showlegend": true,
         "type": "scatter3d",
         "x": [
          49,
          40
         ],
         "y": [
          80,
          58
         ],
         "z": [
          "pop",
          "pop"
         ]
        },
        {
         "hovertemplate": "top genre=%{z}<br>artist=Lesley Roy<br>pop=%{x}<br>dnce=%{y}<br>dur=%{marker.size}<extra></extra>",
         "legendgroup": "pop, Lesley Roy",
         "marker": {
          "color": "#ab63fa",
          "size": [
           172
          ],
          "sizemode": "area",
          "sizeref": 3.1025,
          "symbol": "diamond"
         },
         "mode": "markers",
         "name": "pop, Lesley Roy",
         "scene": "scene",
         "showlegend": true,
         "type": "scatter3d",
         "x": [
          48
         ],
         "y": [
          54
         ],
         "z": [
          "pop"
         ]
        },
        {
         "hovertemplate": "top genre=%{z}<br>artist=Jeangu Macrooy<br>pop=%{x}<br>dnce=%{y}<br>dur=%{marker.size}<extra></extra>",
         "legendgroup": "pop, Jeangu Macrooy",
         "marker": {
          "color": "#ab63fa",
          "size": [
           173
          ],
          "sizemode": "area",
          "sizeref": 3.1025,
          "symbol": "square"
         },
         "mode": "markers",
         "name": "pop, Jeangu Macrooy",
         "scene": "scene",
         "showlegend": true,
         "type": "scatter3d",
         "x": [
          48
         ],
         "y": [
          72
         ],
         "z": [
          "pop"
         ]
        },
        {
         "hovertemplate": "top genre=%{z}<br>artist=Frida<br>pop=%{x}<br>dnce=%{y}<br>dur=%{marker.size}<extra></extra>",
         "legendgroup": "pop, Frida",
         "marker": {
          "color": "#ab63fa",
          "size": [
           171,
           254,
           163,
           231,
           220
          ],
          "sizemode": "area",
          "sizeref": 3.1025,
          "symbol": "x"
         },
         "mode": "markers",
         "name": "pop, Frida",
         "scene": "scene",
         "showlegend": true,
         "type": "scatter3d",
         "x": [
          48,
          36,
          23,
          22,
          20
         ],
         "y": [
          50,
          29,
          35,
          55,
          39
         ],
         "z": [
          "pop",
          "pop",
          "pop",
          "pop",
          "pop"
         ]
        },
        {
         "hovertemplate": "top genre=%{z}<br>artist=Lewis Del Mar<br>pop=%{x}<br>dnce=%{y}<br>dur=%{marker.size}<extra></extra>",
         "legendgroup": "pop, Lewis Del Mar",
         "marker": {
          "color": "#ab63fa",
          "size": [
           243
          ],
          "sizemode": "area",
          "sizeref": 3.1025,
          "symbol": "diamond"
         },
         "mode": "markers",
         "name": "pop, Lewis Del Mar",
         "scene": "scene",
         "showlegend": true,
         "type": "scatter3d",
         "x": [
          48
         ],
         "y": [
          73
         ],
         "z": [
          "pop"
         ]
        },
        {
         "hovertemplate": "top genre=%{z}<br>artist=Seyyal Taner<br>pop=%{x}<br>dnce=%{y}<br>dur=%{marker.size}<extra></extra>",
         "legendgroup": "pop, Seyyal Taner",
         "marker": {
          "color": "#ab63fa",
          "size": [
           215
          ],
          "sizemode": "area",
          "sizeref": 3.1025,
          "symbol": "x"
         },
         "mode": "markers",
         "name": "pop, Seyyal Taner",
         "scene": "scene",
         "showlegend": true,
         "type": "scatter3d",
         "x": [
          48
         ],
         "y": [
          63
         ],
         "z": [
          "pop"
         ]
        },
        {
         "hovertemplate": "top genre=%{z}<br>artist=Yeliz<br>pop=%{x}<br>dnce=%{y}<br>dur=%{marker.size}<extra></extra>",
         "legendgroup": "pop, Yeliz",
         "marker": {
          "color": "#ab63fa",
          "size": [
           235
          ],
          "sizemode": "area",
          "sizeref": 3.1025,
          "symbol": "cross"
         },
         "mode": "markers",
         "name": "pop, Yeliz",
         "scene": "scene",
         "showlegend": true,
         "type": "scatter3d",
         "x": [
          48
         ],
         "y": [
          58
         ],
         "z": [
          "pop"
         ]
        },
        {
         "hovertemplate": "top genre=%{z}<br>artist=Sweet Trip<br>pop=%{x}<br>dnce=%{y}<br>dur=%{marker.size}<extra></extra>",
         "legendgroup": "pop, Sweet Trip",
         "marker": {
          "color": "#ab63fa",
          "size": [
           346,
           189
          ],
          "sizemode": "area",
          "sizeref": 3.1025,
          "symbol": "x"
         },
         "mode": "markers",
         "name": "pop, Sweet Trip",
         "scene": "scene",
         "showlegend": true,
         "type": "scatter3d",
         "x": [
          47,
          37
         ],
         "y": [
          47,
          41
         ],
         "z": [
          "pop",
          "pop"
         ]
        },
        {
         "hovertemplate": "top genre=%{z}<br>artist=Tamta<br>pop=%{x}<br>dnce=%{y}<br>dur=%{marker.size}<extra></extra>",
         "legendgroup": "pop, Tamta",
         "marker": {
          "color": "#ab63fa",
          "size": [
           174
          ],
          "sizemode": "area",
          "sizeref": 3.1025,
          "symbol": "cross"
         },
         "mode": "markers",
         "name": "pop, Tamta",
         "scene": "scene",
         "showlegend": true,
         "type": "scatter3d",
         "x": [
          47
         ],
         "y": [
          71
         ],
         "z": [
          "pop"
         ]
        },
        {
         "hovertemplate": "top genre=%{z}<br>artist=Lykke Li<br>pop=%{x}<br>dnce=%{y}<br>dur=%{marker.size}<extra></extra>",
         "legendgroup": "pop, Lykke Li",
         "marker": {
          "color": "#ab63fa",
          "size": [
           203,
           189
          ],
          "sizemode": "area",
          "sizeref": 3.1025,
          "symbol": "diamond"
         },
         "mode": "markers",
         "name": "pop, Lykke Li",
         "scene": "scene",
         "showlegend": true,
         "type": "scatter3d",
         "x": [
          47,
          41
         ],
         "y": [
          57,
          84
         ],
         "z": [
          "pop",
          "pop"
         ]
        },
        {
         "hovertemplate": "top genre=%{z}<br>artist=Gökçe<br>pop=%{x}<br>dnce=%{y}<br>dur=%{marker.size}<extra></extra>",
         "legendgroup": "pop, Gökçe",
         "marker": {
          "color": "#ab63fa",
          "size": [
           215
          ],
          "sizemode": "area",
          "sizeref": 3.1025,
          "symbol": "square"
         },
         "mode": "markers",
         "name": "pop, Gökçe",
         "scene": "scene",
         "showlegend": true,
         "type": "scatter3d",
         "x": [
          47
         ],
         "y": [
          69
         ],
         "z": [
          "pop"
         ]
        },
        {
         "hovertemplate": "top genre=%{z}<br>artist=Chiddy Bang<br>pop=%{x}<br>dnce=%{y}<br>dur=%{marker.size}<extra></extra>",
         "legendgroup": "pop, Chiddy Bang",
         "marker": {
          "color": "#ab63fa",
          "size": [
           195
          ],
          "sizemode": "area",
          "sizeref": 3.1025,
          "symbol": "x"
         },
         "mode": "markers",
         "name": "pop, Chiddy Bang",
         "scene": "scene",
         "showlegend": true,
         "type": "scatter3d",
         "x": [
          46
         ],
         "y": [
          68
         ],
         "z": [
          "pop"
         ]
        },
        {
         "hovertemplate": "top genre=%{z}<br>artist=Güzin İle Baha<br>pop=%{x}<br>dnce=%{y}<br>dur=%{marker.size}<extra></extra>",
         "legendgroup": "pop, Güzin İle Baha",
         "marker": {
          "color": "#ab63fa",
          "size": [
           174
          ],
          "sizemode": "area",
          "sizeref": 3.1025,
          "symbol": "x"
         },
         "mode": "markers",
         "name": "pop, Güzin İle Baha",
         "scene": "scene",
         "showlegend": true,
         "type": "scatter3d",
         "x": [
          46
         ],
         "y": [
          58
         ],
         "z": [
          "pop"
         ]
        },
        {
         "hovertemplate": "top genre=%{z}<br>artist=Yasemin Kumral<br>pop=%{x}<br>dnce=%{y}<br>dur=%{marker.size}<extra></extra>",
         "legendgroup": "pop, Yasemin Kumral",
         "marker": {
          "color": "#ab63fa",
          "size": [
           185
          ],
          "sizemode": "area",
          "sizeref": 3.1025,
          "symbol": "cross"
         },
         "mode": "markers",
         "name": "pop, Yasemin Kumral",
         "scene": "scene",
         "showlegend": true,
         "type": "scatter3d",
         "x": [
          46
         ],
         "y": [
          77
         ],
         "z": [
          "pop"
         ]
        },
        {
         "hovertemplate": "top genre=%{z}<br>artist=İlhan İrem<br>pop=%{x}<br>dnce=%{y}<br>dur=%{marker.size}<extra></extra>",
         "legendgroup": "pop, İlhan İrem",
         "marker": {
          "color": "#ab63fa",
          "size": [
           246
          ],
          "sizemode": "area",
          "sizeref": 3.1025,
          "symbol": "circle"
         },
         "mode": "markers",
         "name": "pop, İlhan İrem",
         "scene": "scene",
         "showlegend": true,
         "type": "scatter3d",
         "x": [
          46
         ],
         "y": [
          27
         ],
         "z": [
          "pop"
         ]
        },
        {
         "hovertemplate": "top genre=%{z}<br>artist=Ivi Adamou<br>pop=%{x}<br>dnce=%{y}<br>dur=%{marker.size}<extra></extra>",
         "legendgroup": "pop, Ivi Adamou",
         "marker": {
          "color": "#ab63fa",
          "size": [
           183
          ],
          "sizemode": "area",
          "sizeref": 3.1025,
          "symbol": "cross"
         },
         "mode": "markers",
         "name": "pop, Ivi Adamou",
         "scene": "scene",
         "showlegend": true,
         "type": "scatter3d",
         "x": [
          45
         ],
         "y": [
          73
         ],
         "z": [
          "pop"
         ]
        },
        {
         "hovertemplate": "top genre=%{z}<br>artist=Getter Jaani<br>pop=%{x}<br>dnce=%{y}<br>dur=%{marker.size}<extra></extra>",
         "legendgroup": "pop, Getter Jaani",
         "marker": {
          "color": "#ab63fa",
          "size": [
           193
          ],
          "sizemode": "area",
          "sizeref": 3.1025,
          "symbol": "circle"
         },
         "mode": "markers",
         "name": "pop, Getter Jaani",
         "scene": "scene",
         "showlegend": true,
         "type": "scatter3d",
         "x": [
          45
         ],
         "y": [
          81
         ],
         "z": [
          "pop"
         ]
        },
        {
         "hovertemplate": "top genre=%{z}<br>artist=The Mountains<br>pop=%{x}<br>dnce=%{y}<br>dur=%{marker.size}<extra></extra>",
         "legendgroup": "pop, The Mountains",
         "marker": {
          "color": "#ab63fa",
          "size": [
           219
          ],
          "sizemode": "area",
          "sizeref": 3.1025,
          "symbol": "circle"
         },
         "mode": "markers",
         "name": "pop, The Mountains",
         "scene": "scene",
         "showlegend": true,
         "type": "scatter3d",
         "x": [
          45
         ],
         "y": [
          65
         ],
         "z": [
          "pop"
         ]
        },
        {
         "hovertemplate": "top genre=%{z}<br>artist=Emre Altug<br>pop=%{x}<br>dnce=%{y}<br>dur=%{marker.size}<extra></extra>",
         "legendgroup": "pop, Emre Altug",
         "marker": {
          "color": "#ab63fa",
          "size": [
           279
          ],
          "sizemode": "area",
          "sizeref": 3.1025,
          "symbol": "x"
         },
         "mode": "markers",
         "name": "pop, Emre Altug",
         "scene": "scene",
         "showlegend": true,
         "type": "scatter3d",
         "x": [
          45
         ],
         "y": [
          73
         ],
         "z": [
          "pop"
         ]
        },
        {
         "hovertemplate": "top genre=%{z}<br>artist=Elliphant<br>pop=%{x}<br>dnce=%{y}<br>dur=%{marker.size}<extra></extra>",
         "legendgroup": "pop, Elliphant",
         "marker": {
          "color": "#ab63fa",
          "size": [
           174
          ],
          "sizemode": "area",
          "sizeref": 3.1025,
          "symbol": "cross"
         },
         "mode": "markers",
         "name": "pop, Elliphant",
         "scene": "scene",
         "showlegend": true,
         "type": "scatter3d",
         "x": [
          44
         ],
         "y": [
          58
         ],
         "z": [
          "pop"
         ]
        },
        {
         "hovertemplate": "top genre=%{z}<br>artist=Scissor Sisters<br>pop=%{x}<br>dnce=%{y}<br>dur=%{marker.size}<extra></extra>",
         "legendgroup": "pop, Scissor Sisters",
         "marker": {
          "color": "#ab63fa",
          "size": [
           253
          ],
          "sizemode": "area",
          "sizeref": 3.1025,
          "symbol": "diamond"
         },
         "mode": "markers",
         "name": "pop, Scissor Sisters",
         "scene": "scene",
         "showlegend": true,
         "type": "scatter3d",
         "x": [
          44
         ],
         "y": [
          59
         ],
         "z": [
          "pop"
         ]
        },
        {
         "hovertemplate": "top genre=%{z}<br>artist=Martin Garrix<br>pop=%{x}<br>dnce=%{y}<br>dur=%{marker.size}<extra></extra>",
         "legendgroup": "pop, Martin Garrix",
         "marker": {
          "color": "#ab63fa",
          "size": [
           230
          ],
          "sizemode": "area",
          "sizeref": 3.1025,
          "symbol": "square"
         },
         "mode": "markers",
         "name": "pop, Martin Garrix",
         "scene": "scene",
         "showlegend": true,
         "type": "scatter3d",
         "x": [
          44
         ],
         "y": [
          80
         ],
         "z": [
          "pop"
         ]
        },
        {
         "hovertemplate": "top genre=%{z}<br>artist=Angèle<br>pop=%{x}<br>dnce=%{y}<br>dur=%{marker.size}<extra></extra>",
         "legendgroup": "pop, Angèle",
         "marker": {
          "color": "#ab63fa",
          "size": [
           193
          ],
          "sizemode": "area",
          "sizeref": 3.1025,
          "symbol": "diamond"
         },
         "mode": "markers",
         "name": "pop, Angèle",
         "scene": "scene",
         "showlegend": true,
         "type": "scatter3d",
         "x": [
          43
         ],
         "y": [
          41
         ],
         "z": [
          "pop"
         ]
        },
        {
         "hovertemplate": "top genre=%{z}<br>artist=Tune-Yards<br>pop=%{x}<br>dnce=%{y}<br>dur=%{marker.size}<extra></extra>",
         "legendgroup": "pop, Tune-Yards",
         "marker": {
          "color": "#ab63fa",
          "size": [
           183,
           224
          ],
          "sizemode": "area",
          "sizeref": 3.1025,
          "symbol": "square"
         },
         "mode": "markers",
         "name": "pop, Tune-Yards",
         "scene": "scene",
         "showlegend": true,
         "type": "scatter3d",
         "x": [
          43,
          34
         ],
         "y": [
          82,
          67
         ],
         "z": [
          "pop",
          "pop"
         ]
        },
        {
         "hovertemplate": "top genre=%{z}<br>artist=Magic Man<br>pop=%{x}<br>dnce=%{y}<br>dur=%{marker.size}<extra></extra>",
         "legendgroup": "pop, Magic Man",
         "marker": {
          "color": "#ab63fa",
          "size": [
           218
          ],
          "sizemode": "area",
          "sizeref": 3.1025,
          "symbol": "circle"
         },
         "mode": "markers",
         "name": "pop, Magic Man",
         "scene": "scene",
         "showlegend": true,
         "type": "scatter3d",
         "x": [
          43
         ],
         "y": [
          51
         ],
         "z": [
          "pop"
         ]
        },
        {
         "hovertemplate": "top genre=%{z}<br>artist=Lowell<br>pop=%{x}<br>dnce=%{y}<br>dur=%{marker.size}<extra></extra>",
         "legendgroup": "pop, Lowell",
         "marker": {
          "color": "#ab63fa",
          "size": [
           270
          ],
          "sizemode": "area",
          "sizeref": 3.1025,
          "symbol": "diamond"
         },
         "mode": "markers",
         "name": "pop, Lowell",
         "scene": "scene",
         "showlegend": true,
         "type": "scatter3d",
         "x": [
          43
         ],
         "y": [
          54
         ],
         "z": [
          "pop"
         ]
        },
        {
         "hovertemplate": "top genre=%{z}<br>artist=4 Yüz<br>pop=%{x}<br>dnce=%{y}<br>dur=%{marker.size}<extra></extra>",
         "legendgroup": "pop, 4 Yüz",
         "marker": {
          "color": "#ab63fa",
          "size": [
           226
          ],
          "sizemode": "area",
          "sizeref": 3.1025,
          "symbol": "x"
         },
         "mode": "markers",
         "name": "pop, 4 Yüz",
         "scene": "scene",
         "showlegend": true,
         "type": "scatter3d",
         "x": [
          43
         ],
         "y": [
          76
         ],
         "z": [
          "pop"
         ]
        },
        {
         "hovertemplate": "top genre=%{z}<br>artist=Gönül Akkor<br>pop=%{x}<br>dnce=%{y}<br>dur=%{marker.size}<extra></extra>",
         "legendgroup": "pop, Gönül Akkor",
         "marker": {
          "color": "#ab63fa",
          "size": [
           182
          ],
          "sizemode": "area",
          "sizeref": 3.1025,
          "symbol": "cross"
         },
         "mode": "markers",
         "name": "pop, Gönül Akkor",
         "scene": "scene",
         "showlegend": true,
         "type": "scatter3d",
         "x": [
          43
         ],
         "y": [
          66
         ],
         "z": [
          "pop"
         ]
        },
        {
         "hovertemplate": "top genre=%{z}<br>artist=Alpay<br>pop=%{x}<br>dnce=%{y}<br>dur=%{marker.size}<extra></extra>",
         "legendgroup": "pop, Alpay",
         "marker": {
          "color": "#ab63fa",
          "size": [
           182
          ],
          "sizemode": "area",
          "sizeref": 3.1025,
          "symbol": "circle"
         },
         "mode": "markers",
         "name": "pop, Alpay",
         "scene": "scene",
         "showlegend": true,
         "type": "scatter3d",
         "x": [
          43
         ],
         "y": [
          69
         ],
         "z": [
          "pop"
         ]
        },
        {
         "hovertemplate": "top genre=%{z}<br>artist=Ayten Alpman<br>pop=%{x}<br>dnce=%{y}<br>dur=%{marker.size}<extra></extra>",
         "legendgroup": "pop, Ayten Alpman",
         "marker": {
          "color": "#ab63fa",
          "size": [
           175
          ],
          "sizemode": "area",
          "sizeref": 3.1025,
          "symbol": "diamond"
         },
         "mode": "markers",
         "name": "pop, Ayten Alpman",
         "scene": "scene",
         "showlegend": true,
         "type": "scatter3d",
         "x": [
          43
         ],
         "y": [
          32
         ],
         "z": [
          "pop"
         ]
        },
        {
         "hovertemplate": "top genre=%{z}<br>artist=Berkant<br>pop=%{x}<br>dnce=%{y}<br>dur=%{marker.size}<extra></extra>",
         "legendgroup": "pop, Berkant",
         "marker": {
          "color": "#ab63fa",
          "size": [
           224
          ],
          "sizemode": "area",
          "sizeref": 3.1025,
          "symbol": "diamond"
         },
         "mode": "markers",
         "name": "pop, Berkant",
         "scene": "scene",
         "showlegend": true,
         "type": "scatter3d",
         "x": [
          43
         ],
         "y": [
          21
         ],
         "z": [
          "pop"
         ]
        },
        {
         "hovertemplate": "top genre=%{z}<br>artist=Lake Malawi<br>pop=%{x}<br>dnce=%{y}<br>dur=%{marker.size}<extra></extra>",
         "legendgroup": "pop, Lake Malawi",
         "marker": {
          "color": "#ab63fa",
          "size": [
           173
          ],
          "sizemode": "area",
          "sizeref": 3.1025,
          "symbol": "cross"
         },
         "mode": "markers",
         "name": "pop, Lake Malawi",
         "scene": "scene",
         "showlegend": true,
         "type": "scatter3d",
         "x": [
          42
         ],
         "y": [
          70
         ],
         "z": [
          "pop"
         ]
        },
        {
         "hovertemplate": "top genre=%{z}<br>artist=FMLYBND<br>pop=%{x}<br>dnce=%{y}<br>dur=%{marker.size}<extra></extra>",
         "legendgroup": "pop, FMLYBND",
         "marker": {
          "color": "#ab63fa",
          "size": [
           203
          ],
          "sizemode": "area",
          "sizeref": 3.1025,
          "symbol": "diamond"
         },
         "mode": "markers",
         "name": "pop, FMLYBND",
         "scene": "scene",
         "showlegend": true,
         "type": "scatter3d",
         "x": [
          42
         ],
         "y": [
          53
         ],
         "z": [
          "pop"
         ]
        },
        {
         "hovertemplate": "top genre=%{z}<br>artist=Burak Kut<br>pop=%{x}<br>dnce=%{y}<br>dur=%{marker.size}<extra></extra>",
         "legendgroup": "pop, Burak Kut",
         "marker": {
          "color": "#ab63fa",
          "size": [
           227
          ],
          "sizemode": "area",
          "sizeref": 3.1025,
          "symbol": "x"
         },
         "mode": "markers",
         "name": "pop, Burak Kut",
         "scene": "scene",
         "showlegend": true,
         "type": "scatter3d",
         "x": [
          42
         ],
         "y": [
          86
         ],
         "z": [
          "pop"
         ]
        },
        {
         "hovertemplate": "top genre=%{z}<br>artist=K.A.A.N.<br>pop=%{x}<br>dnce=%{y}<br>dur=%{marker.size}<extra></extra>",
         "legendgroup": "pop, K.A.A.N.",
         "marker": {
          "color": "#ab63fa",
          "size": [
           155
          ],
          "sizemode": "area",
          "sizeref": 3.1025,
          "symbol": "cross"
         },
         "mode": "markers",
         "name": "pop, K.A.A.N.",
         "scene": "scene",
         "showlegend": true,
         "type": "scatter3d",
         "x": [
          42
         ],
         "y": [
          64
         ],
         "z": [
          "pop"
         ]
        },
        {
         "hovertemplate": "top genre=%{z}<br>artist=Young Empires<br>pop=%{x}<br>dnce=%{y}<br>dur=%{marker.size}<extra></extra>",
         "legendgroup": "pop, Young Empires",
         "marker": {
          "color": "#ab63fa",
          "size": [
           196
          ],
          "sizemode": "area",
          "sizeref": 3.1025,
          "symbol": "x"
         },
         "mode": "markers",
         "name": "pop, Young Empires",
         "scene": "scene",
         "showlegend": true,
         "type": "scatter3d",
         "x": [
          41
         ],
         "y": [
          65
         ],
         "z": [
          "pop"
         ]
        },
        {
         "hovertemplate": "top genre=%{z}<br>artist=Seinabo Sey<br>pop=%{x}<br>dnce=%{y}<br>dur=%{marker.size}<extra></extra>",
         "legendgroup": "pop, Seinabo Sey",
         "marker": {
          "color": "#ab63fa",
          "size": [
           210
          ],
          "sizemode": "area",
          "sizeref": 3.1025,
          "symbol": "diamond"
         },
         "mode": "markers",
         "name": "pop, Seinabo Sey",
         "scene": "scene",
         "showlegend": true,
         "type": "scatter3d",
         "x": [
          41
         ],
         "y": [
          68
         ],
         "z": [
          "pop"
         ]
        },
        {
         "hovertemplate": "top genre=%{z}<br>artist=Fatih Ürek<br>pop=%{x}<br>dnce=%{y}<br>dur=%{marker.size}<extra></extra>",
         "legendgroup": "pop, Fatih Ürek",
         "marker": {
          "color": "#ab63fa",
          "size": [
           246
          ],
          "sizemode": "area",
          "sizeref": 3.1025,
          "symbol": "diamond"
         },
         "mode": "markers",
         "name": "pop, Fatih Ürek",
         "scene": "scene",
         "showlegend": true,
         "type": "scatter3d",
         "x": [
          41
         ],
         "y": [
          67
         ],
         "z": [
          "pop"
         ]
        },
        {
         "hovertemplate": "top genre=%{z}<br>artist=Cici Kızlar<br>pop=%{x}<br>dnce=%{y}<br>dur=%{marker.size}<extra></extra>",
         "legendgroup": "pop, Cici Kızlar",
         "marker": {
          "color": "#ab63fa",
          "size": [
           181
          ],
          "sizemode": "area",
          "sizeref": 3.1025,
          "symbol": "square"
         },
         "mode": "markers",
         "name": "pop, Cici Kızlar",
         "scene": "scene",
         "showlegend": true,
         "type": "scatter3d",
         "x": [
          41
         ],
         "y": [
          47
         ],
         "z": [
          "pop"
         ]
        },
        {
         "hovertemplate": "top genre=%{z}<br>artist=Zeynep Dizdar<br>pop=%{x}<br>dnce=%{y}<br>dur=%{marker.size}<extra></extra>",
         "legendgroup": "pop, Zeynep Dizdar",
         "marker": {
          "color": "#ab63fa",
          "size": [
           247
          ],
          "sizemode": "area",
          "sizeref": 3.1025,
          "symbol": "x"
         },
         "mode": "markers",
         "name": "pop, Zeynep Dizdar",
         "scene": "scene",
         "showlegend": true,
         "type": "scatter3d",
         "x": [
          41
         ],
         "y": [
          77
         ],
         "z": [
          "pop"
         ]
        },
        {
         "hovertemplate": "top genre=%{z}<br>artist=Gomez<br>pop=%{x}<br>dnce=%{y}<br>dur=%{marker.size}<extra></extra>",
         "legendgroup": "pop, Gomez",
         "marker": {
          "color": "#ab63fa",
          "size": [
           244
          ],
          "sizemode": "area",
          "sizeref": 3.1025,
          "symbol": "x"
         },
         "mode": "markers",
         "name": "pop, Gomez",
         "scene": "scene",
         "showlegend": true,
         "type": "scatter3d",
         "x": [
          41
         ],
         "y": [
          48
         ],
         "z": [
          "pop"
         ]
        },
        {
         "hovertemplate": "top genre=%{z}<br>artist=Mina<br>pop=%{x}<br>dnce=%{y}<br>dur=%{marker.size}<extra></extra>",
         "legendgroup": "pop, Mina",
         "marker": {
          "color": "#ab63fa",
          "size": [
           296
          ],
          "sizemode": "area",
          "sizeref": 3.1025,
          "symbol": "diamond"
         },
         "mode": "markers",
         "name": "pop, Mina",
         "scene": "scene",
         "showlegend": true,
         "type": "scatter3d",
         "x": [
          40
         ],
         "y": [
          40
         ],
         "z": [
          "pop"
         ]
        },
        {
         "hovertemplate": "top genre=%{z}<br>artist=Charlotte Gainsbourg<br>pop=%{x}<br>dnce=%{y}<br>dur=%{marker.size}<extra></extra>",
         "legendgroup": "pop, Charlotte Gainsbourg",
         "marker": {
          "color": "#ab63fa",
          "size": [
           172
          ],
          "sizemode": "area",
          "sizeref": 3.1025,
          "symbol": "x"
         },
         "mode": "markers",
         "name": "pop, Charlotte Gainsbourg",
         "scene": "scene",
         "showlegend": true,
         "type": "scatter3d",
         "x": [
          38
         ],
         "y": [
          69
         ],
         "z": [
          "pop"
         ]
        },
        {
         "hovertemplate": "top genre=%{z}<br>artist=Burcu Güneş<br>pop=%{x}<br>dnce=%{y}<br>dur=%{marker.size}<extra></extra>",
         "legendgroup": "pop, Burcu Güneş",
         "marker": {
          "color": "#ab63fa",
          "size": [
           246
          ],
          "sizemode": "area",
          "sizeref": 3.1025,
          "symbol": "circle"
         },
         "mode": "markers",
         "name": "pop, Burcu Güneş",
         "scene": "scene",
         "showlegend": true,
         "type": "scatter3d",
         "x": [
          38
         ],
         "y": [
          72
         ],
         "z": [
          "pop"
         ]
        },
        {
         "hovertemplate": "top genre=%{z}<br>artist=Yusuf Güney<br>pop=%{x}<br>dnce=%{y}<br>dur=%{marker.size}<extra></extra>",
         "legendgroup": "pop, Yusuf Güney",
         "marker": {
          "color": "#ab63fa",
          "size": [
           215
          ],
          "sizemode": "area",
          "sizeref": 3.1025,
          "symbol": "diamond"
         },
         "mode": "markers",
         "name": "pop, Yusuf Güney",
         "scene": "scene",
         "showlegend": true,
         "type": "scatter3d",
         "x": [
          38
         ],
         "y": [
          73
         ],
         "z": [
          "pop"
         ]
        },
        {
         "hovertemplate": "top genre=%{z}<br>artist=İlham Gencer<br>pop=%{x}<br>dnce=%{y}<br>dur=%{marker.size}<extra></extra>",
         "legendgroup": "pop, İlham Gencer",
         "marker": {
          "color": "#ab63fa",
          "size": [
           142
          ],
          "sizemode": "area",
          "sizeref": 3.1025,
          "symbol": "square"
         },
         "mode": "markers",
         "name": "pop, İlham Gencer",
         "scene": "scene",
         "showlegend": true,
         "type": "scatter3d",
         "x": [
          38
         ],
         "y": [
          75
         ],
         "z": [
          "pop"
         ]
        },
        {
         "hovertemplate": "top genre=%{z}<br>artist=Marc Aryan<br>pop=%{x}<br>dnce=%{y}<br>dur=%{marker.size}<extra></extra>",
         "legendgroup": "pop, Marc Aryan",
         "marker": {
          "color": "#ab63fa",
          "size": [
           118
          ],
          "sizemode": "area",
          "sizeref": 3.1025,
          "symbol": "circle"
         },
         "mode": "markers",
         "name": "pop, Marc Aryan",
         "scene": "scene",
         "showlegend": true,
         "type": "scatter3d",
         "x": [
          37
         ],
         "y": [
          72
         ],
         "z": [
          "pop"
         ]
        },
        {
         "hovertemplate": "top genre=%{z}<br>artist=Nikki Jamal<br>pop=%{x}<br>dnce=%{y}<br>dur=%{marker.size}<extra></extra>",
         "legendgroup": "pop, Nikki Jamal",
         "marker": {
          "color": "#ab63fa",
          "size": [
           182
          ],
          "sizemode": "area",
          "sizeref": 3.1025,
          "symbol": "square"
         },
         "mode": "markers",
         "name": "pop, Nikki Jamal",
         "scene": "scene",
         "showlegend": true,
         "type": "scatter3d",
         "x": [
          36
         ],
         "y": [
          33
         ],
         "z": [
          "pop"
         ]
        },
        {
         "hovertemplate": "top genre=%{z}<br>artist=Robert DeLong<br>pop=%{x}<br>dnce=%{y}<br>dur=%{marker.size}<extra></extra>",
         "legendgroup": "pop, Robert DeLong",
         "marker": {
          "color": "#ab63fa",
          "size": [
           249
          ],
          "sizemode": "area",
          "sizeref": 3.1025,
          "symbol": "diamond"
         },
         "mode": "markers",
         "name": "pop, Robert DeLong",
         "scene": "scene",
         "showlegend": true,
         "type": "scatter3d",
         "x": [
          36
         ],
         "y": [
          58
         ],
         "z": [
          "pop"
         ]
        },
        {
         "hovertemplate": "top genre=%{z}<br>artist=Mark Ronson<br>pop=%{x}<br>dnce=%{y}<br>dur=%{marker.size}<extra></extra>",
         "legendgroup": "pop, Mark Ronson",
         "marker": {
          "color": "#ab63fa",
          "size": [
           230,
           242
          ],
          "sizemode": "area",
          "sizeref": 3.1025,
          "symbol": "x"
         },
         "mode": "markers",
         "name": "pop, Mark Ronson",
         "scene": "scene",
         "showlegend": true,
         "type": "scatter3d",
         "x": [
          36,
          25
         ],
         "y": [
          76,
          81
         ],
         "z": [
          "pop",
          "pop"
         ]
        },
        {
         "hovertemplate": "top genre=%{z}<br>artist=CHVRCHES<br>pop=%{x}<br>dnce=%{y}<br>dur=%{marker.size}<extra></extra>",
         "legendgroup": "pop, CHVRCHES",
         "marker": {
          "color": "#ab63fa",
          "size": [
           219,
           214
          ],
          "sizemode": "area",
          "sizeref": 3.1025,
          "symbol": "x"
         },
         "mode": "markers",
         "name": "pop, CHVRCHES",
         "scene": "scene",
         "showlegend": true,
         "type": "scatter3d",
         "x": [
          35,
          35
         ],
         "y": [
          38,
          61
         ],
         "z": [
          "pop",
          "pop"
         ]
        },
        {
         "hovertemplate": "top genre=%{z}<br>artist=BC Unidos<br>pop=%{x}<br>dnce=%{y}<br>dur=%{marker.size}<extra></extra>",
         "legendgroup": "pop, BC Unidos",
         "marker": {
          "color": "#ab63fa",
          "size": [
           193
          ],
          "sizemode": "area",
          "sizeref": 3.1025,
          "symbol": "cross"
         },
         "mode": "markers",
         "name": "pop, BC Unidos",
         "scene": "scene",
         "showlegend": true,
         "type": "scatter3d",
         "x": [
          35
         ],
         "y": [
          50
         ],
         "z": [
          "pop"
         ]
        },
        {
         "hovertemplate": "top genre=%{z}<br>artist=Dan Black<br>pop=%{x}<br>dnce=%{y}<br>dur=%{marker.size}<extra></extra>",
         "legendgroup": "pop, Dan Black",
         "marker": {
          "color": "#ab63fa",
          "size": [
           221
          ],
          "sizemode": "area",
          "sizeref": 3.1025,
          "symbol": "circle"
         },
         "mode": "markers",
         "name": "pop, Dan Black",
         "scene": "scene",
         "showlegend": true,
         "type": "scatter3d",
         "x": [
          35
         ],
         "y": [
          64
         ],
         "z": [
          "pop"
         ]
        },
        {
         "hovertemplate": "top genre=%{z}<br>artist=Reverend And The Makers<br>pop=%{x}<br>dnce=%{y}<br>dur=%{marker.size}<extra></extra>",
         "legendgroup": "pop, Reverend And The Makers",
         "marker": {
          "color": "#ab63fa",
          "size": [
           243
          ],
          "sizemode": "area",
          "sizeref": 3.1025,
          "symbol": "cross"
         },
         "mode": "markers",
         "name": "pop, Reverend And The Makers",
         "scene": "scene",
         "showlegend": true,
         "type": "scatter3d",
         "x": [
          34
         ],
         "y": [
          58
         ],
         "z": [
          "pop"
         ]
        },
        {
         "hovertemplate": "top genre=%{z}<br>artist=A Friend In London<br>pop=%{x}<br>dnce=%{y}<br>dur=%{marker.size}<extra></extra>",
         "legendgroup": "pop, A Friend In London",
         "marker": {
          "color": "#ab63fa",
          "size": [
           182
          ],
          "sizemode": "area",
          "sizeref": 3.1025,
          "symbol": "x"
         },
         "mode": "markers",
         "name": "pop, A Friend In London",
         "scene": "scene",
         "showlegend": true,
         "type": "scatter3d",
         "x": [
          32
         ],
         "y": [
          50
         ],
         "z": [
          "pop"
         ]
        },
        {
         "hovertemplate": "top genre=%{z}<br>artist=Young Love<br>pop=%{x}<br>dnce=%{y}<br>dur=%{marker.size}<extra></extra>",
         "legendgroup": "pop, Young Love",
         "marker": {
          "color": "#ab63fa",
          "size": [
           234
          ],
          "sizemode": "area",
          "sizeref": 3.1025,
          "symbol": "cross"
         },
         "mode": "markers",
         "name": "pop, Young Love",
         "scene": "scene",
         "showlegend": true,
         "type": "scatter3d",
         "x": [
          32
         ],
         "y": [
          63
         ],
         "z": [
          "pop"
         ]
        },
        {
         "hovertemplate": "top genre=%{z}<br>artist=Rüçhan Çamay<br>pop=%{x}<br>dnce=%{y}<br>dur=%{marker.size}<extra></extra>",
         "legendgroup": "pop, Rüçhan Çamay",
         "marker": {
          "color": "#ab63fa",
          "size": [
           203
          ],
          "sizemode": "area",
          "sizeref": 3.1025,
          "symbol": "circle"
         },
         "mode": "markers",
         "name": "pop, Rüçhan Çamay",
         "scene": "scene",
         "showlegend": true,
         "type": "scatter3d",
         "x": [
          32
         ],
         "y": [
          66
         ],
         "z": [
          "pop"
         ]
        },
        {
         "hovertemplate": "top genre=%{z}<br>artist=Jessie Ware<br>pop=%{x}<br>dnce=%{y}<br>dur=%{marker.size}<extra></extra>",
         "legendgroup": "pop, Jessie Ware",
         "marker": {
          "color": "#ab63fa",
          "size": [
           392
          ],
          "sizemode": "area",
          "sizeref": 3.1025,
          "symbol": "square"
         },
         "mode": "markers",
         "name": "pop, Jessie Ware",
         "scene": "scene",
         "showlegend": true,
         "type": "scatter3d",
         "x": [
          32
         ],
         "y": [
          82
         ],
         "z": [
          "pop"
         ]
        },
        {
         "hovertemplate": "top genre=%{z}<br>artist=Farid Mammadov<br>pop=%{x}<br>dnce=%{y}<br>dur=%{marker.size}<extra></extra>",
         "legendgroup": "pop, Farid Mammadov",
         "marker": {
          "color": "#ab63fa",
          "size": [
           175
          ],
          "sizemode": "area",
          "sizeref": 3.1025,
          "symbol": "x"
         },
         "mode": "markers",
         "name": "pop, Farid Mammadov",
         "scene": "scene",
         "showlegend": true,
         "type": "scatter3d",
         "x": [
          30
         ],
         "y": [
          51
         ],
         "z": [
          "pop"
         ]
        },
        {
         "hovertemplate": "top genre=%{z}<br>artist=Hard-FI<br>pop=%{x}<br>dnce=%{y}<br>dur=%{marker.size}<extra></extra>",
         "legendgroup": "pop, Hard-FI",
         "marker": {
          "color": "#ab63fa",
          "size": [
           169
          ],
          "sizemode": "area",
          "sizeref": 3.1025,
          "symbol": "circle"
         },
         "mode": "markers",
         "name": "pop, Hard-FI",
         "scene": "scene",
         "showlegend": true,
         "type": "scatter3d",
         "x": [
          30
         ],
         "y": [
          51
         ],
         "z": [
          "pop"
         ]
        },
        {
         "hovertemplate": "top genre=%{z}<br>artist=Nurit Galron<br>pop=%{x}<br>dnce=%{y}<br>dur=%{marker.size}<extra></extra>",
         "legendgroup": "pop, Nurit Galron",
         "marker": {
          "color": "#ab63fa",
          "size": [
           252
          ],
          "sizemode": "area",
          "sizeref": 3.1025,
          "symbol": "cross"
         },
         "mode": "markers",
         "name": "pop, Nurit Galron",
         "scene": "scene",
         "showlegend": true,
         "type": "scatter3d",
         "x": [
          26
         ],
         "y": [
          46
         ],
         "z": [
          "pop"
         ]
        },
        {
         "hovertemplate": "top genre=%{z}<br>artist=Potro<br>pop=%{x}<br>dnce=%{y}<br>dur=%{marker.size}<extra></extra>",
         "legendgroup": "pop, Potro",
         "marker": {
          "color": "#ab63fa",
          "size": [
           207
          ],
          "sizemode": "area",
          "sizeref": 3.1025,
          "symbol": "circle"
         },
         "mode": "markers",
         "name": "pop, Potro",
         "scene": "scene",
         "showlegend": true,
         "type": "scatter3d",
         "x": [
          26
         ],
         "y": [
          85
         ],
         "z": [
          "pop"
         ]
        },
        {
         "hovertemplate": "top genre=%{z}<br>artist=Miri Aloni<br>pop=%{x}<br>dnce=%{y}<br>dur=%{marker.size}<extra></extra>",
         "legendgroup": "pop, Miri Aloni",
         "marker": {
          "color": "#ab63fa",
          "size": [
           218
          ],
          "sizemode": "area",
          "sizeref": 3.1025,
          "symbol": "diamond"
         },
         "mode": "markers",
         "name": "pop, Miri Aloni",
         "scene": "scene",
         "showlegend": true,
         "type": "scatter3d",
         "x": [
          24
         ],
         "y": [
          33
         ],
         "z": [
          "pop"
         ]
        },
        {
         "hovertemplate": "top genre=%{z}<br>artist=HaBanot Nechama<br>pop=%{x}<br>dnce=%{y}<br>dur=%{marker.size}<extra></extra>",
         "legendgroup": "pop, HaBanot Nechama",
         "marker": {
          "color": "#ab63fa",
          "size": [
           241
          ],
          "sizemode": "area",
          "sizeref": 3.1025,
          "symbol": "square"
         },
         "mode": "markers",
         "name": "pop, HaBanot Nechama",
         "scene": "scene",
         "showlegend": true,
         "type": "scatter3d",
         "x": [
          24
         ],
         "y": [
          49
         ],
         "z": [
          "pop"
         ]
        },
        {
         "hovertemplate": "top genre=%{z}<br>artist=Ebony Bones!<br>pop=%{x}<br>dnce=%{y}<br>dur=%{marker.size}<extra></extra>",
         "legendgroup": "pop, Ebony Bones!",
         "marker": {
          "color": "#ab63fa",
          "size": [
           208
          ],
          "sizemode": "area",
          "sizeref": 3.1025,
          "symbol": "x"
         },
         "mode": "markers",
         "name": "pop, Ebony Bones!",
         "scene": "scene",
         "showlegend": true,
         "type": "scatter3d",
         "x": [
          24
         ],
         "y": [
          68
         ],
         "z": [
          "pop"
         ]
        },
        {
         "hovertemplate": "top genre=%{z}<br>artist=Ay-feri<br>pop=%{x}<br>dnce=%{y}<br>dur=%{marker.size}<extra></extra>",
         "legendgroup": "pop, Ay-feri",
         "marker": {
          "color": "#ab63fa",
          "size": [
           201
          ],
          "sizemode": "area",
          "sizeref": 3.1025,
          "symbol": "cross"
         },
         "mode": "markers",
         "name": "pop, Ay-feri",
         "scene": "scene",
         "showlegend": true,
         "type": "scatter3d",
         "x": [
          24
         ],
         "y": [
          34
         ],
         "z": [
          "pop"
         ]
        },
        {
         "hovertemplate": "top genre=%{z}<br>artist=Eldrine<br>pop=%{x}<br>dnce=%{y}<br>dur=%{marker.size}<extra></extra>",
         "legendgroup": "pop, Eldrine",
         "marker": {
          "color": "#ab63fa",
          "size": [
           245
          ],
          "sizemode": "area",
          "sizeref": 3.1025,
          "symbol": "square"
         },
         "mode": "markers",
         "name": "pop, Eldrine",
         "scene": "scene",
         "showlegend": true,
         "type": "scatter3d",
         "x": [
          23
         ],
         "y": [
          63
         ],
         "z": [
          "pop"
         ]
        },
        {
         "hovertemplate": "top genre=%{z}<br>artist=Agnetha Fältskog<br>pop=%{x}<br>dnce=%{y}<br>dur=%{marker.size}<extra></extra>",
         "legendgroup": "pop, Agnetha Fältskog",
         "marker": {
          "color": "#ab63fa",
          "size": [
           221,
           204,
           228,
           181
          ],
          "sizemode": "area",
          "sizeref": 3.1025,
          "symbol": "diamond"
         },
         "mode": "markers",
         "name": "pop, Agnetha Fältskog",
         "scene": "scene",
         "showlegend": true,
         "type": "scatter3d",
         "x": [
          21,
          13,
          8,
          0
         ],
         "y": [
          37,
          38,
          28,
          29
         ],
         "z": [
          "pop",
          "pop",
          "pop",
          "pop"
         ]
        },
        {
         "hovertemplate": "top genre=%{z}<br>artist=K'NAAN<br>pop=%{x}<br>dnce=%{y}<br>dur=%{marker.size}<extra></extra>",
         "legendgroup": "pop, K'NAAN",
         "marker": {
          "color": "#ab63fa",
          "size": [
           222
          ],
          "sizemode": "area",
          "sizeref": 3.1025,
          "symbol": "x"
         },
         "mode": "markers",
         "name": "pop, K'NAAN",
         "scene": "scene",
         "showlegend": true,
         "type": "scatter3d",
         "x": [
          20
         ],
         "y": [
          83
         ],
         "z": [
          "pop"
         ]
        },
        {
         "hovertemplate": "top genre=%{z}<br>artist=Radiopilot<br>pop=%{x}<br>dnce=%{y}<br>dur=%{marker.size}<extra></extra>",
         "legendgroup": "pop, Radiopilot",
         "marker": {
          "color": "#ab63fa",
          "size": [
           142
          ],
          "sizemode": "area",
          "sizeref": 3.1025,
          "symbol": "cross"
         },
         "mode": "markers",
         "name": "pop, Radiopilot",
         "scene": "scene",
         "showlegend": true,
         "type": "scatter3d",
         "x": [
          19
         ],
         "y": [
          54
         ],
         "z": [
          "pop"
         ]
        },
        {
         "hovertemplate": "top genre=%{z}<br>artist=Hogni<br>pop=%{x}<br>dnce=%{y}<br>dur=%{marker.size}<extra></extra>",
         "legendgroup": "pop, Hogni",
         "marker": {
          "color": "#ab63fa",
          "size": [
           172
          ],
          "sizemode": "area",
          "sizeref": 3.1025,
          "symbol": "circle"
         },
         "mode": "markers",
         "name": "pop, Hogni",
         "scene": "scene",
         "showlegend": true,
         "type": "scatter3d",
         "x": [
          19
         ],
         "y": [
          56
         ],
         "z": [
          "pop"
         ]
        },
        {
         "hovertemplate": "top genre=%{z}<br>artist=Bang La Decks<br>pop=%{x}<br>dnce=%{y}<br>dur=%{marker.size}<extra></extra>",
         "legendgroup": "pop, Bang La Decks",
         "marker": {
          "color": "#ab63fa",
          "size": [
           314
          ],
          "sizemode": "area",
          "sizeref": 3.1025,
          "symbol": "diamond"
         },
         "mode": "markers",
         "name": "pop, Bang La Decks",
         "scene": "scene",
         "showlegend": true,
         "type": "scatter3d",
         "x": [
          19
         ],
         "y": [
          76
         ],
         "z": [
          "pop"
         ]
        },
        {
         "hovertemplate": "top genre=%{z}<br>artist=Nesrin Sipahi<br>pop=%{x}<br>dnce=%{y}<br>dur=%{marker.size}<extra></extra>",
         "legendgroup": "pop, Nesrin Sipahi",
         "marker": {
          "color": "#ab63fa",
          "size": [
           240
          ],
          "sizemode": "area",
          "sizeref": 3.1025,
          "symbol": "square"
         },
         "mode": "markers",
         "name": "pop, Nesrin Sipahi",
         "scene": "scene",
         "showlegend": true,
         "type": "scatter3d",
         "x": [
          19
         ],
         "y": [
          27
         ],
         "z": [
          "pop"
         ]
        },
        {
         "hovertemplate": "top genre=%{z}<br>artist=Tommy James & The Shondells<br>pop=%{x}<br>dnce=%{y}<br>dur=%{marker.size}<extra></extra>",
         "legendgroup": "pop, Tommy James & The Shondells",
         "marker": {
          "color": "#ab63fa",
          "size": [
           225
          ],
          "sizemode": "area",
          "sizeref": 3.1025,
          "symbol": "diamond"
         },
         "mode": "markers",
         "name": "pop, Tommy James & The Shondells",
         "scene": "scene",
         "showlegend": true,
         "type": "scatter3d",
         "x": [
          15
         ],
         "y": [
          62
         ],
         "z": [
          "pop"
         ]
        },
        {
         "hovertemplate": "top genre=%{z}<br>artist=Yohanna<br>pop=%{x}<br>dnce=%{y}<br>dur=%{marker.size}<extra></extra>",
         "legendgroup": "pop, Yohanna",
         "marker": {
          "color": "#ab63fa",
          "size": [
           183
          ],
          "sizemode": "area",
          "sizeref": 3.1025,
          "symbol": "circle"
         },
         "mode": "markers",
         "name": "pop, Yohanna",
         "scene": "scene",
         "showlegend": true,
         "type": "scatter3d",
         "x": [
          13
         ],
         "y": [
          26
         ],
         "z": [
          "pop"
         ]
        },
        {
         "hovertemplate": "top genre=%{z}<br>artist=Fuat Saka<br>pop=%{x}<br>dnce=%{y}<br>dur=%{marker.size}<extra></extra>",
         "legendgroup": "pop, Fuat Saka",
         "marker": {
          "color": "#ab63fa",
          "size": [
           132
          ],
          "sizemode": "area",
          "sizeref": 3.1025,
          "symbol": "x"
         },
         "mode": "markers",
         "name": "pop, Fuat Saka",
         "scene": "scene",
         "showlegend": true,
         "type": "scatter3d",
         "x": [
          2
         ],
         "y": [
          39
         ],
         "z": [
          "pop"
         ]
        },
        {
         "hovertemplate": "top genre=%{z}<br>artist=Eleftheria Eleftheriou<br>pop=%{x}<br>dnce=%{y}<br>dur=%{marker.size}<extra></extra>",
         "legendgroup": "pop, Eleftheria Eleftheriou",
         "marker": {
          "color": "#ab63fa",
          "size": [
           179
          ],
          "sizemode": "area",
          "sizeref": 3.1025,
          "symbol": "cross"
         },
         "mode": "markers",
         "name": "pop, Eleftheria Eleftheriou",
         "scene": "scene",
         "showlegend": true,
         "type": "scatter3d",
         "x": [
          1
         ],
         "y": [
          64
         ],
         "z": [
          "pop"
         ]
        },
        {
         "hovertemplate": "top genre=%{z}<br>artist=Ali Rıza Binboğa<br>pop=%{x}<br>dnce=%{y}<br>dur=%{marker.size}<extra></extra>",
         "legendgroup": "pop, Ali Rıza Binboğa",
         "marker": {
          "color": "#ab63fa",
          "size": [
           208
          ],
          "sizemode": "area",
          "sizeref": 3.1025,
          "symbol": "circle"
         },
         "mode": "markers",
         "name": "pop, Ali Rıza Binboğa",
         "scene": "scene",
         "showlegend": true,
         "type": "scatter3d",
         "x": [
          0
         ],
         "y": [
          55
         ],
         "z": [
          "pop"
         ]
        },
        {
         "hovertemplate": "top genre=%{z}<br>artist=Pet Shop Boys<br>pop=%{x}<br>dnce=%{y}<br>dur=%{marker.size}<extra></extra>",
         "legendgroup": "pop, Pet Shop Boys",
         "marker": {
          "color": "#ab63fa",
          "size": [
           518
          ],
          "sizemode": "area",
          "sizeref": 3.1025,
          "symbol": "square"
         },
         "mode": "markers",
         "name": "pop, Pet Shop Boys",
         "scene": "scene",
         "showlegend": true,
         "type": "scatter3d",
         "x": [
          0
         ],
         "y": [
          75
         ],
         "z": [
          "pop"
         ]
        },
        {
         "hovertemplate": "top genre=%{z}<br>artist=24kGoldn<br>pop=%{x}<br>dnce=%{y}<br>dur=%{marker.size}<extra></extra>",
         "legendgroup": "rap, 24kGoldn",
         "marker": {
          "color": "#FFA15A",
          "size": [
           141
          ],
          "sizemode": "area",
          "sizeref": 3.1025,
          "symbol": "x"
         },
         "mode": "markers",
         "name": "rap, 24kGoldn",
         "scene": "scene",
         "showlegend": true,
         "type": "scatter3d",
         "x": [
          88
         ],
         "y": [
          70
         ],
         "z": [
          "rap"
         ]
        },
        {
         "hovertemplate": "top genre=%{z}<br>artist=Kanye West<br>pop=%{x}<br>dnce=%{y}<br>dur=%{marker.size}<extra></extra>",
         "legendgroup": "rap, Kanye West",
         "marker": {
          "color": "#FFA15A",
          "size": [
           227,
           243,
           312,
           339,
           229,
           211,
           136,
           208,
           292,
           271,
           243,
           300,
           352,
           215,
           203,
           548,
           224,
           188,
           182,
           105,
           196,
           329,
           272,
           379,
           195,
           198,
           195,
           321,
           148,
           183,
           221,
           302,
           374,
           358,
           237,
           310,
           281,
           194,
           194,
           360,
           130,
           372,
           236,
           252,
           189,
           270,
           168,
           228,
           183,
           256,
           294,
           238,
           327,
           204,
           156,
           152,
           305,
           257,
           323,
           45,
           278,
           214,
           323,
           147,
           240,
           324,
           328,
           206,
           136,
           165,
           263,
           123,
           311,
           190,
           190,
           279,
           470,
           398,
           117,
           201,
           38,
           62,
           324,
           200,
           203,
           232,
           246,
           233,
           448,
           272,
           123,
           213,
           289,
           288,
           235,
           244,
           132,
           266,
           761,
           112,
           204,
           164,
           168,
           178,
           203,
           378,
           333,
           274,
           239,
           258,
           182,
           98,
           267,
           57,
           247,
           238,
           103,
           230,
           271,
           70,
           82,
           326,
           199,
           198,
           41,
           362,
           46,
           34,
           79,
           31,
           54,
           44,
           79,
           204,
           312,
           237,
           243,
           195,
           272,
           207,
           168,
           227,
           213,
           204,
           313,
           288,
           179,
           186,
           19,
           24,
           186
          ],
          "sizemode": "area",
          "sizeref": 3.1025,
          "symbol": "circle"
         },
         "mode": "markers",
         "name": "rap, Kanye West",
         "scene": "scene",
         "showlegend": true,
         "type": "scatter3d",
         "x": [
          87,
          85,
          81,
          81,
          80,
          80,
          79,
          78,
          78,
          77,
          76,
          76,
          76,
          76,
          75,
          75,
          75,
          75,
          74,
          74,
          73,
          73,
          73,
          72,
          72,
          72,
          72,
          71,
          71,
          71,
          70,
          70,
          70,
          70,
          70,
          70,
          69,
          68,
          68,
          67,
          67,
          67,
          67,
          67,
          67,
          67,
          67,
          66,
          66,
          65,
          65,
          65,
          65,
          64,
          64,
          64,
          63,
          63,
          63,
          63,
          63,
          63,
          62,
          62,
          62,
          62,
          62,
          62,
          62,
          62,
          62,
          62,
          62,
          62,
          62,
          61,
          61,
          61,
          61,
          60,
          60,
          60,
          60,
          60,
          60,
          59,
          59,
          59,
          59,
          59,
          59,
          59,
          58,
          58,
          58,
          58,
          57,
          57,
          57,
          57,
          57,
          57,
          57,
          57,
          57,
          57,
          56,
          56,
          56,
          56,
          55,
          55,
          55,
          54,
          54,
          54,
          53,
          53,
          53,
          53,
          53,
          53,
          52,
          52,
          50,
          50,
          49,
          49,
          48,
          47,
          47,
          47,
          45,
          39,
          35,
          35,
          33,
          33,
          32,
          30,
          30,
          27,
          25,
          25,
          25,
          25,
          21,
          10,
          10,
          4,
          0
         ],
         "y": [
          80,
          59,
          62,
          55,
          37,
          79,
          72,
          63,
          54,
          57,
          54,
          53,
          44,
          67,
          67,
          37,
          66,
          77,
          56,
          53,
          47,
          56,
          60,
          63,
          48,
          39,
          46,
          59,
          75,
          67,
          57,
          40,
          51,
          60,
          55,
          44,
          60,
          64,
          75,
          40,
          67,
          46,
          53,
          44,
          68,
          76,
          69,
          63,
          75,
          51,
          66,
          59,
          50,
          74,
          61,
          80,
          58,
          61,
          82,
          76,
          59,
          61,
          70,
          81,
          60,
          51,
          45,
          56,
          41,
          48,
          68,
          64,
          86,
          67,
          64,
          74,
          42,
          64,
          89,
          78,
          66,
          30,
          46,
          55,
          66,
          51,
          72,
          67,
          23,
          59,
          56,
          42,
          61,
          50,
          49,
          44,
          60,
          44,
          47,
          59,
          48,
          76,
          51,
          58,
          51,
          60,
          84,
          70,
          75,
          68,
          48,
          68,
          50,
          79,
          64,
          44,
          59,
          33,
          73,
          24,
          42,
          56,
          39,
          30,
          75,
          34,
          72,
          83,
          65,
          73,
          64,
          72,
          72,
          68,
          62,
          64,
          54,
          59,
          59,
          39,
          69,
          63,
          47,
          48,
          67,
          47,
          80,
          70,
          71,
          64,
          70
         ],
         "z": [
          "rap",
          "rap",
          "rap",
          "rap",
          "rap",
          "rap",
          "rap",
          "rap",
          "rap",
          "rap",
          "rap",
          "rap",
          "rap",
          "rap",
          "rap",
          "rap",
          "rap",
          "rap",
          "rap",
          "rap",
          "rap",
          "rap",
          "rap",
          "rap",
          "rap",
          "rap",
          "rap",
          "rap",
          "rap",
          "rap",
          "rap",
          "rap",
          "rap",
          "rap",
          "rap",
          "rap",
          "rap",
          "rap",
          "rap",
          "rap",
          "rap",
          "rap",
          "rap",
          "rap",
          "rap",
          "rap",
          "rap",
          "rap",
          "rap",
          "rap",
          "rap",
          "rap",
          "rap",
          "rap",
          "rap",
          "rap",
          "rap",
          "rap",
          "rap",
          "rap",
          "rap",
          "rap",
          "rap",
          "rap",
          "rap",
          "rap",
          "rap",
          "rap",
          "rap",
          "rap",
          "rap",
          "rap",
          "rap",
          "rap",
          "rap",
          "rap",
          "rap",
          "rap",
          "rap",
          "rap",
          "rap",
          "rap",
          "rap",
          "rap",
          "rap",
          "rap",
          "rap",
          "rap",
          "rap",
          "rap",
          "rap",
          "rap",
          "rap",
          "rap",
          "rap",
          "rap",
          "rap",
          "rap",
          "rap",
          "rap",
          "rap",
          "rap",
          "rap",
          "rap",
          "rap",
          "rap",
          "rap",
          "rap",
          "rap",
          "rap",
          "rap",
          "rap",
          "rap",
          "rap",
          "rap",
          "rap",
          "rap",
          "rap",
          "rap",
          "rap",
          "rap",
          "rap",
          "rap",
          "rap",
          "rap",
          "rap",
          "rap",
          "rap",
          "rap",
          "rap",
          "rap",
          "rap",
          "rap",
          "rap",
          "rap",
          "rap",
          "rap",
          "rap",
          "rap",
          "rap",
          "rap",
          "rap",
          "rap",
          "rap",
          "rap",
          "rap",
          "rap",
          "rap",
          "rap",
          "rap",
          "rap"
         ]
        },
        {
         "hovertemplate": "top genre=%{z}<br>artist=XXXTENTACION<br>pop=%{x}<br>dnce=%{y}<br>dur=%{marker.size}<extra></extra>",
         "legendgroup": "rap, XXXTENTACION",
         "marker": {
          "color": "#FFA15A",
          "size": [
           119,
           95,
           135,
           147,
           120,
           130,
           145,
           163,
           113,
           164,
           87,
           100,
           51
          ],
          "sizemode": "area",
          "sizeref": 3.1025,
          "symbol": "diamond"
         },
         "mode": "markers",
         "name": "rap, XXXTENTACION",
         "scene": "scene",
         "showlegend": true,
         "type": "scatter3d",
         "x": [
          86,
          85,
          84,
          83,
          78,
          76,
          72,
          70,
          67,
          65,
          62,
          62,
          56
         ],
         "y": [
          87,
          73,
          92,
          80,
          75,
          74,
          77,
          73,
          42,
          57,
          46,
          57,
          60
         ],
         "z": [
          "rap",
          "rap",
          "rap",
          "rap",
          "rap",
          "rap",
          "rap",
          "rap",
          "rap",
          "rap",
          "rap",
          "rap",
          "rap"
         ]
        },
        {
         "hovertemplate": "top genre=%{z}<br>artist=Travis Scott<br>pop=%{x}<br>dnce=%{y}<br>dur=%{marker.size}<extra></extra>",
         "legendgroup": "rap, Travis Scott",
         "marker": {
          "color": "#FFA15A",
          "size": [
           244,
           313,
           196,
           191,
           198,
           271,
           150,
           263,
           218,
           143,
           232,
           146,
           338,
           218,
           209,
           186,
           180,
           177,
           157
          ],
          "sizemode": "area",
          "sizeref": 3.1025,
          "symbol": "circle"
         },
         "mode": "markers",
         "name": "rap, Travis Scott",
         "scene": "scene",
         "showlegend": true,
         "type": "scatter3d",
         "x": [
          86,
          84,
          79,
          79,
          77,
          77,
          75,
          75,
          74,
          73,
          71,
          71,
          70,
          70,
          70,
          68,
          68,
          67,
          66
         ],
         "y": [
          84,
          83,
          71,
          76,
          70,
          49,
          79,
          71,
          73,
          70,
          74,
          46,
          59,
          69,
          81,
          61,
          43,
          83,
          80
         ],
         "z": [
          "rap",
          "rap",
          "rap",
          "rap",
          "rap",
          "rap",
          "rap",
          "rap",
          "rap",
          "rap",
          "rap",
          "rap",
          "rap",
          "rap",
          "rap",
          "rap",
          "rap",
          "rap",
          "rap"
         ]
        },
        {
         "hovertemplate": "top genre=%{z}<br>artist=Post Malone<br>pop=%{x}<br>dnce=%{y}<br>dur=%{marker.size}<extra></extra>",
         "legendgroup": "rap, Post Malone",
         "marker": {
          "color": "#FFA15A",
          "size": [
           218,
           158,
           150,
           257,
           257,
           262,
           325,
           195
          ],
          "sizemode": "area",
          "sizeref": 3.1025,
          "symbol": "diamond"
         },
         "mode": "markers",
         "name": "rap, Post Malone",
         "scene": "scene",
         "showlegend": true,
         "type": "scatter3d",
         "x": [
          84,
          80,
          80,
          76,
          76,
          66,
          63,
          62
         ],
         "y": [
          59,
          76,
          83,
          41,
          68,
          65,
          54,
          65
         ],
         "z": [
          "rap",
          "rap",
          "rap",
          "rap",
          "rap",
          "rap",
          "rap",
          "rap"
         ]
        },
        {
         "hovertemplate": "top genre=%{z}<br>artist=Lil Uzi Vert<br>pop=%{x}<br>dnce=%{y}<br>dur=%{marker.size}<extra></extra>",
         "legendgroup": "rap, Lil Uzi Vert",
         "marker": {
          "color": "#FFA15A",
          "size": [
           221,
           183,
           222,
           235,
           210,
           183,
           182,
           247,
           115,
           222,
           262,
           219,
           207,
           173,
           259,
           185,
           247,
           170,
           167,
           234,
           189,
           177,
           264,
           202,
           174,
           190,
           275,
           199,
           182,
           262
          ],
          "sizemode": "area",
          "sizeref": 3.1025,
          "symbol": "diamond"
         },
         "mode": "markers",
         "name": "rap, Lil Uzi Vert",
         "scene": "scene",
         "showlegend": true,
         "type": "scatter3d",
         "x": [
          83,
          83,
          80,
          73,
          69,
          62,
          61,
          61,
          59,
          58,
          58,
          56,
          56,
          55,
          54,
          53,
          53,
          52,
          52,
          51,
          51,
          50,
          50,
          50,
          50,
          49,
          48,
          48,
          47,
          44
         ],
         "y": [
          77,
          73,
          70,
          78,
          77,
          73,
          89,
          79,
          86,
          70,
          81,
          82,
          81,
          75,
          86,
          27,
          79,
          85,
          81,
          59,
          79,
          90,
          70,
          73,
          62,
          78,
          65,
          43,
          71,
          49
         ],
         "z": [
          "rap",
          "rap",
          "rap",
          "rap",
          "rap",
          "rap",
          "rap",
          "rap",
          "rap",
          "rap",
          "rap",
          "rap",
          "rap",
          "rap",
          "rap",
          "rap",
          "rap",
          "rap",
          "rap",
          "rap",
          "rap",
          "rap",
          "rap",
          "rap",
          "rap",
          "rap",
          "rap",
          "rap",
          "rap",
          "rap"
         ]
        },
        {
         "hovertemplate": "top genre=%{z}<br>artist=ScHoolboy Q<br>pop=%{x}<br>dnce=%{y}<br>dur=%{marker.size}<extra></extra>",
         "legendgroup": "rap, ScHoolboy Q",
         "marker": {
          "color": "#FFA15A",
          "size": [
           300,
           267,
           107,
           314,
           187,
           151,
           135
          ],
          "sizemode": "area",
          "sizeref": 3.1025,
          "symbol": "circle"
         },
         "mode": "markers",
         "name": "rap, ScHoolboy Q",
         "scene": "scene",
         "showlegend": true,
         "type": "scatter3d",
         "x": [
          83,
          68,
          66,
          64,
          63,
          62,
          49
         ],
         "y": [
          83,
          77,
          89,
          93,
          91,
          41,
          83
         ],
         "z": [
          "rap",
          "rap",
          "rap",
          "rap",
          "rap",
          "rap",
          "rap"
         ]
        },
        {
         "hovertemplate": "top genre=%{z}<br>artist=Juice WRLD<br>pop=%{x}<br>dnce=%{y}<br>dur=%{marker.size}<extra></extra>",
         "legendgroup": "rap, Juice WRLD",
         "marker": {
          "color": "#FFA15A",
          "size": [
           195,
           240,
           258
          ],
          "sizemode": "area",
          "sizeref": 3.1025,
          "symbol": "diamond"
         },
         "mode": "markers",
         "name": "rap, Juice WRLD",
         "scene": "scene",
         "showlegend": true,
         "type": "scatter3d",
         "x": [
          83,
          83,
          75
         ],
         "y": [
          65,
          69,
          74
         ],
         "z": [
          "rap",
          "rap",
          "rap"
         ]
        },
        {
         "hovertemplate": "top genre=%{z}<br>artist=Trippie Redd<br>pop=%{x}<br>dnce=%{y}<br>dur=%{marker.size}<extra></extra>",
         "legendgroup": "rap, Trippie Redd",
         "marker": {
          "color": "#FFA15A",
          "size": [
           237,
           237,
           188,
           152,
           159,
           182,
           161,
           163,
           172,
           141,
           143,
           101,
           122
          ],
          "sizemode": "area",
          "sizeref": 3.1025,
          "symbol": "diamond"
         },
         "mode": "markers",
         "name": "rap, Trippie Redd",
         "scene": "scene",
         "showlegend": true,
         "type": "scatter3d",
         "x": [
          82,
          76,
          75,
          74,
          72,
          70,
          68,
          66,
          65,
          64,
          63,
          61,
          59
         ],
         "y": [
          58,
          58,
          67,
          74,
          72,
          42,
          64,
          59,
          80,
          45,
          67,
          74,
          72
         ],
         "z": [
          "rap",
          "rap",
          "rap",
          "rap",
          "rap",
          "rap",
          "rap",
          "rap",
          "rap",
          "rap",
          "rap",
          "rap",
          "rap"
         ]
        },
        {
         "hovertemplate": "top genre=%{z}<br>artist=Lil Tecca<br>pop=%{x}<br>dnce=%{y}<br>dur=%{marker.size}<extra></extra>",
         "legendgroup": "rap, Lil Tecca",
         "marker": {
          "color": "#FFA15A",
          "size": [
           131
          ],
          "sizemode": "area",
          "sizeref": 3.1025,
          "symbol": "cross"
         },
         "mode": "markers",
         "name": "rap, Lil Tecca",
         "scene": "scene",
         "showlegend": true,
         "type": "scatter3d",
         "x": [
          81
         ],
         "y": [
          75
         ],
         "z": [
          "rap"
         ]
        },
        {
         "hovertemplate": "top genre=%{z}<br>artist=Lil Peep<br>pop=%{x}<br>dnce=%{y}<br>dur=%{marker.size}<extra></extra>",
         "legendgroup": "rap, Lil Peep",
         "marker": {
          "color": "#FFA15A",
          "size": [
           196
          ],
          "sizemode": "area",
          "sizeref": 3.1025,
          "symbol": "circle"
         },
         "mode": "markers",
         "name": "rap, Lil Peep",
         "scene": "scene",
         "showlegend": true,
         "type": "scatter3d",
         "x": [
          81
         ],
         "y": [
          67
         ],
         "z": [
          "rap"
         ]
        },
        {
         "hovertemplate": "top genre=%{z}<br>artist=THE SCOTTS<br>pop=%{x}<br>dnce=%{y}<br>dur=%{marker.size}<extra></extra>",
         "legendgroup": "rap, THE SCOTTS",
         "marker": {
          "color": "#FFA15A",
          "size": [
           166
          ],
          "sizemode": "area",
          "sizeref": 3.1025,
          "symbol": "cross"
         },
         "mode": "markers",
         "name": "rap, THE SCOTTS",
         "scene": "scene",
         "showlegend": true,
         "type": "scatter3d",
         "x": [
          79
         ],
         "y": [
          72
         ],
         "z": [
          "rap"
         ]
        },
        {
         "hovertemplate": "top genre=%{z}<br>artist=Tion Wayne<br>pop=%{x}<br>dnce=%{y}<br>dur=%{marker.size}<extra></extra>",
         "legendgroup": "rap, Tion Wayne",
         "marker": {
          "color": "#FFA15A",
          "size": [
           278
          ],
          "sizemode": "area",
          "sizeref": 3.1025,
          "symbol": "circle"
         },
         "mode": "markers",
         "name": "rap, Tion Wayne",
         "scene": "scene",
         "showlegend": true,
         "type": "scatter3d",
         "x": [
          78
         ],
         "y": [
          88
         ],
         "z": [
          "rap"
         ]
        },
        {
         "hovertemplate": "top genre=%{z}<br>artist=King Von<br>pop=%{x}<br>dnce=%{y}<br>dur=%{marker.size}<extra></extra>",
         "legendgroup": "rap, King Von",
         "marker": {
          "color": "#FFA15A",
          "size": [
           196
          ],
          "sizemode": "area",
          "sizeref": 3.1025,
          "symbol": "square"
         },
         "mode": "markers",
         "name": "rap, King Von",
         "scene": "scene",
         "showlegend": true,
         "type": "scatter3d",
         "x": [
          77
         ],
         "y": [
          82
         ],
         "z": [
          "rap"
         ]
        },
        {
         "hovertemplate": "top genre=%{z}<br>artist=A Boogie Wit da Hoodie<br>pop=%{x}<br>dnce=%{y}<br>dur=%{marker.size}<extra></extra>",
         "legendgroup": "rap, A Boogie Wit da Hoodie",
         "marker": {
          "color": "#FFA15A",
          "size": [
           189
          ],
          "sizemode": "area",
          "sizeref": 3.1025,
          "symbol": "x"
         },
         "mode": "markers",
         "name": "rap, A Boogie Wit da Hoodie",
         "scene": "scene",
         "showlegend": true,
         "type": "scatter3d",
         "x": [
          77
         ],
         "y": [
          58
         ],
         "z": [
          "rap"
         ]
        },
        {
         "hovertemplate": "top genre=%{z}<br>artist=Sheck Wes<br>pop=%{x}<br>dnce=%{y}<br>dur=%{marker.size}<extra></extra>",
         "legendgroup": "rap, Sheck Wes",
         "marker": {
          "color": "#FFA15A",
          "size": [
           184,
           157
          ],
          "sizemode": "area",
          "sizeref": 3.1025,
          "symbol": "cross"
         },
         "mode": "markers",
         "name": "rap, Sheck Wes",
         "scene": "scene",
         "showlegend": true,
         "type": "scatter3d",
         "x": [
          77,
          46
         ],
         "y": [
          73,
          82
         ],
         "z": [
          "rap",
          "rap"
         ]
        },
        {
         "hovertemplate": "top genre=%{z}<br>artist=Ghostemane<br>pop=%{x}<br>dnce=%{y}<br>dur=%{marker.size}<extra></extra>",
         "legendgroup": "rap, Ghostemane",
         "marker": {
          "color": "#FFA15A",
          "size": [
           125
          ],
          "sizemode": "area",
          "sizeref": 3.1025,
          "symbol": "square"
         },
         "mode": "markers",
         "name": "rap, Ghostemane",
         "scene": "scene",
         "showlegend": true,
         "type": "scatter3d",
         "x": [
          76
         ],
         "y": [
          83
         ],
         "z": [
          "rap"
         ]
        },
        {
         "hovertemplate": "top genre=%{z}<br>artist=Brent Faiyaz<br>pop=%{x}<br>dnce=%{y}<br>dur=%{marker.size}<extra></extra>",
         "legendgroup": "rap, Brent Faiyaz",
         "marker": {
          "color": "#FFA15A",
          "size": [
           215
          ],
          "sizemode": "area",
          "sizeref": 3.1025,
          "symbol": "x"
         },
         "mode": "markers",
         "name": "rap, Brent Faiyaz",
         "scene": "scene",
         "showlegend": true,
         "type": "scatter3d",
         "x": [
          76
         ],
         "y": [
          54
         ],
         "z": [
          "rap"
         ]
        },
        {
         "hovertemplate": "top genre=%{z}<br>artist=Pharmacist<br>pop=%{x}<br>dnce=%{y}<br>dur=%{marker.size}<extra></extra>",
         "legendgroup": "rap, Pharmacist",
         "marker": {
          "color": "#FFA15A",
          "size": [
           136
          ],
          "sizemode": "area",
          "sizeref": 3.1025,
          "symbol": "x"
         },
         "mode": "markers",
         "name": "rap, Pharmacist",
         "scene": "scene",
         "showlegend": true,
         "type": "scatter3d",
         "x": [
          75
         ],
         "y": [
          72
         ],
         "z": [
          "rap"
         ]
        },
        {
         "hovertemplate": "top genre=%{z}<br>artist=Trefuego<br>pop=%{x}<br>dnce=%{y}<br>dur=%{marker.size}<extra></extra>",
         "legendgroup": "rap, Trefuego",
         "marker": {
          "color": "#FFA15A",
          "size": [
           143
          ],
          "sizemode": "area",
          "sizeref": 3.1025,
          "symbol": "x"
         },
         "mode": "markers",
         "name": "rap, Trefuego",
         "scene": "scene",
         "showlegend": true,
         "type": "scatter3d",
         "x": [
          74
         ],
         "y": [
          72
         ],
         "z": [
          "rap"
         ]
        },
        {
         "hovertemplate": "top genre=%{z}<br>artist=Megan Thee Stallion<br>pop=%{x}<br>dnce=%{y}<br>dur=%{marker.size}<extra></extra>",
         "legendgroup": "rap, Megan Thee Stallion",
         "marker": {
          "color": "#FFA15A",
          "size": [
           138,
           155
          ],
          "sizemode": "area",
          "sizeref": 3.1025,
          "symbol": "cross"
         },
         "mode": "markers",
         "name": "rap, Megan Thee Stallion",
         "scene": "scene",
         "showlegend": true,
         "type": "scatter3d",
         "x": [
          74,
          74
         ],
         "y": [
          96,
          84
         ],
         "z": [
          "rap",
          "rap"
         ]
        },
        {
         "hovertemplate": "top genre=%{z}<br>artist=CJ<br>pop=%{x}<br>dnce=%{y}<br>dur=%{marker.size}<extra></extra>",
         "legendgroup": "rap, CJ",
         "marker": {
          "color": "#FFA15A",
          "size": [
           123
          ],
          "sizemode": "area",
          "sizeref": 3.1025,
          "symbol": "square"
         },
         "mode": "markers",
         "name": "rap, CJ",
         "scene": "scene",
         "showlegend": true,
         "type": "scatter3d",
         "x": [
          74
         ],
         "y": [
          72
         ],
         "z": [
          "rap"
         ]
        },
        {
         "hovertemplate": "top genre=%{z}<br>artist=YoungBoy Never Broke Again<br>pop=%{x}<br>dnce=%{y}<br>dur=%{marker.size}<extra></extra>",
         "legendgroup": "rap, YoungBoy Never Broke Again",
         "marker": {
          "color": "#FFA15A",
          "size": [
           149,
           156
          ],
          "sizemode": "area",
          "sizeref": 3.1025,
          "symbol": "cross"
         },
         "mode": "markers",
         "name": "rap, YoungBoy Never Broke Again",
         "scene": "scene",
         "showlegend": true,
         "type": "scatter3d",
         "x": [
          74,
          60
         ],
         "y": [
          88,
          49
         ],
         "z": [
          "rap",
          "rap"
         ]
        },
        {
         "hovertemplate": "top genre=%{z}<br>artist=Bobby Shmurda<br>pop=%{x}<br>dnce=%{y}<br>dur=%{marker.size}<extra></extra>",
         "legendgroup": "rap, Bobby Shmurda",
         "marker": {
          "color": "#FFA15A",
          "size": [
           195
          ],
          "sizemode": "area",
          "sizeref": 3.1025,
          "symbol": "diamond"
         },
         "mode": "markers",
         "name": "rap, Bobby Shmurda",
         "scene": "scene",
         "showlegend": true,
         "type": "scatter3d",
         "x": [
          73
         ],
         "y": [
          79
         ],
         "z": [
          "rap"
         ]
        },
        {
         "hovertemplate": "top genre=%{z}<br>artist=Famous Dex<br>pop=%{x}<br>dnce=%{y}<br>dur=%{marker.size}<extra></extra>",
         "legendgroup": "rap, Famous Dex",
         "marker": {
          "color": "#FFA15A",
          "size": [
           142,
           191
          ],
          "sizemode": "area",
          "sizeref": 3.1025,
          "symbol": "square"
         },
         "mode": "markers",
         "name": "rap, Famous Dex",
         "scene": "scene",
         "showlegend": true,
         "type": "scatter3d",
         "x": [
          73,
          67
         ],
         "y": [
          73,
          92
         ],
         "z": [
          "rap",
          "rap"
         ]
        },
        {
         "hovertemplate": "top genre=%{z}<br>artist=$atori Zoom<br>pop=%{x}<br>dnce=%{y}<br>dur=%{marker.size}<extra></extra>",
         "legendgroup": "rap, $atori Zoom",
         "marker": {
          "color": "#FFA15A",
          "size": [
           142
          ],
          "sizemode": "area",
          "sizeref": 3.1025,
          "symbol": "cross"
         },
         "mode": "markers",
         "name": "rap, $atori Zoom",
         "scene": "scene",
         "showlegend": true,
         "type": "scatter3d",
         "x": [
          71
         ],
         "y": [
          88
         ],
         "z": [
          "rap"
         ]
        },
        {
         "hovertemplate": "top genre=%{z}<br>artist=JACKBOYS<br>pop=%{x}<br>dnce=%{y}<br>dur=%{marker.size}<extra></extra>",
         "legendgroup": "rap, JACKBOYS",
         "marker": {
          "color": "#FFA15A",
          "size": [
           245
          ],
          "sizemode": "area",
          "sizeref": 3.1025,
          "symbol": "x"
         },
         "mode": "markers",
         "name": "rap, JACKBOYS",
         "scene": "scene",
         "showlegend": true,
         "type": "scatter3d",
         "x": [
          70
         ],
         "y": [
          86
         ],
         "z": [
          "rap"
         ]
        },
        {
         "hovertemplate": "top genre=%{z}<br>artist=Chance the Rapper<br>pop=%{x}<br>dnce=%{y}<br>dur=%{marker.size}<extra></extra>",
         "legendgroup": "rap, Chance the Rapper",
         "marker": {
          "color": "#FFA15A",
          "size": [
           305,
           220,
           142,
           226,
           258,
           226,
           206,
           204,
           290,
           222,
           407,
           230,
           219,
           293,
           337,
           102
          ],
          "sizemode": "area",
          "sizeref": 3.1025,
          "symbol": "square"
         },
         "mode": "markers",
         "name": "rap, Chance the Rapper",
         "scene": "scene",
         "showlegend": true,
         "type": "scatter3d",
         "x": [
          69,
          66,
          66,
          66,
          63,
          60,
          59,
          59,
          57,
          56,
          55,
          54,
          54,
          53,
          50,
          47
         ],
         "y": [
          65,
          51,
          70,
          90,
          46,
          71,
          77,
          53,
          69,
          71,
          46,
          38,
          69,
          84,
          44,
          40
         ],
         "z": [
          "rap",
          "rap",
          "rap",
          "rap",
          "rap",
          "rap",
          "rap",
          "rap",
          "rap",
          "rap",
          "rap",
          "rap",
          "rap",
          "rap",
          "rap",
          "rap"
         ]
        },
        {
         "hovertemplate": "top genre=%{z}<br>artist=$uicideboy$<br>pop=%{x}<br>dnce=%{y}<br>dur=%{marker.size}<extra></extra>",
         "legendgroup": "rap, $uicideboy$",
         "marker": {
          "color": "#FFA15A",
          "size": [
           154
          ],
          "sizemode": "area",
          "sizeref": 3.1025,
          "symbol": "cross"
         },
         "mode": "markers",
         "name": "rap, $uicideboy$",
         "scene": "scene",
         "showlegend": true,
         "type": "scatter3d",
         "x": [
          69
         ],
         "y": [
          88
         ],
         "z": [
          "rap"
         ]
        },
        {
         "hovertemplate": "top genre=%{z}<br>artist=Dbangz<br>pop=%{x}<br>dnce=%{y}<br>dur=%{marker.size}<extra></extra>",
         "legendgroup": "rap, Dbangz",
         "marker": {
          "color": "#FFA15A",
          "size": [
           90,
           152
          ],
          "sizemode": "area",
          "sizeref": 3.1025,
          "symbol": "cross"
         },
         "mode": "markers",
         "name": "rap, Dbangz",
         "scene": "scene",
         "showlegend": true,
         "type": "scatter3d",
         "x": [
          68,
          43
         ],
         "y": [
          90,
          81
         ],
         "z": [
          "rap",
          "rap"
         ]
        },
        {
         "hovertemplate": "top genre=%{z}<br>artist=Denzel Curry<br>pop=%{x}<br>dnce=%{y}<br>dur=%{marker.size}<extra></extra>",
         "legendgroup": "rap, Denzel Curry",
         "marker": {
          "color": "#FFA15A",
          "size": [
           231,
           148,
           207,
           197,
           144
          ],
          "sizemode": "area",
          "sizeref": 3.1025,
          "symbol": "cross"
         },
         "mode": "markers",
         "name": "rap, Denzel Curry",
         "scene": "scene",
         "showlegend": true,
         "type": "scatter3d",
         "x": [
          68,
          67,
          59,
          50,
          37
         ],
         "y": [
          79,
          78,
          72,
          60,
          58
         ],
         "z": [
          "rap",
          "rap",
          "rap",
          "rap",
          "rap"
         ]
        },
        {
         "hovertemplate": "top genre=%{z}<br>artist=SOB X RBE<br>pop=%{x}<br>dnce=%{y}<br>dur=%{marker.size}<extra></extra>",
         "legendgroup": "rap, SOB X RBE",
         "marker": {
          "color": "#FFA15A",
          "size": [
           219
          ],
          "sizemode": "area",
          "sizeref": 3.1025,
          "symbol": "square"
         },
         "mode": "markers",
         "name": "rap, SOB X RBE",
         "scene": "scene",
         "showlegend": true,
         "type": "scatter3d",
         "x": [
          67
         ],
         "y": [
          86
         ],
         "z": [
          "rap"
         ]
        },
        {
         "hovertemplate": "top genre=%{z}<br>artist=Twista<br>pop=%{x}<br>dnce=%{y}<br>dur=%{marker.size}<extra></extra>",
         "legendgroup": "rap, Twista",
         "marker": {
          "color": "#FFA15A",
          "size": [
           316
          ],
          "sizemode": "area",
          "sizeref": 3.1025,
          "symbol": "cross"
         },
         "mode": "markers",
         "name": "rap, Twista",
         "scene": "scene",
         "showlegend": true,
         "type": "scatter3d",
         "x": [
          67
         ],
         "y": [
          56
         ],
         "z": [
          "rap"
         ]
        },
        {
         "hovertemplate": "top genre=%{z}<br>artist=Shotgun Willy<br>pop=%{x}<br>dnce=%{y}<br>dur=%{marker.size}<extra></extra>",
         "legendgroup": "rap, Shotgun Willy",
         "marker": {
          "color": "#FFA15A",
          "size": [
           142
          ],
          "sizemode": "area",
          "sizeref": 3.1025,
          "symbol": "square"
         },
         "mode": "markers",
         "name": "rap, Shotgun Willy",
         "scene": "scene",
         "showlegend": true,
         "type": "scatter3d",
         "x": [
          66
         ],
         "y": [
          72
         ],
         "z": [
          "rap"
         ]
        },
        {
         "hovertemplate": "top genre=%{z}<br>artist=Kodak Black<br>pop=%{x}<br>dnce=%{y}<br>dur=%{marker.size}<extra></extra>",
         "legendgroup": "rap, Kodak Black",
         "marker": {
          "color": "#FFA15A",
          "size": [
           265,
           198
          ],
          "sizemode": "area",
          "sizeref": 3.1025,
          "symbol": "x"
         },
         "mode": "markers",
         "name": "rap, Kodak Black",
         "scene": "scene",
         "showlegend": true,
         "type": "scatter3d",
         "x": [
          66,
          64
         ],
         "y": [
          74,
          81
         ],
         "z": [
          "rap",
          "rap"
         ]
        },
        {
         "hovertemplate": "top genre=%{z}<br>artist=Flipp Dinero<br>pop=%{x}<br>dnce=%{y}<br>dur=%{marker.size}<extra></extra>",
         "legendgroup": "rap, Flipp Dinero",
         "marker": {
          "color": "#FFA15A",
          "size": [
           196
          ],
          "sizemode": "area",
          "sizeref": 3.1025,
          "symbol": "cross"
         },
         "mode": "markers",
         "name": "rap, Flipp Dinero",
         "scene": "scene",
         "showlegend": true,
         "type": "scatter3d",
         "x": [
          66
         ],
         "y": [
          79
         ],
         "z": [
          "rap"
         ]
        },
        {
         "hovertemplate": "top genre=%{z}<br>artist=Lil Pump<br>pop=%{x}<br>dnce=%{y}<br>dur=%{marker.size}<extra></extra>",
         "legendgroup": "rap, Lil Pump",
         "marker": {
          "color": "#FFA15A",
          "size": [
           124
          ],
          "sizemode": "area",
          "sizeref": 3.1025,
          "symbol": "circle"
         },
         "mode": "markers",
         "name": "rap, Lil Pump",
         "scene": "scene",
         "showlegend": true,
         "type": "scatter3d",
         "x": [
          66
         ],
         "y": [
          94
         ],
         "z": [
          "rap"
         ]
        },
        {
         "hovertemplate": "top genre=%{z}<br>artist=Freddie Dredd<br>pop=%{x}<br>dnce=%{y}<br>dur=%{marker.size}<extra></extra>",
         "legendgroup": "rap, Freddie Dredd",
         "marker": {
          "color": "#FFA15A",
          "size": [
           141,
           114
          ],
          "sizemode": "area",
          "sizeref": 3.1025,
          "symbol": "x"
         },
         "mode": "markers",
         "name": "rap, Freddie Dredd",
         "scene": "scene",
         "showlegend": true,
         "type": "scatter3d",
         "x": [
          65,
          46
         ],
         "y": [
          82,
          69
         ],
         "z": [
          "rap",
          "rap"
         ]
        },
        {
         "hovertemplate": "top genre=%{z}<br>artist=brakence<br>pop=%{x}<br>dnce=%{y}<br>dur=%{marker.size}<extra></extra>",
         "legendgroup": "rap, brakence",
         "marker": {
          "color": "#FFA15A",
          "size": [
           165
          ],
          "sizemode": "area",
          "sizeref": 3.1025,
          "symbol": "x"
         },
         "mode": "markers",
         "name": "rap, brakence",
         "scene": "scene",
         "showlegend": true,
         "type": "scatter3d",
         "x": [
          65
         ],
         "y": [
          67
         ],
         "z": [
          "rap"
         ]
        },
        {
         "hovertemplate": "top genre=%{z}<br>artist=DJ Scheme<br>pop=%{x}<br>dnce=%{y}<br>dur=%{marker.size}<extra></extra>",
         "legendgroup": "rap, DJ Scheme",
         "marker": {
          "color": "#FFA15A",
          "size": [
           227
          ],
          "sizemode": "area",
          "sizeref": 3.1025,
          "symbol": "cross"
         },
         "mode": "markers",
         "name": "rap, DJ Scheme",
         "scene": "scene",
         "showlegend": true,
         "type": "scatter3d",
         "x": [
          65
         ],
         "y": [
          92
         ],
         "z": [
          "rap"
         ]
        },
        {
         "hovertemplate": "top genre=%{z}<br>artist=IDK<br>pop=%{x}<br>dnce=%{y}<br>dur=%{marker.size}<extra></extra>",
         "legendgroup": "rap, IDK",
         "marker": {
          "color": "#FFA15A",
          "size": [
           151,
           203,
           140,
           157
          ],
          "sizemode": "area",
          "sizeref": 3.1025,
          "symbol": "diamond"
         },
         "mode": "markers",
         "name": "rap, IDK",
         "scene": "scene",
         "showlegend": true,
         "type": "scatter3d",
         "x": [
          65,
          49,
          46,
          41
         ],
         "y": [
          65,
          76,
          84,
          84
         ],
         "z": [
          "rap",
          "rap",
          "rap",
          "rap"
         ]
        },
        {
         "hovertemplate": "top genre=%{z}<br>artist=Cordae<br>pop=%{x}<br>dnce=%{y}<br>dur=%{marker.size}<extra></extra>",
         "legendgroup": "rap, Cordae",
         "marker": {
          "color": "#FFA15A",
          "size": [
           202,
           196
          ],
          "sizemode": "area",
          "sizeref": 3.1025,
          "symbol": "square"
         },
         "mode": "markers",
         "name": "rap, Cordae",
         "scene": "scene",
         "showlegend": true,
         "type": "scatter3d",
         "x": [
          65,
          62
         ],
         "y": [
          79,
          62
         ],
         "z": [
          "rap",
          "rap"
         ]
        },
        {
         "hovertemplate": "top genre=%{z}<br>artist=Big Shaq<br>pop=%{x}<br>dnce=%{y}<br>dur=%{marker.size}<extra></extra>",
         "legendgroup": "rap, Big Shaq",
         "marker": {
          "color": "#FFA15A",
          "size": [
           186
          ],
          "sizemode": "area",
          "sizeref": 3.1025,
          "symbol": "cross"
         },
         "mode": "markers",
         "name": "rap, Big Shaq",
         "scene": "scene",
         "showlegend": true,
         "type": "scatter3d",
         "x": [
          64
         ],
         "y": [
          91
         ],
         "z": [
          "rap"
         ]
        },
        {
         "hovertemplate": "top genre=%{z}<br>artist=Jasiah<br>pop=%{x}<br>dnce=%{y}<br>dur=%{marker.size}<extra></extra>",
         "legendgroup": "rap, Jasiah",
         "marker": {
          "color": "#FFA15A",
          "size": [
           95
          ],
          "sizemode": "area",
          "sizeref": 3.1025,
          "symbol": "circle"
         },
         "mode": "markers",
         "name": "rap, Jasiah",
         "scene": "scene",
         "showlegend": true,
         "type": "scatter3d",
         "x": [
          64
         ],
         "y": [
          86
         ],
         "z": [
          "rap"
         ]
        },
        {
         "hovertemplate": "top genre=%{z}<br>artist=Ace Hood<br>pop=%{x}<br>dnce=%{y}<br>dur=%{marker.size}<extra></extra>",
         "legendgroup": "rap, Ace Hood",
         "marker": {
          "color": "#FFA15A",
          "size": [
           172
          ],
          "sizemode": "area",
          "sizeref": 3.1025,
          "symbol": "circle"
         },
         "mode": "markers",
         "name": "rap, Ace Hood",
         "scene": "scene",
         "showlegend": true,
         "type": "scatter3d",
         "x": [
          64
         ],
         "y": [
          67
         ],
         "z": [
          "rap"
         ]
        },
        {
         "hovertemplate": "top genre=%{z}<br>artist=Ceza<br>pop=%{x}<br>dnce=%{y}<br>dur=%{marker.size}<extra></extra>",
         "legendgroup": "rap, Ceza",
         "marker": {
          "color": "#FFA15A",
          "size": [
           207,
           249,
           208,
           275,
           212,
           226
          ],
          "sizemode": "area",
          "sizeref": 3.1025,
          "symbol": "square"
         },
         "mode": "markers",
         "name": "rap, Ceza",
         "scene": "scene",
         "showlegend": true,
         "type": "scatter3d",
         "x": [
          64,
          63,
          58,
          57,
          46,
          41
         ],
         "y": [
          90,
          82,
          72,
          81,
          75,
          64
         ],
         "z": [
          "rap",
          "rap",
          "rap",
          "rap",
          "rap",
          "rap"
         ]
        },
        {
         "hovertemplate": "top genre=%{z}<br>artist=Roddy Ricch<br>pop=%{x}<br>dnce=%{y}<br>dur=%{marker.size}<extra></extra>",
         "legendgroup": "rap, Roddy Ricch",
         "marker": {
          "color": "#FFA15A",
          "size": [
           199
          ],
          "sizemode": "area",
          "sizeref": 3.1025,
          "symbol": "x"
         },
         "mode": "markers",
         "name": "rap, Roddy Ricch",
         "scene": "scene",
         "showlegend": true,
         "type": "scatter3d",
         "x": [
          64
         ],
         "y": [
          78
         ],
         "z": [
          "rap"
         ]
        },
        {
         "hovertemplate": "top genre=%{z}<br>artist=Tiny Meat Gang<br>pop=%{x}<br>dnce=%{y}<br>dur=%{marker.size}<extra></extra>",
         "legendgroup": "rap, Tiny Meat Gang",
         "marker": {
          "color": "#FFA15A",
          "size": [
           166,
           146,
           184,
           135
          ],
          "sizemode": "area",
          "sizeref": 3.1025,
          "symbol": "cross"
         },
         "mode": "markers",
         "name": "rap, Tiny Meat Gang",
         "scene": "scene",
         "showlegend": true,
         "type": "scatter3d",
         "x": [
          63,
          63,
          51,
          38
         ],
         "y": [
          93,
          80,
          93,
          74
         ],
         "z": [
          "rap",
          "rap",
          "rap",
          "rap"
         ]
        },
        {
         "hovertemplate": "top genre=%{z}<br>artist=DJ Jazzy Jeff & The Fresh Prince<br>pop=%{x}<br>dnce=%{y}<br>dur=%{marker.size}<extra></extra>",
         "legendgroup": "rap, DJ Jazzy Jeff & The Fresh Prince",
         "marker": {
          "color": "#FFA15A",
          "size": [
           177
          ],
          "sizemode": "area",
          "sizeref": 3.1025,
          "symbol": "circle"
         },
         "mode": "markers",
         "name": "rap, DJ Jazzy Jeff & The Fresh Prince",
         "scene": "scene",
         "showlegend": true,
         "type": "scatter3d",
         "x": [
          63
         ],
         "y": [
          82
         ],
         "z": [
          "rap"
         ]
        },
        {
         "hovertemplate": "top genre=%{z}<br>artist=Slushii<br>pop=%{x}<br>dnce=%{y}<br>dur=%{marker.size}<extra></extra>",
         "legendgroup": "rap, Slushii",
         "marker": {
          "color": "#FFA15A",
          "size": [
           226
          ],
          "sizemode": "area",
          "sizeref": 3.1025,
          "symbol": "cross"
         },
         "mode": "markers",
         "name": "rap, Slushii",
         "scene": "scene",
         "showlegend": true,
         "type": "scatter3d",
         "x": [
          63
         ],
         "y": [
          82
         ],
         "z": [
          "rap"
         ]
        },
        {
         "hovertemplate": "top genre=%{z}<br>artist=6ix9ine<br>pop=%{x}<br>dnce=%{y}<br>dur=%{marker.size}<extra></extra>",
         "legendgroup": "rap, 6ix9ine",
         "marker": {
          "color": "#FFA15A",
          "size": [
           158,
           143
          ],
          "sizemode": "area",
          "sizeref": 3.1025,
          "symbol": "square"
         },
         "mode": "markers",
         "name": "rap, 6ix9ine",
         "scene": "scene",
         "showlegend": true,
         "type": "scatter3d",
         "x": [
          63,
          62
         ],
         "y": [
          66,
          72
         ],
         "z": [
          "rap",
          "rap"
         ]
        },
        {
         "hovertemplate": "top genre=%{z}<br>artist=Billy Marchiafava<br>pop=%{x}<br>dnce=%{y}<br>dur=%{marker.size}<extra></extra>",
         "legendgroup": "rap, Billy Marchiafava",
         "marker": {
          "color": "#FFA15A",
          "size": [
           96,
           90,
           126
          ],
          "sizemode": "area",
          "sizeref": 3.1025,
          "symbol": "cross"
         },
         "mode": "markers",
         "name": "rap, Billy Marchiafava",
         "scene": "scene",
         "showlegend": true,
         "type": "scatter3d",
         "x": [
          62,
          51,
          42
         ],
         "y": [
          84,
          95,
          80
         ],
         "z": [
          "rap",
          "rap",
          "rap"
         ]
        },
        {
         "hovertemplate": "top genre=%{z}<br>artist=SSGKobe<br>pop=%{x}<br>dnce=%{y}<br>dur=%{marker.size}<extra></extra>",
         "legendgroup": "rap, SSGKobe",
         "marker": {
          "color": "#FFA15A",
          "size": [
           132
          ],
          "sizemode": "area",
          "sizeref": 3.1025,
          "symbol": "diamond"
         },
         "mode": "markers",
         "name": "rap, SSGKobe",
         "scene": "scene",
         "showlegend": true,
         "type": "scatter3d",
         "x": [
          62
         ],
         "y": [
          69
         ],
         "z": [
          "rap"
         ]
        },
        {
         "hovertemplate": "top genre=%{z}<br>artist=Mario Judah<br>pop=%{x}<br>dnce=%{y}<br>dur=%{marker.size}<extra></extra>",
         "legendgroup": "rap, Mario Judah",
         "marker": {
          "color": "#FFA15A",
          "size": [
           158
          ],
          "sizemode": "area",
          "sizeref": 3.1025,
          "symbol": "x"
         },
         "mode": "markers",
         "name": "rap, Mario Judah",
         "scene": "scene",
         "showlegend": true,
         "type": "scatter3d",
         "x": [
          61
         ],
         "y": [
          74
         ],
         "z": [
          "rap"
         ]
        },
        {
         "hovertemplate": "top genre=%{z}<br>artist=Comethazine<br>pop=%{x}<br>dnce=%{y}<br>dur=%{marker.size}<extra></extra>",
         "legendgroup": "rap, Comethazine",
         "marker": {
          "color": "#FFA15A",
          "size": [
           123
          ],
          "sizemode": "area",
          "sizeref": 3.1025,
          "symbol": "cross"
         },
         "mode": "markers",
         "name": "rap, Comethazine",
         "scene": "scene",
         "showlegend": true,
         "type": "scatter3d",
         "x": [
          61
         ],
         "y": [
          83
         ],
         "z": [
          "rap"
         ]
        },
        {
         "hovertemplate": "top genre=%{z}<br>artist=Shakewell<br>pop=%{x}<br>dnce=%{y}<br>dur=%{marker.size}<extra></extra>",
         "legendgroup": "rap, Shakewell",
         "marker": {
          "color": "#FFA15A",
          "size": [
           110
          ],
          "sizemode": "area",
          "sizeref": 3.1025,
          "symbol": "circle"
         },
         "mode": "markers",
         "name": "rap, Shakewell",
         "scene": "scene",
         "showlegend": true,
         "type": "scatter3d",
         "x": [
          61
         ],
         "y": [
          69
         ],
         "z": [
          "rap"
         ]
        },
        {
         "hovertemplate": "top genre=%{z}<br>artist=VIC MENSA<br>pop=%{x}<br>dnce=%{y}<br>dur=%{marker.size}<extra></extra>",
         "legendgroup": "rap, VIC MENSA",
         "marker": {
          "color": "#FFA15A",
          "size": [
           258,
           300,
           315,
           236
          ],
          "sizemode": "area",
          "sizeref": 3.1025,
          "symbol": "square"
         },
         "mode": "markers",
         "name": "rap, VIC MENSA",
         "scene": "scene",
         "showlegend": true,
         "type": "scatter3d",
         "x": [
          61,
          58,
          48,
          34
         ],
         "y": [
          50,
          72,
          51,
          53
         ],
         "z": [
          "rap",
          "rap",
          "rap",
          "rap"
         ]
        },
        {
         "hovertemplate": "top genre=%{z}<br>artist=Lil Eazzyy<br>pop=%{x}<br>dnce=%{y}<br>dur=%{marker.size}<extra></extra>",
         "legendgroup": "rap, Lil Eazzyy",
         "marker": {
          "color": "#FFA15A",
          "size": [
           176
          ],
          "sizemode": "area",
          "sizeref": 3.1025,
          "symbol": "cross"
         },
         "mode": "markers",
         "name": "rap, Lil Eazzyy",
         "scene": "scene",
         "showlegend": true,
         "type": "scatter3d",
         "x": [
          60
         ],
         "y": [
          68
         ],
         "z": [
          "rap"
         ]
        },
        {
         "hovertemplate": "top genre=%{z}<br>artist=Lil Memer<br>pop=%{x}<br>dnce=%{y}<br>dur=%{marker.size}<extra></extra>",
         "legendgroup": "rap, Lil Memer",
         "marker": {
          "color": "#FFA15A",
          "size": [
           75
          ],
          "sizemode": "area",
          "sizeref": 3.1025,
          "symbol": "cross"
         },
         "mode": "markers",
         "name": "rap, Lil Memer",
         "scene": "scene",
         "showlegend": true,
         "type": "scatter3d",
         "x": [
          59
         ],
         "y": [
          63
         ],
         "z": [
          "rap"
         ]
        },
        {
         "hovertemplate": "top genre=%{z}<br>artist=iamjakehill<br>pop=%{x}<br>dnce=%{y}<br>dur=%{marker.size}<extra></extra>",
         "legendgroup": "rap, iamjakehill",
         "marker": {
          "color": "#FFA15A",
          "size": [
           179
          ],
          "sizemode": "area",
          "sizeref": 3.1025,
          "symbol": "cross"
         },
         "mode": "markers",
         "name": "rap, iamjakehill",
         "scene": "scene",
         "showlegend": true,
         "type": "scatter3d",
         "x": [
          58
         ],
         "y": [
          65
         ],
         "z": [
          "rap"
         ]
        },
        {
         "hovertemplate": "top genre=%{z}<br>artist=Sinoda<br>pop=%{x}<br>dnce=%{y}<br>dur=%{marker.size}<extra></extra>",
         "legendgroup": "rap, Sinoda",
         "marker": {
          "color": "#FFA15A",
          "size": [
           89
          ],
          "sizemode": "area",
          "sizeref": 3.1025,
          "symbol": "diamond"
         },
         "mode": "markers",
         "name": "rap, Sinoda",
         "scene": "scene",
         "showlegend": true,
         "type": "scatter3d",
         "x": [
          58
         ],
         "y": [
          87
         ],
         "z": [
          "rap"
         ]
        },
        {
         "hovertemplate": "top genre=%{z}<br>artist=SAINt JHN<br>pop=%{x}<br>dnce=%{y}<br>dur=%{marker.size}<extra></extra>",
         "legendgroup": "rap, SAINt JHN",
         "marker": {
          "color": "#FFA15A",
          "size": [
           166
          ],
          "sizemode": "area",
          "sizeref": 3.1025,
          "symbol": "circle"
         },
         "mode": "markers",
         "name": "rap, SAINt JHN",
         "scene": "scene",
         "showlegend": true,
         "type": "scatter3d",
         "x": [
          58
         ],
         "y": [
          86
         ],
         "z": [
          "rap"
         ]
        },
        {
         "hovertemplate": "top genre=%{z}<br>artist=Jakey<br>pop=%{x}<br>dnce=%{y}<br>dur=%{marker.size}<extra></extra>",
         "legendgroup": "rap, Jakey",
         "marker": {
          "color": "#FFA15A",
          "size": [
           195,
           226,
           216,
           189,
           233
          ],
          "sizemode": "area",
          "sizeref": 3.1025,
          "symbol": "diamond"
         },
         "mode": "markers",
         "name": "rap, Jakey",
         "scene": "scene",
         "showlegend": true,
         "type": "scatter3d",
         "x": [
          57,
          52,
          51,
          46,
          44
         ],
         "y": [
          77,
          52,
          48,
          68,
          73
         ],
         "z": [
          "rap",
          "rap",
          "rap",
          "rap",
          "rap"
         ]
        },
        {
         "hovertemplate": "top genre=%{z}<br>artist=Josh A<br>pop=%{x}<br>dnce=%{y}<br>dur=%{marker.size}<extra></extra>",
         "legendgroup": "rap, Josh A",
         "marker": {
          "color": "#FFA15A",
          "size": [
           190,
           186,
           169
          ],
          "sizemode": "area",
          "sizeref": 3.1025,
          "symbol": "square"
         },
         "mode": "markers",
         "name": "rap, Josh A",
         "scene": "scene",
         "showlegend": true,
         "type": "scatter3d",
         "x": [
          56,
          45,
          33
         ],
         "y": [
          61,
          61,
          73
         ],
         "z": [
          "rap",
          "rap",
          "rap"
         ]
        },
        {
         "hovertemplate": "top genre=%{z}<br>artist=Yung Rare<br>pop=%{x}<br>dnce=%{y}<br>dur=%{marker.size}<extra></extra>",
         "legendgroup": "rap, Yung Rare",
         "marker": {
          "color": "#FFA15A",
          "size": [
           177
          ],
          "sizemode": "area",
          "sizeref": 3.1025,
          "symbol": "cross"
         },
         "mode": "markers",
         "name": "rap, Yung Rare",
         "scene": "scene",
         "showlegend": true,
         "type": "scatter3d",
         "x": [
          56
         ],
         "y": [
          36
         ],
         "z": [
          "rap"
         ]
        },
        {
         "hovertemplate": "top genre=%{z}<br>artist=Internet Money<br>pop=%{x}<br>dnce=%{y}<br>dur=%{marker.size}<extra></extra>",
         "legendgroup": "rap, Internet Money",
         "marker": {
          "color": "#FFA15A",
          "size": [
           175
          ],
          "sizemode": "area",
          "sizeref": 3.1025,
          "symbol": "diamond"
         },
         "mode": "markers",
         "name": "rap, Internet Money",
         "scene": "scene",
         "showlegend": true,
         "type": "scatter3d",
         "x": [
          55
         ],
         "y": [
          76
         ],
         "z": [
          "rap"
         ]
        },
        {
         "hovertemplate": "top genre=%{z}<br>artist=Marlon Craft<br>pop=%{x}<br>dnce=%{y}<br>dur=%{marker.size}<extra></extra>",
         "legendgroup": "rap, Marlon Craft",
         "marker": {
          "color": "#FFA15A",
          "size": [
           218
          ],
          "sizemode": "area",
          "sizeref": 3.1025,
          "symbol": "cross"
         },
         "mode": "markers",
         "name": "rap, Marlon Craft",
         "scene": "scene",
         "showlegend": true,
         "type": "scatter3d",
         "x": [
          54
         ],
         "y": [
          79
         ],
         "z": [
          "rap"
         ]
        },
        {
         "hovertemplate": "top genre=%{z}<br>artist=YG<br>pop=%{x}<br>dnce=%{y}<br>dur=%{marker.size}<extra></extra>",
         "legendgroup": "rap, YG",
         "marker": {
          "color": "#FFA15A",
          "size": [
           137
          ],
          "sizemode": "area",
          "sizeref": 3.1025,
          "symbol": "square"
         },
         "mode": "markers",
         "name": "rap, YG",
         "scene": "scene",
         "showlegend": true,
         "type": "scatter3d",
         "x": [
          54
         ],
         "y": [
          92
         ],
         "z": [
          "rap"
         ]
        },
        {
         "hovertemplate": "top genre=%{z}<br>artist=Yella Beezy<br>pop=%{x}<br>dnce=%{y}<br>dur=%{marker.size}<extra></extra>",
         "legendgroup": "rap, Yella Beezy",
         "marker": {
          "color": "#FFA15A",
          "size": [
           202
          ],
          "sizemode": "area",
          "sizeref": 3.1025,
          "symbol": "x"
         },
         "mode": "markers",
         "name": "rap, Yella Beezy",
         "scene": "scene",
         "showlegend": true,
         "type": "scatter3d",
         "x": [
          54
         ],
         "y": [
          96
         ],
         "z": [
          "rap"
         ]
        },
        {
         "hovertemplate": "top genre=%{z}<br>artist=Mozzy<br>pop=%{x}<br>dnce=%{y}<br>dur=%{marker.size}<extra></extra>",
         "legendgroup": "rap, Mozzy",
         "marker": {
          "color": "#FFA15A",
          "size": [
           242
          ],
          "sizemode": "area",
          "sizeref": 3.1025,
          "symbol": "diamond"
         },
         "mode": "markers",
         "name": "rap, Mozzy",
         "scene": "scene",
         "showlegend": true,
         "type": "scatter3d",
         "x": [
          54
         ],
         "y": [
          63
         ],
         "z": [
          "rap"
         ]
        },
        {
         "hovertemplate": "top genre=%{z}<br>artist=Bass Santana<br>pop=%{x}<br>dnce=%{y}<br>dur=%{marker.size}<extra></extra>",
         "legendgroup": "rap, Bass Santana",
         "marker": {
          "color": "#FFA15A",
          "size": [
           218,
           139
          ],
          "sizemode": "area",
          "sizeref": 3.1025,
          "symbol": "x"
         },
         "mode": "markers",
         "name": "rap, Bass Santana",
         "scene": "scene",
         "showlegend": true,
         "type": "scatter3d",
         "x": [
          53,
          43
         ],
         "y": [
          80,
          78
         ],
         "z": [
          "rap",
          "rap"
         ]
        },
        {
         "hovertemplate": "top genre=%{z}<br>artist=Smokepurpp<br>pop=%{x}<br>dnce=%{y}<br>dur=%{marker.size}<extra></extra>",
         "legendgroup": "rap, Smokepurpp",
         "marker": {
          "color": "#FFA15A",
          "size": [
           203,
           111
          ],
          "sizemode": "area",
          "sizeref": 3.1025,
          "symbol": "circle"
         },
         "mode": "markers",
         "name": "rap, Smokepurpp",
         "scene": "scene",
         "showlegend": true,
         "type": "scatter3d",
         "x": [
          53,
          47
         ],
         "y": [
          79,
          89
         ],
         "z": [
          "rap",
          "rap"
         ]
        },
        {
         "hovertemplate": "top genre=%{z}<br>artist=Ronny J<br>pop=%{x}<br>dnce=%{y}<br>dur=%{marker.size}<extra></extra>",
         "legendgroup": "rap, Ronny J",
         "marker": {
          "color": "#FFA15A",
          "size": [
           120
          ],
          "sizemode": "area",
          "sizeref": 3.1025,
          "symbol": "diamond"
         },
         "mode": "markers",
         "name": "rap, Ronny J",
         "scene": "scene",
         "showlegend": true,
         "type": "scatter3d",
         "x": [
          52
         ],
         "y": [
          71
         ],
         "z": [
          "rap"
         ]
        },
        {
         "hovertemplate": "top genre=%{z}<br>artist=Pink Guy<br>pop=%{x}<br>dnce=%{y}<br>dur=%{marker.size}<extra></extra>",
         "legendgroup": "rap, Pink Guy",
         "marker": {
          "color": "#FFA15A",
          "size": [
           143,
           351
          ],
          "sizemode": "area",
          "sizeref": 3.1025,
          "symbol": "cross"
         },
         "mode": "markers",
         "name": "rap, Pink Guy",
         "scene": "scene",
         "showlegend": true,
         "type": "scatter3d",
         "x": [
          51,
          46
         ],
         "y": [
          80,
          52
         ],
         "z": [
          "rap",
          "rap"
         ]
        },
        {
         "hovertemplate": "top genre=%{z}<br>artist=Mcap Steve<br>pop=%{x}<br>dnce=%{y}<br>dur=%{marker.size}<extra></extra>",
         "legendgroup": "rap, Mcap Steve",
         "marker": {
          "color": "#FFA15A",
          "size": [
           231
          ],
          "sizemode": "area",
          "sizeref": 3.1025,
          "symbol": "diamond"
         },
         "mode": "markers",
         "name": "rap, Mcap Steve",
         "scene": "scene",
         "showlegend": true,
         "type": "scatter3d",
         "x": [
          51
         ],
         "y": [
          41
         ],
         "z": [
          "rap"
         ]
        },
        {
         "hovertemplate": "top genre=%{z}<br>artist=YBN Nahmir<br>pop=%{x}<br>dnce=%{y}<br>dur=%{marker.size}<extra></extra>",
         "legendgroup": "rap, YBN Nahmir",
         "marker": {
          "color": "#FFA15A",
          "size": [
           125
          ],
          "sizemode": "area",
          "sizeref": 3.1025,
          "symbol": "x"
         },
         "mode": "markers",
         "name": "rap, YBN Nahmir",
         "scene": "scene",
         "showlegend": true,
         "type": "scatter3d",
         "x": [
          51
         ],
         "y": [
          79
         ],
         "z": [
          "rap"
         ]
        },
        {
         "hovertemplate": "top genre=%{z}<br>artist=DC The Don<br>pop=%{x}<br>dnce=%{y}<br>dur=%{marker.size}<extra></extra>",
         "legendgroup": "rap, DC The Don",
         "marker": {
          "color": "#FFA15A",
          "size": [
           229
          ],
          "sizemode": "area",
          "sizeref": 3.1025,
          "symbol": "x"
         },
         "mode": "markers",
         "name": "rap, DC The Don",
         "scene": "scene",
         "showlegend": true,
         "type": "scatter3d",
         "x": [
          50
         ],
         "y": [
          80
         ],
         "z": [
          "rap"
         ]
        },
        {
         "hovertemplate": "top genre=%{z}<br>artist=Rynx<br>pop=%{x}<br>dnce=%{y}<br>dur=%{marker.size}<extra></extra>",
         "legendgroup": "rap, Rynx",
         "marker": {
          "color": "#FFA15A",
          "size": [
           199
          ],
          "sizemode": "area",
          "sizeref": 3.1025,
          "symbol": "circle"
         },
         "mode": "markers",
         "name": "rap, Rynx",
         "scene": "scene",
         "showlegend": true,
         "type": "scatter3d",
         "x": [
          49
         ],
         "y": [
          78
         ],
         "z": [
          "rap"
         ]
        },
        {
         "hovertemplate": "top genre=%{z}<br>artist=Katori Walker<br>pop=%{x}<br>dnce=%{y}<br>dur=%{marker.size}<extra></extra>",
         "legendgroup": "rap, Katori Walker",
         "marker": {
          "color": "#FFA15A",
          "size": [
           139
          ],
          "sizemode": "area",
          "sizeref": 3.1025,
          "symbol": "square"
         },
         "mode": "markers",
         "name": "rap, Katori Walker",
         "scene": "scene",
         "showlegend": true,
         "type": "scatter3d",
         "x": [
          49
         ],
         "y": [
          49
         ],
         "z": [
          "rap"
         ]
        },
        {
         "hovertemplate": "top genre=%{z}<br>artist=Guapdad 4000<br>pop=%{x}<br>dnce=%{y}<br>dur=%{marker.size}<extra></extra>",
         "legendgroup": "rap, Guapdad 4000",
         "marker": {
          "color": "#FFA15A",
          "size": [
           186
          ],
          "sizemode": "area",
          "sizeref": 3.1025,
          "symbol": "x"
         },
         "mode": "markers",
         "name": "rap, Guapdad 4000",
         "scene": "scene",
         "showlegend": true,
         "type": "scatter3d",
         "x": [
          49
         ],
         "y": [
          84
         ],
         "z": [
          "rap"
         ]
        },
        {
         "hovertemplate": "top genre=%{z}<br>artist=French Montana<br>pop=%{x}<br>dnce=%{y}<br>dur=%{marker.size}<extra></extra>",
         "legendgroup": "rap, French Montana",
         "marker": {
          "color": "#FFA15A",
          "size": [
           158
          ],
          "sizemode": "area",
          "sizeref": 3.1025,
          "symbol": "cross"
         },
         "mode": "markers",
         "name": "rap, French Montana",
         "scene": "scene",
         "showlegend": true,
         "type": "scatter3d",
         "x": [
          49
         ],
         "y": [
          75
         ],
         "z": [
          "rap"
         ]
        },
        {
         "hovertemplate": "top genre=%{z}<br>artist=dvr<br>pop=%{x}<br>dnce=%{y}<br>dur=%{marker.size}<extra></extra>",
         "legendgroup": "rap, dvr",
         "marker": {
          "color": "#FFA15A",
          "size": [
           144
          ],
          "sizemode": "area",
          "sizeref": 3.1025,
          "symbol": "diamond"
         },
         "mode": "markers",
         "name": "rap, dvr",
         "scene": "scene",
         "showlegend": true,
         "type": "scatter3d",
         "x": [
          48
         ],
         "y": [
          65
         ],
         "z": [
          "rap"
         ]
        },
        {
         "hovertemplate": "top genre=%{z}<br>artist=Pouya<br>pop=%{x}<br>dnce=%{y}<br>dur=%{marker.size}<extra></extra>",
         "legendgroup": "rap, Pouya",
         "marker": {
          "color": "#FFA15A",
          "size": [
           160
          ],
          "sizemode": "area",
          "sizeref": 3.1025,
          "symbol": "circle"
         },
         "mode": "markers",
         "name": "rap, Pouya",
         "scene": "scene",
         "showlegend": true,
         "type": "scatter3d",
         "x": [
          48
         ],
         "y": [
          81
         ],
         "z": [
          "rap"
         ]
        },
        {
         "hovertemplate": "top genre=%{z}<br>artist=ill Nicky<br>pop=%{x}<br>dnce=%{y}<br>dur=%{marker.size}<extra></extra>",
         "legendgroup": "rap, ill Nicky",
         "marker": {
          "color": "#FFA15A",
          "size": [
           186
          ],
          "sizemode": "area",
          "sizeref": 3.1025,
          "symbol": "diamond"
         },
         "mode": "markers",
         "name": "rap, ill Nicky",
         "scene": "scene",
         "showlegend": true,
         "type": "scatter3d",
         "x": [
          48
         ],
         "y": [
          71
         ],
         "z": [
          "rap"
         ]
        },
        {
         "hovertemplate": "top genre=%{z}<br>artist=E-40<br>pop=%{x}<br>dnce=%{y}<br>dur=%{marker.size}<extra></extra>",
         "legendgroup": "rap, E-40",
         "marker": {
          "color": "#FFA15A",
          "size": [
           284
          ],
          "sizemode": "area",
          "sizeref": 3.1025,
          "symbol": "diamond"
         },
         "mode": "markers",
         "name": "rap, E-40",
         "scene": "scene",
         "showlegend": true,
         "type": "scatter3d",
         "x": [
          48
         ],
         "y": [
          89
         ],
         "z": [
          "rap"
         ]
        },
        {
         "hovertemplate": "top genre=%{z}<br>artist=Yo Gotti<br>pop=%{x}<br>dnce=%{y}<br>dur=%{marker.size}<extra></extra>",
         "legendgroup": "rap, Yo Gotti",
         "marker": {
          "color": "#FFA15A",
          "size": [
           168
          ],
          "sizemode": "area",
          "sizeref": 3.1025,
          "symbol": "square"
         },
         "mode": "markers",
         "name": "rap, Yo Gotti",
         "scene": "scene",
         "showlegend": true,
         "type": "scatter3d",
         "x": [
          48
         ],
         "y": [
          83
         ],
         "z": [
          "rap"
         ]
        },
        {
         "hovertemplate": "top genre=%{z}<br>artist=Mouse and Level<br>pop=%{x}<br>dnce=%{y}<br>dur=%{marker.size}<extra></extra>",
         "legendgroup": "rap, Mouse and Level",
         "marker": {
          "color": "#FFA15A",
          "size": [
           202
          ],
          "sizemode": "area",
          "sizeref": 3.1025,
          "symbol": "x"
         },
         "mode": "markers",
         "name": "rap, Mouse and Level",
         "scene": "scene",
         "showlegend": true,
         "type": "scatter3d",
         "x": [
          48
         ],
         "y": [
          75
         ],
         "z": [
          "rap"
         ]
        },
        {
         "hovertemplate": "top genre=%{z}<br>artist=Cyranek<br>pop=%{x}<br>dnce=%{y}<br>dur=%{marker.size}<extra></extra>",
         "legendgroup": "rap, Cyranek",
         "marker": {
          "color": "#FFA15A",
          "size": [
           103
          ],
          "sizemode": "area",
          "sizeref": 3.1025,
          "symbol": "circle"
         },
         "mode": "markers",
         "name": "rap, Cyranek",
         "scene": "scene",
         "showlegend": true,
         "type": "scatter3d",
         "x": [
          47
         ],
         "y": [
          52
         ],
         "z": [
          "rap"
         ]
        },
        {
         "hovertemplate": "top genre=%{z}<br>artist=EGOVERT<br>pop=%{x}<br>dnce=%{y}<br>dur=%{marker.size}<extra></extra>",
         "legendgroup": "rap, EGOVERT",
         "marker": {
          "color": "#FFA15A",
          "size": [
           111
          ],
          "sizemode": "area",
          "sizeref": 3.1025,
          "symbol": "diamond"
         },
         "mode": "markers",
         "name": "rap, EGOVERT",
         "scene": "scene",
         "showlegend": true,
         "type": "scatter3d",
         "x": [
          47
         ],
         "y": [
          87
         ],
         "z": [
          "rap"
         ]
        },
        {
         "hovertemplate": "top genre=%{z}<br>artist=Real Recognize Rio<br>pop=%{x}<br>dnce=%{y}<br>dur=%{marker.size}<extra></extra>",
         "legendgroup": "rap, Real Recognize Rio",
         "marker": {
          "color": "#FFA15A",
          "size": [
           190
          ],
          "sizemode": "area",
          "sizeref": 3.1025,
          "symbol": "diamond"
         },
         "mode": "markers",
         "name": "rap, Real Recognize Rio",
         "scene": "scene",
         "showlegend": true,
         "type": "scatter3d",
         "x": [
          47
         ],
         "y": [
          83
         ],
         "z": [
          "rap"
         ]
        },
        {
         "hovertemplate": "top genre=%{z}<br>artist=Yung Gravy<br>pop=%{x}<br>dnce=%{y}<br>dur=%{marker.size}<extra></extra>",
         "legendgroup": "rap, Yung Gravy",
         "marker": {
          "color": "#FFA15A",
          "size": [
           185
          ],
          "sizemode": "area",
          "sizeref": 3.1025,
          "symbol": "diamond"
         },
         "mode": "markers",
         "name": "rap, Yung Gravy",
         "scene": "scene",
         "showlegend": true,
         "type": "scatter3d",
         "x": [
          47
         ],
         "y": [
          66
         ],
         "z": [
          "rap"
         ]
        },
        {
         "hovertemplate": "top genre=%{z}<br>artist=YNG Martyr<br>pop=%{x}<br>dnce=%{y}<br>dur=%{marker.size}<extra></extra>",
         "legendgroup": "rap, YNG Martyr",
         "marker": {
          "color": "#FFA15A",
          "size": [
           135
          ],
          "sizemode": "area",
          "sizeref": 3.1025,
          "symbol": "x"
         },
         "mode": "markers",
         "name": "rap, YNG Martyr",
         "scene": "scene",
         "showlegend": true,
         "type": "scatter3d",
         "x": [
          46
         ],
         "y": [
          89
         ],
         "z": [
          "rap"
         ]
        },
        {
         "hovertemplate": "top genre=%{z}<br>artist=Ufo361<br>pop=%{x}<br>dnce=%{y}<br>dur=%{marker.size}<extra></extra>",
         "legendgroup": "rap, Ufo361",
         "marker": {
          "color": "#FFA15A",
          "size": [
           154
          ],
          "sizemode": "area",
          "sizeref": 3.1025,
          "symbol": "diamond"
         },
         "mode": "markers",
         "name": "rap, Ufo361",
         "scene": "scene",
         "showlegend": true,
         "type": "scatter3d",
         "x": [
          46
         ],
         "y": [
          80
         ],
         "z": [
          "rap"
         ]
        },
        {
         "hovertemplate": "top genre=%{z}<br>artist=drip-133<br>pop=%{x}<br>dnce=%{y}<br>dur=%{marker.size}<extra></extra>",
         "legendgroup": "rap, drip-133",
         "marker": {
          "color": "#FFA15A",
          "size": [
           188
          ],
          "sizemode": "area",
          "sizeref": 3.1025,
          "symbol": "diamond"
         },
         "mode": "markers",
         "name": "rap, drip-133",
         "scene": "scene",
         "showlegend": true,
         "type": "scatter3d",
         "x": [
          45
         ],
         "y": [
          75
         ],
         "z": [
          "rap"
         ]
        },
        {
         "hovertemplate": "top genre=%{z}<br>artist=s0cliché<br>pop=%{x}<br>dnce=%{y}<br>dur=%{marker.size}<extra></extra>",
         "legendgroup": "rap, s0cliché",
         "marker": {
          "color": "#FFA15A",
          "size": [
           181
          ],
          "sizemode": "area",
          "sizeref": 3.1025,
          "symbol": "x"
         },
         "mode": "markers",
         "name": "rap, s0cliché",
         "scene": "scene",
         "showlegend": true,
         "type": "scatter3d",
         "x": [
          45
         ],
         "y": [
          53
         ],
         "z": [
          "rap"
         ]
        },
        {
         "hovertemplate": "top genre=%{z}<br>artist=Bandingo YGNE<br>pop=%{x}<br>dnce=%{y}<br>dur=%{marker.size}<extra></extra>",
         "legendgroup": "rap, Bandingo YGNE",
         "marker": {
          "color": "#FFA15A",
          "size": [
           168,
           134
          ],
          "sizemode": "area",
          "sizeref": 3.1025,
          "symbol": "circle"
         },
         "mode": "markers",
         "name": "rap, Bandingo YGNE",
         "scene": "scene",
         "showlegend": true,
         "type": "scatter3d",
         "x": [
          45,
          7
         ],
         "y": [
          80,
          71
         ],
         "z": [
          "rap",
          "rap"
         ]
        },
        {
         "hovertemplate": "top genre=%{z}<br>artist=Yung Dmize<br>pop=%{x}<br>dnce=%{y}<br>dur=%{marker.size}<extra></extra>",
         "legendgroup": "rap, Yung Dmize",
         "marker": {
          "color": "#FFA15A",
          "size": [
           128
          ],
          "sizemode": "area",
          "sizeref": 3.1025,
          "symbol": "circle"
         },
         "mode": "markers",
         "name": "rap, Yung Dmize",
         "scene": "scene",
         "showlegend": true,
         "type": "scatter3d",
         "x": [
          44
         ],
         "y": [
          65
         ],
         "z": [
          "rap"
         ]
        },
        {
         "hovertemplate": "top genre=%{z}<br>artist=reptilelegit<br>pop=%{x}<br>dnce=%{y}<br>dur=%{marker.size}<extra></extra>",
         "legendgroup": "rap, reptilelegit",
         "marker": {
          "color": "#FFA15A",
          "size": [
           228,
           184
          ],
          "sizemode": "area",
          "sizeref": 3.1025,
          "symbol": "cross"
         },
         "mode": "markers",
         "name": "rap, reptilelegit",
         "scene": "scene",
         "showlegend": true,
         "type": "scatter3d",
         "x": [
          43,
          26
         ],
         "y": [
          71,
          80
         ],
         "z": [
          "rap",
          "rap"
         ]
        },
        {
         "hovertemplate": "top genre=%{z}<br>artist=PlayThatBoiZay<br>pop=%{x}<br>dnce=%{y}<br>dur=%{marker.size}<extra></extra>",
         "legendgroup": "rap, PlayThatBoiZay",
         "marker": {
          "color": "#FFA15A",
          "size": [
           213
          ],
          "sizemode": "area",
          "sizeref": 3.1025,
          "symbol": "cross"
         },
         "mode": "markers",
         "name": "rap, PlayThatBoiZay",
         "scene": "scene",
         "showlegend": true,
         "type": "scatter3d",
         "x": [
          43
         ],
         "y": [
          73
         ],
         "z": [
          "rap"
         ]
        },
        {
         "hovertemplate": "top genre=%{z}<br>artist=Eearz<br>pop=%{x}<br>dnce=%{y}<br>dur=%{marker.size}<extra></extra>",
         "legendgroup": "rap, Eearz",
         "marker": {
          "color": "#FFA15A",
          "size": [
           263
          ],
          "sizemode": "area",
          "sizeref": 3.1025,
          "symbol": "circle"
         },
         "mode": "markers",
         "name": "rap, Eearz",
         "scene": "scene",
         "showlegend": true,
         "type": "scatter3d",
         "x": [
          43
         ],
         "y": [
          85
         ],
         "z": [
          "rap"
         ]
        },
        {
         "hovertemplate": "top genre=%{z}<br>artist=Azizi Gibson<br>pop=%{x}<br>dnce=%{y}<br>dur=%{marker.size}<extra></extra>",
         "legendgroup": "rap, Azizi Gibson",
         "marker": {
          "color": "#FFA15A",
          "size": [
           285
          ],
          "sizemode": "area",
          "sizeref": 3.1025,
          "symbol": "diamond"
         },
         "mode": "markers",
         "name": "rap, Azizi Gibson",
         "scene": "scene",
         "showlegend": true,
         "type": "scatter3d",
         "x": [
          42
         ],
         "y": [
          51
         ],
         "z": [
          "rap"
         ]
        },
        {
         "hovertemplate": "top genre=%{z}<br>artist=UnoTheActivist<br>pop=%{x}<br>dnce=%{y}<br>dur=%{marker.size}<extra></extra>",
         "legendgroup": "rap, UnoTheActivist",
         "marker": {
          "color": "#FFA15A",
          "size": [
           174
          ],
          "sizemode": "area",
          "sizeref": 3.1025,
          "symbol": "diamond"
         },
         "mode": "markers",
         "name": "rap, UnoTheActivist",
         "scene": "scene",
         "showlegend": true,
         "type": "scatter3d",
         "x": [
          41
         ],
         "y": [
          88
         ],
         "z": [
          "rap"
         ]
        },
        {
         "hovertemplate": "top genre=%{z}<br>artist=40XL<br>pop=%{x}<br>dnce=%{y}<br>dur=%{marker.size}<extra></extra>",
         "legendgroup": "rap, 40XL",
         "marker": {
          "color": "#FFA15A",
          "size": [
           225
          ],
          "sizemode": "area",
          "sizeref": 3.1025,
          "symbol": "square"
         },
         "mode": "markers",
         "name": "rap, 40XL",
         "scene": "scene",
         "showlegend": true,
         "type": "scatter3d",
         "x": [
          39
         ],
         "y": [
          77
         ],
         "z": [
          "rap"
         ]
        },
        {
         "hovertemplate": "top genre=%{z}<br>artist=hooligan chase<br>pop=%{x}<br>dnce=%{y}<br>dur=%{marker.size}<extra></extra>",
         "legendgroup": "rap, hooligan chase",
         "marker": {
          "color": "#FFA15A",
          "size": [
           166
          ],
          "sizemode": "area",
          "sizeref": 3.1025,
          "symbol": "cross"
         },
         "mode": "markers",
         "name": "rap, hooligan chase",
         "scene": "scene",
         "showlegend": true,
         "type": "scatter3d",
         "x": [
          39
         ],
         "y": [
          62
         ],
         "z": [
          "rap"
         ]
        },
        {
         "hovertemplate": "top genre=%{z}<br>artist=Q Da Fool<br>pop=%{x}<br>dnce=%{y}<br>dur=%{marker.size}<extra></extra>",
         "legendgroup": "rap, Q Da Fool",
         "marker": {
          "color": "#FFA15A",
          "size": [
           177
          ],
          "sizemode": "area",
          "sizeref": 3.1025,
          "symbol": "square"
         },
         "mode": "markers",
         "name": "rap, Q Da Fool",
         "scene": "scene",
         "showlegend": true,
         "type": "scatter3d",
         "x": [
          36
         ],
         "y": [
          75
         ],
         "z": [
          "rap"
         ]
        },
        {
         "hovertemplate": "top genre=%{z}<br>artist=Bi$hxx<br>pop=%{x}<br>dnce=%{y}<br>dur=%{marker.size}<extra></extra>",
         "legendgroup": "rap, Bi$hxx",
         "marker": {
          "color": "#FFA15A",
          "size": [
           112
          ],
          "sizemode": "area",
          "sizeref": 3.1025,
          "symbol": "cross"
         },
         "mode": "markers",
         "name": "rap, Bi$hxx",
         "scene": "scene",
         "showlegend": true,
         "type": "scatter3d",
         "x": [
          35
         ],
         "y": [
          75
         ],
         "z": [
          "rap"
         ]
        },
        {
         "hovertemplate": "top genre=%{z}<br>artist=Jovan Armand<br>pop=%{x}<br>dnce=%{y}<br>dur=%{marker.size}<extra></extra>",
         "legendgroup": "rap, Jovan Armand",
         "marker": {
          "color": "#FFA15A",
          "size": [
           155
          ],
          "sizemode": "area",
          "sizeref": 3.1025,
          "symbol": "cross"
         },
         "mode": "markers",
         "name": "rap, Jovan Armand",
         "scene": "scene",
         "showlegend": true,
         "type": "scatter3d",
         "x": [
          22
         ],
         "y": [
          74
         ],
         "z": [
          "rap"
         ]
        },
        {
         "hovertemplate": "top genre=%{z}<br>artist=Linkin Park<br>pop=%{x}<br>dnce=%{y}<br>dur=%{marker.size}<extra></extra>",
         "legendgroup": "metal, Linkin Park",
         "marker": {
          "color": "#19d3f3",
          "size": [
           217,
           186,
           206,
           255,
           170,
           178,
           279
          ],
          "sizemode": "area",
          "sizeref": 3.1025,
          "symbol": "x"
         },
         "mode": "markers",
         "name": "metal, Linkin Park",
         "scene": "scene",
         "showlegend": true,
         "type": "scatter3d",
         "x": [
          84,
          82,
          77,
          71,
          68,
          58,
          47
         ],
         "y": [
          56,
          50,
          62,
          59,
          59,
          65,
          54
         ],
         "z": [
          "metal",
          "metal",
          "metal",
          "metal",
          "metal",
          "metal",
          "metal"
         ]
        },
        {
         "hovertemplate": "top genre=%{z}<br>artist=Evanescence<br>pop=%{x}<br>dnce=%{y}<br>dur=%{marker.size}<extra></extra>",
         "legendgroup": "metal, Evanescence",
         "marker": {
          "color": "#19d3f3",
          "size": [
           236
          ],
          "sizemode": "area",
          "sizeref": 3.1025,
          "symbol": "cross"
         },
         "mode": "markers",
         "name": "metal, Evanescence",
         "scene": "scene",
         "showlegend": true,
         "type": "scatter3d",
         "x": [
          81
         ],
         "y": [
          33
         ],
         "z": [
          "metal"
         ]
        },
        {
         "hovertemplate": "top genre=%{z}<br>artist=Papa Roach<br>pop=%{x}<br>dnce=%{y}<br>dur=%{marker.size}<extra></extra>",
         "legendgroup": "metal, Papa Roach",
         "marker": {
          "color": "#19d3f3",
          "size": [
           200
          ],
          "sizemode": "area",
          "sizeref": 3.1025,
          "symbol": "square"
         },
         "mode": "markers",
         "name": "metal, Papa Roach",
         "scene": "scene",
         "showlegend": true,
         "type": "scatter3d",
         "x": [
          81
         ],
         "y": [
          59
         ],
         "z": [
          "metal"
         ]
        },
        {
         "hovertemplate": "top genre=%{z}<br>artist=The Offspring<br>pop=%{x}<br>dnce=%{y}<br>dur=%{marker.size}<extra></extra>",
         "legendgroup": "metal, The Offspring",
         "marker": {
          "color": "#19d3f3",
          "size": [
           198
          ],
          "sizemode": "area",
          "sizeref": 3.1025,
          "symbol": "square"
         },
         "mode": "markers",
         "name": "metal, The Offspring",
         "scene": "scene",
         "showlegend": true,
         "type": "scatter3d",
         "x": [
          71
         ],
         "y": [
          52
         ],
         "z": [
          "metal"
         ]
        },
        {
         "hovertemplate": "top genre=%{z}<br>artist=Slayer<br>pop=%{x}<br>dnce=%{y}<br>dur=%{marker.size}<extra></extra>",
         "legendgroup": "metal, Slayer",
         "marker": {
          "color": "#19d3f3",
          "size": [
           299
          ],
          "sizemode": "area",
          "sizeref": 3.1025,
          "symbol": "square"
         },
         "mode": "markers",
         "name": "metal, Slayer",
         "scene": "scene",
         "showlegend": true,
         "type": "scatter3d",
         "x": [
          59
         ],
         "y": [
          31
         ],
         "z": [
          "metal"
         ]
        },
        {
         "hovertemplate": "top genre=%{z}<br>artist=Foster The People<br>pop=%{x}<br>dnce=%{y}<br>dur=%{marker.size}<extra></extra>",
         "legendgroup": "indie, Foster The People",
         "marker": {
          "color": "#FF6692",
          "size": [
           240,
           256,
           202,
           276,
           175,
           239,
           206,
           271,
           268,
           191,
           224,
           310,
           262
          ],
          "sizemode": "area",
          "sizeref": 3.1025,
          "symbol": "circle"
         },
         "mode": "markers",
         "name": "indie, Foster The People",
         "scene": "scene",
         "showlegend": true,
         "type": "scatter3d",
         "x": [
          84,
          73,
          68,
          65,
          63,
          62,
          59,
          57,
          57,
          56,
          54,
          52,
          47
         ],
         "y": [
          73,
          74,
          63,
          67,
          61,
          64,
          68,
          60,
          65,
          68,
          59,
          73,
          52
         ],
         "z": [
          "indie",
          "indie",
          "indie",
          "indie",
          "indie",
          "indie",
          "indie",
          "indie",
          "indie",
          "indie",
          "indie",
          "indie",
          "indie"
         ]
        },
        {
         "hovertemplate": "top genre=%{z}<br>artist=Dayglow<br>pop=%{x}<br>dnce=%{y}<br>dur=%{marker.size}<extra></extra>",
         "legendgroup": "indie, Dayglow",
         "marker": {
          "color": "#FF6692",
          "size": [
           279,
           204,
           216
          ],
          "sizemode": "area",
          "sizeref": 3.1025,
          "symbol": "circle"
         },
         "mode": "markers",
         "name": "indie, Dayglow",
         "scene": "scene",
         "showlegend": true,
         "type": "scatter3d",
         "x": [
          79,
          74,
          63
         ],
         "y": [
          64,
          71,
          69
         ],
         "z": [
          "indie",
          "indie",
          "indie"
         ]
        },
        {
         "hovertemplate": "top genre=%{z}<br>artist=Molchat Doma<br>pop=%{x}<br>dnce=%{y}<br>dur=%{marker.size}<extra></extra>",
         "legendgroup": "indie, Molchat Doma",
         "marker": {
          "color": "#FF6692",
          "size": [
           141
          ],
          "sizemode": "area",
          "sizeref": 3.1025,
          "symbol": "cross"
         },
         "mode": "markers",
         "name": "indie, Molchat Doma",
         "scene": "scene",
         "showlegend": true,
         "type": "scatter3d",
         "x": [
          75
         ],
         "y": [
          48
         ],
         "z": [
          "indie"
         ]
        },
        {
         "hovertemplate": "top genre=%{z}<br>artist=Jack Stauber<br>pop=%{x}<br>dnce=%{y}<br>dur=%{marker.size}<extra></extra>",
         "legendgroup": "indie, Jack Stauber",
         "marker": {
          "color": "#FF6692",
          "size": [
           208
          ],
          "sizemode": "area",
          "sizeref": 3.1025,
          "symbol": "diamond"
         },
         "mode": "markers",
         "name": "indie, Jack Stauber",
         "scene": "scene",
         "showlegend": true,
         "type": "scatter3d",
         "x": [
          75
         ],
         "y": [
          71
         ],
         "z": [
          "indie"
         ]
        },
        {
         "hovertemplate": "top genre=%{z}<br>artist=Mother Mother<br>pop=%{x}<br>dnce=%{y}<br>dur=%{marker.size}<extra></extra>",
         "legendgroup": "indie, Mother Mother",
         "marker": {
          "color": "#FF6692",
          "size": [
           168
          ],
          "sizemode": "area",
          "sizeref": 3.1025,
          "symbol": "square"
         },
         "mode": "markers",
         "name": "indie, Mother Mother",
         "scene": "scene",
         "showlegend": true,
         "type": "scatter3d",
         "x": [
          75
         ],
         "y": [
          83
         ],
         "z": [
          "indie"
         ]
        },
        {
         "hovertemplate": "top genre=%{z}<br>artist=NEIL FRANCES<br>pop=%{x}<br>dnce=%{y}<br>dur=%{marker.size}<extra></extra>",
         "legendgroup": "indie, NEIL FRANCES",
         "marker": {
          "color": "#FF6692",
          "size": [
           198
          ],
          "sizemode": "area",
          "sizeref": 3.1025,
          "symbol": "cross"
         },
         "mode": "markers",
         "name": "indie, NEIL FRANCES",
         "scene": "scene",
         "showlegend": true,
         "type": "scatter3d",
         "x": [
          72
         ],
         "y": [
          94
         ],
         "z": [
          "indie"
         ]
        },
        {
         "hovertemplate": "top genre=%{z}<br>artist=Saint Motel<br>pop=%{x}<br>dnce=%{y}<br>dur=%{marker.size}<extra></extra>",
         "legendgroup": "indie, Saint Motel",
         "marker": {
          "color": "#FF6692",
          "size": [
           205,
           206,
           189
          ],
          "sizemode": "area",
          "sizeref": 3.1025,
          "symbol": "square"
         },
         "mode": "markers",
         "name": "indie, Saint Motel",
         "scene": "scene",
         "showlegend": true,
         "type": "scatter3d",
         "x": [
          68,
          64,
          43
         ],
         "y": [
          60,
          60,
          64
         ],
         "z": [
          "indie",
          "indie",
          "indie"
         ]
        },
        {
         "hovertemplate": "top genre=%{z}<br>artist=The Kooks<br>pop=%{x}<br>dnce=%{y}<br>dur=%{marker.size}<extra></extra>",
         "legendgroup": "indie, The Kooks",
         "marker": {
          "color": "#FF6692",
          "size": [
           187,
           221,
           162,
           251,
           235,
           203,
           161
          ],
          "sizemode": "area",
          "sizeref": 3.1025,
          "symbol": "square"
         },
         "mode": "markers",
         "name": "indie, The Kooks",
         "scene": "scene",
         "showlegend": true,
         "type": "scatter3d",
         "x": [
          65,
          64,
          58,
          51,
          46,
          44,
          24
         ],
         "y": [
          60,
          73,
          33,
          58,
          46,
          55,
          33
         ],
         "z": [
          "indie",
          "indie",
          "indie",
          "indie",
          "indie",
          "indie",
          "indie"
         ]
        },
        {
         "hovertemplate": "top genre=%{z}<br>artist=The Wombats<br>pop=%{x}<br>dnce=%{y}<br>dur=%{marker.size}<extra></extra>",
         "legendgroup": "indie, The Wombats",
         "marker": {
          "color": "#FF6692",
          "size": [
           191,
           211,
           228
          ],
          "sizemode": "area",
          "sizeref": 3.1025,
          "symbol": "circle"
         },
         "mode": "markers",
         "name": "indie, The Wombats",
         "scene": "scene",
         "showlegend": true,
         "type": "scatter3d",
         "x": [
          65,
          62,
          41
         ],
         "y": [
          40,
          25,
          62
         ],
         "z": [
          "indie",
          "indie",
          "indie"
         ]
        },
        {
         "hovertemplate": "top genre=%{z}<br>artist=Jungle<br>pop=%{x}<br>dnce=%{y}<br>dur=%{marker.size}<extra></extra>",
         "legendgroup": "indie, Jungle",
         "marker": {
          "color": "#FF6692",
          "size": [
           182,
           247
          ],
          "sizemode": "area",
          "sizeref": 3.1025,
          "symbol": "diamond"
         },
         "mode": "markers",
         "name": "indie, Jungle",
         "scene": "scene",
         "showlegend": true,
         "type": "scatter3d",
         "x": [
          64,
          59
         ],
         "y": [
          55,
          65
         ],
         "z": [
          "indie",
          "indie"
         ]
        },
        {
         "hovertemplate": "top genre=%{z}<br>artist=The Jungle Giants<br>pop=%{x}<br>dnce=%{y}<br>dur=%{marker.size}<extra></extra>",
         "legendgroup": "indie, The Jungle Giants",
         "marker": {
          "color": "#FF6692",
          "size": [
           254,
           257
          ],
          "sizemode": "area",
          "sizeref": 3.1025,
          "symbol": "diamond"
         },
         "mode": "markers",
         "name": "indie, The Jungle Giants",
         "scene": "scene",
         "showlegend": true,
         "type": "scatter3d",
         "x": [
          60,
          60
         ],
         "y": [
          73,
          64
         ],
         "z": [
          "indie",
          "indie"
         ]
        },
        {
         "hovertemplate": "top genre=%{z}<br>artist=Everyone You Know<br>pop=%{x}<br>dnce=%{y}<br>dur=%{marker.size}<extra></extra>",
         "legendgroup": "indie, Everyone You Know",
         "marker": {
          "color": "#FF6692",
          "size": [
           227
          ],
          "sizemode": "area",
          "sizeref": 3.1025,
          "symbol": "square"
         },
         "mode": "markers",
         "name": "indie, Everyone You Know",
         "scene": "scene",
         "showlegend": true,
         "type": "scatter3d",
         "x": [
          58
         ],
         "y": [
          72
         ],
         "z": [
          "indie"
         ]
        },
        {
         "hovertemplate": "top genre=%{z}<br>artist=Channel Tres<br>pop=%{x}<br>dnce=%{y}<br>dur=%{marker.size}<extra></extra>",
         "legendgroup": "indie, Channel Tres",
         "marker": {
          "color": "#FF6692",
          "size": [
           249
          ],
          "sizemode": "area",
          "sizeref": 3.1025,
          "symbol": "square"
         },
         "mode": "markers",
         "name": "indie, Channel Tres",
         "scene": "scene",
         "showlegend": true,
         "type": "scatter3d",
         "x": [
          58
         ],
         "y": [
          75
         ],
         "z": [
          "indie"
         ]
        },
        {
         "hovertemplate": "top genre=%{z}<br>artist=easy life<br>pop=%{x}<br>dnce=%{y}<br>dur=%{marker.size}<extra></extra>",
         "legendgroup": "indie, easy life",
         "marker": {
          "color": "#FF6692",
          "size": [
           208
          ],
          "sizemode": "area",
          "sizeref": 3.1025,
          "symbol": "circle"
         },
         "mode": "markers",
         "name": "indie, easy life",
         "scene": "scene",
         "showlegend": true,
         "type": "scatter3d",
         "x": [
          57
         ],
         "y": [
          63
         ],
         "z": [
          "indie"
         ]
        },
        {
         "hovertemplate": "top genre=%{z}<br>artist=Carter Ace<br>pop=%{x}<br>dnce=%{y}<br>dur=%{marker.size}<extra></extra>",
         "legendgroup": "indie, Carter Ace",
         "marker": {
          "color": "#FF6692",
          "size": [
           197
          ],
          "sizemode": "area",
          "sizeref": 3.1025,
          "symbol": "square"
         },
         "mode": "markers",
         "name": "indie, Carter Ace",
         "scene": "scene",
         "showlegend": true,
         "type": "scatter3d",
         "x": [
          55
         ],
         "y": [
          67
         ],
         "z": [
          "indie"
         ]
        },
        {
         "hovertemplate": "top genre=%{z}<br>artist=Barney Artist<br>pop=%{x}<br>dnce=%{y}<br>dur=%{marker.size}<extra></extra>",
         "legendgroup": "indie, Barney Artist",
         "marker": {
          "color": "#FF6692",
          "size": [
           263
          ],
          "sizemode": "area",
          "sizeref": 3.1025,
          "symbol": "diamond"
         },
         "mode": "markers",
         "name": "indie, Barney Artist",
         "scene": "scene",
         "showlegend": true,
         "type": "scatter3d",
         "x": [
          53
         ],
         "y": [
          89
         ],
         "z": [
          "indie"
         ]
        },
        {
         "hovertemplate": "top genre=%{z}<br>artist=Ana Tijoux<br>pop=%{x}<br>dnce=%{y}<br>dur=%{marker.size}<extra></extra>",
         "legendgroup": "indie, Ana Tijoux",
         "marker": {
          "color": "#FF6692",
          "size": [
           202
          ],
          "sizemode": "area",
          "sizeref": 3.1025,
          "symbol": "cross"
         },
         "mode": "markers",
         "name": "indie, Ana Tijoux",
         "scene": "scene",
         "showlegend": true,
         "type": "scatter3d",
         "x": [
          53
         ],
         "y": [
          70
         ],
         "z": [
          "indie"
         ]
        },
        {
         "hovertemplate": "top genre=%{z}<br>artist=Midnight Generation<br>pop=%{x}<br>dnce=%{y}<br>dur=%{marker.size}<extra></extra>",
         "legendgroup": "indie, Midnight Generation",
         "marker": {
          "color": "#FF6692",
          "size": [
           197
          ],
          "sizemode": "area",
          "sizeref": 3.1025,
          "symbol": "diamond"
         },
         "mode": "markers",
         "name": "indie, Midnight Generation",
         "scene": "scene",
         "showlegend": true,
         "type": "scatter3d",
         "x": [
          52
         ],
         "y": [
          79
         ],
         "z": [
          "indie"
         ]
        },
        {
         "hovertemplate": "top genre=%{z}<br>artist=Kristofer Maddigan<br>pop=%{x}<br>dnce=%{y}<br>dur=%{marker.size}<extra></extra>",
         "legendgroup": "indie, Kristofer Maddigan",
         "marker": {
          "color": "#FF6692",
          "size": [
           225,
           97,
           212,
           140
          ],
          "sizemode": "area",
          "sizeref": 3.1025,
          "symbol": "cross"
         },
         "mode": "markers",
         "name": "indie, Kristofer Maddigan",
         "scene": "scene",
         "showlegend": true,
         "type": "scatter3d",
         "x": [
          49,
          46,
          44,
          34
         ],
         "y": [
          63,
          73,
          65,
          67
         ],
         "z": [
          "indie",
          "indie",
          "indie",
          "indie"
         ]
        },
        {
         "hovertemplate": "top genre=%{z}<br>artist=Montaigne<br>pop=%{x}<br>dnce=%{y}<br>dur=%{marker.size}<extra></extra>",
         "legendgroup": "indie, Montaigne",
         "marker": {
          "color": "#FF6692",
          "size": [
           169
          ],
          "sizemode": "area",
          "sizeref": 3.1025,
          "symbol": "diamond"
         },
         "mode": "markers",
         "name": "indie, Montaigne",
         "scene": "scene",
         "showlegend": true,
         "type": "scatter3d",
         "x": [
          49
         ],
         "y": [
          67
         ],
         "z": [
          "indie"
         ]
        },
        {
         "hovertemplate": "top genre=%{z}<br>artist=Athletic Progression<br>pop=%{x}<br>dnce=%{y}<br>dur=%{marker.size}<extra></extra>",
         "legendgroup": "indie, Athletic Progression",
         "marker": {
          "color": "#FF6692",
          "size": [
           271
          ],
          "sizemode": "area",
          "sizeref": 3.1025,
          "symbol": "diamond"
         },
         "mode": "markers",
         "name": "indie, Athletic Progression",
         "scene": "scene",
         "showlegend": true,
         "type": "scatter3d",
         "x": [
          48
         ],
         "y": [
          42
         ],
         "z": [
          "indie"
         ]
        },
        {
         "hovertemplate": "top genre=%{z}<br>artist=Kojey Radical<br>pop=%{x}<br>dnce=%{y}<br>dur=%{marker.size}<extra></extra>",
         "legendgroup": "indie, Kojey Radical",
         "marker": {
          "color": "#FF6692",
          "size": [
           208
          ],
          "sizemode": "area",
          "sizeref": 3.1025,
          "symbol": "square"
         },
         "mode": "markers",
         "name": "indie, Kojey Radical",
         "scene": "scene",
         "showlegend": true,
         "type": "scatter3d",
         "x": [
          47
         ],
         "y": [
          68
         ],
         "z": [
          "indie"
         ]
        },
        {
         "hovertemplate": "top genre=%{z}<br>artist=Tulipa Ruiz<br>pop=%{x}<br>dnce=%{y}<br>dur=%{marker.size}<extra></extra>",
         "legendgroup": "indie, Tulipa Ruiz",
         "marker": {
          "color": "#FF6692",
          "size": [
           225
          ],
          "sizemode": "area",
          "sizeref": 3.1025,
          "symbol": "cross"
         },
         "mode": "markers",
         "name": "indie, Tulipa Ruiz",
         "scene": "scene",
         "showlegend": true,
         "type": "scatter3d",
         "x": [
          46
         ],
         "y": [
          84
         ],
         "z": [
          "indie"
         ]
        },
        {
         "hovertemplate": "top genre=%{z}<br>artist=Locnville<br>pop=%{x}<br>dnce=%{y}<br>dur=%{marker.size}<extra></extra>",
         "legendgroup": "indie, Locnville",
         "marker": {
          "color": "#FF6692",
          "size": [
           209
          ],
          "sizemode": "area",
          "sizeref": 3.1025,
          "symbol": "circle"
         },
         "mode": "markers",
         "name": "indie, Locnville",
         "scene": "scene",
         "showlegend": true,
         "type": "scatter3d",
         "x": [
          42
         ],
         "y": [
          64
         ],
         "z": [
          "indie"
         ]
        },
        {
         "hovertemplate": "top genre=%{z}<br>artist=Courtney Barnett<br>pop=%{x}<br>dnce=%{y}<br>dur=%{marker.size}<extra></extra>",
         "legendgroup": "indie, Courtney Barnett",
         "marker": {
          "color": "#FF6692",
          "size": [
           282
          ],
          "sizemode": "area",
          "sizeref": 3.1025,
          "symbol": "x"
         },
         "mode": "markers",
         "name": "indie, Courtney Barnett",
         "scene": "scene",
         "showlegend": true,
         "type": "scatter3d",
         "x": [
          40
         ],
         "y": [
          31
         ],
         "z": [
          "indie"
         ]
        },
        {
         "hovertemplate": "top genre=%{z}<br>artist=Sante Les Amis<br>pop=%{x}<br>dnce=%{y}<br>dur=%{marker.size}<extra></extra>",
         "legendgroup": "indie, Sante Les Amis",
         "marker": {
          "color": "#FF6692",
          "size": [
           225
          ],
          "sizemode": "area",
          "sizeref": 3.1025,
          "symbol": "square"
         },
         "mode": "markers",
         "name": "indie, Sante Les Amis",
         "scene": "scene",
         "showlegend": true,
         "type": "scatter3d",
         "x": [
          39
         ],
         "y": [
          63
         ],
         "z": [
          "indie"
         ]
        },
        {
         "hovertemplate": "top genre=%{z}<br>artist=Lao Ra<br>pop=%{x}<br>dnce=%{y}<br>dur=%{marker.size}<extra></extra>",
         "legendgroup": "indie, Lao Ra",
         "marker": {
          "color": "#FF6692",
          "size": [
           188
          ],
          "sizemode": "area",
          "sizeref": 3.1025,
          "symbol": "x"
         },
         "mode": "markers",
         "name": "indie, Lao Ra",
         "scene": "scene",
         "showlegend": true,
         "type": "scatter3d",
         "x": [
          39
         ],
         "y": [
          60
         ],
         "z": [
          "indie"
         ]
        },
        {
         "hovertemplate": "top genre=%{z}<br>artist=GIVERS<br>pop=%{x}<br>dnce=%{y}<br>dur=%{marker.size}<extra></extra>",
         "legendgroup": "indie, GIVERS",
         "marker": {
          "color": "#FF6692",
          "size": [
           274
          ],
          "sizemode": "area",
          "sizeref": 3.1025,
          "symbol": "diamond"
         },
         "mode": "markers",
         "name": "indie, GIVERS",
         "scene": "scene",
         "showlegend": true,
         "type": "scatter3d",
         "x": [
          39
         ],
         "y": [
          42
         ],
         "z": [
          "indie"
         ]
        },
        {
         "hovertemplate": "top genre=%{z}<br>artist=DJ Raff<br>pop=%{x}<br>dnce=%{y}<br>dur=%{marker.size}<extra></extra>",
         "legendgroup": "indie, DJ Raff",
         "marker": {
          "color": "#FF6692",
          "size": [
           220,
           220
          ],
          "sizemode": "area",
          "sizeref": 3.1025,
          "symbol": "circle"
         },
         "mode": "markers",
         "name": "indie, DJ Raff",
         "scene": "scene",
         "showlegend": true,
         "type": "scatter3d",
         "x": [
          38,
          25
         ],
         "y": [
          87,
          85
         ],
         "z": [
          "indie",
          "indie"
         ]
        },
        {
         "hovertemplate": "top genre=%{z}<br>artist=Astro<br>pop=%{x}<br>dnce=%{y}<br>dur=%{marker.size}<extra></extra>",
         "legendgroup": "indie, Astro",
         "marker": {
          "color": "#FF6692",
          "size": [
           169
          ],
          "sizemode": "area",
          "sizeref": 3.1025,
          "symbol": "cross"
         },
         "mode": "markers",
         "name": "indie, Astro",
         "scene": "scene",
         "showlegend": true,
         "type": "scatter3d",
         "x": [
          38
         ],
         "y": [
          61
         ],
         "z": [
          "indie"
         ]
        },
        {
         "hovertemplate": "top genre=%{z}<br>artist=De Staat<br>pop=%{x}<br>dnce=%{y}<br>dur=%{marker.size}<extra></extra>",
         "legendgroup": "indie, De Staat",
         "marker": {
          "color": "#FF6692",
          "size": [
           188
          ],
          "sizemode": "area",
          "sizeref": 3.1025,
          "symbol": "cross"
         },
         "mode": "markers",
         "name": "indie, De Staat",
         "scene": "scene",
         "showlegend": true,
         "type": "scatter3d",
         "x": [
          38
         ],
         "y": [
          46
         ],
         "z": [
          "indie"
         ]
        },
        {
         "hovertemplate": "top genre=%{z}<br>artist=De Lux<br>pop=%{x}<br>dnce=%{y}<br>dur=%{marker.size}<extra></extra>",
         "legendgroup": "indie, De Lux",
         "marker": {
          "color": "#FF6692",
          "size": [
           299
          ],
          "sizemode": "area",
          "sizeref": 3.1025,
          "symbol": "x"
         },
         "mode": "markers",
         "name": "indie, De Lux",
         "scene": "scene",
         "showlegend": true,
         "type": "scatter3d",
         "x": [
          37
         ],
         "y": [
          58
         ],
         "z": [
          "indie"
         ]
        },
        {
         "hovertemplate": "top genre=%{z}<br>artist=Howl<br>pop=%{x}<br>dnce=%{y}<br>dur=%{marker.size}<extra></extra>",
         "legendgroup": "indie, Howl",
         "marker": {
          "color": "#FF6692",
          "size": [
           199
          ],
          "sizemode": "area",
          "sizeref": 3.1025,
          "symbol": "cross"
         },
         "mode": "markers",
         "name": "indie, Howl",
         "scene": "scene",
         "showlegend": true,
         "type": "scatter3d",
         "x": [
          33
         ],
         "y": [
          35
         ],
         "z": [
          "indie"
         ]
        },
        {
         "hovertemplate": "top genre=%{z}<br>artist=Daniel Kahn<br>pop=%{x}<br>dnce=%{y}<br>dur=%{marker.size}<extra></extra>",
         "legendgroup": "indie, Daniel Kahn",
         "marker": {
          "color": "#FF6692",
          "size": [
           228,
           201
          ],
          "sizemode": "area",
          "sizeref": 3.1025,
          "symbol": "square"
         },
         "mode": "markers",
         "name": "indie, Daniel Kahn",
         "scene": "scene",
         "showlegend": true,
         "type": "scatter3d",
         "x": [
          31,
          30
         ],
         "y": [
          63,
          44
         ],
         "z": [
          "indie",
          "indie"
         ]
        },
        {
         "hovertemplate": "top genre=%{z}<br>artist=Dapuntobeat<br>pop=%{x}<br>dnce=%{y}<br>dur=%{marker.size}<extra></extra>",
         "legendgroup": "indie, Dapuntobeat",
         "marker": {
          "color": "#FF6692",
          "size": [
           219
          ],
          "sizemode": "area",
          "sizeref": 3.1025,
          "symbol": "x"
         },
         "mode": "markers",
         "name": "indie, Dapuntobeat",
         "scene": "scene",
         "showlegend": true,
         "type": "scatter3d",
         "x": [
          29
         ],
         "y": [
          68
         ],
         "z": [
          "indie"
         ]
        },
        {
         "hovertemplate": "top genre=%{z}<br>artist=The Departure<br>pop=%{x}<br>dnce=%{y}<br>dur=%{marker.size}<extra></extra>",
         "legendgroup": "indie, The Departure",
         "marker": {
          "color": "#FF6692",
          "size": [
           205
          ],
          "sizemode": "area",
          "sizeref": 3.1025,
          "symbol": "square"
         },
         "mode": "markers",
         "name": "indie, The Departure",
         "scene": "scene",
         "showlegend": true,
         "type": "scatter3d",
         "x": [
          21
         ],
         "y": [
          40
         ],
         "z": [
          "indie"
         ]
        },
        {
         "hovertemplate": "top genre=%{z}<br>artist=Pop Smoke<br>pop=%{x}<br>dnce=%{y}<br>dur=%{marker.size}<extra></extra>",
         "legendgroup": "drill, Pop Smoke",
         "marker": {
          "color": "#B6E880",
          "size": [
           160,
           190,
           216,
           191,
           213,
           165,
           215,
           202,
           216,
           204,
           150,
           107
          ],
          "sizemode": "area",
          "sizeref": 3.1025,
          "symbol": "diamond"
         },
         "mode": "markers",
         "name": "drill, Pop Smoke",
         "scene": "scene",
         "showlegend": true,
         "type": "scatter3d",
         "x": [
          84,
          83,
          83,
          81,
          81,
          78,
          62,
          61,
          55,
          47,
          44,
          43
         ],
         "y": [
          71,
          82,
          55,
          91,
          48,
          69,
          66,
          50,
          55,
          71,
          65,
          53
         ],
         "z": [
          "drill",
          "drill",
          "drill",
          "drill",
          "drill",
          "drill",
          "drill",
          "drill",
          "drill",
          "drill",
          "drill",
          "drill"
         ]
        },
        {
         "hovertemplate": "top genre=%{z}<br>artist=SR<br>pop=%{x}<br>dnce=%{y}<br>dur=%{marker.size}<extra></extra>",
         "legendgroup": "drill, SR",
         "marker": {
          "color": "#B6E880",
          "size": [
           167
          ],
          "sizemode": "area",
          "sizeref": 3.1025,
          "symbol": "x"
         },
         "mode": "markers",
         "name": "drill, SR",
         "scene": "scene",
         "showlegend": true,
         "type": "scatter3d",
         "x": [
          72
         ],
         "y": [
          80
         ],
         "z": [
          "drill"
         ]
        },
        {
         "hovertemplate": "top genre=%{z}<br>artist=Lil Durk<br>pop=%{x}<br>dnce=%{y}<br>dur=%{marker.size}<extra></extra>",
         "legendgroup": "drill, Lil Durk",
         "marker": {
          "color": "#B6E880",
          "size": [
           172
          ],
          "sizemode": "area",
          "sizeref": 3.1025,
          "symbol": "circle"
         },
         "mode": "markers",
         "name": "drill, Lil Durk",
         "scene": "scene",
         "showlegend": true,
         "type": "scatter3d",
         "x": [
          72
         ],
         "y": [
          88
         ],
         "z": [
          "drill"
         ]
        },
        {
         "hovertemplate": "top genre=%{z}<br>artist=Sheff G<br>pop=%{x}<br>dnce=%{y}<br>dur=%{marker.size}<extra></extra>",
         "legendgroup": "drill, Sheff G",
         "marker": {
          "color": "#B6E880",
          "size": [
           154
          ],
          "sizemode": "area",
          "sizeref": 3.1025,
          "symbol": "cross"
         },
         "mode": "markers",
         "name": "drill, Sheff G",
         "scene": "scene",
         "showlegend": true,
         "type": "scatter3d",
         "x": [
          71
         ],
         "y": [
          85
         ],
         "z": [
          "drill"
         ]
        },
        {
         "hovertemplate": "top genre=%{z}<br>artist=Fumez The Engineer<br>pop=%{x}<br>dnce=%{y}<br>dur=%{marker.size}<extra></extra>",
         "legendgroup": "drill, Fumez The Engineer",
         "marker": {
          "color": "#B6E880",
          "size": [
           218
          ],
          "sizemode": "area",
          "sizeref": 3.1025,
          "symbol": "square"
         },
         "mode": "markers",
         "name": "drill, Fumez The Engineer",
         "scene": "scene",
         "showlegend": true,
         "type": "scatter3d",
         "x": [
          69
         ],
         "y": [
          87
         ],
         "z": [
          "drill"
         ]
        },
        {
         "hovertemplate": "top genre=%{z}<br>artist=Ben Fero<br>pop=%{x}<br>dnce=%{y}<br>dur=%{marker.size}<extra></extra>",
         "legendgroup": "drill, Ben Fero",
         "marker": {
          "color": "#B6E880",
          "size": [
           173,
           119,
           214,
           178,
           216,
           219,
           227,
           179
          ],
          "sizemode": "area",
          "sizeref": 3.1025,
          "symbol": "x"
         },
         "mode": "markers",
         "name": "drill, Ben Fero",
         "scene": "scene",
         "showlegend": true,
         "type": "scatter3d",
         "x": [
          60,
          58,
          56,
          55,
          53,
          50,
          50,
          48
         ],
         "y": [
          92,
          68,
          94,
          93,
          84,
          89,
          77,
          77
         ],
         "z": [
          "drill",
          "drill",
          "drill",
          "drill",
          "drill",
          "drill",
          "drill",
          "drill"
         ]
        },
        {
         "hovertemplate": "top genre=%{z}<br>artist=BEGE<br>pop=%{x}<br>dnce=%{y}<br>dur=%{marker.size}<extra></extra>",
         "legendgroup": "drill, BEGE",
         "marker": {
          "color": "#B6E880",
          "size": [
           160,
           131,
           118,
           222,
           196,
           207,
           230
          ],
          "sizemode": "area",
          "sizeref": 3.1025,
          "symbol": "cross"
         },
         "mode": "markers",
         "name": "drill, BEGE",
         "scene": "scene",
         "showlegend": true,
         "type": "scatter3d",
         "x": [
          60,
          59,
          53,
          52,
          52,
          48,
          44
         ],
         "y": [
          66,
          84,
          86,
          66,
          69,
          64,
          84
         ],
         "z": [
          "drill",
          "drill",
          "drill",
          "drill",
          "drill",
          "drill",
          "drill"
         ]
        },
        {
         "hovertemplate": "top genre=%{z}<br>artist=Jay Gwuapo<br>pop=%{x}<br>dnce=%{y}<br>dur=%{marker.size}<extra></extra>",
         "legendgroup": "drill, Jay Gwuapo",
         "marker": {
          "color": "#B6E880",
          "size": [
           150
          ],
          "sizemode": "area",
          "sizeref": 3.1025,
          "symbol": "x"
         },
         "mode": "markers",
         "name": "drill, Jay Gwuapo",
         "scene": "scene",
         "showlegend": true,
         "type": "scatter3d",
         "x": [
          55
         ],
         "y": [
          82
         ],
         "z": [
          "drill"
         ]
        },
        {
         "hovertemplate": "top genre=%{z}<br>artist=Ombre2Choc Nation<br>pop=%{x}<br>dnce=%{y}<br>dur=%{marker.size}<extra></extra>",
         "legendgroup": "drill, Ombre2Choc Nation",
         "marker": {
          "color": "#B6E880",
          "size": [
           193
          ],
          "sizemode": "area",
          "sizeref": 3.1025,
          "symbol": "circle"
         },
         "mode": "markers",
         "name": "drill, Ombre2Choc Nation",
         "scene": "scene",
         "showlegend": true,
         "type": "scatter3d",
         "x": [
          50
         ],
         "y": [
          48
         ],
         "z": [
          "drill"
         ]
        },
        {
         "hovertemplate": "top genre=%{z}<br>artist=G4 Boyz<br>pop=%{x}<br>dnce=%{y}<br>dur=%{marker.size}<extra></extra>",
         "legendgroup": "drill, G4 Boyz",
         "marker": {
          "color": "#B6E880",
          "size": [
           219
          ],
          "sizemode": "area",
          "sizeref": 3.1025,
          "symbol": "circle"
         },
         "mode": "markers",
         "name": "drill, G4 Boyz",
         "scene": "scene",
         "showlegend": true,
         "type": "scatter3d",
         "x": [
          49
         ],
         "y": [
          86
         ],
         "z": [
          "drill"
         ]
        },
        {
         "hovertemplate": "top genre=%{z}<br>artist=Casanova<br>pop=%{x}<br>dnce=%{y}<br>dur=%{marker.size}<extra></extra>",
         "legendgroup": "drill, Casanova",
         "marker": {
          "color": "#B6E880",
          "size": [
           157
          ],
          "sizemode": "area",
          "sizeref": 3.1025,
          "symbol": "circle"
         },
         "mode": "markers",
         "name": "drill, Casanova",
         "scene": "scene",
         "showlegend": true,
         "type": "scatter3d",
         "x": [
          46
         ],
         "y": [
          88
         ],
         "z": [
          "drill"
         ]
        },
        {
         "hovertemplate": "top genre=%{z}<br>artist=Yaw Tog<br>pop=%{x}<br>dnce=%{y}<br>dur=%{marker.size}<extra></extra>",
         "legendgroup": "drill, Yaw Tog",
         "marker": {
          "color": "#B6E880",
          "size": [
           253
          ],
          "sizemode": "area",
          "sizeref": 3.1025,
          "symbol": "square"
         },
         "mode": "markers",
         "name": "drill, Yaw Tog",
         "scene": "scene",
         "showlegend": true,
         "type": "scatter3d",
         "x": [
          45
         ],
         "y": [
          68
         ],
         "z": [
          "drill"
         ]
        },
        {
         "hovertemplate": "top genre=%{z}<br>artist=Norsacce Berlusconi<br>pop=%{x}<br>dnce=%{y}<br>dur=%{marker.size}<extra></extra>",
         "legendgroup": "drill, Norsacce Berlusconi",
         "marker": {
          "color": "#B6E880",
          "size": [
           152
          ],
          "sizemode": "area",
          "sizeref": 3.1025,
          "symbol": "x"
         },
         "mode": "markers",
         "name": "drill, Norsacce Berlusconi",
         "scene": "scene",
         "showlegend": true,
         "type": "scatter3d",
         "x": [
          44
         ],
         "y": [
          68
         ],
         "z": [
          "drill"
         ]
        },
        {
         "hovertemplate": "top genre=%{z}<br>artist=MGMT<br>pop=%{x}<br>dnce=%{y}<br>dur=%{marker.size}<extra></extra>",
         "legendgroup": "dance, MGMT",
         "marker": {
          "color": "#FF97FF",
          "size": [
           300,
           303,
           230,
           261
          ],
          "sizemode": "area",
          "sizeref": 3.1025,
          "symbol": "square"
         },
         "mode": "markers",
         "name": "dance, MGMT",
         "scene": "scene",
         "showlegend": true,
         "type": "scatter3d",
         "x": [
          82,
          78,
          77,
          72
         ],
         "y": [
          71,
          45,
          76,
          44
         ],
         "z": [
          "dance",
          "dance",
          "dance",
          "dance"
         ]
        },
        {
         "hovertemplate": "top genre=%{z}<br>artist=Eiffel 65<br>pop=%{x}<br>dnce=%{y}<br>dur=%{marker.size}<extra></extra>",
         "legendgroup": "dance, Eiffel 65",
         "marker": {
          "color": "#FF97FF",
          "size": [
           284
          ],
          "sizemode": "area",
          "sizeref": 3.1025,
          "symbol": "circle"
         },
         "mode": "markers",
         "name": "dance, Eiffel 65",
         "scene": "scene",
         "showlegend": true,
         "type": "scatter3d",
         "x": [
          76
         ],
         "y": [
          82
         ],
         "z": [
          "dance"
         ]
        },
        {
         "hovertemplate": "top genre=%{z}<br>artist=Peter Bjorn and John<br>pop=%{x}<br>dnce=%{y}<br>dur=%{marker.size}<extra></extra>",
         "legendgroup": "dance, Peter Bjorn and John",
         "marker": {
          "color": "#FF97FF",
          "size": [
           277,
           177
          ],
          "sizemode": "area",
          "sizeref": 3.1025,
          "symbol": "diamond"
         },
         "mode": "markers",
         "name": "dance, Peter Bjorn and John",
         "scene": "scene",
         "showlegend": true,
         "type": "scatter3d",
         "x": [
          75,
          41
         ],
         "y": [
          70,
          71
         ],
         "z": [
          "dance",
          "dance"
         ]
        },
        {
         "hovertemplate": "top genre=%{z}<br>artist=Sia<br>pop=%{x}<br>dnce=%{y}<br>dur=%{marker.size}<extra></extra>",
         "legendgroup": "dance, Sia",
         "marker": {
          "color": "#FF97FF",
          "size": [
           214
          ],
          "sizemode": "area",
          "sizeref": 3.1025,
          "symbol": "x"
         },
         "mode": "markers",
         "name": "dance, Sia",
         "scene": "scene",
         "showlegend": true,
         "type": "scatter3d",
         "x": [
          75
         ],
         "y": [
          60
         ],
         "z": [
          "dance"
         ]
        },
        {
         "hovertemplate": "top genre=%{z}<br>artist=Le Tigre<br>pop=%{x}<br>dnce=%{y}<br>dur=%{marker.size}<extra></extra>",
         "legendgroup": "dance, Le Tigre",
         "marker": {
          "color": "#FF97FF",
          "size": [
           185
          ],
          "sizemode": "area",
          "sizeref": 3.1025,
          "symbol": "circle"
         },
         "mode": "markers",
         "name": "dance, Le Tigre",
         "scene": "scene",
         "showlegend": true,
         "type": "scatter3d",
         "x": [
          73
         ],
         "y": [
          60
         ],
         "z": [
          "dance"
         ]
        },
        {
         "hovertemplate": "top genre=%{z}<br>artist=Two Door Cinema Club<br>pop=%{x}<br>dnce=%{y}<br>dur=%{marker.size}<extra></extra>",
         "legendgroup": "dance, Two Door Cinema Club",
         "marker": {
          "color": "#FF97FF",
          "size": [
           190,
           167,
           163,
           188,
           176,
           231,
           223,
           236,
           214,
           298,
           236,
           208,
           226,
           249,
           190,
           167,
           214,
           163,
           224,
           176,
           210,
           184,
           203,
           225,
           208,
           191,
           204,
           165,
           507,
           223,
           303,
           294,
           263,
           262,
           398,
           176,
           307
          ],
          "sizemode": "area",
          "sizeref": 3.1025,
          "symbol": "cross"
         },
         "mode": "markers",
         "name": "dance, Two Door Cinema Club",
         "scene": "scene",
         "showlegend": true,
         "type": "scatter3d",
         "x": [
          72,
          67,
          62,
          59,
          57,
          55,
          55,
          54,
          47,
          47,
          45,
          42,
          39,
          37,
          36,
          36,
          36,
          35,
          34,
          34,
          34,
          34,
          33,
          32,
          32,
          31,
          27,
          25,
          24,
          21,
          21,
          21,
          20,
          20,
          20,
          20,
          18
         ],
         "y": [
          55,
          45,
          65,
          65,
          47,
          60,
          54,
          52,
          46,
          63,
          83,
          52,
          52,
          65,
          55,
          44,
          46,
          65,
          51,
          47,
          46,
          54,
          60,
          64,
          52,
          61,
          67,
          42,
          78,
          86,
          79,
          68,
          69,
          49,
          72,
          58,
          76
         ],
         "z": [
          "dance",
          "dance",
          "dance",
          "dance",
          "dance",
          "dance",
          "dance",
          "dance",
          "dance",
          "dance",
          "dance",
          "dance",
          "dance",
          "dance",
          "dance",
          "dance",
          "dance",
          "dance",
          "dance",
          "dance",
          "dance",
          "dance",
          "dance",
          "dance",
          "dance",
          "dance",
          "dance",
          "dance",
          "dance",
          "dance",
          "dance",
          "dance",
          "dance",
          "dance",
          "dance",
          "dance",
          "dance"
         ]
        },
        {
         "hovertemplate": "top genre=%{z}<br>artist=Haddaway<br>pop=%{x}<br>dnce=%{y}<br>dur=%{marker.size}<extra></extra>",
         "legendgroup": "dance, Haddaway",
         "marker": {
          "color": "#FF97FF",
          "size": [
           270
          ],
          "sizemode": "area",
          "sizeref": 3.1025,
          "symbol": "x"
         },
         "mode": "markers",
         "name": "dance, Haddaway",
         "scene": "scene",
         "showlegend": true,
         "type": "scatter3d",
         "x": [
          71
         ],
         "y": [
          68
         ],
         "z": [
          "dance"
         ]
        },
        {
         "hovertemplate": "top genre=%{z}<br>artist=Passion Pit<br>pop=%{x}<br>dnce=%{y}<br>dur=%{marker.size}<extra></extra>",
         "legendgroup": "dance, Passion Pit",
         "marker": {
          "color": "#FF97FF",
          "size": [
           264,
           262
          ],
          "sizemode": "area",
          "sizeref": 3.1025,
          "symbol": "square"
         },
         "mode": "markers",
         "name": "dance, Passion Pit",
         "scene": "scene",
         "showlegend": true,
         "type": "scatter3d",
         "x": [
          70,
          43
         ],
         "y": [
          57,
          52
         ],
         "z": [
          "dance",
          "dance"
         ]
        },
        {
         "hovertemplate": "top genre=%{z}<br>artist=Bag Raiders<br>pop=%{x}<br>dnce=%{y}<br>dur=%{marker.size}<extra></extra>",
         "legendgroup": "dance, Bag Raiders",
         "marker": {
          "color": "#FF97FF",
          "size": [
           236
          ],
          "sizemode": "area",
          "sizeref": 3.1025,
          "symbol": "circle"
         },
         "mode": "markers",
         "name": "dance, Bag Raiders",
         "scene": "scene",
         "showlegend": true,
         "type": "scatter3d",
         "x": [
          69
         ],
         "y": [
          64
         ],
         "z": [
          "dance"
         ]
        },
        {
         "hovertemplate": "top genre=%{z}<br>artist=Flume<br>pop=%{x}<br>dnce=%{y}<br>dur=%{marker.size}<extra></extra>",
         "legendgroup": "dance, Flume",
         "marker": {
          "color": "#FF97FF",
          "size": [
           222,
           232,
           233,
           263,
           254,
           154,
           237,
           231,
           194,
           254,
           241,
           308,
           214,
           105,
           209,
           210,
           217,
           226,
           329,
           134,
           89,
           136,
           144,
           237,
           217,
           210,
           99,
           378,
           308,
           250,
           202,
           189,
           155,
           228,
           194,
           246,
           185,
           150,
           278,
           147,
           177,
           147,
           176,
           116,
           133
          ],
          "sizemode": "area",
          "sizeref": 3.1025,
          "symbol": "diamond"
         },
         "mode": "markers",
         "name": "dance, Flume",
         "scene": "scene",
         "showlegend": true,
         "type": "scatter3d",
         "x": [
          68,
          66,
          63,
          58,
          56,
          53,
          51,
          50,
          50,
          48,
          47,
          47,
          46,
          46,
          46,
          43,
          43,
          42,
          42,
          41,
          41,
          40,
          40,
          39,
          39,
          38,
          38,
          37,
          37,
          36,
          36,
          35,
          34,
          33,
          33,
          32,
          32,
          32,
          32,
          31,
          31,
          30,
          30,
          29,
          29
         ],
         "y": [
          56,
          57,
          56,
          60,
          73,
          43,
          66,
          53,
          46,
          65,
          74,
          63,
          35,
          54,
          53,
          49,
          55,
          61,
          40,
          30,
          82,
          59,
          54,
          53,
          58,
          48,
          64,
          39,
          60,
          47,
          52,
          54,
          67,
          54,
          35,
          55,
          34,
          65,
          31,
          58,
          48,
          17,
          42,
          47,
          70
         ],
         "z": [
          "dance",
          "dance",
          "dance",
          "dance",
          "dance",
          "dance",
          "dance",
          "dance",
          "dance",
          "dance",
          "dance",
          "dance",
          "dance",
          "dance",
          "dance",
          "dance",
          "dance",
          "dance",
          "dance",
          "dance",
          "dance",
          "dance",
          "dance",
          "dance",
          "dance",
          "dance",
          "dance",
          "dance",
          "dance",
          "dance",
          "dance",
          "dance",
          "dance",
          "dance",
          "dance",
          "dance",
          "dance",
          "dance",
          "dance",
          "dance",
          "dance",
          "dance",
          "dance",
          "dance",
          "dance"
         ]
        },
        {
         "hovertemplate": "top genre=%{z}<br>artist=Foals<br>pop=%{x}<br>dnce=%{y}<br>dur=%{marker.size}<extra></extra>",
         "legendgroup": "dance, Foals",
         "marker": {
          "color": "#FF97FF",
          "size": [
           239
          ],
          "sizemode": "area",
          "sizeref": 3.1025,
          "symbol": "diamond"
         },
         "mode": "markers",
         "name": "dance, Foals",
         "scene": "scene",
         "showlegend": true,
         "type": "scatter3d",
         "x": [
          68
         ],
         "y": [
          64
         ],
         "z": [
          "dance"
         ]
        },
        {
         "hovertemplate": "top genre=%{z}<br>artist=Yeah Yeah Yeahs<br>pop=%{x}<br>dnce=%{y}<br>dur=%{marker.size}<extra></extra>",
         "legendgroup": "dance, Yeah Yeah Yeahs",
         "marker": {
          "color": "#FF97FF",
          "size": [
           384
          ],
          "sizemode": "area",
          "sizeref": 3.1025,
          "symbol": "x"
         },
         "mode": "markers",
         "name": "dance, Yeah Yeah Yeahs",
         "scene": "scene",
         "showlegend": true,
         "type": "scatter3d",
         "x": [
          68
         ],
         "y": [
          74
         ],
         "z": [
          "dance"
         ]
        },
        {
         "hovertemplate": "top genre=%{z}<br>artist=Klaxons<br>pop=%{x}<br>dnce=%{y}<br>dur=%{marker.size}<extra></extra>",
         "legendgroup": "dance, Klaxons",
         "marker": {
          "color": "#FF97FF",
          "size": [
           165
          ],
          "sizemode": "area",
          "sizeref": 3.1025,
          "symbol": "diamond"
         },
         "mode": "markers",
         "name": "dance, Klaxons",
         "scene": "scene",
         "showlegend": true,
         "type": "scatter3d",
         "x": [
          67
         ],
         "y": [
          46
         ],
         "z": [
          "dance"
         ]
        },
        {
         "hovertemplate": "top genre=%{z}<br>artist=Phoenix<br>pop=%{x}<br>dnce=%{y}<br>dur=%{marker.size}<extra></extra>",
         "legendgroup": "dance, Phoenix",
         "marker": {
          "color": "#FF97FF",
          "size": [
           267,
           242,
           193
          ],
          "sizemode": "area",
          "sizeref": 3.1025,
          "symbol": "x"
         },
         "mode": "markers",
         "name": "dance, Phoenix",
         "scene": "scene",
         "showlegend": true,
         "type": "scatter3d",
         "x": [
          65,
          65,
          64
         ],
         "y": [
          76,
          64,
          61
         ],
         "z": [
          "dance",
          "dance",
          "dance"
         ]
        },
        {
         "hovertemplate": "top genre=%{z}<br>artist=Empire of the Sun<br>pop=%{x}<br>dnce=%{y}<br>dur=%{marker.size}<extra></extra>",
         "legendgroup": "dance, Empire of the Sun",
         "marker": {
          "color": "#FF97FF",
          "size": [
           205,
           198,
           225
          ],
          "sizemode": "area",
          "sizeref": 3.1025,
          "symbol": "square"
         },
         "mode": "markers",
         "name": "dance, Empire of the Sun",
         "scene": "scene",
         "showlegend": true,
         "type": "scatter3d",
         "x": [
          64,
          60,
          58
         ],
         "y": [
          52,
          87,
          51
         ],
         "z": [
          "dance",
          "dance",
          "dance"
         ]
        },
        {
         "hovertemplate": "top genre=%{z}<br>artist=LCD Soundsystem<br>pop=%{x}<br>dnce=%{y}<br>dur=%{marker.size}<extra></extra>",
         "legendgroup": "dance, LCD Soundsystem",
         "marker": {
          "color": "#FF97FF",
          "size": [
           536,
           315,
           315
          ],
          "sizemode": "area",
          "sizeref": 3.1025,
          "symbol": "x"
         },
         "mode": "markers",
         "name": "dance, LCD Soundsystem",
         "scene": "scene",
         "showlegend": true,
         "type": "scatter3d",
         "x": [
          63,
          60,
          26
         ],
         "y": [
          74,
          92,
          92
         ],
         "z": [
          "dance",
          "dance",
          "dance"
         ]
        },
        {
         "hovertemplate": "top genre=%{z}<br>artist=Knife Party<br>pop=%{x}<br>dnce=%{y}<br>dur=%{marker.size}<extra></extra>",
         "legendgroup": "dance, Knife Party",
         "marker": {
          "color": "#FF97FF",
          "size": [
           272
          ],
          "sizemode": "area",
          "sizeref": 3.1025,
          "symbol": "x"
         },
         "mode": "markers",
         "name": "dance, Knife Party",
         "scene": "scene",
         "showlegend": true,
         "type": "scatter3d",
         "x": [
          62
         ],
         "y": [
          54
         ],
         "z": [
          "dance"
         ]
        },
        {
         "hovertemplate": "top genre=%{z}<br>artist=Lemaitre<br>pop=%{x}<br>dnce=%{y}<br>dur=%{marker.size}<extra></extra>",
         "legendgroup": "dance, Lemaitre",
         "marker": {
          "color": "#FF97FF",
          "size": [
           271
          ],
          "sizemode": "area",
          "sizeref": 3.1025,
          "symbol": "square"
         },
         "mode": "markers",
         "name": "dance, Lemaitre",
         "scene": "scene",
         "showlegend": true,
         "type": "scatter3d",
         "x": [
          61
         ],
         "y": [
          58
         ],
         "z": [
          "dance"
         ]
        },
        {
         "hovertemplate": "top genre=%{z}<br>artist=Crystal Castles<br>pop=%{x}<br>dnce=%{y}<br>dur=%{marker.size}<extra></extra>",
         "legendgroup": "dance, Crystal Castles",
         "marker": {
          "color": "#FF97FF",
          "size": [
           227
          ],
          "sizemode": "area",
          "sizeref": 3.1025,
          "symbol": "diamond"
         },
         "mode": "markers",
         "name": "dance, Crystal Castles",
         "scene": "scene",
         "showlegend": true,
         "type": "scatter3d",
         "x": [
          61
         ],
         "y": [
          48
         ],
         "z": [
          "dance"
         ]
        },
        {
         "hovertemplate": "top genre=%{z}<br>artist=Fox Stevenson<br>pop=%{x}<br>dnce=%{y}<br>dur=%{marker.size}<extra></extra>",
         "legendgroup": "dance, Fox Stevenson",
         "marker": {
          "color": "#FF97FF",
          "size": [
           221
          ],
          "sizemode": "area",
          "sizeref": 3.1025,
          "symbol": "square"
         },
         "mode": "markers",
         "name": "dance, Fox Stevenson",
         "scene": "scene",
         "showlegend": true,
         "type": "scatter3d",
         "x": [
          60
         ],
         "y": [
          45
         ],
         "z": [
          "dance"
         ]
        },
        {
         "hovertemplate": "top genre=%{z}<br>artist=Roosevelt<br>pop=%{x}<br>dnce=%{y}<br>dur=%{marker.size}<extra></extra>",
         "legendgroup": "dance, Roosevelt",
         "marker": {
          "color": "#FF97FF",
          "size": [
           236
          ],
          "sizemode": "area",
          "sizeref": 3.1025,
          "symbol": "cross"
         },
         "mode": "markers",
         "name": "dance, Roosevelt",
         "scene": "scene",
         "showlegend": true,
         "type": "scatter3d",
         "x": [
          59
         ],
         "y": [
          67
         ],
         "z": [
          "dance"
         ]
        },
        {
         "hovertemplate": "top genre=%{z}<br>artist=Bloc Party<br>pop=%{x}<br>dnce=%{y}<br>dur=%{marker.size}<extra></extra>",
         "legendgroup": "dance, Bloc Party",
         "marker": {
          "color": "#FF97FF",
          "size": [
           220,
           198
          ],
          "sizemode": "area",
          "sizeref": 3.1025,
          "symbol": "circle"
         },
         "mode": "markers",
         "name": "dance, Bloc Party",
         "scene": "scene",
         "showlegend": true,
         "type": "scatter3d",
         "x": [
          59,
          45
         ],
         "y": [
          47,
          74
         ],
         "z": [
          "dance",
          "dance"
         ]
        },
        {
         "hovertemplate": "top genre=%{z}<br>artist=2 Unlimited<br>pop=%{x}<br>dnce=%{y}<br>dur=%{marker.size}<extra></extra>",
         "legendgroup": "dance, 2 Unlimited",
         "marker": {
          "color": "#FF97FF",
          "size": [
           223
          ],
          "sizemode": "area",
          "sizeref": 3.1025,
          "symbol": "square"
         },
         "mode": "markers",
         "name": "dance, 2 Unlimited",
         "scene": "scene",
         "showlegend": true,
         "type": "scatter3d",
         "x": [
          59
         ],
         "y": [
          77
         ],
         "z": [
          "dance"
         ]
        },
        {
         "hovertemplate": "top genre=%{z}<br>artist=Caribou<br>pop=%{x}<br>dnce=%{y}<br>dur=%{marker.size}<extra></extra>",
         "legendgroup": "dance, Caribou",
         "marker": {
          "color": "#FF97FF",
          "size": [
           315
          ],
          "sizemode": "area",
          "sizeref": 3.1025,
          "symbol": "x"
         },
         "mode": "markers",
         "name": "dance, Caribou",
         "scene": "scene",
         "showlegend": true,
         "type": "scatter3d",
         "x": [
          58
         ],
         "y": [
          69
         ],
         "z": [
          "dance"
         ]
        },
        {
         "hovertemplate": "top genre=%{z}<br>artist=Pendulum<br>pop=%{x}<br>dnce=%{y}<br>dur=%{marker.size}<extra></extra>",
         "legendgroup": "dance, Pendulum",
         "marker": {
          "color": "#FF97FF",
          "size": [
           304,
           320
          ],
          "sizemode": "area",
          "sizeref": 3.1025,
          "symbol": "square"
         },
         "mode": "markers",
         "name": "dance, Pendulum",
         "scene": "scene",
         "showlegend": true,
         "type": "scatter3d",
         "x": [
          58,
          56
         ],
         "y": [
          42,
          58
         ],
         "z": [
          "dance",
          "dance"
         ]
        },
        {
         "hovertemplate": "top genre=%{z}<br>artist=Hermitude<br>pop=%{x}<br>dnce=%{y}<br>dur=%{marker.size}<extra></extra>",
         "legendgroup": "dance, Hermitude",
         "marker": {
          "color": "#FF97FF",
          "size": [
           268,
           290
          ],
          "sizemode": "area",
          "sizeref": 3.1025,
          "symbol": "diamond"
         },
         "mode": "markers",
         "name": "dance, Hermitude",
         "scene": "scene",
         "showlegend": true,
         "type": "scatter3d",
         "x": [
          56,
          48
         ],
         "y": [
          60,
          49
         ],
         "z": [
          "dance",
          "dance"
         ]
        },
        {
         "hovertemplate": "top genre=%{z}<br>artist=Digitalism<br>pop=%{x}<br>dnce=%{y}<br>dur=%{marker.size}<extra></extra>",
         "legendgroup": "dance, Digitalism",
         "marker": {
          "color": "#FF97FF",
          "size": [
           226,
           228
          ],
          "sizemode": "area",
          "sizeref": 3.1025,
          "symbol": "circle"
         },
         "mode": "markers",
         "name": "dance, Digitalism",
         "scene": "scene",
         "showlegend": true,
         "type": "scatter3d",
         "x": [
          56,
          45
         ],
         "y": [
          40,
          45
         ],
         "z": [
          "dance",
          "dance"
         ]
        },
        {
         "hovertemplate": "top genre=%{z}<br>artist=Miike Snow<br>pop=%{x}<br>dnce=%{y}<br>dur=%{marker.size}<extra></extra>",
         "legendgroup": "dance, Miike Snow",
         "marker": {
          "color": "#FF97FF",
          "size": [
           264
          ],
          "sizemode": "area",
          "sizeref": 3.1025,
          "symbol": "diamond"
         },
         "mode": "markers",
         "name": "dance, Miike Snow",
         "scene": "scene",
         "showlegend": true,
         "type": "scatter3d",
         "x": [
          55
         ],
         "y": [
          76
         ],
         "z": [
          "dance"
         ]
        },
        {
         "hovertemplate": "top genre=%{z}<br>artist=Crystal Fighters<br>pop=%{x}<br>dnce=%{y}<br>dur=%{marker.size}<extra></extra>",
         "legendgroup": "dance, Crystal Fighters",
         "marker": {
          "color": "#FF97FF",
          "size": [
           200,
           186,
           180,
           250
          ],
          "sizemode": "area",
          "sizeref": 3.1025,
          "symbol": "x"
         },
         "mode": "markers",
         "name": "dance, Crystal Fighters",
         "scene": "scene",
         "showlegend": true,
         "type": "scatter3d",
         "x": [
          54,
          37,
          34,
          29
         ],
         "y": [
          65,
          61,
          65,
          89
         ],
         "z": [
          "dance",
          "dance",
          "dance",
          "dance"
         ]
        },
        {
         "hovertemplate": "top genre=%{z}<br>artist=Architecture In Helsinki<br>pop=%{x}<br>dnce=%{y}<br>dur=%{marker.size}<extra></extra>",
         "legendgroup": "dance, Architecture In Helsinki",
         "marker": {
          "color": "#FF97FF",
          "size": [
           178
          ],
          "sizemode": "area",
          "sizeref": 3.1025,
          "symbol": "x"
         },
         "mode": "markers",
         "name": "dance, Architecture In Helsinki",
         "scene": "scene",
         "showlegend": true,
         "type": "scatter3d",
         "x": [
          53
         ],
         "y": [
          67
         ],
         "z": [
          "dance"
         ]
        },
        {
         "hovertemplate": "top genre=%{z}<br>artist=Simian Mobile Disco<br>pop=%{x}<br>dnce=%{y}<br>dur=%{marker.size}<extra></extra>",
         "legendgroup": "dance, Simian Mobile Disco",
         "marker": {
          "color": "#FF97FF",
          "size": [
           199
          ],
          "sizemode": "area",
          "sizeref": 3.1025,
          "symbol": "cross"
         },
         "mode": "markers",
         "name": "dance, Simian Mobile Disco",
         "scene": "scene",
         "showlegend": true,
         "type": "scatter3d",
         "x": [
          49
         ],
         "y": [
          66
         ],
         "z": [
          "dance"
         ]
        },
        {
         "hovertemplate": "top genre=%{z}<br>artist=Kovic<br>pop=%{x}<br>dnce=%{y}<br>dur=%{marker.size}<extra></extra>",
         "legendgroup": "dance, Kovic",
         "marker": {
          "color": "#FF97FF",
          "size": [
           188
          ],
          "sizemode": "area",
          "sizeref": 3.1025,
          "symbol": "square"
         },
         "mode": "markers",
         "name": "dance, Kovic",
         "scene": "scene",
         "showlegend": true,
         "type": "scatter3d",
         "x": [
          49
         ],
         "y": [
          71
         ],
         "z": [
          "dance"
         ]
        },
        {
         "hovertemplate": "top genre=%{z}<br>artist=Cut Copy<br>pop=%{x}<br>dnce=%{y}<br>dur=%{marker.size}<extra></extra>",
         "legendgroup": "dance, Cut Copy",
         "marker": {
          "color": "#FF97FF",
          "size": [
           331
          ],
          "sizemode": "area",
          "sizeref": 3.1025,
          "symbol": "cross"
         },
         "mode": "markers",
         "name": "dance, Cut Copy",
         "scene": "scene",
         "showlegend": true,
         "type": "scatter3d",
         "x": [
          48
         ],
         "y": [
          71
         ],
         "z": [
          "dance"
         ]
        },
        {
         "hovertemplate": "top genre=%{z}<br>artist=Bantu<br>pop=%{x}<br>dnce=%{y}<br>dur=%{marker.size}<extra></extra>",
         "legendgroup": "dance, Bantu",
         "marker": {
          "color": "#FF97FF",
          "size": [
           182
          ],
          "sizemode": "area",
          "sizeref": 3.1025,
          "symbol": "circle"
         },
         "mode": "markers",
         "name": "dance, Bantu",
         "scene": "scene",
         "showlegend": true,
         "type": "scatter3d",
         "x": [
          48
         ],
         "y": [
          96
         ],
         "z": [
          "dance"
         ]
        },
        {
         "hovertemplate": "top genre=%{z}<br>artist=Datarock<br>pop=%{x}<br>dnce=%{y}<br>dur=%{marker.size}<extra></extra>",
         "legendgroup": "dance, Datarock",
         "marker": {
          "color": "#FF97FF",
          "size": [
           309,
           168
          ],
          "sizemode": "area",
          "sizeref": 3.1025,
          "symbol": "diamond"
         },
         "mode": "markers",
         "name": "dance, Datarock",
         "scene": "scene",
         "showlegend": true,
         "type": "scatter3d",
         "x": [
          46,
          24
         ],
         "y": [
          72,
          66
         ],
         "z": [
          "dance",
          "dance"
         ]
        },
        {
         "hovertemplate": "top genre=%{z}<br>artist=Röyksopp<br>pop=%{x}<br>dnce=%{y}<br>dur=%{marker.size}<extra></extra>",
         "legendgroup": "dance, Röyksopp",
         "marker": {
          "color": "#FF97FF",
          "size": [
           462,
           232
          ],
          "sizemode": "area",
          "sizeref": 3.1025,
          "symbol": "circle"
         },
         "mode": "markers",
         "name": "dance, Röyksopp",
         "scene": "scene",
         "showlegend": true,
         "type": "scatter3d",
         "x": [
          45,
          27
         ],
         "y": [
          76,
          65
         ],
         "z": [
          "dance",
          "dance"
         ]
        },
        {
         "hovertemplate": "top genre=%{z}<br>artist=The Ting Tings<br>pop=%{x}<br>dnce=%{y}<br>dur=%{marker.size}<extra></extra>",
         "legendgroup": "dance, The Ting Tings",
         "marker": {
          "color": "#FF97FF",
          "size": [
           171,
           212,
           202
          ],
          "sizemode": "area",
          "sizeref": 3.1025,
          "symbol": "diamond"
         },
         "mode": "markers",
         "name": "dance, The Ting Tings",
         "scene": "scene",
         "showlegend": true,
         "type": "scatter3d",
         "x": [
          45,
          31,
          30
         ],
         "y": [
          85,
          80,
          68
         ],
         "z": [
          "dance",
          "dance",
          "dance"
         ]
        },
        {
         "hovertemplate": "top genre=%{z}<br>artist=Yeasayer<br>pop=%{x}<br>dnce=%{y}<br>dur=%{marker.size}<extra></extra>",
         "legendgroup": "dance, Yeasayer",
         "marker": {
          "color": "#FF97FF",
          "size": [
           321
          ],
          "sizemode": "area",
          "sizeref": 3.1025,
          "symbol": "diamond"
         },
         "mode": "markers",
         "name": "dance, Yeasayer",
         "scene": "scene",
         "showlegend": true,
         "type": "scatter3d",
         "x": [
          45
         ],
         "y": [
          60
         ],
         "z": [
          "dance"
         ]
        },
        {
         "hovertemplate": "top genre=%{z}<br>artist=CSS<br>pop=%{x}<br>dnce=%{y}<br>dur=%{marker.size}<extra></extra>",
         "legendgroup": "dance, CSS",
         "marker": {
          "color": "#FF97FF",
          "size": [
           217
          ],
          "sizemode": "area",
          "sizeref": 3.1025,
          "symbol": "square"
         },
         "mode": "markers",
         "name": "dance, CSS",
         "scene": "scene",
         "showlegend": true,
         "type": "scatter3d",
         "x": [
          44
         ],
         "y": [
          56
         ],
         "z": [
          "dance"
         ]
        },
        {
         "hovertemplate": "top genre=%{z}<br>artist=Tensnake<br>pop=%{x}<br>dnce=%{y}<br>dur=%{marker.size}<extra></extra>",
         "legendgroup": "dance, Tensnake",
         "marker": {
          "color": "#FF97FF",
          "size": [
           174
          ],
          "sizemode": "area",
          "sizeref": 3.1025,
          "symbol": "x"
         },
         "mode": "markers",
         "name": "dance, Tensnake",
         "scene": "scene",
         "showlegend": true,
         "type": "scatter3d",
         "x": [
          44
         ],
         "y": [
          83
         ],
         "z": [
          "dance"
         ]
        },
        {
         "hovertemplate": "top genre=%{z}<br>artist=The Rapture<br>pop=%{x}<br>dnce=%{y}<br>dur=%{marker.size}<extra></extra>",
         "legendgroup": "dance, The Rapture",
         "marker": {
          "color": "#FF97FF",
          "size": [
           279
          ],
          "sizemode": "area",
          "sizeref": 3.1025,
          "symbol": "circle"
         },
         "mode": "markers",
         "name": "dance, The Rapture",
         "scene": "scene",
         "showlegend": true,
         "type": "scatter3d",
         "x": [
          44
         ],
         "y": [
          74
         ],
         "z": [
          "dance"
         ]
        },
        {
         "hovertemplate": "top genre=%{z}<br>artist=Oliver<br>pop=%{x}<br>dnce=%{y}<br>dur=%{marker.size}<extra></extra>",
         "legendgroup": "dance, Oliver",
         "marker": {
          "color": "#FF97FF",
          "size": [
           282
          ],
          "sizemode": "area",
          "sizeref": 3.1025,
          "symbol": "diamond"
         },
         "mode": "markers",
         "name": "dance, Oliver",
         "scene": "scene",
         "showlegend": true,
         "type": "scatter3d",
         "x": [
          44
         ],
         "y": [
          42
         ],
         "z": [
          "dance"
         ]
        },
        {
         "hovertemplate": "top genre=%{z}<br>artist=Vitalic<br>pop=%{x}<br>dnce=%{y}<br>dur=%{marker.size}<extra></extra>",
         "legendgroup": "dance, Vitalic",
         "marker": {
          "color": "#FF97FF",
          "size": [
           217
          ],
          "sizemode": "area",
          "sizeref": 3.1025,
          "symbol": "cross"
         },
         "mode": "markers",
         "name": "dance, Vitalic",
         "scene": "scene",
         "showlegend": true,
         "type": "scatter3d",
         "x": [
          43
         ],
         "y": [
          60
         ],
         "z": [
          "dance"
         ]
        },
        {
         "hovertemplate": "top genre=%{z}<br>artist=Arcade Fire<br>pop=%{x}<br>dnce=%{y}<br>dur=%{marker.size}<extra></extra>",
         "legendgroup": "dance, Arcade Fire",
         "marker": {
          "color": "#FF97FF",
          "size": [
           362
          ],
          "sizemode": "area",
          "sizeref": 3.1025,
          "symbol": "square"
         },
         "mode": "markers",
         "name": "dance, Arcade Fire",
         "scene": "scene",
         "showlegend": true,
         "type": "scatter3d",
         "x": [
          42
         ],
         "y": [
          69
         ],
         "z": [
          "dance"
         ]
        },
        {
         "hovertemplate": "top genre=%{z}<br>artist=Death From Above 1979<br>pop=%{x}<br>dnce=%{y}<br>dur=%{marker.size}<extra></extra>",
         "legendgroup": "dance, Death From Above 1979",
         "marker": {
          "color": "#FF97FF",
          "size": [
           171
          ],
          "sizemode": "area",
          "sizeref": 3.1025,
          "symbol": "cross"
         },
         "mode": "markers",
         "name": "dance, Death From Above 1979",
         "scene": "scene",
         "showlegend": true,
         "type": "scatter3d",
         "x": [
          41
         ],
         "y": [
          42
         ],
         "z": [
          "dance"
         ]
        },
        {
         "hovertemplate": "top genre=%{z}<br>artist=Miami Horror<br>pop=%{x}<br>dnce=%{y}<br>dur=%{marker.size}<extra></extra>",
         "legendgroup": "dance, Miami Horror",
         "marker": {
          "color": "#FF97FF",
          "size": [
           342
          ],
          "sizemode": "area",
          "sizeref": 3.1025,
          "symbol": "square"
         },
         "mode": "markers",
         "name": "dance, Miami Horror",
         "scene": "scene",
         "showlegend": true,
         "type": "scatter3d",
         "x": [
          41
         ],
         "y": [
          40
         ],
         "z": [
          "dance"
         ]
        },
        {
         "hovertemplate": "top genre=%{z}<br>artist=Ray Noble & His Orchestra<br>pop=%{x}<br>dnce=%{y}<br>dur=%{marker.size}<extra></extra>",
         "legendgroup": "dance, Ray Noble & His Orchestra",
         "marker": {
          "color": "#FF97FF",
          "size": [
           206
          ],
          "sizemode": "area",
          "sizeref": 3.1025,
          "symbol": "diamond"
         },
         "mode": "markers",
         "name": "dance, Ray Noble & His Orchestra",
         "scene": "scene",
         "showlegend": true,
         "type": "scatter3d",
         "x": [
          39
         ],
         "y": [
          43
         ],
         "z": [
          "dance"
         ]
        },
        {
         "hovertemplate": "top genre=%{z}<br>artist=Nic & The Family<br>pop=%{x}<br>dnce=%{y}<br>dur=%{marker.size}<extra></extra>",
         "legendgroup": "dance, Nic & The Family",
         "marker": {
          "color": "#FF97FF",
          "size": [
           147,
           147
          ],
          "sizemode": "area",
          "sizeref": 3.1025,
          "symbol": "circle"
         },
         "mode": "markers",
         "name": "dance, Nic & The Family",
         "scene": "scene",
         "showlegend": true,
         "type": "scatter3d",
         "x": [
          39,
          20
         ],
         "y": [
          74,
          74
         ],
         "z": [
          "dance",
          "dance"
         ]
        },
        {
         "hovertemplate": "top genre=%{z}<br>artist=Buju Banton<br>pop=%{x}<br>dnce=%{y}<br>dur=%{marker.size}<extra></extra>",
         "legendgroup": "dance, Buju Banton",
         "marker": {
          "color": "#FF97FF",
          "size": [
           226
          ],
          "sizemode": "area",
          "sizeref": 3.1025,
          "symbol": "diamond"
         },
         "mode": "markers",
         "name": "dance, Buju Banton",
         "scene": "scene",
         "showlegend": true,
         "type": "scatter3d",
         "x": [
          39
         ],
         "y": [
          50
         ],
         "z": [
          "dance"
         ]
        },
        {
         "hovertemplate": "top genre=%{z}<br>artist=Metric<br>pop=%{x}<br>dnce=%{y}<br>dur=%{marker.size}<extra></extra>",
         "legendgroup": "dance, Metric",
         "marker": {
          "color": "#FF97FF",
          "size": [
           223
          ],
          "sizemode": "area",
          "sizeref": 3.1025,
          "symbol": "circle"
         },
         "mode": "markers",
         "name": "dance, Metric",
         "scene": "scene",
         "showlegend": true,
         "type": "scatter3d",
         "x": [
          37
         ],
         "y": [
          47
         ],
         "z": [
          "dance"
         ]
        },
        {
         "hovertemplate": "top genre=%{z}<br>artist=Metronomy<br>pop=%{x}<br>dnce=%{y}<br>dur=%{marker.size}<extra></extra>",
         "legendgroup": "dance, Metronomy",
         "marker": {
          "color": "#FF97FF",
          "size": [
           285
          ],
          "sizemode": "area",
          "sizeref": 3.1025,
          "symbol": "diamond"
         },
         "mode": "markers",
         "name": "dance, Metronomy",
         "scene": "scene",
         "showlegend": true,
         "type": "scatter3d",
         "x": [
          35
         ],
         "y": [
          75
         ],
         "z": [
          "dance"
         ]
        },
        {
         "hovertemplate": "top genre=%{z}<br>artist=Ladytron<br>pop=%{x}<br>dnce=%{y}<br>dur=%{marker.size}<extra></extra>",
         "legendgroup": "dance, Ladytron",
         "marker": {
          "color": "#FF97FF",
          "size": [
           217,
           217
          ],
          "sizemode": "area",
          "sizeref": 3.1025,
          "symbol": "square"
         },
         "mode": "markers",
         "name": "dance, Ladytron",
         "scene": "scene",
         "showlegend": true,
         "type": "scatter3d",
         "x": [
          34,
          31
         ],
         "y": [
          50,
          50
         ],
         "z": [
          "dance",
          "dance"
         ]
        },
        {
         "hovertemplate": "top genre=%{z}<br>artist=Turner Layton<br>pop=%{x}<br>dnce=%{y}<br>dur=%{marker.size}<extra></extra>",
         "legendgroup": "dance, Turner Layton",
         "marker": {
          "color": "#FF97FF",
          "size": [
           168,
           193,
           163
          ],
          "sizemode": "area",
          "sizeref": 3.1025,
          "symbol": "cross"
         },
         "mode": "markers",
         "name": "dance, Turner Layton",
         "scene": "scene",
         "showlegend": true,
         "type": "scatter3d",
         "x": [
          31,
          31,
          4
         ],
         "y": [
          67,
          58,
          66
         ],
         "z": [
          "dance",
          "dance",
          "dance"
         ]
        },
        {
         "hovertemplate": "top genre=%{z}<br>artist=Roy Fox<br>pop=%{x}<br>dnce=%{y}<br>dur=%{marker.size}<extra></extra>",
         "legendgroup": "dance, Roy Fox",
         "marker": {
          "color": "#FF97FF",
          "size": [
           193,
           181
          ],
          "sizemode": "area",
          "sizeref": 3.1025,
          "symbol": "circle"
         },
         "mode": "markers",
         "name": "dance, Roy Fox",
         "scene": "scene",
         "showlegend": true,
         "type": "scatter3d",
         "x": [
          31,
          13
         ],
         "y": [
          49,
          69
         ],
         "z": [
          "dance",
          "dance"
         ]
        },
        {
         "hovertemplate": "top genre=%{z}<br>artist=Yolanda Be Cool<br>pop=%{x}<br>dnce=%{y}<br>dur=%{marker.size}<extra></extra>",
         "legendgroup": "dance, Yolanda Be Cool",
         "marker": {
          "color": "#FF97FF",
          "size": [
           211
          ],
          "sizemode": "area",
          "sizeref": 3.1025,
          "symbol": "cross"
         },
         "mode": "markers",
         "name": "dance, Yolanda Be Cool",
         "scene": "scene",
         "showlegend": true,
         "type": "scatter3d",
         "x": [
          30
         ],
         "y": [
          65
         ],
         "z": [
          "dance"
         ]
        },
        {
         "hovertemplate": "top genre=%{z}<br>artist=We Are Scientists<br>pop=%{x}<br>dnce=%{y}<br>dur=%{marker.size}<extra></extra>",
         "legendgroup": "dance, We Are Scientists",
         "marker": {
          "color": "#FF97FF",
          "size": [
           137
          ],
          "sizemode": "area",
          "sizeref": 3.1025,
          "symbol": "cross"
         },
         "mode": "markers",
         "name": "dance, We Are Scientists",
         "scene": "scene",
         "showlegend": true,
         "type": "scatter3d",
         "x": [
          29
         ],
         "y": [
          53
         ],
         "z": [
          "dance"
         ]
        },
        {
         "hovertemplate": "top genre=%{z}<br>artist=Black Kids<br>pop=%{x}<br>dnce=%{y}<br>dur=%{marker.size}<extra></extra>",
         "legendgroup": "dance, Black Kids",
         "marker": {
          "color": "#FF97FF",
          "size": [
           227
          ],
          "sizemode": "area",
          "sizeref": 3.1025,
          "symbol": "circle"
         },
         "mode": "markers",
         "name": "dance, Black Kids",
         "scene": "scene",
         "showlegend": true,
         "type": "scatter3d",
         "x": [
          29
         ],
         "y": [
          74
         ],
         "z": [
          "dance"
         ]
        },
        {
         "hovertemplate": "top genre=%{z}<br>artist=Lew Stone & His Band<br>pop=%{x}<br>dnce=%{y}<br>dur=%{marker.size}<extra></extra>",
         "legendgroup": "dance, Lew Stone & His Band",
         "marker": {
          "color": "#FF97FF",
          "size": [
           190
          ],
          "sizemode": "area",
          "sizeref": 3.1025,
          "symbol": "circle"
         },
         "mode": "markers",
         "name": "dance, Lew Stone & His Band",
         "scene": "scene",
         "showlegend": true,
         "type": "scatter3d",
         "x": [
          27
         ],
         "y": [
          61
         ],
         "z": [
          "dance"
         ]
        },
        {
         "hovertemplate": "top genre=%{z}<br>artist=Soulwax<br>pop=%{x}<br>dnce=%{y}<br>dur=%{marker.size}<extra></extra>",
         "legendgroup": "dance, Soulwax",
         "marker": {
          "color": "#FF97FF",
          "size": [
           181
          ],
          "sizemode": "area",
          "sizeref": 3.1025,
          "symbol": "diamond"
         },
         "mode": "markers",
         "name": "dance, Soulwax",
         "scene": "scene",
         "showlegend": true,
         "type": "scatter3d",
         "x": [
          27
         ],
         "y": [
          48
         ],
         "z": [
          "dance"
         ]
        },
        {
         "hovertemplate": "top genre=%{z}<br>artist=VASSY<br>pop=%{x}<br>dnce=%{y}<br>dur=%{marker.size}<extra></extra>",
         "legendgroup": "dance, VASSY",
         "marker": {
          "color": "#FF97FF",
          "size": [
           210
          ],
          "sizemode": "area",
          "sizeref": 3.1025,
          "symbol": "square"
         },
         "mode": "markers",
         "name": "dance, VASSY",
         "scene": "scene",
         "showlegend": true,
         "type": "scatter3d",
         "x": [
          15
         ],
         "y": [
          77
         ],
         "z": [
          "dance"
         ]
        },
        {
         "hovertemplate": "top genre=%{z}<br>artist=MAGIC!<br>pop=%{x}<br>dnce=%{y}<br>dur=%{marker.size}<extra></extra>",
         "legendgroup": "reggae, MAGIC!",
         "marker": {
          "color": "#FECB52",
          "size": [
           225
          ],
          "sizemode": "area",
          "sizeref": 3.1025,
          "symbol": "circle"
         },
         "mode": "markers",
         "name": "reggae, MAGIC!",
         "scene": "scene",
         "showlegend": true,
         "type": "scatter3d",
         "x": [
          80
         ],
         "y": [
          77
         ],
         "z": [
          "reggae"
         ]
        },
        {
         "hovertemplate": "top genre=%{z}<br>artist=Damian Marley<br>pop=%{x}<br>dnce=%{y}<br>dur=%{marker.size}<extra></extra>",
         "legendgroup": "reggae, Damian Marley",
         "marker": {
          "color": "#FECB52",
          "size": [
           214
          ],
          "sizemode": "area",
          "sizeref": 3.1025,
          "symbol": "cross"
         },
         "mode": "markers",
         "name": "reggae, Damian Marley",
         "scene": "scene",
         "showlegend": true,
         "type": "scatter3d",
         "x": [
          45
         ],
         "y": [
          83
         ],
         "z": [
          "reggae"
         ]
        },
        {
         "hovertemplate": "top genre=%{z}<br>artist=J Balvin<br>pop=%{x}<br>dnce=%{y}<br>dur=%{marker.size}<extra></extra>",
         "legendgroup": "latin, J Balvin",
         "marker": {
          "color": "#636efa",
          "size": [
           131
          ],
          "sizemode": "area",
          "sizeref": 3.1025,
          "symbol": "square"
         },
         "mode": "markers",
         "name": "latin, J Balvin",
         "scene": "scene",
         "showlegend": true,
         "type": "scatter3d",
         "x": [
          79
         ],
         "y": [
          92
         ],
         "z": [
          "latin"
         ]
        },
        {
         "hovertemplate": "top genre=%{z}<br>artist=Los Retros<br>pop=%{x}<br>dnce=%{y}<br>dur=%{marker.size}<extra></extra>",
         "legendgroup": "latin, Los Retros",
         "marker": {
          "color": "#636efa",
          "size": [
           174
          ],
          "sizemode": "area",
          "sizeref": 3.1025,
          "symbol": "circle"
         },
         "mode": "markers",
         "name": "latin, Los Retros",
         "scene": "scene",
         "showlegend": true,
         "type": "scatter3d",
         "x": [
          70
         ],
         "y": [
          82
         ],
         "z": [
          "latin"
         ]
        },
        {
         "hovertemplate": "top genre=%{z}<br>artist=Lasso<br>pop=%{x}<br>dnce=%{y}<br>dur=%{marker.size}<extra></extra>",
         "legendgroup": "latin, Lasso",
         "marker": {
          "color": "#636efa",
          "size": [
           195
          ],
          "sizemode": "area",
          "sizeref": 3.1025,
          "symbol": "x"
         },
         "mode": "markers",
         "name": "latin, Lasso",
         "scene": "scene",
         "showlegend": true,
         "type": "scatter3d",
         "x": [
          54
         ],
         "y": [
          75
         ],
         "z": [
          "latin"
         ]
        },
        {
         "hovertemplate": "top genre=%{z}<br>artist=Mexican Institute Of Sound<br>pop=%{x}<br>dnce=%{y}<br>dur=%{marker.size}<extra></extra>",
         "legendgroup": "latin, Mexican Institute Of Sound",
         "marker": {
          "color": "#636efa",
          "size": [
           214
          ],
          "sizemode": "area",
          "sizeref": 3.1025,
          "symbol": "circle"
         },
         "mode": "markers",
         "name": "latin, Mexican Institute Of Sound",
         "scene": "scene",
         "showlegend": true,
         "type": "scatter3d",
         "x": [
          23
         ],
         "y": [
          78
         ],
         "z": [
          "latin"
         ]
        },
        {
         "hovertemplate": "top genre=%{z}<br>artist=Daft Punk<br>pop=%{x}<br>dnce=%{y}<br>dur=%{marker.size}<extra></extra>",
         "legendgroup": "electronic, Daft Punk",
         "marker": {
          "color": "#EF553B",
          "size": [
           248,
           320,
           338,
           430,
           225,
           354,
           545,
           288,
           104
          ],
          "sizemode": "area",
          "sizeref": 3.1025,
          "symbol": "x"
         },
         "mode": "markers",
         "name": "electronic, Daft Punk",
         "scene": "scene",
         "showlegend": true,
         "type": "scatter3d",
         "x": [
          78,
          77,
          76,
          74,
          72,
          70,
          66,
          59,
          49
         ],
         "y": [
          79,
          61,
          78,
          96,
          82,
          83,
          74,
          59,
          54
         ],
         "z": [
          "electronic",
          "electronic",
          "electronic",
          "electronic",
          "electronic",
          "electronic",
          "electronic",
          "electronic",
          "electronic"
         ]
        },
        {
         "hovertemplate": "top genre=%{z}<br>artist=Kygo<br>pop=%{x}<br>dnce=%{y}<br>dur=%{marker.size}<extra></extra>",
         "legendgroup": "electronic, Kygo",
         "marker": {
          "color": "#EF553B",
          "size": [
           221,
           224,
           224
          ],
          "sizemode": "area",
          "sizeref": 3.1025,
          "symbol": "diamond"
         },
         "mode": "markers",
         "name": "electronic, Kygo",
         "scene": "scene",
         "showlegend": true,
         "type": "scatter3d",
         "x": [
          76,
          62,
          61
         ],
         "y": [
          64,
          55,
          55
         ],
         "z": [
          "electronic",
          "electronic",
          "electronic"
         ]
        },
        {
         "hovertemplate": "top genre=%{z}<br>artist=Rezz<br>pop=%{x}<br>dnce=%{y}<br>dur=%{marker.size}<extra></extra>",
         "legendgroup": "electronic, Rezz",
         "marker": {
          "color": "#EF553B",
          "size": [
           293
          ],
          "sizemode": "area",
          "sizeref": 3.1025,
          "symbol": "cross"
         },
         "mode": "markers",
         "name": "electronic, Rezz",
         "scene": "scene",
         "showlegend": true,
         "type": "scatter3d",
         "x": [
          66
         ],
         "y": [
          53
         ],
         "z": [
          "electronic"
         ]
        },
        {
         "hovertemplate": "top genre=%{z}<br>artist=INZO<br>pop=%{x}<br>dnce=%{y}<br>dur=%{marker.size}<extra></extra>",
         "legendgroup": "electronic, INZO",
         "marker": {
          "color": "#EF553B",
          "size": [
           268
          ],
          "sizemode": "area",
          "sizeref": 3.1025,
          "symbol": "diamond"
         },
         "mode": "markers",
         "name": "electronic, INZO",
         "scene": "scene",
         "showlegend": true,
         "type": "scatter3d",
         "x": [
          66
         ],
         "y": [
          47
         ],
         "z": [
          "electronic"
         ]
        },
        {
         "hovertemplate": "top genre=%{z}<br>artist=Jamie xx<br>pop=%{x}<br>dnce=%{y}<br>dur=%{marker.size}<extra></extra>",
         "legendgroup": "electronic, Jamie xx",
         "marker": {
          "color": "#EF553B",
          "size": [
           283,
           322
          ],
          "sizemode": "area",
          "sizeref": 3.1025,
          "symbol": "diamond"
         },
         "mode": "markers",
         "name": "electronic, Jamie xx",
         "scene": "scene",
         "showlegend": true,
         "type": "scatter3d",
         "x": [
          65,
          52
         ],
         "y": [
          65,
          51
         ],
         "z": [
          "electronic",
          "electronic"
         ]
        },
        {
         "hovertemplate": "top genre=%{z}<br>artist=deadmau5<br>pop=%{x}<br>dnce=%{y}<br>dur=%{marker.size}<extra></extra>",
         "legendgroup": "electronic, deadmau5",
         "marker": {
          "color": "#EF553B",
          "size": [
           215,
           328,
           173,
           170,
           246,
           522,
           444,
           378,
           403,
           314,
           191,
           375,
           450,
           634,
           299,
           339,
           451,
           381,
           461,
           510,
           470,
           610,
           172,
           403,
           399,
           421,
           423,
           292,
           419,
           495,
           527,
           532,
           340,
           415,
           248,
           393,
           419,
           635,
           336,
           395,
           291,
           333,
           432,
           444,
           212,
           576,
           386,
           439,
           134,
           391,
           255,
           433,
           457,
           193,
           363,
           375,
           482,
           431,
           426,
           420,
           293,
           352,
           270,
           315,
           434,
           396,
           195,
           330,
           329,
           418,
           376
          ],
          "sizemode": "area",
          "sizeref": 3.1025,
          "symbol": "circle"
         },
         "mode": "markers",
         "name": "electronic, deadmau5",
         "scene": "scene",
         "showlegend": true,
         "type": "scatter3d",
         "x": [
          59,
          58,
          54,
          53,
          50,
          46,
          46,
          46,
          45,
          44,
          44,
          41,
          40,
          40,
          39,
          38,
          37,
          37,
          37,
          37,
          36,
          36,
          35,
          34,
          34,
          34,
          33,
          33,
          33,
          32,
          32,
          31,
          31,
          31,
          30,
          30,
          30,
          30,
          30,
          29,
          29,
          28,
          28,
          28,
          27,
          26,
          23,
          23,
          22,
          22,
          22,
          21,
          21,
          21,
          19,
          17,
          16,
          16,
          15,
          15,
          14,
          13,
          0,
          0,
          0,
          0,
          0,
          0,
          0,
          0,
          0
         ],
         "y": [
          55,
          62,
          62,
          74,
          73,
          74,
          79,
          64,
          78,
          73,
          64,
          98,
          81,
          44,
          90,
          75,
          76,
          66,
          96,
          50,
          65,
          73,
          36,
          77,
          56,
          84,
          66,
          70,
          64,
          54,
          80,
          86,
          79,
          72,
          47,
          73,
          47,
          96,
          80,
          78,
          78,
          90,
          52,
          67,
          89,
          74,
          81,
          62,
          55,
          78,
          78,
          38,
          77,
          54,
          81,
          80,
          89,
          81,
          79,
          81,
          83,
          84,
          79,
          74,
          94,
          46,
          55,
          77,
          87,
          51,
          72
         ],
         "z": [
          "electronic",
          "electronic",
          "electronic",
          "electronic",
          "electronic",
          "electronic",
          "electronic",
          "electronic",
          "electronic",
          "electronic",
          "electronic",
          "electronic",
          "electronic",
          "electronic",
          "electronic",
          "electronic",
          "electronic",
          "electronic",
          "electronic",
          "electronic",
          "electronic",
          "electronic",
          "electronic",
          "electronic",
          "electronic",
          "electronic",
          "electronic",
          "electronic",
          "electronic",
          "electronic",
          "electronic",
          "electronic",
          "electronic",
          "electronic",
          "electronic",
          "electronic",
          "electronic",
          "electronic",
          "electronic",
          "electronic",
          "electronic",
          "electronic",
          "electronic",
          "electronic",
          "electronic",
          "electronic",
          "electronic",
          "electronic",
          "electronic",
          "electronic",
          "electronic",
          "electronic",
          "electronic",
          "electronic",
          "electronic",
          "electronic",
          "electronic",
          "electronic",
          "electronic",
          "electronic",
          "electronic",
          "electronic",
          "electronic",
          "electronic",
          "electronic",
          "electronic",
          "electronic",
          "electronic",
          "electronic",
          "electronic",
          "electronic"
         ]
        },
        {
         "hovertemplate": "top genre=%{z}<br>artist=Louis The Child<br>pop=%{x}<br>dnce=%{y}<br>dur=%{marker.size}<extra></extra>",
         "legendgroup": "electronic, Louis The Child",
         "marker": {
          "color": "#EF553B",
          "size": [
           167,
           246,
           194
          ],
          "sizemode": "area",
          "sizeref": 3.1025,
          "symbol": "cross"
         },
         "mode": "markers",
         "name": "electronic, Louis The Child",
         "scene": "scene",
         "showlegend": true,
         "type": "scatter3d",
         "x": [
          58,
          57,
          56
         ],
         "y": [
          67,
          84,
          90
         ],
         "z": [
          "electronic",
          "electronic",
          "electronic"
         ]
        },
        {
         "hovertemplate": "top genre=%{z}<br>artist=Murda<br>pop=%{x}<br>dnce=%{y}<br>dur=%{marker.size}<extra></extra>",
         "legendgroup": "electronic, Murda",
         "marker": {
          "color": "#EF553B",
          "size": [
           185,
           157,
           222,
           158,
           139
          ],
          "sizemode": "area",
          "sizeref": 3.1025,
          "symbol": "cross"
         },
         "mode": "markers",
         "name": "electronic, Murda",
         "scene": "scene",
         "showlegend": true,
         "type": "scatter3d",
         "x": [
          58,
          53,
          51,
          50,
          41
         ],
         "y": [
          90,
          80,
          82,
          79,
          76
         ],
         "z": [
          "electronic",
          "electronic",
          "electronic",
          "electronic",
          "electronic"
         ]
        },
        {
         "hovertemplate": "top genre=%{z}<br>artist=DJ Blyatman<br>pop=%{x}<br>dnce=%{y}<br>dur=%{marker.size}<extra></extra>",
         "legendgroup": "electronic, DJ Blyatman",
         "marker": {
          "color": "#EF553B",
          "size": [
           187
          ],
          "sizemode": "area",
          "sizeref": 3.1025,
          "symbol": "square"
         },
         "mode": "markers",
         "name": "electronic, DJ Blyatman",
         "scene": "scene",
         "showlegend": true,
         "type": "scatter3d",
         "x": [
          56
         ],
         "y": [
          73
         ],
         "z": [
          "electronic"
         ]
        },
        {
         "hovertemplate": "top genre=%{z}<br>artist=Sam Gellaitry<br>pop=%{x}<br>dnce=%{y}<br>dur=%{marker.size}<extra></extra>",
         "legendgroup": "electronic, Sam Gellaitry",
         "marker": {
          "color": "#EF553B",
          "size": [
           221,
           216
          ],
          "sizemode": "area",
          "sizeref": 3.1025,
          "symbol": "cross"
         },
         "mode": "markers",
         "name": "electronic, Sam Gellaitry",
         "scene": "scene",
         "showlegend": true,
         "type": "scatter3d",
         "x": [
          56,
          36
         ],
         "y": [
          64,
          52
         ],
         "z": [
          "electronic",
          "electronic"
         ]
        },
        {
         "hovertemplate": "top genre=%{z}<br>artist=Caravan Palace<br>pop=%{x}<br>dnce=%{y}<br>dur=%{marker.size}<extra></extra>",
         "legendgroup": "electronic, Caravan Palace",
         "marker": {
          "color": "#EF553B",
          "size": [
           186,
           193
          ],
          "sizemode": "area",
          "sizeref": 3.1025,
          "symbol": "diamond"
         },
         "mode": "markers",
         "name": "electronic, Caravan Palace",
         "scene": "scene",
         "showlegend": true,
         "type": "scatter3d",
         "x": [
          56,
          36
         ],
         "y": [
          61,
          74
         ],
         "z": [
          "electronic",
          "electronic"
         ]
        },
        {
         "hovertemplate": "top genre=%{z}<br>artist=TNGHT<br>pop=%{x}<br>dnce=%{y}<br>dur=%{marker.size}<extra></extra>",
         "legendgroup": "electronic, TNGHT",
         "marker": {
          "color": "#EF553B",
          "size": [
           199
          ],
          "sizemode": "area",
          "sizeref": 3.1025,
          "symbol": "diamond"
         },
         "mode": "markers",
         "name": "electronic, TNGHT",
         "scene": "scene",
         "showlegend": true,
         "type": "scatter3d",
         "x": [
          50
         ],
         "y": [
          71
         ],
         "z": [
          "electronic"
         ]
        },
        {
         "hovertemplate": "top genre=%{z}<br>artist=Haywyre<br>pop=%{x}<br>dnce=%{y}<br>dur=%{marker.size}<extra></extra>",
         "legendgroup": "electronic, Haywyre",
         "marker": {
          "color": "#EF553B",
          "size": [
           275
          ],
          "sizemode": "area",
          "sizeref": 3.1025,
          "symbol": "cross"
         },
         "mode": "markers",
         "name": "electronic, Haywyre",
         "scene": "scene",
         "showlegend": true,
         "type": "scatter3d",
         "x": [
          49
         ],
         "y": [
          85
         ],
         "z": [
          "electronic"
         ]
        },
        {
         "hovertemplate": "top genre=%{z}<br>artist=NERO<br>pop=%{x}<br>dnce=%{y}<br>dur=%{marker.size}<extra></extra>",
         "legendgroup": "electronic, NERO",
         "marker": {
          "color": "#EF553B",
          "size": [
           278
          ],
          "sizemode": "area",
          "sizeref": 3.1025,
          "symbol": "square"
         },
         "mode": "markers",
         "name": "electronic, NERO",
         "scene": "scene",
         "showlegend": true,
         "type": "scatter3d",
         "x": [
          49
         ],
         "y": [
          47
         ],
         "z": [
          "electronic"
         ]
        },
        {
         "hovertemplate": "top genre=%{z}<br>artist=Point Point<br>pop=%{x}<br>dnce=%{y}<br>dur=%{marker.size}<extra></extra>",
         "legendgroup": "electronic, Point Point",
         "marker": {
          "color": "#EF553B",
          "size": [
           300,
           224,
           237
          ],
          "sizemode": "area",
          "sizeref": 3.1025,
          "symbol": "cross"
         },
         "mode": "markers",
         "name": "electronic, Point Point",
         "scene": "scene",
         "showlegend": true,
         "type": "scatter3d",
         "x": [
          48,
          41,
          32
         ],
         "y": [
          32,
          54,
          60
         ],
         "z": [
          "electronic",
          "electronic",
          "electronic"
         ]
        },
        {
         "hovertemplate": "top genre=%{z}<br>artist=Machinedrum<br>pop=%{x}<br>dnce=%{y}<br>dur=%{marker.size}<extra></extra>",
         "legendgroup": "electronic, Machinedrum",
         "marker": {
          "color": "#EF553B",
          "size": [
           278,
           220
          ],
          "sizemode": "area",
          "sizeref": 3.1025,
          "symbol": "square"
         },
         "mode": "markers",
         "name": "electronic, Machinedrum",
         "scene": "scene",
         "showlegend": true,
         "type": "scatter3d",
         "x": [
          48,
          26
         ],
         "y": [
          66,
          46
         ],
         "z": [
          "electronic",
          "electronic"
         ]
        },
        {
         "hovertemplate": "top genre=%{z}<br>artist=Maxd<br>pop=%{x}<br>dnce=%{y}<br>dur=%{marker.size}<extra></extra>",
         "legendgroup": "electronic, Maxd",
         "marker": {
          "color": "#EF553B",
          "size": [
           141
          ],
          "sizemode": "area",
          "sizeref": 3.1025,
          "symbol": "square"
         },
         "mode": "markers",
         "name": "electronic, Maxd",
         "scene": "scene",
         "showlegend": true,
         "type": "scatter3d",
         "x": [
          48
         ],
         "y": [
          69
         ],
         "z": [
          "electronic"
         ]
        },
        {
         "hovertemplate": "top genre=%{z}<br>artist=CharlestheFirst<br>pop=%{x}<br>dnce=%{y}<br>dur=%{marker.size}<extra></extra>",
         "legendgroup": "electronic, CharlestheFirst",
         "marker": {
          "color": "#EF553B",
          "size": [
           194
          ],
          "sizemode": "area",
          "sizeref": 3.1025,
          "symbol": "cross"
         },
         "mode": "markers",
         "name": "electronic, CharlestheFirst",
         "scene": "scene",
         "showlegend": true,
         "type": "scatter3d",
         "x": [
          47
         ],
         "y": [
          86
         ],
         "z": [
          "electronic"
         ]
        },
        {
         "hovertemplate": "top genre=%{z}<br>artist=Uamee<br>pop=%{x}<br>dnce=%{y}<br>dur=%{marker.size}<extra></extra>",
         "legendgroup": "electronic, Uamee",
         "marker": {
          "color": "#EF553B",
          "size": [
           142,
           180
          ],
          "sizemode": "area",
          "sizeref": 3.1025,
          "symbol": "circle"
         },
         "mode": "markers",
         "name": "electronic, Uamee",
         "scene": "scene",
         "showlegend": true,
         "type": "scatter3d",
         "x": [
          46,
          35
         ],
         "y": [
          64,
          77
         ],
         "z": [
          "electronic",
          "electronic"
         ]
        },
        {
         "hovertemplate": "top genre=%{z}<br>artist=Bob Moses<br>pop=%{x}<br>dnce=%{y}<br>dur=%{marker.size}<extra></extra>",
         "legendgroup": "electronic, Bob Moses",
         "marker": {
          "color": "#EF553B",
          "size": [
           262
          ],
          "sizemode": "area",
          "sizeref": 3.1025,
          "symbol": "square"
         },
         "mode": "markers",
         "name": "electronic, Bob Moses",
         "scene": "scene",
         "showlegend": true,
         "type": "scatter3d",
         "x": [
          46
         ],
         "y": [
          56
         ],
         "z": [
          "electronic"
         ]
        },
        {
         "hovertemplate": "top genre=%{z}<br>artist=Audien<br>pop=%{x}<br>dnce=%{y}<br>dur=%{marker.size}<extra></extra>",
         "legendgroup": "electronic, Audien",
         "marker": {
          "color": "#EF553B",
          "size": [
           212
          ],
          "sizemode": "area",
          "sizeref": 3.1025,
          "symbol": "cross"
         },
         "mode": "markers",
         "name": "electronic, Audien",
         "scene": "scene",
         "showlegend": true,
         "type": "scatter3d",
         "x": [
          45
         ],
         "y": [
          64
         ],
         "z": [
          "electronic"
         ]
        },
        {
         "hovertemplate": "top genre=%{z}<br>artist=Hatari<br>pop=%{x}<br>dnce=%{y}<br>dur=%{marker.size}<extra></extra>",
         "legendgroup": "electronic, Hatari",
         "marker": {
          "color": "#EF553B",
          "size": [
           179,
           224
          ],
          "sizemode": "area",
          "sizeref": 3.1025,
          "symbol": "x"
         },
         "mode": "markers",
         "name": "electronic, Hatari",
         "scene": "scene",
         "showlegend": true,
         "type": "scatter3d",
         "x": [
          45,
          36
         ],
         "y": [
          57,
          63
         ],
         "z": [
          "electronic",
          "electronic"
         ]
        },
        {
         "hovertemplate": "top genre=%{z}<br>artist=Gopnik McBlyat<br>pop=%{x}<br>dnce=%{y}<br>dur=%{marker.size}<extra></extra>",
         "legendgroup": "electronic, Gopnik McBlyat",
         "marker": {
          "color": "#EF553B",
          "size": [
           260
          ],
          "sizemode": "area",
          "sizeref": 3.1025,
          "symbol": "circle"
         },
         "mode": "markers",
         "name": "electronic, Gopnik McBlyat",
         "scene": "scene",
         "showlegend": true,
         "type": "scatter3d",
         "x": [
          43
         ],
         "y": [
          63
         ],
         "z": [
          "electronic"
         ]
        },
        {
         "hovertemplate": "top genre=%{z}<br>artist=SLUMBERJACK<br>pop=%{x}<br>dnce=%{y}<br>dur=%{marker.size}<extra></extra>",
         "legendgroup": "electronic, SLUMBERJACK",
         "marker": {
          "color": "#EF553B",
          "size": [
           199
          ],
          "sizemode": "area",
          "sizeref": 3.1025,
          "symbol": "circle"
         },
         "mode": "markers",
         "name": "electronic, SLUMBERJACK",
         "scene": "scene",
         "showlegend": true,
         "type": "scatter3d",
         "x": [
          42
         ],
         "y": [
          60
         ],
         "z": [
          "electronic"
         ]
        },
        {
         "hovertemplate": "top genre=%{z}<br>artist=Stadiumx<br>pop=%{x}<br>dnce=%{y}<br>dur=%{marker.size}<extra></extra>",
         "legendgroup": "electronic, Stadiumx",
         "marker": {
          "color": "#EF553B",
          "size": [
           184
          ],
          "sizemode": "area",
          "sizeref": 3.1025,
          "symbol": "diamond"
         },
         "mode": "markers",
         "name": "electronic, Stadiumx",
         "scene": "scene",
         "showlegend": true,
         "type": "scatter3d",
         "x": [
          40
         ],
         "y": [
          51
         ],
         "z": [
          "electronic"
         ]
        },
        {
         "hovertemplate": "top genre=%{z}<br>artist=Seven Lions<br>pop=%{x}<br>dnce=%{y}<br>dur=%{marker.size}<extra></extra>",
         "legendgroup": "electronic, Seven Lions",
         "marker": {
          "color": "#EF553B",
          "size": [
           403
          ],
          "sizemode": "area",
          "sizeref": 3.1025,
          "symbol": "square"
         },
         "mode": "markers",
         "name": "electronic, Seven Lions",
         "scene": "scene",
         "showlegend": true,
         "type": "scatter3d",
         "x": [
          40
         ],
         "y": [
          65
         ],
         "z": [
          "electronic"
         ]
        },
        {
         "hovertemplate": "top genre=%{z}<br>artist=A-Trak<br>pop=%{x}<br>dnce=%{y}<br>dur=%{marker.size}<extra></extra>",
         "legendgroup": "electronic, A-Trak",
         "marker": {
          "color": "#EF553B",
          "size": [
           214
          ],
          "sizemode": "area",
          "sizeref": 3.1025,
          "symbol": "circle"
         },
         "mode": "markers",
         "name": "electronic, A-Trak",
         "scene": "scene",
         "showlegend": true,
         "type": "scatter3d",
         "x": [
          36
         ],
         "y": [
          64
         ],
         "z": [
          "electronic"
         ]
        },
        {
         "hovertemplate": "top genre=%{z}<br>artist=Adrian Lux<br>pop=%{x}<br>dnce=%{y}<br>dur=%{marker.size}<extra></extra>",
         "legendgroup": "electronic, Adrian Lux",
         "marker": {
          "color": "#EF553B",
          "size": [
           191
          ],
          "sizemode": "area",
          "sizeref": 3.1025,
          "symbol": "square"
         },
         "mode": "markers",
         "name": "electronic, Adrian Lux",
         "scene": "scene",
         "showlegend": true,
         "type": "scatter3d",
         "x": [
          36
         ],
         "y": [
          66
         ],
         "z": [
          "electronic"
         ]
        },
        {
         "hovertemplate": "top genre=%{z}<br>artist=Melleefresh<br>pop=%{x}<br>dnce=%{y}<br>dur=%{marker.size}<extra></extra>",
         "legendgroup": "electronic, Melleefresh",
         "marker": {
          "color": "#EF553B",
          "size": [
           407,
           339
          ],
          "sizemode": "area",
          "sizeref": 3.1025,
          "symbol": "x"
         },
         "mode": "markers",
         "name": "electronic, Melleefresh",
         "scene": "scene",
         "showlegend": true,
         "type": "scatter3d",
         "x": [
          31,
          17
         ],
         "y": [
          74,
          74
         ],
         "z": [
          "electronic",
          "electronic"
         ]
        },
        {
         "hovertemplate": "top genre=%{z}<br>artist=Rilla Force<br>pop=%{x}<br>dnce=%{y}<br>dur=%{marker.size}<extra></extra>",
         "legendgroup": "electronic, Rilla Force",
         "marker": {
          "color": "#EF553B",
          "size": [
           138
          ],
          "sizemode": "area",
          "sizeref": 3.1025,
          "symbol": "square"
         },
         "mode": "markers",
         "name": "electronic, Rilla Force",
         "scene": "scene",
         "showlegend": true,
         "type": "scatter3d",
         "x": [
          26
         ],
         "y": [
          95
         ],
         "z": [
          "electronic"
         ]
        },
        {
         "hovertemplate": "top genre=%{z}<br>artist=JKuch<br>pop=%{x}<br>dnce=%{y}<br>dur=%{marker.size}<extra></extra>",
         "legendgroup": "electronic, JKuch",
         "marker": {
          "color": "#EF553B",
          "size": [
           180
          ],
          "sizemode": "area",
          "sizeref": 3.1025,
          "symbol": "diamond"
         },
         "mode": "markers",
         "name": "electronic, JKuch",
         "scene": "scene",
         "showlegend": true,
         "type": "scatter3d",
         "x": [
          24
         ],
         "y": [
          51
         ],
         "z": [
          "electronic"
         ]
        },
        {
         "hovertemplate": "top genre=%{z}<br>artist=Gallya<br>pop=%{x}<br>dnce=%{y}<br>dur=%{marker.size}<extra></extra>",
         "legendgroup": "electronic, Gallya",
         "marker": {
          "color": "#EF553B",
          "size": [
           397
          ],
          "sizemode": "area",
          "sizeref": 3.1025,
          "symbol": "x"
         },
         "mode": "markers",
         "name": "electronic, Gallya",
         "scene": "scene",
         "showlegend": true,
         "type": "scatter3d",
         "x": [
          23
         ],
         "y": [
          80
         ],
         "z": [
          "electronic"
         ]
        },
        {
         "hovertemplate": "top genre=%{z}<br>artist=Oshi<br>pop=%{x}<br>dnce=%{y}<br>dur=%{marker.size}<extra></extra>",
         "legendgroup": "electronic, Oshi",
         "marker": {
          "color": "#EF553B",
          "size": [
           180,
           168
          ],
          "sizemode": "area",
          "sizeref": 3.1025,
          "symbol": "cross"
         },
         "mode": "markers",
         "name": "electronic, Oshi",
         "scene": "scene",
         "showlegend": true,
         "type": "scatter3d",
         "x": [
          9,
          0
         ],
         "y": [
          70,
          33
         ],
         "z": [
          "electronic",
          "electronic"
         ]
        },
        {
         "hovertemplate": "top genre=%{z}<br>artist=gazzzy<br>pop=%{x}<br>dnce=%{y}<br>dur=%{marker.size}<extra></extra>",
         "legendgroup": "lo-fi, gazzzy",
         "marker": {
          "color": "#00cc96",
          "size": [
           156
          ],
          "sizemode": "area",
          "sizeref": 3.1025,
          "symbol": "cross"
         },
         "mode": "markers",
         "name": "lo-fi, gazzzy",
         "scene": "scene",
         "showlegend": true,
         "type": "scatter3d",
         "x": [
          78
         ],
         "y": [
          82
         ],
         "z": [
          "lo-fi"
         ]
        },
        {
         "hovertemplate": "top genre=%{z}<br>artist=Rherherherh<br>pop=%{x}<br>dnce=%{y}<br>dur=%{marker.size}<extra></extra>",
         "legendgroup": "lo-fi, Rherherherh",
         "marker": {
          "color": "#00cc96",
          "size": [
           175
          ],
          "sizemode": "area",
          "sizeref": 3.1025,
          "symbol": "cross"
         },
         "mode": "markers",
         "name": "lo-fi, Rherherherh",
         "scene": "scene",
         "showlegend": true,
         "type": "scatter3d",
         "x": [
          70
         ],
         "y": [
          51
         ],
         "z": [
          "lo-fi"
         ]
        },
        {
         "hovertemplate": "top genre=%{z}<br>artist=Okean Elzi<br>pop=%{x}<br>dnce=%{y}<br>dur=%{marker.size}<extra></extra>",
         "legendgroup": "lo-fi, Okean Elzi",
         "marker": {
          "color": "#00cc96",
          "size": [
           230
          ],
          "sizemode": "area",
          "sizeref": 3.1025,
          "symbol": "cross"
         },
         "mode": "markers",
         "name": "lo-fi, Okean Elzi",
         "scene": "scene",
         "showlegend": true,
         "type": "scatter3d",
         "x": [
          67
         ],
         "y": [
          71
         ],
         "z": [
          "lo-fi"
         ]
        },
        {
         "hovertemplate": "top genre=%{z}<br>artist=ZOID LAND<br>pop=%{x}<br>dnce=%{y}<br>dur=%{marker.size}<extra></extra>",
         "legendgroup": "lo-fi, ZOID LAND",
         "marker": {
          "color": "#00cc96",
          "size": [
           58
          ],
          "sizemode": "area",
          "sizeref": 3.1025,
          "symbol": "x"
         },
         "mode": "markers",
         "name": "lo-fi, ZOID LAND",
         "scene": "scene",
         "showlegend": true,
         "type": "scatter3d",
         "x": [
          66
         ],
         "y": [
          91
         ],
         "z": [
          "lo-fi"
         ]
        },
        {
         "hovertemplate": "top genre=%{z}<br>artist=Rav<br>pop=%{x}<br>dnce=%{y}<br>dur=%{marker.size}<extra></extra>",
         "legendgroup": "lo-fi, Rav",
         "marker": {
          "color": "#00cc96",
          "size": [
           136,
           264
          ],
          "sizemode": "area",
          "sizeref": 3.1025,
          "symbol": "circle"
         },
         "mode": "markers",
         "name": "lo-fi, Rav",
         "scene": "scene",
         "showlegend": true,
         "type": "scatter3d",
         "x": [
          63,
          56
         ],
         "y": [
          65,
          84
         ],
         "z": [
          "lo-fi",
          "lo-fi"
         ]
        },
        {
         "hovertemplate": "top genre=%{z}<br>artist=Samsa<br>pop=%{x}<br>dnce=%{y}<br>dur=%{marker.size}<extra></extra>",
         "legendgroup": "lo-fi, Samsa",
         "marker": {
          "color": "#00cc96",
          "size": [
           145
          ],
          "sizemode": "area",
          "sizeref": 3.1025,
          "symbol": "square"
         },
         "mode": "markers",
         "name": "lo-fi, Samsa",
         "scene": "scene",
         "showlegend": true,
         "type": "scatter3d",
         "x": [
          50
         ],
         "y": [
          69
         ],
         "z": [
          "lo-fi"
         ]
        },
        {
         "hovertemplate": "top genre=%{z}<br>artist=Kupla<br>pop=%{x}<br>dnce=%{y}<br>dur=%{marker.size}<extra></extra>",
         "legendgroup": "lo-fi, Kupla",
         "marker": {
          "color": "#00cc96",
          "size": [
           154
          ],
          "sizemode": "area",
          "sizeref": 3.1025,
          "symbol": "x"
         },
         "mode": "markers",
         "name": "lo-fi, Kupla",
         "scene": "scene",
         "showlegend": true,
         "type": "scatter3d",
         "x": [
          47
         ],
         "y": [
          78
         ],
         "z": [
          "lo-fi"
         ]
        },
        {
         "hovertemplate": "top genre=%{z}<br>artist=ｊａｒｊａｒｊｒ<br>pop=%{x}<br>dnce=%{y}<br>dur=%{marker.size}<extra></extra>",
         "legendgroup": "lo-fi, ｊａｒｊａｒｊｒ",
         "marker": {
          "color": "#00cc96",
          "size": [
           177
          ],
          "sizemode": "area",
          "sizeref": 3.1025,
          "symbol": "square"
         },
         "mode": "markers",
         "name": "lo-fi, ｊａｒｊａｒｊｒ",
         "scene": "scene",
         "showlegend": true,
         "type": "scatter3d",
         "x": [
          33
         ],
         "y": [
          75
         ],
         "z": [
          "lo-fi"
         ]
        },
        {
         "hovertemplate": "top genre=%{z}<br>artist=Forever Golden<br>pop=%{x}<br>dnce=%{y}<br>dur=%{marker.size}<extra></extra>",
         "legendgroup": "lo-fi, Forever Golden",
         "marker": {
          "color": "#00cc96",
          "size": [
           192
          ],
          "sizemode": "area",
          "sizeref": 3.1025,
          "symbol": "diamond"
         },
         "mode": "markers",
         "name": "lo-fi, Forever Golden",
         "scene": "scene",
         "showlegend": true,
         "type": "scatter3d",
         "x": [
          32
         ],
         "y": [
          92
         ],
         "z": [
          "lo-fi"
         ]
        },
        {
         "hovertemplate": "top genre=%{z}<br>artist=LO-FI BEATS<br>pop=%{x}<br>dnce=%{y}<br>dur=%{marker.size}<extra></extra>",
         "legendgroup": "lo-fi, LO-FI BEATS",
         "marker": {
          "color": "#00cc96",
          "size": [
           154
          ],
          "sizemode": "area",
          "sizeref": 3.1025,
          "symbol": "cross"
         },
         "mode": "markers",
         "name": "lo-fi, LO-FI BEATS",
         "scene": "scene",
         "showlegend": true,
         "type": "scatter3d",
         "x": [
          14
         ],
         "y": [
          63
         ],
         "z": [
          "lo-fi"
         ]
        },
        {
         "hovertemplate": "top genre=%{z}<br>artist=Morgan Wallen<br>pop=%{x}<br>dnce=%{y}<br>dur=%{marker.size}<extra></extra>",
         "legendgroup": "country, Morgan Wallen",
         "marker": {
          "color": "#ab63fa",
          "size": [
           234
          ],
          "sizemode": "area",
          "sizeref": 3.1025,
          "symbol": "x"
         },
         "mode": "markers",
         "name": "country, Morgan Wallen",
         "scene": "scene",
         "showlegend": true,
         "type": "scatter3d",
         "x": [
          78
         ],
         "y": [
          61
         ],
         "z": [
          "country"
         ]
        },
        {
         "hovertemplate": "top genre=%{z}<br>artist=Luke Combs<br>pop=%{x}<br>dnce=%{y}<br>dur=%{marker.size}<extra></extra>",
         "legendgroup": "country, Luke Combs",
         "marker": {
          "color": "#ab63fa",
          "size": [
           183,
           230
          ],
          "sizemode": "area",
          "sizeref": 3.1025,
          "symbol": "diamond"
         },
         "mode": "markers",
         "name": "country, Luke Combs",
         "scene": "scene",
         "showlegend": true,
         "type": "scatter3d",
         "x": [
          75,
          59
         ],
         "y": [
          53,
          50
         ],
         "z": [
          "country",
          "country"
         ]
        },
        {
         "hovertemplate": "top genre=%{z}<br>artist=Disclosure<br>pop=%{x}<br>dnce=%{y}<br>dur=%{marker.size}<extra></extra>",
         "legendgroup": "house, Disclosure",
         "marker": {
          "color": "#FFA15A",
          "size": [
           283,
           172,
           295,
           192,
           270
          ],
          "sizemode": "area",
          "sizeref": 3.1025,
          "symbol": "square"
         },
         "mode": "markers",
         "name": "house, Disclosure",
         "scene": "scene",
         "showlegend": true,
         "type": "scatter3d",
         "x": [
          74,
          59,
          51,
          42,
          25
         ],
         "y": [
          59,
          75,
          76,
          75,
          45
         ],
         "z": [
          "house",
          "house",
          "house",
          "house",
          "house"
         ]
        },
        {
         "hovertemplate": "top genre=%{z}<br>artist=Kavinsky<br>pop=%{x}<br>dnce=%{y}<br>dur=%{marker.size}<extra></extra>",
         "legendgroup": "house, Kavinsky",
         "marker": {
          "color": "#FFA15A",
          "size": [
           257
          ],
          "sizemode": "area",
          "sizeref": 3.1025,
          "symbol": "diamond"
         },
         "mode": "markers",
         "name": "house, Kavinsky",
         "scene": "scene",
         "showlegend": true,
         "type": "scatter3d",
         "x": [
          59
         ],
         "y": [
          51
         ],
         "z": [
          "house"
         ]
        },
        {
         "hovertemplate": "top genre=%{z}<br>artist=Dirty Rush & Gregor Es<br>pop=%{x}<br>dnce=%{y}<br>dur=%{marker.size}<extra></extra>",
         "legendgroup": "house, Dirty Rush & Gregor Es",
         "marker": {
          "color": "#FFA15A",
          "size": [
           183
          ],
          "sizemode": "area",
          "sizeref": 3.1025,
          "symbol": "square"
         },
         "mode": "markers",
         "name": "house, Dirty Rush & Gregor Es",
         "scene": "scene",
         "showlegend": true,
         "type": "scatter3d",
         "x": [
          57
         ],
         "y": [
          73
         ],
         "z": [
          "house"
         ]
        },
        {
         "hovertemplate": "top genre=%{z}<br>artist=Ross from Friends<br>pop=%{x}<br>dnce=%{y}<br>dur=%{marker.size}<extra></extra>",
         "legendgroup": "house, Ross from Friends",
         "marker": {
          "color": "#FFA15A",
          "size": [
           338
          ],
          "sizemode": "area",
          "sizeref": 3.1025,
          "symbol": "square"
         },
         "mode": "markers",
         "name": "house, Ross from Friends",
         "scene": "scene",
         "showlegend": true,
         "type": "scatter3d",
         "x": [
          51
         ],
         "y": [
          70
         ],
         "z": [
          "house"
         ]
        },
        {
         "hovertemplate": "top genre=%{z}<br>artist=i_o<br>pop=%{x}<br>dnce=%{y}<br>dur=%{marker.size}<extra></extra>",
         "legendgroup": "house, i_o",
         "marker": {
          "color": "#FFA15A",
          "size": [
           218,
           281
          ],
          "sizemode": "area",
          "sizeref": 3.1025,
          "symbol": "cross"
         },
         "mode": "markers",
         "name": "house, i_o",
         "scene": "scene",
         "showlegend": true,
         "type": "scatter3d",
         "x": [
          37,
          33
         ],
         "y": [
          53,
          83
         ],
         "z": [
          "house",
          "house"
         ]
        },
        {
         "hovertemplate": "top genre=%{z}<br>artist=BSOD<br>pop=%{x}<br>dnce=%{y}<br>dur=%{marker.size}<extra></extra>",
         "legendgroup": "house, BSOD",
         "marker": {
          "color": "#FFA15A",
          "size": [
           315
          ],
          "sizemode": "area",
          "sizeref": 3.1025,
          "symbol": "x"
         },
         "mode": "markers",
         "name": "house, BSOD",
         "scene": "scene",
         "showlegend": true,
         "type": "scatter3d",
         "x": [
          23
         ],
         "y": [
          92
         ],
         "z": [
          "house"
         ]
        },
        {
         "hovertemplate": "top genre=%{z}<br>artist=Duffy<br>pop=%{x}<br>dnce=%{y}<br>dur=%{marker.size}<extra></extra>",
         "legendgroup": "soul, Duffy",
         "marker": {
          "color": "#19d3f3",
          "size": [
           220
          ],
          "sizemode": "area",
          "sizeref": 3.1025,
          "symbol": "diamond"
         },
         "mode": "markers",
         "name": "soul, Duffy",
         "scene": "scene",
         "showlegend": true,
         "type": "scatter3d",
         "x": [
          70
         ],
         "y": [
          79
         ],
         "z": [
          "soul"
         ]
        },
        {
         "hovertemplate": "top genre=%{z}<br>artist=War<br>pop=%{x}<br>dnce=%{y}<br>dur=%{marker.size}<extra></extra>",
         "legendgroup": "soul, War",
         "marker": {
          "color": "#19d3f3",
          "size": [
           230
          ],
          "sizemode": "area",
          "sizeref": 3.1025,
          "symbol": "diamond"
         },
         "mode": "markers",
         "name": "soul, War",
         "scene": "scene",
         "showlegend": true,
         "type": "scatter3d",
         "x": [
          61
         ],
         "y": [
          78
         ],
         "z": [
          "soul"
         ]
        },
        {
         "hovertemplate": "top genre=%{z}<br>artist=Aretha Franklin<br>pop=%{x}<br>dnce=%{y}<br>dur=%{marker.size}<extra></extra>",
         "legendgroup": "soul, Aretha Franklin",
         "marker": {
          "color": "#19d3f3",
          "size": [
           212
          ],
          "sizemode": "area",
          "sizeref": 3.1025,
          "symbol": "x"
         },
         "mode": "markers",
         "name": "soul, Aretha Franklin",
         "scene": "scene",
         "showlegend": true,
         "type": "scatter3d",
         "x": [
          60
         ],
         "y": [
          59
         ],
         "z": [
          "soul"
         ]
        },
        {
         "hovertemplate": "top genre=%{z}<br>artist=The Isley Brothers<br>pop=%{x}<br>dnce=%{y}<br>dur=%{marker.size}<extra></extra>",
         "legendgroup": "soul, The Isley Brothers",
         "marker": {
          "color": "#19d3f3",
          "size": [
           169
          ],
          "sizemode": "area",
          "sizeref": 3.1025,
          "symbol": "circle"
         },
         "mode": "markers",
         "name": "soul, The Isley Brothers",
         "scene": "scene",
         "showlegend": true,
         "type": "scatter3d",
         "x": [
          59
         ],
         "y": [
          38
         ],
         "z": [
          "soul"
         ]
        },
        {
         "hovertemplate": "top genre=%{z}<br>artist=Isaac Hayes<br>pop=%{x}<br>dnce=%{y}<br>dur=%{marker.size}<extra></extra>",
         "legendgroup": "soul, Isaac Hayes",
         "marker": {
          "color": "#19d3f3",
          "size": [
           378
          ],
          "sizemode": "area",
          "sizeref": 3.1025,
          "symbol": "x"
         },
         "mode": "markers",
         "name": "soul, Isaac Hayes",
         "scene": "scene",
         "showlegend": true,
         "type": "scatter3d",
         "x": [
          56
         ],
         "y": [
          68
         ],
         "z": [
          "soul"
         ]
        },
        {
         "hovertemplate": "top genre=%{z}<br>artist=John Newman<br>pop=%{x}<br>dnce=%{y}<br>dur=%{marker.size}<extra></extra>",
         "legendgroup": "soul, John Newman",
         "marker": {
          "color": "#19d3f3",
          "size": [
           204
          ],
          "sizemode": "area",
          "sizeref": 3.1025,
          "symbol": "cross"
         },
         "mode": "markers",
         "name": "soul, John Newman",
         "scene": "scene",
         "showlegend": true,
         "type": "scatter3d",
         "x": [
          51
         ],
         "y": [
          67
         ],
         "z": [
          "soul"
         ]
        },
        {
         "hovertemplate": "top genre=%{z}<br>artist=Solomon Burke<br>pop=%{x}<br>dnce=%{y}<br>dur=%{marker.size}<extra></extra>",
         "legendgroup": "soul, Solomon Burke",
         "marker": {
          "color": "#19d3f3",
          "size": [
           329
          ],
          "sizemode": "area",
          "sizeref": 3.1025,
          "symbol": "circle"
         },
         "mode": "markers",
         "name": "soul, Solomon Burke",
         "scene": "scene",
         "showlegend": true,
         "type": "scatter3d",
         "x": [
          49
         ],
         "y": [
          67
         ],
         "z": [
          "soul"
         ]
        },
        {
         "hovertemplate": "top genre=%{z}<br>artist=Otis Redding<br>pop=%{x}<br>dnce=%{y}<br>dur=%{marker.size}<extra></extra>",
         "legendgroup": "soul, Otis Redding",
         "marker": {
          "color": "#19d3f3",
          "size": [
           183
          ],
          "sizemode": "area",
          "sizeref": 3.1025,
          "symbol": "diamond"
         },
         "mode": "markers",
         "name": "soul, Otis Redding",
         "scene": "scene",
         "showlegend": true,
         "type": "scatter3d",
         "x": [
          45
         ],
         "y": [
          64
         ],
         "z": [
          "soul"
         ]
        },
        {
         "hovertemplate": "top genre=%{z}<br>artist=Fatback Band<br>pop=%{x}<br>dnce=%{y}<br>dur=%{marker.size}<extra></extra>",
         "legendgroup": "soul, Fatback Band",
         "marker": {
          "color": "#19d3f3",
          "size": [
           197,
           226,
           196
          ],
          "sizemode": "area",
          "sizeref": 3.1025,
          "symbol": "x"
         },
         "mode": "markers",
         "name": "soul, Fatback Band",
         "scene": "scene",
         "showlegend": true,
         "type": "scatter3d",
         "x": [
          43,
          35,
          30
         ],
         "y": [
          82,
          60,
          73
         ],
         "z": [
          "soul",
          "soul",
          "soul"
         ]
        },
        {
         "hovertemplate": "top genre=%{z}<br>artist=Black Hippy<br>pop=%{x}<br>dnce=%{y}<br>dur=%{marker.size}<extra></extra>",
         "legendgroup": "soul, Black Hippy",
         "marker": {
          "color": "#19d3f3",
          "size": [
           428,
           450,
           450,
           180
          ],
          "sizemode": "area",
          "sizeref": 3.1025,
          "symbol": "diamond"
         },
         "mode": "markers",
         "name": "soul, Black Hippy",
         "scene": "scene",
         "showlegend": true,
         "type": "scatter3d",
         "x": [
          43,
          40,
          38,
          16
         ],
         "y": [
          58,
          42,
          35,
          76
         ],
         "z": [
          "soul",
          "soul",
          "soul",
          "soul"
         ]
        },
        {
         "hovertemplate": "top genre=%{z}<br>artist=Andreya Triana<br>pop=%{x}<br>dnce=%{y}<br>dur=%{marker.size}<extra></extra>",
         "legendgroup": "soul, Andreya Triana",
         "marker": {
          "color": "#19d3f3",
          "size": [
           149
          ],
          "sizemode": "area",
          "sizeref": 3.1025,
          "symbol": "circle"
         },
         "mode": "markers",
         "name": "soul, Andreya Triana",
         "scene": "scene",
         "showlegend": true,
         "type": "scatter3d",
         "x": [
          41
         ],
         "y": [
          50
         ],
         "z": [
          "soul"
         ]
        },
        {
         "hovertemplate": "top genre=%{z}<br>artist=Syl Johnson<br>pop=%{x}<br>dnce=%{y}<br>dur=%{marker.size}<extra></extra>",
         "legendgroup": "soul, Syl Johnson",
         "marker": {
          "color": "#19d3f3",
          "size": [
           140
          ],
          "sizemode": "area",
          "sizeref": 3.1025,
          "symbol": "square"
         },
         "mode": "markers",
         "name": "soul, Syl Johnson",
         "scene": "scene",
         "showlegend": true,
         "type": "scatter3d",
         "x": [
          37
         ],
         "y": [
          84
         ],
         "z": [
          "soul"
         ]
        },
        {
         "hovertemplate": "top genre=%{z}<br>artist=Noisettes<br>pop=%{x}<br>dnce=%{y}<br>dur=%{marker.size}<extra></extra>",
         "legendgroup": "soul, Noisettes",
         "marker": {
          "color": "#19d3f3",
          "size": [
           151
          ],
          "sizemode": "area",
          "sizeref": 3.1025,
          "symbol": "x"
         },
         "mode": "markers",
         "name": "soul, Noisettes",
         "scene": "scene",
         "showlegend": true,
         "type": "scatter3d",
         "x": [
          34
         ],
         "y": [
          56
         ],
         "z": [
          "soul"
         ]
        },
        {
         "hovertemplate": "top genre=%{z}<br>artist=Ted Taylor<br>pop=%{x}<br>dnce=%{y}<br>dur=%{marker.size}<extra></extra>",
         "legendgroup": "soul, Ted Taylor",
         "marker": {
          "color": "#19d3f3",
          "size": [
           153,
           165
          ],
          "sizemode": "area",
          "sizeref": 3.1025,
          "symbol": "circle"
         },
         "mode": "markers",
         "name": "soul, Ted Taylor",
         "scene": "scene",
         "showlegend": true,
         "type": "scatter3d",
         "x": [
          34,
          7
         ],
         "y": [
          37,
          29
         ],
         "z": [
          "soul",
          "soul"
         ]
        },
        {
         "hovertemplate": "top genre=%{z}<br>artist=Mike James Kirkland<br>pop=%{x}<br>dnce=%{y}<br>dur=%{marker.size}<extra></extra>",
         "legendgroup": "soul, Mike James Kirkland",
         "marker": {
          "color": "#19d3f3",
          "size": [
           537
          ],
          "sizemode": "area",
          "sizeref": 3.1025,
          "symbol": "square"
         },
         "mode": "markers",
         "name": "soul, Mike James Kirkland",
         "scene": "scene",
         "showlegend": true,
         "type": "scatter3d",
         "x": [
          34
         ],
         "y": [
          37
         ],
         "z": [
          "soul"
         ]
        },
        {
         "hovertemplate": "top genre=%{z}<br>artist=Chocolate Snow<br>pop=%{x}<br>dnce=%{y}<br>dur=%{marker.size}<extra></extra>",
         "legendgroup": "soul, Chocolate Snow",
         "marker": {
          "color": "#19d3f3",
          "size": [
           262
          ],
          "sizemode": "area",
          "sizeref": 3.1025,
          "symbol": "square"
         },
         "mode": "markers",
         "name": "soul, Chocolate Snow",
         "scene": "scene",
         "showlegend": true,
         "type": "scatter3d",
         "x": [
          30
         ],
         "y": [
          47
         ],
         "z": [
          "soul"
         ]
        },
        {
         "hovertemplate": "top genre=%{z}<br>artist=The Whatnauts<br>pop=%{x}<br>dnce=%{y}<br>dur=%{marker.size}<extra></extra>",
         "legendgroup": "soul, The Whatnauts",
         "marker": {
          "color": "#19d3f3",
          "size": [
           191,
           298
          ],
          "sizemode": "area",
          "sizeref": 3.1025,
          "symbol": "x"
         },
         "mode": "markers",
         "name": "soul, The Whatnauts",
         "scene": "scene",
         "showlegend": true,
         "type": "scatter3d",
         "x": [
          19,
          15
         ],
         "y": [
          55,
          70
         ],
         "z": [
          "soul",
          "soul"
         ]
        },
        {
         "hovertemplate": "top genre=%{z}<br>artist=Claude Debussy<br>pop=%{x}<br>dnce=%{y}<br>dur=%{marker.size}<extra></extra>",
         "legendgroup": "classical, Claude Debussy",
         "marker": {
          "color": "#FF6692",
          "size": [
           268
          ],
          "sizemode": "area",
          "sizeref": 3.1025,
          "symbol": "diamond"
         },
         "mode": "markers",
         "name": "classical, Claude Debussy",
         "scene": "scene",
         "showlegend": true,
         "type": "scatter3d",
         "x": [
          68
         ],
         "y": [
          34
         ],
         "z": [
          "classical"
         ]
        },
        {
         "hovertemplate": "top genre=%{z}<br>artist=Ludwig van Beethoven<br>pop=%{x}<br>dnce=%{y}<br>dur=%{marker.size}<extra></extra>",
         "legendgroup": "classical, Ludwig van Beethoven",
         "marker": {
          "color": "#FF6692",
          "size": [
           315,
           442,
           461,
           458,
           819,
           237,
           334
          ],
          "sizemode": "area",
          "sizeref": 3.1025,
          "symbol": "square"
         },
         "mode": "markers",
         "name": "classical, Ludwig van Beethoven",
         "scene": "scene",
         "showlegend": true,
         "type": "scatter3d",
         "x": [
          68,
          64,
          43,
          39,
          31,
          27,
          17
         ],
         "y": [
          18,
          25,
          12,
          32,
          46,
          20,
          38
         ],
         "z": [
          "classical",
          "classical",
          "classical",
          "classical",
          "classical",
          "classical",
          "classical"
         ]
        },
        {
         "hovertemplate": "top genre=%{z}<br>artist=Frédéric Chopin<br>pop=%{x}<br>dnce=%{y}<br>dur=%{marker.size}<extra></extra>",
         "legendgroup": "classical, Frédéric Chopin",
         "marker": {
          "color": "#FF6692",
          "size": [
           274,
           242,
           507,
           133,
           89,
           327,
           231,
           209,
           285,
           270,
           167,
           148
          ],
          "sizemode": "area",
          "sizeref": 3.1025,
          "symbol": "square"
         },
         "mode": "markers",
         "name": "classical, Frédéric Chopin",
         "scene": "scene",
         "showlegend": true,
         "type": "scatter3d",
         "x": [
          67,
          53,
          44,
          41,
          36,
          36,
          32,
          28,
          26,
          7,
          6,
          5
         ],
         "y": [
          44,
          31,
          31,
          31,
          31,
          35,
          24,
          27,
          28,
          24,
          45,
          18
         ],
         "z": [
          "classical",
          "classical",
          "classical",
          "classical",
          "classical",
          "classical",
          "classical",
          "classical",
          "classical",
          "classical",
          "classical",
          "classical"
         ]
        },
        {
         "hovertemplate": "top genre=%{z}<br>artist=Pyotr Ilyich Tchaikovsky<br>pop=%{x}<br>dnce=%{y}<br>dur=%{marker.size}<extra></extra>",
         "legendgroup": "classical, Pyotr Ilyich Tchaikovsky",
         "marker": {
          "color": "#FF6692",
          "size": [
           167,
           416,
           136,
           1241,
           420,
           359,
           246,
           180
          ],
          "sizemode": "area",
          "sizeref": 3.1025,
          "symbol": "square"
         },
         "mode": "markers",
         "name": "classical, Pyotr Ilyich Tchaikovsky",
         "scene": "scene",
         "showlegend": true,
         "type": "scatter3d",
         "x": [
          64,
          57,
          44,
          42,
          40,
          18,
          10,
          0
         ],
         "y": [
          14,
          15,
          50,
          27,
          27,
          12,
          24,
          21
         ],
         "z": [
          "classical",
          "classical",
          "classical",
          "classical",
          "classical",
          "classical",
          "classical",
          "classical"
         ]
        },
        {
         "hovertemplate": "top genre=%{z}<br>artist=Antonín Dvořák<br>pop=%{x}<br>dnce=%{y}<br>dur=%{marker.size}<extra></extra>",
         "legendgroup": "classical, Antonín Dvořák",
         "marker": {
          "color": "#FF6692",
          "size": [
           433,
           775,
           747,
           690
          ],
          "sizemode": "area",
          "sizeref": 3.1025,
          "symbol": "diamond"
         },
         "mode": "markers",
         "name": "classical, Antonín Dvořák",
         "scene": "scene",
         "showlegend": true,
         "type": "scatter3d",
         "x": [
          61,
          44,
          37,
          32
         ],
         "y": [
          0,
          15,
          9,
          20
         ],
         "z": [
          "classical",
          "classical",
          "classical",
          "classical"
         ]
        },
        {
         "hovertemplate": "top genre=%{z}<br>artist=Wolfgang Amadeus Mozart<br>pop=%{x}<br>dnce=%{y}<br>dur=%{marker.size}<extra></extra>",
         "legendgroup": "classical, Wolfgang Amadeus Mozart",
         "marker": {
          "color": "#FF6692",
          "size": [
           170,
           428,
           219,
           559,
           293
          ],
          "sizemode": "area",
          "sizeref": 3.1025,
          "symbol": "square"
         },
         "mode": "markers",
         "name": "classical, Wolfgang Amadeus Mozart",
         "scene": "scene",
         "showlegend": true,
         "type": "scatter3d",
         "x": [
          61,
          41,
          37,
          13,
          12
         ],
         "y": [
          16,
          33,
          39,
          46,
          56
         ],
         "z": [
          "classical",
          "classical",
          "classical",
          "classical",
          "classical"
         ]
        },
        {
         "hovertemplate": "top genre=%{z}<br>artist=Charles Gounod<br>pop=%{x}<br>dnce=%{y}<br>dur=%{marker.size}<extra></extra>",
         "legendgroup": "classical, Charles Gounod",
         "marker": {
          "color": "#FF6692",
          "size": [
           163
          ],
          "sizemode": "area",
          "sizeref": 3.1025,
          "symbol": "circle"
         },
         "mode": "markers",
         "name": "classical, Charles Gounod",
         "scene": "scene",
         "showlegend": true,
         "type": "scatter3d",
         "x": [
          60
         ],
         "y": [
          13
         ],
         "z": [
          "classical"
         ]
        },
        {
         "hovertemplate": "top genre=%{z}<br>artist=Johannes Brahms<br>pop=%{x}<br>dnce=%{y}<br>dur=%{marker.size}<extra></extra>",
         "legendgroup": "classical, Johannes Brahms",
         "marker": {
          "color": "#FF6692",
          "size": [
           139,
           404
          ],
          "sizemode": "area",
          "sizeref": 3.1025,
          "symbol": "diamond"
         },
         "mode": "markers",
         "name": "classical, Johannes Brahms",
         "scene": "scene",
         "showlegend": true,
         "type": "scatter3d",
         "x": [
          60,
          15
         ],
         "y": [
          36,
          11
         ],
         "z": [
          "classical",
          "classical"
         ]
        },
        {
         "hovertemplate": "top genre=%{z}<br>artist=Felix Mendelssohn<br>pop=%{x}<br>dnce=%{y}<br>dur=%{marker.size}<extra></extra>",
         "legendgroup": "classical, Felix Mendelssohn",
         "marker": {
          "color": "#FF6692",
          "size": [
           283
          ],
          "sizemode": "area",
          "sizeref": 3.1025,
          "symbol": "square"
         },
         "mode": "markers",
         "name": "classical, Felix Mendelssohn",
         "scene": "scene",
         "showlegend": true,
         "type": "scatter3d",
         "x": [
          57
         ],
         "y": [
          36
         ],
         "z": [
          "classical"
         ]
        },
        {
         "hovertemplate": "top genre=%{z}<br>artist=Sergei Prokofiev<br>pop=%{x}<br>dnce=%{y}<br>dur=%{marker.size}<extra></extra>",
         "legendgroup": "classical, Sergei Prokofiev",
         "marker": {
          "color": "#FF6692",
          "size": [
           342
          ],
          "sizemode": "area",
          "sizeref": 3.1025,
          "symbol": "cross"
         },
         "mode": "markers",
         "name": "classical, Sergei Prokofiev",
         "scene": "scene",
         "showlegend": true,
         "type": "scatter3d",
         "x": [
          55
         ],
         "y": [
          21
         ],
         "z": [
          "classical"
         ]
        },
        {
         "hovertemplate": "top genre=%{z}<br>artist=Franz Liszt<br>pop=%{x}<br>dnce=%{y}<br>dur=%{marker.size}<extra></extra>",
         "legendgroup": "classical, Franz Liszt",
         "marker": {
          "color": "#FF6692",
          "size": [
           288,
           542,
           611
          ],
          "sizemode": "area",
          "sizeref": 3.1025,
          "symbol": "square"
         },
         "mode": "markers",
         "name": "classical, Franz Liszt",
         "scene": "scene",
         "showlegend": true,
         "type": "scatter3d",
         "x": [
          53,
          46,
          3
         ],
         "y": [
          28,
          35,
          19
         ],
         "z": [
          "classical",
          "classical",
          "classical"
         ]
        },
        {
         "hovertemplate": "top genre=%{z}<br>artist=Edvard Grieg<br>pop=%{x}<br>dnce=%{y}<br>dur=%{marker.size}<extra></extra>",
         "legendgroup": "classical, Edvard Grieg",
         "marker": {
          "color": "#FF6692",
          "size": [
           256,
           152
          ],
          "sizemode": "area",
          "sizeref": 3.1025,
          "symbol": "cross"
         },
         "mode": "markers",
         "name": "classical, Edvard Grieg",
         "scene": "scene",
         "showlegend": true,
         "type": "scatter3d",
         "x": [
          52,
          32
         ],
         "y": [
          41,
          43
         ],
         "z": [
          "classical",
          "classical"
         ]
        },
        {
         "hovertemplate": "top genre=%{z}<br>artist=Dmitri Shostakovich<br>pop=%{x}<br>dnce=%{y}<br>dur=%{marker.size}<extra></extra>",
         "legendgroup": "classical, Dmitri Shostakovich",
         "marker": {
          "color": "#FF6692",
          "size": [
           226,
           394,
           246,
           980,
           298,
           233
          ],
          "sizemode": "area",
          "sizeref": 3.1025,
          "symbol": "circle"
         },
         "mode": "markers",
         "name": "classical, Dmitri Shostakovich",
         "scene": "scene",
         "showlegend": true,
         "type": "scatter3d",
         "x": [
          51,
          37,
          35,
          31,
          27,
          3
         ],
         "y": [
          18,
          6,
          46,
          16,
          51,
          45
         ],
         "z": [
          "classical",
          "classical",
          "classical",
          "classical",
          "classical",
          "classical"
         ]
        },
        {
         "hovertemplate": "top genre=%{z}<br>artist=Samuel Barber<br>pop=%{x}<br>dnce=%{y}<br>dur=%{marker.size}<extra></extra>",
         "legendgroup": "classical, Samuel Barber",
         "marker": {
          "color": "#FF6692",
          "size": [
           596
          ],
          "sizemode": "area",
          "sizeref": 3.1025,
          "symbol": "square"
         },
         "mode": "markers",
         "name": "classical, Samuel Barber",
         "scene": "scene",
         "showlegend": true,
         "type": "scatter3d",
         "x": [
          50
         ],
         "y": [
          12
         ],
         "z": [
          "classical"
         ]
        },
        {
         "hovertemplate": "top genre=%{z}<br>artist=Camille Saint-Saëns<br>pop=%{x}<br>dnce=%{y}<br>dur=%{marker.size}<extra></extra>",
         "legendgroup": "classical, Camille Saint-Saëns",
         "marker": {
          "color": "#FF6692",
          "size": [
           122,
           161
          ],
          "sizemode": "area",
          "sizeref": 3.1025,
          "symbol": "diamond"
         },
         "mode": "markers",
         "name": "classical, Camille Saint-Saëns",
         "scene": "scene",
         "showlegend": true,
         "type": "scatter3d",
         "x": [
          46,
          42
         ],
         "y": [
          28,
          24
         ],
         "z": [
          "classical",
          "classical"
         ]
        },
        {
         "hovertemplate": "top genre=%{z}<br>artist=Johann Strauss II<br>pop=%{x}<br>dnce=%{y}<br>dur=%{marker.size}<extra></extra>",
         "legendgroup": "classical, Johann Strauss II",
         "marker": {
          "color": "#FF6692",
          "size": [
           460
          ],
          "sizemode": "area",
          "sizeref": 3.1025,
          "symbol": "x"
         },
         "mode": "markers",
         "name": "classical, Johann Strauss II",
         "scene": "scene",
         "showlegend": true,
         "type": "scatter3d",
         "x": [
          43
         ],
         "y": [
          39
         ],
         "z": [
          "classical"
         ]
        },
        {
         "hovertemplate": "top genre=%{z}<br>artist=Gioachino Rossini<br>pop=%{x}<br>dnce=%{y}<br>dur=%{marker.size}<extra></extra>",
         "legendgroup": "classical, Gioachino Rossini",
         "marker": {
          "color": "#FF6692",
          "size": [
           184,
           695
          ],
          "sizemode": "area",
          "sizeref": 3.1025,
          "symbol": "cross"
         },
         "mode": "markers",
         "name": "classical, Gioachino Rossini",
         "scene": "scene",
         "showlegend": true,
         "type": "scatter3d",
         "x": [
          43,
          39
         ],
         "y": [
          32,
          28
         ],
         "z": [
          "classical",
          "classical"
         ]
        },
        {
         "hovertemplate": "top genre=%{z}<br>artist=Muriël Bostdorp<br>pop=%{x}<br>dnce=%{y}<br>dur=%{marker.size}<extra></extra>",
         "legendgroup": "classical, Muriël Bostdorp",
         "marker": {
          "color": "#FF6692",
          "size": [
           176
          ],
          "sizemode": "area",
          "sizeref": 3.1025,
          "symbol": "cross"
         },
         "mode": "markers",
         "name": "classical, Muriël Bostdorp",
         "scene": "scene",
         "showlegend": true,
         "type": "scatter3d",
         "x": [
          36
         ],
         "y": [
          38
         ],
         "z": [
          "classical"
         ]
        },
        {
         "hovertemplate": "top genre=%{z}<br>artist=Georges Bizet<br>pop=%{x}<br>dnce=%{y}<br>dur=%{marker.size}<extra></extra>",
         "legendgroup": "classical, Georges Bizet",
         "marker": {
          "color": "#FF6692",
          "size": [
           232,
           132
          ],
          "sizemode": "area",
          "sizeref": 3.1025,
          "symbol": "circle"
         },
         "mode": "markers",
         "name": "classical, Georges Bizet",
         "scene": "scene",
         "showlegend": true,
         "type": "scatter3d",
         "x": [
          36,
          0
         ],
         "y": [
          31,
          61
         ],
         "z": [
          "classical",
          "classical"
         ]
        },
        {
         "hovertemplate": "top genre=%{z}<br>artist=Fazıl Say<br>pop=%{x}<br>dnce=%{y}<br>dur=%{marker.size}<extra></extra>",
         "legendgroup": "classical, Fazıl Say",
         "marker": {
          "color": "#FF6692",
          "size": [
           360
          ],
          "sizemode": "area",
          "sizeref": 3.1025,
          "symbol": "diamond"
         },
         "mode": "markers",
         "name": "classical, Fazıl Say",
         "scene": "scene",
         "showlegend": true,
         "type": "scatter3d",
         "x": [
          35
         ],
         "y": [
          40
         ],
         "z": [
          "classical"
         ]
        },
        {
         "hovertemplate": "top genre=%{z}<br>artist=Jacques Offenbach<br>pop=%{x}<br>dnce=%{y}<br>dur=%{marker.size}<extra></extra>",
         "legendgroup": "classical, Jacques Offenbach",
         "marker": {
          "color": "#FF6692",
          "size": [
           133
          ],
          "sizemode": "area",
          "sizeref": 3.1025,
          "symbol": "diamond"
         },
         "mode": "markers",
         "name": "classical, Jacques Offenbach",
         "scene": "scene",
         "showlegend": true,
         "type": "scatter3d",
         "x": [
          26
         ],
         "y": [
          46
         ],
         "z": [
          "classical"
         ]
        },
        {
         "hovertemplate": "top genre=%{z}<br>artist=James Lynam Molloy<br>pop=%{x}<br>dnce=%{y}<br>dur=%{marker.size}<extra></extra>",
         "legendgroup": "classical, James Lynam Molloy",
         "marker": {
          "color": "#FF6692",
          "size": [
           231
          ],
          "sizemode": "area",
          "sizeref": 3.1025,
          "symbol": "cross"
         },
         "mode": "markers",
         "name": "classical, James Lynam Molloy",
         "scene": "scene",
         "showlegend": true,
         "type": "scatter3d",
         "x": [
          23
         ],
         "y": [
          36
         ],
         "z": [
          "classical"
         ]
        },
        {
         "hovertemplate": "top genre=%{z}<br>artist=Giuseppe Verdi<br>pop=%{x}<br>dnce=%{y}<br>dur=%{marker.size}<extra></extra>",
         "legendgroup": "classical, Giuseppe Verdi",
         "marker": {
          "color": "#FF6692",
          "size": [
           169
          ],
          "sizemode": "area",
          "sizeref": 3.1025,
          "symbol": "square"
         },
         "mode": "markers",
         "name": "classical, Giuseppe Verdi",
         "scene": "scene",
         "showlegend": true,
         "type": "scatter3d",
         "x": [
          19
         ],
         "y": [
          36
         ],
         "z": [
          "classical"
         ]
        },
        {
         "hovertemplate": "top genre=%{z}<br>artist=Ottorino Respighi<br>pop=%{x}<br>dnce=%{y}<br>dur=%{marker.size}<extra></extra>",
         "legendgroup": "classical, Ottorino Respighi",
         "marker": {
          "color": "#FF6692",
          "size": [
           320
          ],
          "sizemode": "area",
          "sizeref": 3.1025,
          "symbol": "cross"
         },
         "mode": "markers",
         "name": "classical, Ottorino Respighi",
         "scene": "scene",
         "showlegend": true,
         "type": "scatter3d",
         "x": [
          17
         ],
         "y": [
          9
         ],
         "z": [
          "classical"
         ]
        },
        {
         "hovertemplate": "top genre=%{z}<br>artist=Franz Schubert<br>pop=%{x}<br>dnce=%{y}<br>dur=%{marker.size}<extra></extra>",
         "legendgroup": "classical, Franz Schubert",
         "marker": {
          "color": "#FF6692",
          "size": [
           408,
           238
          ],
          "sizemode": "area",
          "sizeref": 3.1025,
          "symbol": "diamond"
         },
         "mode": "markers",
         "name": "classical, Franz Schubert",
         "scene": "scene",
         "showlegend": true,
         "type": "scatter3d",
         "x": [
          12,
          1
         ],
         "y": [
          14,
          27
         ],
         "z": [
          "classical",
          "classical"
         ]
        },
        {
         "hovertemplate": "top genre=%{z}<br>artist=Aram Khachaturian<br>pop=%{x}<br>dnce=%{y}<br>dur=%{marker.size}<extra></extra>",
         "legendgroup": "classical, Aram Khachaturian",
         "marker": {
          "color": "#FF6692",
          "size": [
           146
          ],
          "sizemode": "area",
          "sizeref": 3.1025,
          "symbol": "circle"
         },
         "mode": "markers",
         "name": "classical, Aram Khachaturian",
         "scene": "scene",
         "showlegend": true,
         "type": "scatter3d",
         "x": [
          7
         ],
         "y": [
          46
         ],
         "z": [
          "classical"
         ]
        },
        {
         "hovertemplate": "top genre=%{z}<br>artist=F. Chopin<br>pop=%{x}<br>dnce=%{y}<br>dur=%{marker.size}<extra></extra>",
         "legendgroup": "classical, F. Chopin",
         "marker": {
          "color": "#FF6692",
          "size": [
           236
          ],
          "sizemode": "area",
          "sizeref": 3.1025,
          "symbol": "diamond"
         },
         "mode": "markers",
         "name": "classical, F. Chopin",
         "scene": "scene",
         "showlegend": true,
         "type": "scatter3d",
         "x": [
          6
         ],
         "y": [
          42
         ],
         "z": [
          "classical"
         ]
        },
        {
         "hovertemplate": "top genre=%{z}<br>artist=Sergei Rachmaninoff<br>pop=%{x}<br>dnce=%{y}<br>dur=%{marker.size}<extra></extra>",
         "legendgroup": "classical, Sergei Rachmaninoff",
         "marker": {
          "color": "#FF6692",
          "size": [
           193
          ],
          "sizemode": "area",
          "sizeref": 3.1025,
          "symbol": "square"
         },
         "mode": "markers",
         "name": "classical, Sergei Rachmaninoff",
         "scene": "scene",
         "showlegend": true,
         "type": "scatter3d",
         "x": [
          3
         ],
         "y": [
          34
         ],
         "z": [
          "classical"
         ]
        },
        {
         "hovertemplate": "top genre=%{z}<br>artist=mor ve ötesi<br>pop=%{x}<br>dnce=%{y}<br>dur=%{marker.size}<extra></extra>",
         "legendgroup": "turkish, mor ve ötesi",
         "marker": {
          "color": "#B6E880",
          "size": [
           204,
           231,
           249
          ],
          "sizemode": "area",
          "sizeref": 3.1025,
          "symbol": "x"
         },
         "mode": "markers",
         "name": "turkish, mor ve ötesi",
         "scene": "scene",
         "showlegend": true,
         "type": "scatter3d",
         "x": [
          66,
          62,
          58
         ],
         "y": [
          59,
          54,
          47
         ],
         "z": [
          "turkish",
          "turkish",
          "turkish"
         ]
        },
        {
         "hovertemplate": "top genre=%{z}<br>artist=Müslüm Gürses<br>pop=%{x}<br>dnce=%{y}<br>dur=%{marker.size}<extra></extra>",
         "legendgroup": "turkish, Müslüm Gürses",
         "marker": {
          "color": "#B6E880",
          "size": [
           258,
           279,
           268,
           266,
           382,
           343
          ],
          "sizemode": "area",
          "sizeref": 3.1025,
          "symbol": "circle"
         },
         "mode": "markers",
         "name": "turkish, Müslüm Gürses",
         "scene": "scene",
         "showlegend": true,
         "type": "scatter3d",
         "x": [
          62,
          61,
          60,
          52,
          51,
          47
         ],
         "y": [
          46,
          42,
          66,
          30,
          39,
          38
         ],
         "z": [
          "turkish",
          "turkish",
          "turkish",
          "turkish",
          "turkish",
          "turkish"
         ]
        },
        {
         "hovertemplate": "top genre=%{z}<br>artist=Rober Hatemo<br>pop=%{x}<br>dnce=%{y}<br>dur=%{marker.size}<extra></extra>",
         "legendgroup": "turkish, Rober Hatemo",
         "marker": {
          "color": "#B6E880",
          "size": [
           186
          ],
          "sizemode": "area",
          "sizeref": 3.1025,
          "symbol": "circle"
         },
         "mode": "markers",
         "name": "turkish, Rober Hatemo",
         "scene": "scene",
         "showlegend": true,
         "type": "scatter3d",
         "x": [
          61
         ],
         "y": [
          80
         ],
         "z": [
          "turkish"
         ]
        },
        {
         "hovertemplate": "top genre=%{z}<br>artist=Ahmet Kaya<br>pop=%{x}<br>dnce=%{y}<br>dur=%{marker.size}<extra></extra>",
         "legendgroup": "turkish, Ahmet Kaya",
         "marker": {
          "color": "#B6E880",
          "size": [
           271,
           267,
           348,
           233
          ],
          "sizemode": "area",
          "sizeref": 3.1025,
          "symbol": "x"
         },
         "mode": "markers",
         "name": "turkish, Ahmet Kaya",
         "scene": "scene",
         "showlegend": true,
         "type": "scatter3d",
         "x": [
          60,
          60,
          51,
          28
         ],
         "y": [
          67,
          65,
          34,
          43
         ],
         "z": [
          "turkish",
          "turkish",
          "turkish",
          "turkish"
         ]
        },
        {
         "hovertemplate": "top genre=%{z}<br>artist=Kaan Tangöze<br>pop=%{x}<br>dnce=%{y}<br>dur=%{marker.size}<extra></extra>",
         "legendgroup": "turkish, Kaan Tangöze",
         "marker": {
          "color": "#B6E880",
          "size": [
           277
          ],
          "sizemode": "area",
          "sizeref": 3.1025,
          "symbol": "cross"
         },
         "mode": "markers",
         "name": "turkish, Kaan Tangöze",
         "scene": "scene",
         "showlegend": true,
         "type": "scatter3d",
         "x": [
          60
         ],
         "y": [
          59
         ],
         "z": [
          "turkish"
         ]
        },
        {
         "hovertemplate": "top genre=%{z}<br>artist=Yıldız Tilbe<br>pop=%{x}<br>dnce=%{y}<br>dur=%{marker.size}<extra></extra>",
         "legendgroup": "turkish, Yıldız Tilbe",
         "marker": {
          "color": "#B6E880",
          "size": [
           315
          ],
          "sizemode": "area",
          "sizeref": 3.1025,
          "symbol": "circle"
         },
         "mode": "markers",
         "name": "turkish, Yıldız Tilbe",
         "scene": "scene",
         "showlegend": true,
         "type": "scatter3d",
         "x": [
          58
         ],
         "y": [
          56
         ],
         "z": [
          "turkish"
         ]
        },
        {
         "hovertemplate": "top genre=%{z}<br>artist=Neşet Ertaş<br>pop=%{x}<br>dnce=%{y}<br>dur=%{marker.size}<extra></extra>",
         "legendgroup": "turkish, Neşet Ertaş",
         "marker": {
          "color": "#B6E880",
          "size": [
           384,
           237,
           337
          ],
          "sizemode": "area",
          "sizeref": 3.1025,
          "symbol": "x"
         },
         "mode": "markers",
         "name": "turkish, Neşet Ertaş",
         "scene": "scene",
         "showlegend": true,
         "type": "scatter3d",
         "x": [
          57,
          56,
          38
         ],
         "y": [
          34,
          46,
          62
         ],
         "z": [
          "turkish",
          "turkish",
          "turkish"
         ]
        },
        {
         "hovertemplate": "top genre=%{z}<br>artist=Levent Yüksel<br>pop=%{x}<br>dnce=%{y}<br>dur=%{marker.size}<extra></extra>",
         "legendgroup": "turkish, Levent Yüksel",
         "marker": {
          "color": "#B6E880",
          "size": [
           306
          ],
          "sizemode": "area",
          "sizeref": 3.1025,
          "symbol": "circle"
         },
         "mode": "markers",
         "name": "turkish, Levent Yüksel",
         "scene": "scene",
         "showlegend": true,
         "type": "scatter3d",
         "x": [
          57
         ],
         "y": [
          66
         ],
         "z": [
          "turkish"
         ]
        },
        {
         "hovertemplate": "top genre=%{z}<br>artist=İsmail YK<br>pop=%{x}<br>dnce=%{y}<br>dur=%{marker.size}<extra></extra>",
         "legendgroup": "turkish, İsmail YK",
         "marker": {
          "color": "#B6E880",
          "size": [
           272,
           250
          ],
          "sizemode": "area",
          "sizeref": 3.1025,
          "symbol": "circle"
         },
         "mode": "markers",
         "name": "turkish, İsmail YK",
         "scene": "scene",
         "showlegend": true,
         "type": "scatter3d",
         "x": [
          55,
          51
         ],
         "y": [
          74,
          82
         ],
         "z": [
          "turkish",
          "turkish"
         ]
        },
        {
         "hovertemplate": "top genre=%{z}<br>artist=Zeki Müren<br>pop=%{x}<br>dnce=%{y}<br>dur=%{marker.size}<extra></extra>",
         "legendgroup": "turkish, Zeki Müren",
         "marker": {
          "color": "#B6E880",
          "size": [
           329,
           309,
           272,
           198
          ],
          "sizemode": "area",
          "sizeref": 3.1025,
          "symbol": "cross"
         },
         "mode": "markers",
         "name": "turkish, Zeki Müren",
         "scene": "scene",
         "showlegend": true,
         "type": "scatter3d",
         "x": [
          55,
          52,
          52,
          41
         ],
         "y": [
          39,
          26,
          27,
          36
         ],
         "z": [
          "turkish",
          "turkish",
          "turkish",
          "turkish"
         ]
        },
        {
         "hovertemplate": "top genre=%{z}<br>artist=Hadise<br>pop=%{x}<br>dnce=%{y}<br>dur=%{marker.size}<extra></extra>",
         "legendgroup": "turkish, Hadise",
         "marker": {
          "color": "#B6E880",
          "size": [
           200,
           208,
           189,
           191,
           183
          ],
          "sizemode": "area",
          "sizeref": 3.1025,
          "symbol": "circle"
         },
         "mode": "markers",
         "name": "turkish, Hadise",
         "scene": "scene",
         "showlegend": true,
         "type": "scatter3d",
         "x": [
          54,
          49,
          47,
          45,
          44
         ],
         "y": [
          84,
          68,
          81,
          76,
          75
         ],
         "z": [
          "turkish",
          "turkish",
          "turkish",
          "turkish",
          "turkish"
         ]
        },
        {
         "hovertemplate": "top genre=%{z}<br>artist=Nil Karaibrahimgil<br>pop=%{x}<br>dnce=%{y}<br>dur=%{marker.size}<extra></extra>",
         "legendgroup": "turkish, Nil Karaibrahimgil",
         "marker": {
          "color": "#B6E880",
          "size": [
           219,
           195,
           208,
           225,
           223,
           192
          ],
          "sizemode": "area",
          "sizeref": 3.1025,
          "symbol": "circle"
         },
         "mode": "markers",
         "name": "turkish, Nil Karaibrahimgil",
         "scene": "scene",
         "showlegend": true,
         "type": "scatter3d",
         "x": [
          53,
          51,
          50,
          49,
          47,
          43
         ],
         "y": [
          71,
          73,
          85,
          80,
          87,
          64
         ],
         "z": [
          "turkish",
          "turkish",
          "turkish",
          "turkish",
          "turkish",
          "turkish"
         ]
        },
        {
         "hovertemplate": "top genre=%{z}<br>artist=Orhan Gencebay<br>pop=%{x}<br>dnce=%{y}<br>dur=%{marker.size}<extra></extra>",
         "legendgroup": "turkish, Orhan Gencebay",
         "marker": {
          "color": "#B6E880",
          "size": [
           246,
           317,
           272,
           277,
           400,
           325
          ],
          "sizemode": "area",
          "sizeref": 3.1025,
          "symbol": "diamond"
         },
         "mode": "markers",
         "name": "turkish, Orhan Gencebay",
         "scene": "scene",
         "showlegend": true,
         "type": "scatter3d",
         "x": [
          52,
          48,
          45,
          42,
          42,
          37
         ],
         "y": [
          47,
          53,
          37,
          52,
          45,
          58
         ],
         "z": [
          "turkish",
          "turkish",
          "turkish",
          "turkish",
          "turkish",
          "turkish"
         ]
        },
        {
         "hovertemplate": "top genre=%{z}<br>artist=Aşkın Nur Yengi<br>pop=%{x}<br>dnce=%{y}<br>dur=%{marker.size}<extra></extra>",
         "legendgroup": "turkish, Aşkın Nur Yengi",
         "marker": {
          "color": "#B6E880",
          "size": [
           218
          ],
          "sizemode": "area",
          "sizeref": 3.1025,
          "symbol": "circle"
         },
         "mode": "markers",
         "name": "turkish, Aşkın Nur Yengi",
         "scene": "scene",
         "showlegend": true,
         "type": "scatter3d",
         "x": [
          51
         ],
         "y": [
          57
         ],
         "z": [
          "turkish"
         ]
        },
        {
         "hovertemplate": "top genre=%{z}<br>artist=Azer Bülbül<br>pop=%{x}<br>dnce=%{y}<br>dur=%{marker.size}<extra></extra>",
         "legendgroup": "turkish, Azer Bülbül",
         "marker": {
          "color": "#B6E880",
          "size": [
           296
          ],
          "sizemode": "area",
          "sizeref": 3.1025,
          "symbol": "x"
         },
         "mode": "markers",
         "name": "turkish, Azer Bülbül",
         "scene": "scene",
         "showlegend": true,
         "type": "scatter3d",
         "x": [
          50
         ],
         "y": [
          32
         ],
         "z": [
          "turkish"
         ]
        },
        {
         "hovertemplate": "top genre=%{z}<br>artist=Ümit Besen<br>pop=%{x}<br>dnce=%{y}<br>dur=%{marker.size}<extra></extra>",
         "legendgroup": "turkish, Ümit Besen",
         "marker": {
          "color": "#B6E880",
          "size": [
           290
          ],
          "sizemode": "area",
          "sizeref": 3.1025,
          "symbol": "cross"
         },
         "mode": "markers",
         "name": "turkish, Ümit Besen",
         "scene": "scene",
         "showlegend": true,
         "type": "scatter3d",
         "x": [
          50
         ],
         "y": [
          57
         ],
         "z": [
          "turkish"
         ]
        },
        {
         "hovertemplate": "top genre=%{z}<br>artist=Aşık Veysel<br>pop=%{x}<br>dnce=%{y}<br>dur=%{marker.size}<extra></extra>",
         "legendgroup": "turkish, Aşık Veysel",
         "marker": {
          "color": "#B6E880",
          "size": [
           155,
           517
          ],
          "sizemode": "area",
          "sizeref": 3.1025,
          "symbol": "circle"
         },
         "mode": "markers",
         "name": "turkish, Aşık Veysel",
         "scene": "scene",
         "showlegend": true,
         "type": "scatter3d",
         "x": [
          50,
          40
         ],
         "y": [
          61,
          52
         ],
         "z": [
          "turkish",
          "turkish"
         ]
        },
        {
         "hovertemplate": "top genre=%{z}<br>artist=Nazan Öncel<br>pop=%{x}<br>dnce=%{y}<br>dur=%{marker.size}<extra></extra>",
         "legendgroup": "turkish, Nazan Öncel",
         "marker": {
          "color": "#B6E880",
          "size": [
           228,
           204
          ],
          "sizemode": "area",
          "sizeref": 3.1025,
          "symbol": "circle"
         },
         "mode": "markers",
         "name": "turkish, Nazan Öncel",
         "scene": "scene",
         "showlegend": true,
         "type": "scatter3d",
         "x": [
          50,
          48
         ],
         "y": [
          77,
          72
         ],
         "z": [
          "turkish",
          "turkish"
         ]
        },
        {
         "hovertemplate": "top genre=%{z}<br>artist=Bülent Ersoy<br>pop=%{x}<br>dnce=%{y}<br>dur=%{marker.size}<extra></extra>",
         "legendgroup": "turkish, Bülent Ersoy",
         "marker": {
          "color": "#B6E880",
          "size": [
           325
          ],
          "sizemode": "area",
          "sizeref": 3.1025,
          "symbol": "circle"
         },
         "mode": "markers",
         "name": "turkish, Bülent Ersoy",
         "scene": "scene",
         "showlegend": true,
         "type": "scatter3d",
         "x": [
          48
         ],
         "y": [
          32
         ],
         "z": [
          "turkish"
         ]
        },
        {
         "hovertemplate": "top genre=%{z}<br>artist=Gülben Ergen<br>pop=%{x}<br>dnce=%{y}<br>dur=%{marker.size}<extra></extra>",
         "legendgroup": "turkish, Gülben Ergen",
         "marker": {
          "color": "#B6E880",
          "size": [
           237,
           204
          ],
          "sizemode": "area",
          "sizeref": 3.1025,
          "symbol": "square"
         },
         "mode": "markers",
         "name": "turkish, Gülben Ergen",
         "scene": "scene",
         "showlegend": true,
         "type": "scatter3d",
         "x": [
          46,
          39
         ],
         "y": [
          63,
          74
         ],
         "z": [
          "turkish",
          "turkish"
         ]
        },
        {
         "hovertemplate": "top genre=%{z}<br>artist=Selahattin Özdemir<br>pop=%{x}<br>dnce=%{y}<br>dur=%{marker.size}<extra></extra>",
         "legendgroup": "turkish, Selahattin Özdemir",
         "marker": {
          "color": "#B6E880",
          "size": [
           219
          ],
          "sizemode": "area",
          "sizeref": 3.1025,
          "symbol": "square"
         },
         "mode": "markers",
         "name": "turkish, Selahattin Özdemir",
         "scene": "scene",
         "showlegend": true,
         "type": "scatter3d",
         "x": [
          45
         ],
         "y": [
          50
         ],
         "z": [
          "turkish"
         ]
        },
        {
         "hovertemplate": "top genre=%{z}<br>artist=Nilüfer<br>pop=%{x}<br>dnce=%{y}<br>dur=%{marker.size}<extra></extra>",
         "legendgroup": "turkish, Nilüfer",
         "marker": {
          "color": "#B6E880",
          "size": [
           183,
           136
          ],
          "sizemode": "area",
          "sizeref": 3.1025,
          "symbol": "square"
         },
         "mode": "markers",
         "name": "turkish, Nilüfer",
         "scene": "scene",
         "showlegend": true,
         "type": "scatter3d",
         "x": [
          44,
          41
         ],
         "y": [
          56,
          56
         ],
         "z": [
          "turkish",
          "turkish"
         ]
        },
        {
         "hovertemplate": "top genre=%{z}<br>artist=Müzeyyen Senar<br>pop=%{x}<br>dnce=%{y}<br>dur=%{marker.size}<extra></extra>",
         "legendgroup": "turkish, Müzeyyen Senar",
         "marker": {
          "color": "#B6E880",
          "size": [
           356
          ],
          "sizemode": "area",
          "sizeref": 3.1025,
          "symbol": "square"
         },
         "mode": "markers",
         "name": "turkish, Müzeyyen Senar",
         "scene": "scene",
         "showlegend": true,
         "type": "scatter3d",
         "x": [
          43
         ],
         "y": [
          22
         ],
         "z": [
          "turkish"
         ]
        },
        {
         "hovertemplate": "top genre=%{z}<br>artist=Timuçin Esen<br>pop=%{x}<br>dnce=%{y}<br>dur=%{marker.size}<extra></extra>",
         "legendgroup": "turkish, Timuçin Esen",
         "marker": {
          "color": "#B6E880",
          "size": [
           337,
           332
          ],
          "sizemode": "area",
          "sizeref": 3.1025,
          "symbol": "x"
         },
         "mode": "markers",
         "name": "turkish, Timuçin Esen",
         "scene": "scene",
         "showlegend": true,
         "type": "scatter3d",
         "x": [
          42,
          37
         ],
         "y": [
          43,
          68
         ],
         "z": [
          "turkish",
          "turkish"
         ]
        },
        {
         "hovertemplate": "top genre=%{z}<br>artist=Ferdi Tayfur<br>pop=%{x}<br>dnce=%{y}<br>dur=%{marker.size}<extra></extra>",
         "legendgroup": "turkish, Ferdi Tayfur",
         "marker": {
          "color": "#B6E880",
          "size": [
           384
          ],
          "sizemode": "area",
          "sizeref": 3.1025,
          "symbol": "cross"
         },
         "mode": "markers",
         "name": "turkish, Ferdi Tayfur",
         "scene": "scene",
         "showlegend": true,
         "type": "scatter3d",
         "x": [
          40
         ],
         "y": [
          34
         ],
         "z": [
          "turkish"
         ]
        },
        {
         "hovertemplate": "top genre=%{z}<br>artist=Candan Erçetin<br>pop=%{x}<br>dnce=%{y}<br>dur=%{marker.size}<extra></extra>",
         "legendgroup": "turkish, Candan Erçetin",
         "marker": {
          "color": "#B6E880",
          "size": [
           234
          ],
          "sizemode": "area",
          "sizeref": 3.1025,
          "symbol": "x"
         },
         "mode": "markers",
         "name": "turkish, Candan Erçetin",
         "scene": "scene",
         "showlegend": true,
         "type": "scatter3d",
         "x": [
          38
         ],
         "y": [
          77
         ],
         "z": [
          "turkish"
         ]
        },
        {
         "hovertemplate": "top genre=%{z}<br>artist=Ali Ekber Çiçek<br>pop=%{x}<br>dnce=%{y}<br>dur=%{marker.size}<extra></extra>",
         "legendgroup": "turkish, Ali Ekber Çiçek",
         "marker": {
          "color": "#B6E880",
          "size": [
           409,
           281,
           320,
           241
          ],
          "sizemode": "area",
          "sizeref": 3.1025,
          "symbol": "square"
         },
         "mode": "markers",
         "name": "turkish, Ali Ekber Çiçek",
         "scene": "scene",
         "showlegend": true,
         "type": "scatter3d",
         "x": [
          35,
          34,
          27,
          9
         ],
         "y": [
          38,
          50,
          29,
          54
         ],
         "z": [
          "turkish",
          "turkish",
          "turkish",
          "turkish"
         ]
        },
        {
         "hovertemplate": "top genre=%{z}<br>artist=Şahin Kendirci<br>pop=%{x}<br>dnce=%{y}<br>dur=%{marker.size}<extra></extra>",
         "legendgroup": "turkish, Şahin Kendirci",
         "marker": {
          "color": "#B6E880",
          "size": [
           117,
           231
          ],
          "sizemode": "area",
          "sizeref": 3.1025,
          "symbol": "square"
         },
         "mode": "markers",
         "name": "turkish, Şahin Kendirci",
         "scene": "scene",
         "showlegend": true,
         "type": "scatter3d",
         "x": [
          25,
          16
         ],
         "y": [
          45,
          55
         ],
         "z": [
          "turkish",
          "turkish"
         ]
        },
        {
         "hovertemplate": "top genre=%{z}<br>artist=Urfalı Babi<br>pop=%{x}<br>dnce=%{y}<br>dur=%{marker.size}<extra></extra>",
         "legendgroup": "turkish, Urfalı Babi",
         "marker": {
          "color": "#B6E880",
          "size": [
           216
          ],
          "sizemode": "area",
          "sizeref": 3.1025,
          "symbol": "diamond"
         },
         "mode": "markers",
         "name": "turkish, Urfalı Babi",
         "scene": "scene",
         "showlegend": true,
         "type": "scatter3d",
         "x": [
          19
         ],
         "y": [
          50
         ],
         "z": [
          "turkish"
         ]
        },
        {
         "hovertemplate": "top genre=%{z}<br>artist=Ankaralı Namık<br>pop=%{x}<br>dnce=%{y}<br>dur=%{marker.size}<extra></extra>",
         "legendgroup": "turkish, Ankaralı Namık",
         "marker": {
          "color": "#B6E880",
          "size": [
           138,
           355
          ],
          "sizemode": "area",
          "sizeref": 3.1025,
          "symbol": "x"
         },
         "mode": "markers",
         "name": "turkish, Ankaralı Namık",
         "scene": "scene",
         "showlegend": true,
         "type": "scatter3d",
         "x": [
          14,
          7
         ],
         "y": [
          78,
          80
         ],
         "z": [
          "turkish",
          "turkish"
         ]
        },
        {
         "hovertemplate": "top genre=%{z}<br>artist=Tufan Altas<br>pop=%{x}<br>dnce=%{y}<br>dur=%{marker.size}<extra></extra>",
         "legendgroup": "turkish, Tufan Altas",
         "marker": {
          "color": "#B6E880",
          "size": [
           338
          ],
          "sizemode": "area",
          "sizeref": 3.1025,
          "symbol": "x"
         },
         "mode": "markers",
         "name": "turkish, Tufan Altas",
         "scene": "scene",
         "showlegend": true,
         "type": "scatter3d",
         "x": [
          9
         ],
         "y": [
          35
         ],
         "z": [
          "turkish"
         ]
        },
        {
         "hovertemplate": "top genre=%{z}<br>artist=Miles Davis<br>pop=%{x}<br>dnce=%{y}<br>dur=%{marker.size}<extra></extra>",
         "legendgroup": "jazz, Miles Davis",
         "marker": {
          "color": "#FF97FF",
          "size": [
           338
          ],
          "sizemode": "area",
          "sizeref": 3.1025,
          "symbol": "x"
         },
         "mode": "markers",
         "name": "jazz, Miles Davis",
         "scene": "scene",
         "showlegend": true,
         "type": "scatter3d",
         "x": [
          64
         ],
         "y": [
          42
         ],
         "z": [
          "jazz"
         ]
        },
        {
         "hovertemplate": "top genre=%{z}<br>artist=Trois Amis<br>pop=%{x}<br>dnce=%{y}<br>dur=%{marker.size}<extra></extra>",
         "legendgroup": "jazz, Trois Amis",
         "marker": {
          "color": "#FF97FF",
          "size": [
           192
          ],
          "sizemode": "area",
          "sizeref": 3.1025,
          "symbol": "x"
         },
         "mode": "markers",
         "name": "jazz, Trois Amis",
         "scene": "scene",
         "showlegend": true,
         "type": "scatter3d",
         "x": [
          61
         ],
         "y": [
          56
         ],
         "z": [
          "jazz"
         ]
        },
        {
         "hovertemplate": "top genre=%{z}<br>artist=Mehmet Güreli<br>pop=%{x}<br>dnce=%{y}<br>dur=%{marker.size}<extra></extra>",
         "legendgroup": "jazz, Mehmet Güreli",
         "marker": {
          "color": "#FF97FF",
          "size": [
           206
          ],
          "sizemode": "area",
          "sizeref": 3.1025,
          "symbol": "cross"
         },
         "mode": "markers",
         "name": "jazz, Mehmet Güreli",
         "scene": "scene",
         "showlegend": true,
         "type": "scatter3d",
         "x": [
          58
         ],
         "y": [
          68
         ],
         "z": [
          "jazz"
         ]
        },
        {
         "hovertemplate": "top genre=%{z}<br>artist=Charles Mingus<br>pop=%{x}<br>dnce=%{y}<br>dur=%{marker.size}<extra></extra>",
         "legendgroup": "jazz, Charles Mingus",
         "marker": {
          "color": "#FF97FF",
          "size": [
           342
          ],
          "sizemode": "area",
          "sizeref": 3.1025,
          "symbol": "square"
         },
         "mode": "markers",
         "name": "jazz, Charles Mingus",
         "scene": "scene",
         "showlegend": true,
         "type": "scatter3d",
         "x": [
          56
         ],
         "y": [
          36
         ],
         "z": [
          "jazz"
         ]
        },
        {
         "hovertemplate": "top genre=%{z}<br>artist=Robert Elovsson<br>pop=%{x}<br>dnce=%{y}<br>dur=%{marker.size}<extra></extra>",
         "legendgroup": "jazz, Robert Elovsson",
         "marker": {
          "color": "#FF97FF",
          "size": [
           178
          ],
          "sizemode": "area",
          "sizeref": 3.1025,
          "symbol": "x"
         },
         "mode": "markers",
         "name": "jazz, Robert Elovsson",
         "scene": "scene",
         "showlegend": true,
         "type": "scatter3d",
         "x": [
          55
         ],
         "y": [
          30
         ],
         "z": [
          "jazz"
         ]
        },
        {
         "hovertemplate": "top genre=%{z}<br>artist=Matthew Halsall<br>pop=%{x}<br>dnce=%{y}<br>dur=%{marker.size}<extra></extra>",
         "legendgroup": "jazz, Matthew Halsall",
         "marker": {
          "color": "#FF97FF",
          "size": [
           673
          ],
          "sizemode": "area",
          "sizeref": 3.1025,
          "symbol": "circle"
         },
         "mode": "markers",
         "name": "jazz, Matthew Halsall",
         "scene": "scene",
         "showlegend": true,
         "type": "scatter3d",
         "x": [
          55
         ],
         "y": [
          41
         ],
         "z": [
          "jazz"
         ]
        },
        {
         "hovertemplate": "top genre=%{z}<br>artist=Chick Corea<br>pop=%{x}<br>dnce=%{y}<br>dur=%{marker.size}<extra></extra>",
         "legendgroup": "jazz, Chick Corea",
         "marker": {
          "color": "#FF97FF",
          "size": [
           415
          ],
          "sizemode": "area",
          "sizeref": 3.1025,
          "symbol": "diamond"
         },
         "mode": "markers",
         "name": "jazz, Chick Corea",
         "scene": "scene",
         "showlegend": true,
         "type": "scatter3d",
         "x": [
          55
         ],
         "y": [
          20
         ],
         "z": [
          "jazz"
         ]
        },
        {
         "hovertemplate": "top genre=%{z}<br>artist=Ibrahim Maalouf<br>pop=%{x}<br>dnce=%{y}<br>dur=%{marker.size}<extra></extra>",
         "legendgroup": "jazz, Ibrahim Maalouf",
         "marker": {
          "color": "#FF97FF",
          "size": [
           291,
           277,
           296
          ],
          "sizemode": "area",
          "sizeref": 3.1025,
          "symbol": "square"
         },
         "mode": "markers",
         "name": "jazz, Ibrahim Maalouf",
         "scene": "scene",
         "showlegend": true,
         "type": "scatter3d",
         "x": [
          55,
          27,
          19
         ],
         "y": [
          29,
          35,
          24
         ],
         "z": [
          "jazz",
          "jazz",
          "jazz"
         ]
        },
        {
         "hovertemplate": "top genre=%{z}<br>artist=Milos Strevic<br>pop=%{x}<br>dnce=%{y}<br>dur=%{marker.size}<extra></extra>",
         "legendgroup": "jazz, Milos Strevic",
         "marker": {
          "color": "#FF97FF",
          "size": [
           212
          ],
          "sizemode": "area",
          "sizeref": 3.1025,
          "symbol": "x"
         },
         "mode": "markers",
         "name": "jazz, Milos Strevic",
         "scene": "scene",
         "showlegend": true,
         "type": "scatter3d",
         "x": [
          52
         ],
         "y": [
          37
         ],
         "z": [
          "jazz"
         ]
        },
        {
         "hovertemplate": "top genre=%{z}<br>artist=Brad Mehldau<br>pop=%{x}<br>dnce=%{y}<br>dur=%{marker.size}<extra></extra>",
         "legendgroup": "jazz, Brad Mehldau",
         "marker": {
          "color": "#FF97FF",
          "size": [
           101
          ],
          "sizemode": "area",
          "sizeref": 3.1025,
          "symbol": "diamond"
         },
         "mode": "markers",
         "name": "jazz, Brad Mehldau",
         "scene": "scene",
         "showlegend": true,
         "type": "scatter3d",
         "x": [
          50
         ],
         "y": [
          39
         ],
         "z": [
          "jazz"
         ]
        },
        {
         "hovertemplate": "top genre=%{z}<br>artist=Bill Charlap Trio<br>pop=%{x}<br>dnce=%{y}<br>dur=%{marker.size}<extra></extra>",
         "legendgroup": "jazz, Bill Charlap Trio",
         "marker": {
          "color": "#FF97FF",
          "size": [
           475
          ],
          "sizemode": "area",
          "sizeref": 3.1025,
          "symbol": "square"
         },
         "mode": "markers",
         "name": "jazz, Bill Charlap Trio",
         "scene": "scene",
         "showlegend": true,
         "type": "scatter3d",
         "x": [
          49
         ],
         "y": [
          39
         ],
         "z": [
          "jazz"
         ]
        },
        {
         "hovertemplate": "top genre=%{z}<br>artist=稲垣次郎とソウル・メディア<br>pop=%{x}<br>dnce=%{y}<br>dur=%{marker.size}<extra></extra>",
         "legendgroup": "jazz, 稲垣次郎とソウル・メディア",
         "marker": {
          "color": "#FF97FF",
          "size": [
           277
          ],
          "sizemode": "area",
          "sizeref": 3.1025,
          "symbol": "x"
         },
         "mode": "markers",
         "name": "jazz, 稲垣次郎とソウル・メディア",
         "scene": "scene",
         "showlegend": true,
         "type": "scatter3d",
         "x": [
          49
         ],
         "y": [
          61
         ],
         "z": [
          "jazz"
         ]
        },
        {
         "hovertemplate": "top genre=%{z}<br>artist=Wes Montgomery<br>pop=%{x}<br>dnce=%{y}<br>dur=%{marker.size}<extra></extra>",
         "legendgroup": "jazz, Wes Montgomery",
         "marker": {
          "color": "#FF97FF",
          "size": [
           292,
           375
          ],
          "sizemode": "area",
          "sizeref": 3.1025,
          "symbol": "cross"
         },
         "mode": "markers",
         "name": "jazz, Wes Montgomery",
         "scene": "scene",
         "showlegend": true,
         "type": "scatter3d",
         "x": [
          49,
          38
         ],
         "y": [
          57,
          48
         ],
         "z": [
          "jazz",
          "jazz"
         ]
        },
        {
         "hovertemplate": "top genre=%{z}<br>artist=Mirkelam<br>pop=%{x}<br>dnce=%{y}<br>dur=%{marker.size}<extra></extra>",
         "legendgroup": "jazz, Mirkelam",
         "marker": {
          "color": "#FF97FF",
          "size": [
           271,
           286
          ],
          "sizemode": "area",
          "sizeref": 3.1025,
          "symbol": "circle"
         },
         "mode": "markers",
         "name": "jazz, Mirkelam",
         "scene": "scene",
         "showlegend": true,
         "type": "scatter3d",
         "x": [
          48,
          40
         ],
         "y": [
          79,
          79
         ],
         "z": [
          "jazz",
          "jazz"
         ]
        },
        {
         "hovertemplate": "top genre=%{z}<br>artist=Jeremy Pelt<br>pop=%{x}<br>dnce=%{y}<br>dur=%{marker.size}<extra></extra>",
         "legendgroup": "jazz, Jeremy Pelt",
         "marker": {
          "color": "#FF97FF",
          "size": [
           438
          ],
          "sizemode": "area",
          "sizeref": 3.1025,
          "symbol": "square"
         },
         "mode": "markers",
         "name": "jazz, Jeremy Pelt",
         "scene": "scene",
         "showlegend": true,
         "type": "scatter3d",
         "x": [
          47
         ],
         "y": [
          30
         ],
         "z": [
          "jazz"
         ]
        },
        {
         "hovertemplate": "top genre=%{z}<br>artist=Avishai Cohen<br>pop=%{x}<br>dnce=%{y}<br>dur=%{marker.size}<extra></extra>",
         "legendgroup": "jazz, Avishai Cohen",
         "marker": {
          "color": "#FF97FF",
          "size": [
           445
          ],
          "sizemode": "area",
          "sizeref": 3.1025,
          "symbol": "x"
         },
         "mode": "markers",
         "name": "jazz, Avishai Cohen",
         "scene": "scene",
         "showlegend": true,
         "type": "scatter3d",
         "x": [
          47
         ],
         "y": [
          55
         ],
         "z": [
          "jazz"
         ]
        },
        {
         "hovertemplate": "top genre=%{z}<br>artist=Sertab Erener<br>pop=%{x}<br>dnce=%{y}<br>dur=%{marker.size}<extra></extra>",
         "legendgroup": "jazz, Sertab Erener",
         "marker": {
          "color": "#FF97FF",
          "size": [
           160,
           187,
           167
          ],
          "sizemode": "area",
          "sizeref": 3.1025,
          "symbol": "diamond"
         },
         "mode": "markers",
         "name": "jazz, Sertab Erener",
         "scene": "scene",
         "showlegend": true,
         "type": "scatter3d",
         "x": [
          46,
          43,
          38
         ],
         "y": [
          85,
          84,
          67
         ],
         "z": [
          "jazz",
          "jazz",
          "jazz"
         ]
        },
        {
         "hovertemplate": "top genre=%{z}<br>artist=Enrico Pieranunzi<br>pop=%{x}<br>dnce=%{y}<br>dur=%{marker.size}<extra></extra>",
         "legendgroup": "jazz, Enrico Pieranunzi",
         "marker": {
          "color": "#FF97FF",
          "size": [
           275
          ],
          "sizemode": "area",
          "sizeref": 3.1025,
          "symbol": "square"
         },
         "mode": "markers",
         "name": "jazz, Enrico Pieranunzi",
         "scene": "scene",
         "showlegend": true,
         "type": "scatter3d",
         "x": [
          46
         ],
         "y": [
          46
         ],
         "z": [
          "jazz"
         ]
        },
        {
         "hovertemplate": "top genre=%{z}<br>artist=Joey Alexander<br>pop=%{x}<br>dnce=%{y}<br>dur=%{marker.size}<extra></extra>",
         "legendgroup": "jazz, Joey Alexander",
         "marker": {
          "color": "#FF97FF",
          "size": [
           249
          ],
          "sizemode": "area",
          "sizeref": 3.1025,
          "symbol": "cross"
         },
         "mode": "markers",
         "name": "jazz, Joey Alexander",
         "scene": "scene",
         "showlegend": true,
         "type": "scatter3d",
         "x": [
          45
         ],
         "y": [
          35
         ],
         "z": [
          "jazz"
         ]
        },
        {
         "hovertemplate": "top genre=%{z}<br>artist=Joshua Redman Quartet<br>pop=%{x}<br>dnce=%{y}<br>dur=%{marker.size}<extra></extra>",
         "legendgroup": "jazz, Joshua Redman Quartet",
         "marker": {
          "color": "#FF97FF",
          "size": [
           407
          ],
          "sizemode": "area",
          "sizeref": 3.1025,
          "symbol": "x"
         },
         "mode": "markers",
         "name": "jazz, Joshua Redman Quartet",
         "scene": "scene",
         "showlegend": true,
         "type": "scatter3d",
         "x": [
          44
         ],
         "y": [
          53
         ],
         "z": [
          "jazz"
         ]
        },
        {
         "hovertemplate": "top genre=%{z}<br>artist=Eddie Henderson<br>pop=%{x}<br>dnce=%{y}<br>dur=%{marker.size}<extra></extra>",
         "legendgroup": "jazz, Eddie Henderson",
         "marker": {
          "color": "#FF97FF",
          "size": [
           292
          ],
          "sizemode": "area",
          "sizeref": 3.1025,
          "symbol": "cross"
         },
         "mode": "markers",
         "name": "jazz, Eddie Henderson",
         "scene": "scene",
         "showlegend": true,
         "type": "scatter3d",
         "x": [
          44
         ],
         "y": [
          66
         ],
         "z": [
          "jazz"
         ]
        },
        {
         "hovertemplate": "top genre=%{z}<br>artist=Scott Bradlee's Postmodern Jukebox<br>pop=%{x}<br>dnce=%{y}<br>dur=%{marker.size}<extra></extra>",
         "legendgroup": "jazz, Scott Bradlee's Postmodern Jukebox",
         "marker": {
          "color": "#FF97FF",
          "size": [
           244,
           266
          ],
          "sizemode": "area",
          "sizeref": 3.1025,
          "symbol": "circle"
         },
         "mode": "markers",
         "name": "jazz, Scott Bradlee's Postmodern Jukebox",
         "scene": "scene",
         "showlegend": true,
         "type": "scatter3d",
         "x": [
          43,
          32
         ],
         "y": [
          50,
          60
         ],
         "z": [
          "jazz",
          "jazz"
         ]
        },
        {
         "hovertemplate": "top genre=%{z}<br>artist=Eric Reed<br>pop=%{x}<br>dnce=%{y}<br>dur=%{marker.size}<extra></extra>",
         "legendgroup": "jazz, Eric Reed",
         "marker": {
          "color": "#FF97FF",
          "size": [
           529
          ],
          "sizemode": "area",
          "sizeref": 3.1025,
          "symbol": "diamond"
         },
         "mode": "markers",
         "name": "jazz, Eric Reed",
         "scene": "scene",
         "showlegend": true,
         "type": "scatter3d",
         "x": [
          43
         ],
         "y": [
          39
         ],
         "z": [
          "jazz"
         ]
        },
        {
         "hovertemplate": "top genre=%{z}<br>artist=Jimmy Forrest<br>pop=%{x}<br>dnce=%{y}<br>dur=%{marker.size}<extra></extra>",
         "legendgroup": "jazz, Jimmy Forrest",
         "marker": {
          "color": "#FF97FF",
          "size": [
           294
          ],
          "sizemode": "area",
          "sizeref": 3.1025,
          "symbol": "square"
         },
         "mode": "markers",
         "name": "jazz, Jimmy Forrest",
         "scene": "scene",
         "showlegend": true,
         "type": "scatter3d",
         "x": [
          43
         ],
         "y": [
          41
         ],
         "z": [
          "jazz"
         ]
        },
        {
         "hovertemplate": "top genre=%{z}<br>artist=JuJu Rogers<br>pop=%{x}<br>dnce=%{y}<br>dur=%{marker.size}<extra></extra>",
         "legendgroup": "jazz, JuJu Rogers",
         "marker": {
          "color": "#FF97FF",
          "size": [
           298
          ],
          "sizemode": "area",
          "sizeref": 3.1025,
          "symbol": "x"
         },
         "mode": "markers",
         "name": "jazz, JuJu Rogers",
         "scene": "scene",
         "showlegend": true,
         "type": "scatter3d",
         "x": [
          43
         ],
         "y": [
          67
         ],
         "z": [
          "jazz"
         ]
        },
        {
         "hovertemplate": "top genre=%{z}<br>artist=Lisa Lugar<br>pop=%{x}<br>dnce=%{y}<br>dur=%{marker.size}<extra></extra>",
         "legendgroup": "jazz, Lisa Lugar",
         "marker": {
          "color": "#FF97FF",
          "size": [
           273
          ],
          "sizemode": "area",
          "sizeref": 3.1025,
          "symbol": "cross"
         },
         "mode": "markers",
         "name": "jazz, Lisa Lugar",
         "scene": "scene",
         "showlegend": true,
         "type": "scatter3d",
         "x": [
          41
         ],
         "y": [
          37
         ],
         "z": [
          "jazz"
         ]
        },
        {
         "hovertemplate": "top genre=%{z}<br>artist=Lee Konitz<br>pop=%{x}<br>dnce=%{y}<br>dur=%{marker.size}<extra></extra>",
         "legendgroup": "jazz, Lee Konitz",
         "marker": {
          "color": "#FF97FF",
          "size": [
           447
          ],
          "sizemode": "area",
          "sizeref": 3.1025,
          "symbol": "circle"
         },
         "mode": "markers",
         "name": "jazz, Lee Konitz",
         "scene": "scene",
         "showlegend": true,
         "type": "scatter3d",
         "x": [
          40
         ],
         "y": [
          56
         ],
         "z": [
          "jazz"
         ]
        },
        {
         "hovertemplate": "top genre=%{z}<br>artist=Hank Crawford<br>pop=%{x}<br>dnce=%{y}<br>dur=%{marker.size}<extra></extra>",
         "legendgroup": "jazz, Hank Crawford",
         "marker": {
          "color": "#FF97FF",
          "size": [
           234
          ],
          "sizemode": "area",
          "sizeref": 3.1025,
          "symbol": "square"
         },
         "mode": "markers",
         "name": "jazz, Hank Crawford",
         "scene": "scene",
         "showlegend": true,
         "type": "scatter3d",
         "x": [
          38
         ],
         "y": [
          49
         ],
         "z": [
          "jazz"
         ]
        },
        {
         "hovertemplate": "top genre=%{z}<br>artist=Tchan-Tchou Vidal<br>pop=%{x}<br>dnce=%{y}<br>dur=%{marker.size}<extra></extra>",
         "legendgroup": "jazz, Tchan-Tchou Vidal",
         "marker": {
          "color": "#FF97FF",
          "size": [
           138
          ],
          "sizemode": "area",
          "sizeref": 3.1025,
          "symbol": "diamond"
         },
         "mode": "markers",
         "name": "jazz, Tchan-Tchou Vidal",
         "scene": "scene",
         "showlegend": true,
         "type": "scatter3d",
         "x": [
          37
         ],
         "y": [
          57
         ],
         "z": [
          "jazz"
         ]
        },
        {
         "hovertemplate": "top genre=%{z}<br>artist=24 Carat Black<br>pop=%{x}<br>dnce=%{y}<br>dur=%{marker.size}<extra></extra>",
         "legendgroup": "jazz, 24 Carat Black",
         "marker": {
          "color": "#FF97FF",
          "size": [
           435,
           763,
           388
          ],
          "sizemode": "area",
          "sizeref": 3.1025,
          "symbol": "diamond"
         },
         "mode": "markers",
         "name": "jazz, 24 Carat Black",
         "scene": "scene",
         "showlegend": true,
         "type": "scatter3d",
         "x": [
          36,
          26,
          18
         ],
         "y": [
          52,
          32,
          69
         ],
         "z": [
          "jazz",
          "jazz",
          "jazz"
         ]
        },
        {
         "hovertemplate": "top genre=%{z}<br>artist=Potatohead People<br>pop=%{x}<br>dnce=%{y}<br>dur=%{marker.size}<extra></extra>",
         "legendgroup": "jazz, Potatohead People",
         "marker": {
          "color": "#FF97FF",
          "size": [
           206
          ],
          "sizemode": "area",
          "sizeref": 3.1025,
          "symbol": "x"
         },
         "mode": "markers",
         "name": "jazz, Potatohead People",
         "scene": "scene",
         "showlegend": true,
         "type": "scatter3d",
         "x": [
          25
         ],
         "y": [
          76
         ],
         "z": [
          "jazz"
         ]
        },
        {
         "hovertemplate": "top genre=%{z}<br>artist=Stéphane Kerecki Quartet<br>pop=%{x}<br>dnce=%{y}<br>dur=%{marker.size}<extra></extra>",
         "legendgroup": "jazz, Stéphane Kerecki Quartet",
         "marker": {
          "color": "#FF97FF",
          "size": [
           432
          ],
          "sizemode": "area",
          "sizeref": 3.1025,
          "symbol": "cross"
         },
         "mode": "markers",
         "name": "jazz, Stéphane Kerecki Quartet",
         "scene": "scene",
         "showlegend": true,
         "type": "scatter3d",
         "x": [
          25
         ],
         "y": [
          50
         ],
         "z": [
          "jazz"
         ]
        },
        {
         "hovertemplate": "top genre=%{z}<br>artist=Grover Washington, Jr.<br>pop=%{x}<br>dnce=%{y}<br>dur=%{marker.size}<extra></extra>",
         "legendgroup": "jazz, Grover Washington, Jr.",
         "marker": {
          "color": "#FF97FF",
          "size": [
           438
          ],
          "sizemode": "area",
          "sizeref": 3.1025,
          "symbol": "circle"
         },
         "mode": "markers",
         "name": "jazz, Grover Washington, Jr.",
         "scene": "scene",
         "showlegend": true,
         "type": "scatter3d",
         "x": [
          20
         ],
         "y": [
          75
         ],
         "z": [
          "jazz"
         ]
        },
        {
         "hovertemplate": "top genre=%{z}<br>artist=Joe Farrell<br>pop=%{x}<br>dnce=%{y}<br>dur=%{marker.size}<extra></extra>",
         "legendgroup": "jazz, Joe Farrell",
         "marker": {
          "color": "#FF97FF",
          "size": [
           716
          ],
          "sizemode": "area",
          "sizeref": 3.1025,
          "symbol": "x"
         },
         "mode": "markers",
         "name": "jazz, Joe Farrell",
         "scene": "scene",
         "showlegend": true,
         "type": "scatter3d",
         "x": [
          17
         ],
         "y": [
          48
         ],
         "z": [
          "jazz"
         ]
        },
        {
         "hovertemplate": "top genre=%{z}<br>artist=Muddy Waters<br>pop=%{x}<br>dnce=%{y}<br>dur=%{marker.size}<extra></extra>",
         "legendgroup": "blues, Muddy Waters",
         "marker": {
          "color": "#FECB52",
          "size": [
           321,
           239
          ],
          "sizemode": "area",
          "sizeref": 3.1025,
          "symbol": "cross"
         },
         "mode": "markers",
         "name": "blues, Muddy Waters",
         "scene": "scene",
         "showlegend": true,
         "type": "scatter3d",
         "x": [
          64,
          55
         ],
         "y": [
          60,
          54
         ],
         "z": [
          "blues",
          "blues"
         ]
        },
        {
         "hovertemplate": "top genre=%{z}<br>artist=Luther Allison<br>pop=%{x}<br>dnce=%{y}<br>dur=%{marker.size}<extra></extra>",
         "legendgroup": "blues, Luther Allison",
         "marker": {
          "color": "#FECB52",
          "size": [
           446
          ],
          "sizemode": "area",
          "sizeref": 3.1025,
          "symbol": "square"
         },
         "mode": "markers",
         "name": "blues, Luther Allison",
         "scene": "scene",
         "showlegend": true,
         "type": "scatter3d",
         "x": [
          52
         ],
         "y": [
          64
         ],
         "z": [
          "blues"
         ]
        },
        {
         "hovertemplate": "top genre=%{z}<br>artist=Blind Willie McTell<br>pop=%{x}<br>dnce=%{y}<br>dur=%{marker.size}<extra></extra>",
         "legendgroup": "blues, Blind Willie McTell",
         "marker": {
          "color": "#FECB52",
          "size": [
           153
          ],
          "sizemode": "area",
          "sizeref": 3.1025,
          "symbol": "circle"
         },
         "mode": "markers",
         "name": "blues, Blind Willie McTell",
         "scene": "scene",
         "showlegend": true,
         "type": "scatter3d",
         "x": [
          22
         ],
         "y": [
          53
         ],
         "z": [
          "blues"
         ]
        },
        {
         "hovertemplate": "top genre=%{z}<br>artist=Natalie Merchant<br>pop=%{x}<br>dnce=%{y}<br>dur=%{marker.size}<extra></extra>",
         "legendgroup": "folk, Natalie Merchant",
         "marker": {
          "color": "#636efa",
          "size": [
           241
          ],
          "sizemode": "area",
          "sizeref": 3.1025,
          "symbol": "diamond"
         },
         "mode": "markers",
         "name": "folk, Natalie Merchant",
         "scene": "scene",
         "showlegend": true,
         "type": "scatter3d",
         "x": [
          59
         ],
         "y": [
          59
         ],
         "z": [
          "folk"
         ]
        },
        {
         "hovertemplate": "top genre=%{z}<br>artist=Wintergatan<br>pop=%{x}<br>dnce=%{y}<br>dur=%{marker.size}<extra></extra>",
         "legendgroup": "folk, Wintergatan",
         "marker": {
          "color": "#636efa",
          "size": [
           244
          ],
          "sizemode": "area",
          "sizeref": 3.1025,
          "symbol": "x"
         },
         "mode": "markers",
         "name": "folk, Wintergatan",
         "scene": "scene",
         "showlegend": true,
         "type": "scatter3d",
         "x": [
          48
         ],
         "y": [
          71
         ],
         "z": [
          "folk"
         ]
        }
       ],
       "layout": {
        "legend": {
         "itemsizing": "constant",
         "title": {
          "text": "top genre, artist"
         },
         "tracegroupgap": 0
        },
        "margin": {
         "t": 60
        },
        "scene": {
         "domain": {
          "x": [
           0,
           1
          ],
          "y": [
           0,
           1
          ]
         },
         "xaxis": {
          "autorange": "reversed",
          "title": {
           "text": "pop"
          }
         },
         "yaxis": {
          "autorange": "reversed",
          "title": {
           "text": "dnce"
          }
         },
         "zaxis": {
          "autorange": "reversed",
          "categoryarray": [
           "hip hop",
           "r&b",
           "rock",
           "pop",
           "rap",
           "metal",
           "indie",
           "drill",
           "dance",
           "reggae",
           "latin",
           "electronic",
           "lo-fi",
           "country",
           "house",
           "soul",
           "classical",
           "turkish",
           "jazz",
           "blues",
           "folk"
          ],
          "categoryorder": "array",
          "title": {
           "text": "top genre"
          }
         }
        },
        "template": {
         "data": {
          "bar": [
           {
            "error_x": {
             "color": "#2a3f5f"
            },
            "error_y": {
             "color": "#2a3f5f"
            },
            "marker": {
             "line": {
              "color": "#E5ECF6",
              "width": 0.5
             },
             "pattern": {
              "fillmode": "overlay",
              "size": 10,
              "solidity": 0.2
             }
            },
            "type": "bar"
           }
          ],
          "barpolar": [
           {
            "marker": {
             "line": {
              "color": "#E5ECF6",
              "width": 0.5
             },
             "pattern": {
              "fillmode": "overlay",
              "size": 10,
              "solidity": 0.2
             }
            },
            "type": "barpolar"
           }
          ],
          "carpet": [
           {
            "aaxis": {
             "endlinecolor": "#2a3f5f",
             "gridcolor": "white",
             "linecolor": "white",
             "minorgridcolor": "white",
             "startlinecolor": "#2a3f5f"
            },
            "baxis": {
             "endlinecolor": "#2a3f5f",
             "gridcolor": "white",
             "linecolor": "white",
             "minorgridcolor": "white",
             "startlinecolor": "#2a3f5f"
            },
            "type": "carpet"
           }
          ],
          "choropleth": [
           {
            "colorbar": {
             "outlinewidth": 0,
             "ticks": ""
            },
            "type": "choropleth"
           }
          ],
          "contour": [
           {
            "colorbar": {
             "outlinewidth": 0,
             "ticks": ""
            },
            "colorscale": [
             [
              0,
              "#0d0887"
             ],
             [
              0.1111111111111111,
              "#46039f"
             ],
             [
              0.2222222222222222,
              "#7201a8"
             ],
             [
              0.3333333333333333,
              "#9c179e"
             ],
             [
              0.4444444444444444,
              "#bd3786"
             ],
             [
              0.5555555555555556,
              "#d8576b"
             ],
             [
              0.6666666666666666,
              "#ed7953"
             ],
             [
              0.7777777777777778,
              "#fb9f3a"
             ],
             [
              0.8888888888888888,
              "#fdca26"
             ],
             [
              1,
              "#f0f921"
             ]
            ],
            "type": "contour"
           }
          ],
          "contourcarpet": [
           {
            "colorbar": {
             "outlinewidth": 0,
             "ticks": ""
            },
            "type": "contourcarpet"
           }
          ],
          "heatmap": [
           {
            "colorbar": {
             "outlinewidth": 0,
             "ticks": ""
            },
            "colorscale": [
             [
              0,
              "#0d0887"
             ],
             [
              0.1111111111111111,
              "#46039f"
             ],
             [
              0.2222222222222222,
              "#7201a8"
             ],
             [
              0.3333333333333333,
              "#9c179e"
             ],
             [
              0.4444444444444444,
              "#bd3786"
             ],
             [
              0.5555555555555556,
              "#d8576b"
             ],
             [
              0.6666666666666666,
              "#ed7953"
             ],
             [
              0.7777777777777778,
              "#fb9f3a"
             ],
             [
              0.8888888888888888,
              "#fdca26"
             ],
             [
              1,
              "#f0f921"
             ]
            ],
            "type": "heatmap"
           }
          ],
          "heatmapgl": [
           {
            "colorbar": {
             "outlinewidth": 0,
             "ticks": ""
            },
            "colorscale": [
             [
              0,
              "#0d0887"
             ],
             [
              0.1111111111111111,
              "#46039f"
             ],
             [
              0.2222222222222222,
              "#7201a8"
             ],
             [
              0.3333333333333333,
              "#9c179e"
             ],
             [
              0.4444444444444444,
              "#bd3786"
             ],
             [
              0.5555555555555556,
              "#d8576b"
             ],
             [
              0.6666666666666666,
              "#ed7953"
             ],
             [
              0.7777777777777778,
              "#fb9f3a"
             ],
             [
              0.8888888888888888,
              "#fdca26"
             ],
             [
              1,
              "#f0f921"
             ]
            ],
            "type": "heatmapgl"
           }
          ],
          "histogram": [
           {
            "marker": {
             "pattern": {
              "fillmode": "overlay",
              "size": 10,
              "solidity": 0.2
             }
            },
            "type": "histogram"
           }
          ],
          "histogram2d": [
           {
            "colorbar": {
             "outlinewidth": 0,
             "ticks": ""
            },
            "colorscale": [
             [
              0,
              "#0d0887"
             ],
             [
              0.1111111111111111,
              "#46039f"
             ],
             [
              0.2222222222222222,
              "#7201a8"
             ],
             [
              0.3333333333333333,
              "#9c179e"
             ],
             [
              0.4444444444444444,
              "#bd3786"
             ],
             [
              0.5555555555555556,
              "#d8576b"
             ],
             [
              0.6666666666666666,
              "#ed7953"
             ],
             [
              0.7777777777777778,
              "#fb9f3a"
             ],
             [
              0.8888888888888888,
              "#fdca26"
             ],
             [
              1,
              "#f0f921"
             ]
            ],
            "type": "histogram2d"
           }
          ],
          "histogram2dcontour": [
           {
            "colorbar": {
             "outlinewidth": 0,
             "ticks": ""
            },
            "colorscale": [
             [
              0,
              "#0d0887"
             ],
             [
              0.1111111111111111,
              "#46039f"
             ],
             [
              0.2222222222222222,
              "#7201a8"
             ],
             [
              0.3333333333333333,
              "#9c179e"
             ],
             [
              0.4444444444444444,
              "#bd3786"
             ],
             [
              0.5555555555555556,
              "#d8576b"
             ],
             [
              0.6666666666666666,
              "#ed7953"
             ],
             [
              0.7777777777777778,
              "#fb9f3a"
             ],
             [
              0.8888888888888888,
              "#fdca26"
             ],
             [
              1,
              "#f0f921"
             ]
            ],
            "type": "histogram2dcontour"
           }
          ],
          "mesh3d": [
           {
            "colorbar": {
             "outlinewidth": 0,
             "ticks": ""
            },
            "type": "mesh3d"
           }
          ],
          "parcoords": [
           {
            "line": {
             "colorbar": {
              "outlinewidth": 0,
              "ticks": ""
             }
            },
            "type": "parcoords"
           }
          ],
          "pie": [
           {
            "automargin": true,
            "type": "pie"
           }
          ],
          "scatter": [
           {
            "marker": {
             "colorbar": {
              "outlinewidth": 0,
              "ticks": ""
             }
            },
            "type": "scatter"
           }
          ],
          "scatter3d": [
           {
            "line": {
             "colorbar": {
              "outlinewidth": 0,
              "ticks": ""
             }
            },
            "marker": {
             "colorbar": {
              "outlinewidth": 0,
              "ticks": ""
             }
            },
            "type": "scatter3d"
           }
          ],
          "scattercarpet": [
           {
            "marker": {
             "colorbar": {
              "outlinewidth": 0,
              "ticks": ""
             }
            },
            "type": "scattercarpet"
           }
          ],
          "scattergeo": [
           {
            "marker": {
             "colorbar": {
              "outlinewidth": 0,
              "ticks": ""
             }
            },
            "type": "scattergeo"
           }
          ],
          "scattergl": [
           {
            "marker": {
             "colorbar": {
              "outlinewidth": 0,
              "ticks": ""
             }
            },
            "type": "scattergl"
           }
          ],
          "scattermapbox": [
           {
            "marker": {
             "colorbar": {
              "outlinewidth": 0,
              "ticks": ""
             }
            },
            "type": "scattermapbox"
           }
          ],
          "scatterpolar": [
           {
            "marker": {
             "colorbar": {
              "outlinewidth": 0,
              "ticks": ""
             }
            },
            "type": "scatterpolar"
           }
          ],
          "scatterpolargl": [
           {
            "marker": {
             "colorbar": {
              "outlinewidth": 0,
              "ticks": ""
             }
            },
            "type": "scatterpolargl"
           }
          ],
          "scatterternary": [
           {
            "marker": {
             "colorbar": {
              "outlinewidth": 0,
              "ticks": ""
             }
            },
            "type": "scatterternary"
           }
          ],
          "surface": [
           {
            "colorbar": {
             "outlinewidth": 0,
             "ticks": ""
            },
            "colorscale": [
             [
              0,
              "#0d0887"
             ],
             [
              0.1111111111111111,
              "#46039f"
             ],
             [
              0.2222222222222222,
              "#7201a8"
             ],
             [
              0.3333333333333333,
              "#9c179e"
             ],
             [
              0.4444444444444444,
              "#bd3786"
             ],
             [
              0.5555555555555556,
              "#d8576b"
             ],
             [
              0.6666666666666666,
              "#ed7953"
             ],
             [
              0.7777777777777778,
              "#fb9f3a"
             ],
             [
              0.8888888888888888,
              "#fdca26"
             ],
             [
              1,
              "#f0f921"
             ]
            ],
            "type": "surface"
           }
          ],
          "table": [
           {
            "cells": {
             "fill": {
              "color": "#EBF0F8"
             },
             "line": {
              "color": "white"
             }
            },
            "header": {
             "fill": {
              "color": "#C8D4E3"
             },
             "line": {
              "color": "white"
             }
            },
            "type": "table"
           }
          ]
         },
         "layout": {
          "annotationdefaults": {
           "arrowcolor": "#2a3f5f",
           "arrowhead": 0,
           "arrowwidth": 1
          },
          "autotypenumbers": "strict",
          "coloraxis": {
           "colorbar": {
            "outlinewidth": 0,
            "ticks": ""
           }
          },
          "colorscale": {
           "diverging": [
            [
             0,
             "#8e0152"
            ],
            [
             0.1,
             "#c51b7d"
            ],
            [
             0.2,
             "#de77ae"
            ],
            [
             0.3,
             "#f1b6da"
            ],
            [
             0.4,
             "#fde0ef"
            ],
            [
             0.5,
             "#f7f7f7"
            ],
            [
             0.6,
             "#e6f5d0"
            ],
            [
             0.7,
             "#b8e186"
            ],
            [
             0.8,
             "#7fbc41"
            ],
            [
             0.9,
             "#4d9221"
            ],
            [
             1,
             "#276419"
            ]
           ],
           "sequential": [
            [
             0,
             "#0d0887"
            ],
            [
             0.1111111111111111,
             "#46039f"
            ],
            [
             0.2222222222222222,
             "#7201a8"
            ],
            [
             0.3333333333333333,
             "#9c179e"
            ],
            [
             0.4444444444444444,
             "#bd3786"
            ],
            [
             0.5555555555555556,
             "#d8576b"
            ],
            [
             0.6666666666666666,
             "#ed7953"
            ],
            [
             0.7777777777777778,
             "#fb9f3a"
            ],
            [
             0.8888888888888888,
             "#fdca26"
            ],
            [
             1,
             "#f0f921"
            ]
           ],
           "sequentialminus": [
            [
             0,
             "#0d0887"
            ],
            [
             0.1111111111111111,
             "#46039f"
            ],
            [
             0.2222222222222222,
             "#7201a8"
            ],
            [
             0.3333333333333333,
             "#9c179e"
            ],
            [
             0.4444444444444444,
             "#bd3786"
            ],
            [
             0.5555555555555556,
             "#d8576b"
            ],
            [
             0.6666666666666666,
             "#ed7953"
            ],
            [
             0.7777777777777778,
             "#fb9f3a"
            ],
            [
             0.8888888888888888,
             "#fdca26"
            ],
            [
             1,
             "#f0f921"
            ]
           ]
          },
          "colorway": [
           "#636efa",
           "#EF553B",
           "#00cc96",
           "#ab63fa",
           "#FFA15A",
           "#19d3f3",
           "#FF6692",
           "#B6E880",
           "#FF97FF",
           "#FECB52"
          ],
          "font": {
           "color": "#2a3f5f"
          },
          "geo": {
           "bgcolor": "white",
           "lakecolor": "white",
           "landcolor": "#E5ECF6",
           "showlakes": true,
           "showland": true,
           "subunitcolor": "white"
          },
          "hoverlabel": {
           "align": "left"
          },
          "hovermode": "closest",
          "mapbox": {
           "style": "light"
          },
          "paper_bgcolor": "white",
          "plot_bgcolor": "#E5ECF6",
          "polar": {
           "angularaxis": {
            "gridcolor": "white",
            "linecolor": "white",
            "ticks": ""
           },
           "bgcolor": "#E5ECF6",
           "radialaxis": {
            "gridcolor": "white",
            "linecolor": "white",
            "ticks": ""
           }
          },
          "scene": {
           "xaxis": {
            "backgroundcolor": "#E5ECF6",
            "gridcolor": "white",
            "gridwidth": 2,
            "linecolor": "white",
            "showbackground": true,
            "ticks": "",
            "zerolinecolor": "white"
           },
           "yaxis": {
            "backgroundcolor": "#E5ECF6",
            "gridcolor": "white",
            "gridwidth": 2,
            "linecolor": "white",
            "showbackground": true,
            "ticks": "",
            "zerolinecolor": "white"
           },
           "zaxis": {
            "backgroundcolor": "#E5ECF6",
            "gridcolor": "white",
            "gridwidth": 2,
            "linecolor": "white",
            "showbackground": true,
            "ticks": "",
            "zerolinecolor": "white"
           }
          },
          "shapedefaults": {
           "line": {
            "color": "#2a3f5f"
           }
          },
          "ternary": {
           "aaxis": {
            "gridcolor": "white",
            "linecolor": "white",
            "ticks": ""
           },
           "baxis": {
            "gridcolor": "white",
            "linecolor": "white",
            "ticks": ""
           },
           "bgcolor": "#E5ECF6",
           "caxis": {
            "gridcolor": "white",
            "linecolor": "white",
            "ticks": ""
           }
          },
          "title": {
           "x": 0.05
          },
          "xaxis": {
           "automargin": true,
           "gridcolor": "white",
           "linecolor": "white",
           "ticks": "",
           "title": {
            "standoff": 15
           },
           "zerolinecolor": "white",
           "zerolinewidth": 2
          },
          "yaxis": {
           "automargin": true,
           "gridcolor": "white",
           "linecolor": "white",
           "ticks": "",
           "title": {
            "standoff": 15
           },
           "zerolinecolor": "white",
           "zerolinewidth": 2
          }
         }
        }
       }
      }
     },
     "metadata": {},
     "output_type": "display_data"
    }
   ],
   "source": [
    "\n",
    "\n",
    "fig = px.scatter_3d(df, x=\"pop\", y=\"dnce\", z=\"top genre\" , color=\"top genre\", symbol=\"artist\",size = \"dur\",)  \n",
    "fig.update_scenes(xaxis_autorange=\"reversed\")\n",
    "fig.update_scenes(yaxis_autorange=\"reversed\")\n",
    "fig.update_scenes(zaxis_autorange=\"reversed\")\n",
    "fig.show()\n",
    "\n",
    "fig.write_image(\"./fig1.svg\")\n",
    "\n"
   ]
  },
  {
   "cell_type": "markdown",
   "metadata": {},
   "source": [
    "![]<img src=\"./fig1.svg\">"
   ]
  },
  {
   "cell_type": "code",
   "execution_count": 620,
   "metadata": {},
   "outputs": [
    {
     "data": {
      "application/vnd.plotly.v1+json": {
       "config": {
        "plotlyServerURL": "https://plot.ly"
       },
       "data": [
        {
         "domain": {
          "x": [
           0,
           1
          ],
          "y": [
           0,
           1
          ]
         },
         "hovertemplate": "top genre=%{label}<br>pop=%{value}<extra></extra>",
         "labels": [
          "hip hop",
          "hip hop",
          "r&b",
          "rock",
          "hip hop",
          "r&b",
          "r&b",
          "pop",
          "hip hop",
          "hip hop",
          "pop",
          "pop",
          "rap",
          "pop",
          "pop",
          "rap",
          "rap",
          "pop",
          "pop",
          "hip hop",
          "rap",
          "hip hop",
          "rap",
          "r&b",
          "rap",
          "hip hop",
          "pop",
          "pop",
          "metal",
          "rap",
          "rock",
          "indie",
          "rap",
          "pop",
          "hip hop",
          "pop",
          "pop",
          "pop",
          "r&b",
          "drill",
          "rap",
          "hip hop",
          "hip hop",
          "rock",
          "rock",
          "pop",
          "pop",
          "pop",
          "rap",
          "rap",
          "rock",
          "hip hop",
          "rock",
          "rock",
          "drill",
          "drill",
          "rap",
          "rap",
          "rap",
          "rap",
          "metal",
          "hip hop",
          "hip hop",
          "pop",
          "hip hop",
          "rock",
          "rap",
          "dance",
          "rock",
          "rock",
          "pop",
          "hip hop",
          "hip hop",
          "pop",
          "pop",
          "rock",
          "rock",
          "rock",
          "rock",
          "hip hop",
          "hip hop",
          "hip hop",
          "metal",
          "pop",
          "pop",
          "hip hop",
          "rap",
          "pop",
          "pop",
          "rap",
          "rock",
          "pop",
          "pop",
          "rock",
          "pop",
          "pop",
          "pop",
          "drill",
          "drill",
          "rock",
          "metal",
          "hip hop",
          "pop",
          "rap",
          "rap",
          "hip hop",
          "rap",
          "pop",
          "rap",
          "pop",
          "hip hop",
          "hip hop",
          "rap",
          "hip hop",
          "hip hop",
          "hip hop",
          "pop",
          "pop",
          "reggae",
          "hip hop",
          "hip hop",
          "hip hop",
          "rap",
          "rap",
          "pop",
          "hip hop",
          "rock",
          "rock",
          "pop",
          "pop",
          "latin",
          "r&b",
          "rap",
          "rap",
          "rap",
          "hip hop",
          "hip hop",
          "indie",
          "rock",
          "pop",
          "pop",
          "hip hop",
          "hip hop",
          "rap",
          "hip hop",
          "hip hop",
          "hip hop",
          "dance",
          "hip hop",
          "rap",
          "rap",
          "pop",
          "rock",
          "rock",
          "rap",
          "hip hop",
          "hip hop",
          "hip hop",
          "rock",
          "hip hop",
          "electronic",
          "hip hop",
          "hip hop",
          "pop",
          "hip hop",
          "hip hop",
          "r&b",
          "rock",
          "lo-fi",
          "rap",
          "drill",
          "hip hop",
          "hip hop",
          "hip hop",
          "hip hop",
          "hip hop",
          "country",
          "hip hop",
          "hip hop",
          "hip hop",
          "hip hop",
          "hip hop",
          "metal",
          "dance",
          "rock",
          "rock",
          "electronic",
          "hip hop",
          "rap",
          "rap",
          "rock",
          "pop",
          "pop",
          "hip hop",
          "hip hop",
          "pop",
          "hip hop",
          "hip hop",
          "pop",
          "rap",
          "rap",
          "pop",
          "hip hop",
          "rap",
          "rap",
          "pop",
          "hip hop",
          "rap",
          "rap",
          "rap",
          "rap",
          "electronic",
          "rap",
          "rap",
          "rap",
          "hip hop",
          "electronic",
          "rock",
          "rock",
          "hip hop",
          "pop",
          "rap",
          "hip hop",
          "hip hop",
          "hip hop",
          "hip hop",
          "pop",
          "rap",
          "hip hop",
          "hip hop",
          "rap",
          "hip hop",
          "hip hop",
          "dance",
          "hip hop",
          "hip hop",
          "hip hop",
          "hip hop",
          "hip hop",
          "hip hop",
          "hip hop",
          "hip hop",
          "hip hop",
          "r&b",
          "dance",
          "rap",
          "pop",
          "rock",
          "rap",
          "pop",
          "hip hop",
          "hip hop",
          "hip hop",
          "rap",
          "rap",
          "hip hop",
          "rap",
          "indie",
          "hip hop",
          "indie",
          "rock",
          "dance",
          "rock",
          "hip hop",
          "rap",
          "hip hop",
          "pop",
          "rock",
          "hip hop",
          "hip hop",
          "rap",
          "hip hop",
          "indie",
          "pop",
          "hip hop",
          "hip hop",
          "country",
          "hip hop",
          "hip hop",
          "rap",
          "rap",
          "hip hop",
          "pop",
          "house",
          "rap",
          "rock",
          "rap",
          "rap",
          "hip hop",
          "electronic",
          "hip hop",
          "rap",
          "indie",
          "rock",
          "rock",
          "hip hop",
          "rap",
          "hip hop",
          "hip hop",
          "pop",
          "pop",
          "pop",
          "hip hop",
          "rap",
          "hip hop",
          "rap",
          "hip hop",
          "rap",
          "hip hop",
          "hip hop",
          "rock",
          "rap",
          "hip hop",
          "pop",
          "hip hop",
          "rap",
          "hip hop",
          "hip hop",
          "rap",
          "pop",
          "hip hop",
          "pop",
          "hip hop",
          "hip hop",
          "hip hop",
          "rap",
          "hip hop",
          "pop",
          "indie",
          "rock",
          "pop",
          "dance",
          "pop",
          "hip hop",
          "rap",
          "hip hop",
          "hip hop",
          "hip hop",
          "hip hop",
          "rock",
          "r&b",
          "rock",
          "rock",
          "rap",
          "rap",
          "hip hop",
          "hip hop",
          "hip hop",
          "rap",
          "rap",
          "hip hop",
          "r&b",
          "dance",
          "hip hop",
          "hip hop",
          "dance",
          "electronic",
          "rap",
          "hip hop",
          "hip hop",
          "hip hop",
          "hip hop",
          "hip hop",
          "rock",
          "pop",
          "hip hop",
          "rap",
          "rap",
          "pop",
          "pop",
          "pop",
          "pop",
          "rock",
          "r&b",
          "r&b",
          "drill",
          "indie",
          "rap",
          "rap",
          "drill",
          "hip hop",
          "pop",
          "rock",
          "hip hop",
          "hip hop",
          "hip hop",
          "hip hop",
          "hip hop",
          "hip hop",
          "pop",
          "hip hop",
          "rock",
          "hip hop",
          "rap",
          "metal",
          "hip hop",
          "hip hop",
          "hip hop",
          "hip hop",
          "rap",
          "rock",
          "hip hop",
          "rap",
          "hip hop",
          "rap",
          "rock",
          "rock",
          "rock",
          "hip hop",
          "pop",
          "hip hop",
          "hip hop",
          "hip hop",
          "hip hop",
          "dance",
          "rap",
          "rap",
          "drill",
          "hip hop",
          "hip hop",
          "rock",
          "metal",
          "hip hop",
          "hip hop",
          "pop",
          "hip hop",
          "rap",
          "hip hop",
          "pop",
          "pop",
          "rap",
          "rap",
          "lo-fi",
          "rap",
          "rap",
          "hip hop",
          "rap",
          "hip hop",
          "rap",
          "rap",
          "hip hop",
          "rap",
          "hip hop",
          "latin",
          "soul",
          "dance",
          "hip hop",
          "hip hop",
          "electronic",
          "hip hop",
          "pop",
          "r&b",
          "hip hop",
          "rap",
          "rap",
          "hip hop",
          "hip hop",
          "hip hop",
          "rap",
          "rock",
          "hip hop",
          "hip hop",
          "dance",
          "hip hop",
          "pop",
          "pop",
          "rap",
          "hip hop",
          "hip hop",
          "rap",
          "pop",
          "pop",
          "hip hop",
          "pop",
          "rock",
          "hip hop",
          "hip hop",
          "drill",
          "hip hop",
          "rap",
          "rap",
          "hip hop",
          "hip hop",
          "hip hop",
          "pop",
          "hip hop",
          "r&b",
          "rap",
          "dance",
          "metal",
          "pop",
          "pop",
          "rap",
          "pop",
          "hip hop",
          "hip hop",
          "hip hop",
          "hip hop",
          "hip hop",
          "pop",
          "hip hop",
          "rap",
          "hip hop",
          "rap",
          "hip hop",
          "rap",
          "pop",
          "dance",
          "pop",
          "indie",
          "pop",
          "rock",
          "indie",
          "rock",
          "pop",
          "pop",
          "hip hop",
          "hip hop",
          "hip hop",
          "pop",
          "rock",
          "classical",
          "classical",
          "r&b",
          "rap",
          "hip hop",
          "dance",
          "rap",
          "rap",
          "rock",
          "hip hop",
          "hip hop",
          "hip hop",
          "hip hop",
          "hip hop",
          "hip hop",
          "hip hop",
          "hip hop",
          "rock",
          "rap",
          "hip hop",
          "hip hop",
          "rap",
          "rap",
          "dance",
          "rap",
          "rap",
          "hip hop",
          "hip hop",
          "hip hop",
          "rock",
          "rock",
          "hip hop",
          "hip hop",
          "rap",
          "rap",
          "rap",
          "rock",
          "dance",
          "hip hop",
          "hip hop",
          "hip hop",
          "rap",
          "rap",
          "hip hop",
          "pop",
          "hip hop",
          "pop",
          "rap",
          "hip hop",
          "hip hop",
          "hip hop",
          "hip hop",
          "classical",
          "r&b",
          "hip hop",
          "hip hop",
          "hip hop",
          "lo-fi",
          "pop",
          "hip hop",
          "rap",
          "rap",
          "hip hop",
          "hip hop",
          "hip hop",
          "hip hop",
          "rap",
          "hip hop",
          "hip hop",
          "hip hop",
          "rap",
          "rock",
          "lo-fi",
          "dance",
          "electronic",
          "hip hop",
          "hip hop",
          "hip hop",
          "hip hop",
          "rap",
          "hip hop",
          "hip hop",
          "rap",
          "rap",
          "hip hop",
          "rock",
          "rock",
          "rap",
          "rap",
          "pop",
          "rap",
          "rock",
          "pop",
          "pop",
          "turkish",
          "hip hop",
          "rap",
          "electronic",
          "hip hop",
          "hip hop",
          "hip hop",
          "hip hop",
          "rock",
          "electronic",
          "hip hop",
          "hip hop",
          "rap",
          "rap",
          "rap",
          "hip hop",
          "hip hop",
          "rap",
          "hip hop",
          "hip hop",
          "rap",
          "hip hop",
          "hip hop",
          "pop",
          "pop",
          "rap",
          "hip hop",
          "rap",
          "pop",
          "hip hop",
          "rap",
          "hip hop",
          "rap",
          "hip hop",
          "hip hop",
          "hip hop",
          "hip hop",
          "hip hop",
          "hip hop",
          "pop",
          "pop",
          "rock",
          "indie",
          "dance",
          "indie",
          "dance",
          "pop",
          "indie",
          "hip hop",
          "rap",
          "hip hop",
          "pop",
          "pop",
          "hip hop",
          "electronic",
          "hip hop",
          "rap",
          "hip hop",
          "pop",
          "r&b",
          "hip hop",
          "hip hop",
          "rap",
          "hip hop",
          "rap",
          "hip hop",
          "hip hop",
          "r&b",
          "pop",
          "hip hop",
          "rap",
          "rap",
          "rap",
          "hip hop",
          "hip hop",
          "rap",
          "hip hop",
          "hip hop",
          "rap",
          "rap",
          "pop",
          "hip hop",
          "hip hop",
          "hip hop",
          "hip hop",
          "hip hop",
          "pop",
          "hip hop",
          "rap",
          "hip hop",
          "hip hop",
          "hip hop",
          "pop",
          "indie",
          "indie",
          "dance",
          "dance",
          "indie",
          "pop",
          "rap",
          "hip hop",
          "rap",
          "hip hop",
          "rap",
          "r&b",
          "pop",
          "hip hop",
          "rap",
          "pop",
          "rock",
          "pop",
          "pop",
          "rock",
          "rock",
          "classical",
          "classical",
          "jazz",
          "blues",
          "rap",
          "hip hop",
          "hip hop",
          "hip hop",
          "pop",
          "rap",
          "hip hop",
          "hip hop",
          "hip hop",
          "hip hop",
          "hip hop",
          "rap",
          "rap",
          "rap",
          "hip hop",
          "hip hop",
          "pop",
          "hip hop",
          "hip hop",
          "hip hop",
          "hip hop",
          "dance",
          "rap",
          "rap",
          "rap",
          "pop",
          "pop",
          "hip hop",
          "hip hop",
          "hip hop",
          "hip hop",
          "hip hop",
          "rap",
          "rap",
          "hip hop",
          "rap",
          "hip hop",
          "hip hop",
          "indie",
          "pop",
          "indie",
          "rock",
          "rap",
          "rap",
          "hip hop",
          "hip hop",
          "hip hop",
          "lo-fi",
          "hip hop",
          "hip hop",
          "hip hop",
          "pop",
          "pop",
          "rock",
          "pop",
          "hip hop",
          "hip hop",
          "dance",
          "rap",
          "hip hop",
          "hip hop",
          "rap",
          "hip hop",
          "hip hop",
          "rap",
          "hip hop",
          "rap",
          "hip hop",
          "hip hop",
          "hip hop",
          "hip hop",
          "hip hop",
          "rap",
          "rap",
          "hip hop",
          "hip hop",
          "pop",
          "hip hop",
          "electronic",
          "rock",
          "rap",
          "rap",
          "rap",
          "indie",
          "rap",
          "hip hop",
          "rock",
          "hip hop",
          "hip hop",
          "hip hop",
          "pop",
          "rap",
          "turkish",
          "rap",
          "hip hop",
          "hip hop",
          "rap",
          "hip hop",
          "hip hop",
          "rap",
          "rap",
          "hip hop",
          "rap",
          "pop",
          "dance",
          "rock",
          "indie",
          "rap",
          "rap",
          "hip hop",
          "rap",
          "rap",
          "hip hop",
          "rap",
          "hip hop",
          "hip hop",
          "hip hop",
          "rap",
          "rap",
          "rap",
          "pop",
          "pop",
          "turkish",
          "pop",
          "pop",
          "hip hop",
          "drill",
          "hip hop",
          "rap",
          "hip hop",
          "rock",
          "dance",
          "rock",
          "hip hop",
          "hip hop",
          "rap",
          "rap",
          "rap",
          "hip hop",
          "hip hop",
          "hip hop",
          "rock",
          "hip hop",
          "soul",
          "rap",
          "hip hop",
          "hip hop",
          "dance",
          "pop",
          "rock",
          "pop",
          "hip hop",
          "hip hop",
          "rap",
          "turkish",
          "hip hop",
          "hip hop",
          "hip hop",
          "hip hop",
          "hip hop",
          "hip hop",
          "rap",
          "hip hop",
          "hip hop",
          "hip hop",
          "rap",
          "pop",
          "rock",
          "electronic",
          "rock",
          "dance",
          "rock",
          "pop",
          "hip hop",
          "hip hop",
          "hip hop",
          "rap",
          "hip hop",
          "hip hop",
          "hip hop",
          "pop",
          "hip hop",
          "pop",
          "pop",
          "pop",
          "pop",
          "turkish",
          "classical",
          "classical",
          "jazz",
          "hip hop",
          "rap",
          "rap",
          "rap",
          "rap",
          "rap",
          "drill",
          "rock",
          "rap",
          "hip hop",
          "hip hop",
          "hip hop",
          "hip hop",
          "hip hop",
          "hip hop",
          "hip hop",
          "hip hop",
          "hip hop",
          "hip hop",
          "rap",
          "hip hop",
          "hip hop",
          "hip hop",
          "turkish",
          "turkish",
          "turkish",
          "rap",
          "rap",
          "rap",
          "rap",
          "hip hop",
          "hip hop",
          "hip hop",
          "rap",
          "hip hop",
          "hip hop",
          "hip hop",
          "hip hop",
          "pop",
          "pop",
          "rock",
          "pop",
          "dance",
          "dance",
          "hip hop",
          "pop",
          "hip hop",
          "hip hop",
          "hip hop",
          "hip hop",
          "hip hop",
          "pop",
          "hip hop",
          "rap",
          "pop",
          "pop",
          "pop",
          "turkish",
          "classical",
          "classical",
          "pop",
          "soul",
          "rap",
          "hip hop",
          "indie",
          "hip hop",
          "rap",
          "dance",
          "drill",
          "drill",
          "hip hop",
          "hip hop",
          "hip hop",
          "hip hop",
          "hip hop",
          "hip hop",
          "hip hop",
          "hip hop",
          "hip hop",
          "indie",
          "rap",
          "hip hop",
          "pop",
          "hip hop",
          "hip hop",
          "pop",
          "pop",
          "pop",
          "rap",
          "rap",
          "electronic",
          "rap",
          "hip hop",
          "hip hop",
          "hip hop",
          "hip hop",
          "rap",
          "rap",
          "rap",
          "hip hop",
          "hip hop",
          "hip hop",
          "hip hop",
          "rap",
          "rap",
          "house",
          "indie",
          "rock",
          "pop",
          "indie",
          "dance",
          "dance",
          "dance",
          "hip hop",
          "r&b",
          "hip hop",
          "hip hop",
          "hip hop",
          "electronic",
          "rap",
          "hip hop",
          "pop",
          "dance",
          "pop",
          "pop",
          "pop",
          "pop",
          "pop",
          "pop",
          "soul",
          "hip hop",
          "rap",
          "rap",
          "drill",
          "folk",
          "metal",
          "country",
          "house",
          "hip hop",
          "rap",
          "hip hop",
          "hip hop",
          "hip hop",
          "hip hop",
          "hip hop",
          "rap",
          "hip hop",
          "hip hop",
          "pop",
          "electronic",
          "rap",
          "hip hop",
          "hip hop",
          "hip hop",
          "hip hop",
          "metal",
          "hip hop",
          "pop",
          "rap",
          "turkish",
          "pop",
          "pop",
          "pop",
          "hip hop",
          "hip hop",
          "hip hop",
          "hip hop",
          "rap",
          "hip hop",
          "hip hop",
          "hip hop",
          "hip hop",
          "hip hop",
          "hip hop",
          "hip hop",
          "hip hop",
          "pop",
          "rock",
          "pop",
          "indie",
          "dance",
          "rock",
          "dance",
          "indie",
          "hip hop",
          "electronic",
          "pop",
          "rap",
          "rap",
          "rap",
          "hip hop",
          "hip hop",
          "hip hop",
          "hip hop",
          "pop",
          "hip hop",
          "hip hop",
          "pop",
          "pop",
          "turkish",
          "rock",
          "pop",
          "pop",
          "jazz",
          "pop",
          "pop",
          "pop",
          "indie",
          "hip hop",
          "rap",
          "hip hop",
          "hip hop",
          "rap",
          "dance",
          "dance",
          "rock",
          "rock",
          "electronic",
          "drill",
          "rap",
          "hip hop",
          "hip hop",
          "hip hop",
          "hip hop",
          "hip hop",
          "rap",
          "hip hop",
          "hip hop",
          "hip hop",
          "rock",
          "pop",
          "hip hop",
          "pop",
          "pop",
          "dance",
          "rap",
          "house",
          "turkish",
          "pop",
          "hip hop",
          "hip hop",
          "hip hop",
          "hip hop",
          "rap",
          "hip hop",
          "hip hop",
          "rap",
          "hip hop",
          "hip hop",
          "hip hop",
          "hip hop",
          "rap",
          "hip hop",
          "hip hop",
          "hip hop",
          "hip hop",
          "hip hop",
          "rap",
          "electronic",
          "indie",
          "indie",
          "rock",
          "rock",
          "pop",
          "rock",
          "indie",
          "rap",
          "hip hop",
          "rap",
          "rap",
          "hip hop",
          "rap",
          "rap",
          "hip hop",
          "hip hop",
          "hip hop",
          "rap",
          "pop",
          "pop",
          "pop",
          "turkish",
          "pop",
          "classical",
          "classical",
          "hip hop",
          "rap",
          "rock",
          "rock",
          "hip hop",
          "rap",
          "hip hop",
          "hip hop",
          "hip hop",
          "hip hop",
          "r&b",
          "hip hop",
          "hip hop",
          "hip hop",
          "hip hop",
          "rock",
          "hip hop",
          "rock",
          "rock",
          "pop",
          "pop",
          "hip hop",
          "hip hop",
          "rap",
          "pop",
          "rap",
          "turkish",
          "pop",
          "dance",
          "dance",
          "rap",
          "hip hop",
          "rap",
          "hip hop",
          "hip hop",
          "rap",
          "pop",
          "hip hop",
          "hip hop",
          "hip hop",
          "rap",
          "pop",
          "rap",
          "hip hop",
          "hip hop",
          "hip hop",
          "electronic",
          "pop",
          "pop",
          "dance",
          "indie",
          "pop",
          "rap",
          "hip hop",
          "hip hop",
          "rap",
          "hip hop",
          "rap",
          "pop",
          "pop",
          "pop",
          "pop",
          "pop",
          "pop",
          "jazz",
          "soul",
          "electronic",
          "hip hop",
          "dance",
          "r&b",
          "electronic",
          "pop",
          "drill",
          "hip hop",
          "hip hop",
          "hip hop",
          "hip hop",
          "lo-fi",
          "hip hop",
          "hip hop",
          "electronic",
          "r&b",
          "pop",
          "dance",
          "hip hop",
          "pop",
          "hip hop",
          "rap",
          "hip hop",
          "hip hop",
          "rap",
          "hip hop",
          "hip hop",
          "rap",
          "hip hop",
          "rap",
          "hip hop",
          "hip hop",
          "rap",
          "hip hop",
          "pop",
          "pop",
          "pop",
          "pop",
          "dance",
          "dance",
          "rock",
          "hip hop",
          "hip hop",
          "hip hop",
          "indie",
          "hip hop",
          "hip hop",
          "hip hop",
          "hip hop",
          "rock",
          "pop",
          "pop",
          "turkish",
          "pop",
          "pop",
          "jazz",
          "classical",
          "jazz",
          "jazz",
          "jazz",
          "blues",
          "hip hop",
          "hip hop",
          "drill",
          "turkish",
          "pop",
          "drill",
          "hip hop",
          "hip hop",
          "rap",
          "hip hop",
          "hip hop",
          "hip hop",
          "hip hop",
          "drill",
          "hip hop",
          "hip hop",
          "hip hop",
          "r&b",
          "pop",
          "hip hop",
          "pop",
          "hip hop",
          "hip hop",
          "hip hop",
          "dance",
          "rock",
          "electronic",
          "hip hop",
          "rap",
          "rap",
          "hip hop",
          "rap",
          "rap",
          "hip hop",
          "rap",
          "hip hop",
          "pop",
          "dance",
          "hip hop",
          "hip hop",
          "pop",
          "pop",
          "latin",
          "pop",
          "indie",
          "rap",
          "hip hop",
          "hip hop",
          "pop",
          "rock",
          "pop",
          "pop",
          "pop",
          "pop",
          "turkish",
          "pop",
          "pop",
          "hip hop",
          "hip hop",
          "rap",
          "rap",
          "rock",
          "rock",
          "rock",
          "rock",
          "hip hop",
          "hip hop",
          "hip hop",
          "hip hop",
          "hip hop",
          "hip hop",
          "hip hop",
          "rap",
          "hip hop",
          "rap",
          "rock",
          "hip hop",
          "pop",
          "r&b",
          "hip hop",
          "pop",
          "rock",
          "pop",
          "dance",
          "dance",
          "r&b",
          "electronic",
          "hip hop",
          "rap",
          "rap",
          "hip hop",
          "rap",
          "rap",
          "hip hop",
          "rap",
          "hip hop",
          "rap",
          "hip hop",
          "rap",
          "rap",
          "hip hop",
          "hip hop",
          "pop",
          "pop",
          "pop",
          "indie",
          "pop",
          "pop",
          "indie",
          "hip hop",
          "rap",
          "hip hop",
          "hip hop",
          "hip hop",
          "hip hop",
          "turkish",
          "pop",
          "classical",
          "classical",
          "hip hop",
          "hip hop",
          "hip hop",
          "hip hop",
          "rap",
          "hip hop",
          "hip hop",
          "rock",
          "rock",
          "electronic",
          "drill",
          "drill",
          "hip hop",
          "hip hop",
          "rap",
          "hip hop",
          "hip hop",
          "hip hop",
          "rock",
          "rock",
          "pop",
          "rap",
          "turkish",
          "turkish",
          "rap",
          "hip hop",
          "pop",
          "rap",
          "rap",
          "rock",
          "hip hop",
          "r&b",
          "rock",
          "indie",
          "indie",
          "pop",
          "hip hop",
          "hip hop",
          "hip hop",
          "rock",
          "pop",
          "pop",
          "pop",
          "pop",
          "pop",
          "jazz",
          "classical",
          "hip hop",
          "hip hop",
          "rap",
          "hip hop",
          "pop",
          "electronic",
          "turkish",
          "turkish",
          "drill",
          "drill",
          "hip hop",
          "hip hop",
          "hip hop",
          "hip hop",
          "rap",
          "hip hop",
          "hip hop",
          "hip hop",
          "blues",
          "hip hop",
          "pop",
          "rap",
          "classical",
          "pop",
          "pop",
          "hip hop",
          "rock",
          "rap",
          "rap",
          "rap",
          "rap",
          "turkish",
          "turkish",
          "dance",
          "rap",
          "hip hop",
          "hip hop",
          "rap",
          "hip hop",
          "pop",
          "indie",
          "rock",
          "soul",
          "hip hop",
          "house",
          "hip hop",
          "pop",
          "pop",
          "turkish",
          "turkish",
          "turkish",
          "pop",
          "pop",
          "r&b",
          "hip hop",
          "hip hop",
          "house",
          "rap",
          "hip hop",
          "hip hop",
          "hip hop",
          "rock",
          "rock",
          "rock",
          "electronic",
          "hip hop",
          "hip hop",
          "hip hop",
          "hip hop",
          "hip hop",
          "hip hop",
          "electronic",
          "rock",
          "pop",
          "dance",
          "electronic",
          "hip hop",
          "turkish",
          "turkish",
          "turkish",
          "dance",
          "rap",
          "rap",
          "hip hop",
          "hip hop",
          "hip hop",
          "hip hop",
          "hip hop",
          "hip hop",
          "rap",
          "hip hop",
          "rap",
          "hip hop",
          "rap",
          "rap",
          "pop",
          "hip hop",
          "pop",
          "rock",
          "pop",
          "rock",
          "rock",
          "rock",
          "hip hop",
          "hip hop",
          "hip hop",
          "hip hop",
          "hip hop",
          "rock",
          "pop",
          "pop",
          "pop",
          "turkish",
          "pop",
          "turkish",
          "pop",
          "jazz",
          "classical",
          "r&b",
          "r&b",
          "pop",
          "rap",
          "rap",
          "rock",
          "rock",
          "rock",
          "drill",
          "electronic",
          "drill",
          "drill",
          "rap",
          "hip hop",
          "hip hop",
          "hip hop",
          "hip hop",
          "lo-fi",
          "hip hop",
          "rap",
          "rock",
          "pop",
          "hip hop",
          "hip hop",
          "indie",
          "rap",
          "indie",
          "electronic",
          "rap",
          "rap",
          "hip hop",
          "hip hop",
          "pop",
          "rock",
          "dance",
          "pop",
          "hip hop",
          "pop",
          "dance",
          "hip hop",
          "pop",
          "electronic",
          "turkish",
          "pop",
          "pop",
          "turkish",
          "pop",
          "pop",
          "jazz",
          "jazz",
          "jazz",
          "soul",
          "hip hop",
          "r&b",
          "r&b",
          "rap",
          "rap",
          "rap",
          "drill",
          "hip hop",
          "electronic",
          "rock",
          "pop",
          "pop",
          "hip hop",
          "hip hop",
          "hip hop",
          "hip hop",
          "rap",
          "rap",
          "hip hop",
          "folk",
          "dance",
          "electronic",
          "turkish",
          "turkish",
          "pop",
          "pop",
          "dance",
          "rap",
          "rap",
          "hip hop",
          "hip hop",
          "rap",
          "pop",
          "dance",
          "pop",
          "dance",
          "rock",
          "pop",
          "hip hop",
          "rock",
          "turkish",
          "pop",
          "pop",
          "jazz",
          "pop",
          "indie",
          "electronic",
          "hip hop",
          "hip hop",
          "hip hop",
          "rap",
          "electronic",
          "hip hop",
          "hip hop",
          "rap",
          "rock",
          "rap",
          "hip hop",
          "rock",
          "rock",
          "rock",
          "rock",
          "hip hop",
          "drill",
          "drill",
          "hip hop",
          "hip hop",
          "rap",
          "rap",
          "hip hop",
          "hip hop",
          "hip hop",
          "hip hop",
          "rap",
          "r&b",
          "rap",
          "hip hop",
          "rock",
          "pop",
          "dance",
          "dance",
          "rap",
          "rap",
          "jazz",
          "turkish",
          "pop",
          "pop",
          "dance",
          "hip hop",
          "hip hop",
          "rap",
          "rap",
          "rap",
          "hip hop",
          "rap",
          "hip hop",
          "rap",
          "hip hop",
          "hip hop",
          "dance",
          "indie",
          "rock",
          "pop",
          "metal",
          "pop",
          "pop",
          "hip hop",
          "hip hop",
          "hip hop",
          "hip hop",
          "pop",
          "turkish",
          "turkish",
          "pop",
          "jazz",
          "r&b",
          "r&b",
          "hip hop",
          "drill",
          "rap",
          "rap",
          "indie",
          "lo-fi",
          "electronic",
          "hip hop",
          "rap",
          "hip hop",
          "electronic",
          "pop",
          "pop",
          "dance",
          "indie",
          "electronic",
          "rap",
          "dance",
          "electronic",
          "dance",
          "hip hop",
          "hip hop",
          "hip hop",
          "hip hop",
          "indie",
          "electronic",
          "dance",
          "indie",
          "electronic",
          "pop",
          "rock",
          "hip hop",
          "hip hop",
          "rap",
          "hip hop",
          "drill",
          "hip hop",
          "jazz",
          "turkish",
          "pop",
          "pop",
          "pop",
          "pop",
          "classical",
          "classical",
          "jazz",
          "rap",
          "hip hop",
          "rap",
          "rock",
          "rock",
          "rock",
          "rap",
          "hip hop",
          "rap",
          "hip hop",
          "hip hop",
          "hip hop",
          "hip hop",
          "rap",
          "hip hop",
          "hip hop",
          "rap",
          "hip hop",
          "electronic",
          "dance",
          "dance",
          "electronic",
          "rap",
          "turkish",
          "rock",
          "turkish",
          "electronic",
          "pop",
          "pop",
          "hip hop",
          "rap",
          "hip hop",
          "soul",
          "drill",
          "hip hop",
          "dance",
          "r&b",
          "pop",
          "dance",
          "pop",
          "dance",
          "pop",
          "dance",
          "hip hop",
          "hip hop",
          "rock",
          "turkish",
          "pop",
          "jazz",
          "hip hop",
          "rap",
          "hip hop",
          "rap",
          "reggae",
          "rock",
          "rap",
          "hip hop",
          "hip hop",
          "rock",
          "rock",
          "electronic",
          "indie",
          "rap",
          "turkish",
          "electronic",
          "rap",
          "hip hop",
          "hip hop",
          "hip hop",
          "pop",
          "rock",
          "indie",
          "dance",
          "dance",
          "pop",
          "dance",
          "pop",
          "pop",
          "pop",
          "turkish",
          "pop",
          "classical",
          "classical",
          "classical",
          "jazz",
          "jazz",
          "drill",
          "hip hop",
          "hip hop",
          "hip hop",
          "drill",
          "hip hop",
          "drill",
          "rap",
          "dance",
          "pop",
          "rock",
          "pop",
          "hip hop",
          "hip hop",
          "hip hop",
          "hip hop",
          "hip hop",
          "hip hop",
          "hip hop",
          "hip hop",
          "hip hop",
          "rock",
          "rock",
          "pop",
          "pop",
          "pop",
          "rap",
          "rap",
          "dance",
          "dance",
          "hip hop",
          "electronic",
          "pop",
          "pop",
          "pop",
          "pop",
          "rock",
          "dance",
          "pop",
          "dance",
          "pop",
          "pop",
          "indie",
          "pop",
          "hip hop",
          "hip hop",
          "pop",
          "pop",
          "turkish",
          "pop",
          "jazz",
          "pop",
          "pop",
          "pop",
          "pop",
          "rock",
          "classical",
          "classical",
          "classical",
          "jazz",
          "jazz",
          "jazz",
          "soul",
          "drill",
          "hip hop",
          "hip hop",
          "pop",
          "turkish",
          "rock",
          "jazz",
          "rap",
          "hip hop",
          "rap",
          "hip hop",
          "hip hop",
          "hip hop",
          "rap",
          "hip hop",
          "soul",
          "hip hop",
          "dance",
          "hip hop",
          "turkish",
          "turkish",
          "turkish",
          "pop",
          "dance",
          "pop",
          "indie",
          "pop",
          "pop",
          "r&b",
          "rock",
          "hip hop",
          "house",
          "rock",
          "pop",
          "pop",
          "classical",
          "classical",
          "r&b",
          "r&b",
          "hip hop",
          "dance",
          "hip hop",
          "pop",
          "electronic",
          "dance",
          "rock",
          "hip hop",
          "hip hop",
          "hip hop",
          "rap",
          "rap",
          "rock",
          "rock",
          "electronic",
          "electronic",
          "dance",
          "dance",
          "pop",
          "pop",
          "pop",
          "pop",
          "dance",
          "pop",
          "soul",
          "pop",
          "rock",
          "indie",
          "dance",
          "hip hop",
          "hip hop",
          "pop",
          "rock",
          "pop",
          "pop",
          "pop",
          "pop",
          "turkish",
          "classical",
          "classical",
          "jazz",
          "dance",
          "hip hop",
          "rap",
          "hip hop",
          "pop",
          "turkish",
          "rock",
          "rock",
          "rock",
          "hip hop",
          "rap",
          "electronic",
          "hip hop",
          "hip hop",
          "rap",
          "electronic",
          "turkish",
          "turkish",
          "electronic",
          "dance",
          "dance",
          "hip hop",
          "pop",
          "hip hop",
          "indie",
          "pop",
          "rock",
          "rock",
          "rock",
          "rock",
          "jazz",
          "pop",
          "classical",
          "jazz",
          "electronic",
          "electronic",
          "rock",
          "rock",
          "rock",
          "r&b",
          "soul",
          "hip hop",
          "hip hop",
          "hip hop",
          "dance",
          "dance",
          "electronic",
          "dance",
          "rap",
          "dance",
          "indie",
          "indie",
          "hip hop",
          "dance",
          "indie",
          "rock",
          "pop",
          "rock",
          "turkish",
          "pop",
          "classical",
          "classical",
          "hip hop",
          "hip hop",
          "dance",
          "rap",
          "hip hop",
          "hip hop",
          "rock",
          "rock",
          "hip hop",
          "hip hop",
          "rap",
          "rock",
          "indie",
          "rap",
          "turkish",
          "rock",
          "dance",
          "electronic",
          "dance",
          "jazz",
          "pop",
          "indie",
          "pop",
          "hip hop",
          "pop",
          "pop",
          "pop",
          "pop",
          "turkish",
          "jazz",
          "jazz",
          "indie",
          "soul",
          "rock",
          "rock",
          "rock",
          "rock",
          "dance",
          "rock",
          "rock",
          "electronic",
          "electronic",
          "turkish",
          "turkish",
          "pop",
          "electronic",
          "electronic",
          "hip hop",
          "dance",
          "dance",
          "rock",
          "pop",
          "indie",
          "hip hop",
          "pop",
          "dance",
          "hip hop",
          "rap",
          "classical",
          "classical",
          "classical",
          "jazz",
          "soul",
          "hip hop",
          "house",
          "dance",
          "pop",
          "rock",
          "pop",
          "hip hop",
          "hip hop",
          "hip hop",
          "hip hop",
          "classical",
          "electronic",
          "electronic",
          "pop",
          "hip hop",
          "dance",
          "dance",
          "dance",
          "dance",
          "electronic",
          "pop",
          "rock",
          "electronic",
          "pop",
          "r&b",
          "electronic",
          "pop",
          "electronic",
          "classical",
          "classical",
          "classical",
          "jazz",
          "rap",
          "rock",
          "hip hop",
          "hip hop",
          "electronic",
          "dance",
          "rock",
          "rock",
          "rock",
          "dance",
          "hip hop",
          "classical",
          "turkish",
          "electronic",
          "rap",
          "dance",
          "rap",
          "soul",
          "electronic",
          "pop",
          "pop",
          "pop",
          "rock",
          "pop",
          "pop",
          "rock",
          "rock",
          "hip hop",
          "rap",
          "rock",
          "pop",
          "classical",
          "hip hop",
          "dance",
          "rock",
          "rock",
          "rock",
          "rock",
          "electronic",
          "dance",
          "electronic",
          "indie",
          "turkish",
          "electronic",
          "dance",
          "dance",
          "dance",
          "dance",
          "pop",
          "dance",
          "soul",
          "dance",
          "pop",
          "soul",
          "rock",
          "soul",
          "hip hop",
          "rap",
          "rock",
          "dance",
          "electronic",
          "electronic",
          "electronic",
          "rap",
          "rap",
          "rap",
          "dance",
          "indie",
          "hip hop",
          "hip hop",
          "hip hop",
          "house",
          "lo-fi",
          "dance",
          "electronic",
          "electronic",
          "dance",
          "rock",
          "dance",
          "dance",
          "electronic",
          "pop",
          "dance",
          "dance",
          "rap",
          "pop",
          "pop",
          "hip hop",
          "pop",
          "pop",
          "rock",
          "classical",
          "classical",
          "classical",
          "jazz",
          "lo-fi",
          "pop",
          "rock",
          "dance",
          "hip hop",
          "electronic",
          "electronic",
          "electronic",
          "dance",
          "dance",
          "electronic",
          "dance",
          "dance",
          "dance",
          "dance",
          "pop",
          "dance",
          "classical",
          "classical",
          "dance",
          "hip hop",
          "indie",
          "rock",
          "hip hop",
          "hip hop",
          "electronic",
          "electronic",
          "pop",
          "electronic",
          "electronic",
          "dance",
          "dance",
          "electronic",
          "rap",
          "rap",
          "dance",
          "dance",
          "rock",
          "pop",
          "pop",
          "pop",
          "r&b",
          "soul",
          "soul",
          "pop",
          "indie",
          "hip hop",
          "electronic",
          "dance",
          "dance",
          "electronic",
          "pop",
          "indie",
          "dance",
          "dance",
          "dance",
          "hip hop",
          "hip hop",
          "hip hop",
          "electronic",
          "turkish",
          "electronic",
          "electronic",
          "pop",
          "rock",
          "classical",
          "hip hop",
          "hip hop",
          "turkish",
          "electronic",
          "dance",
          "rap",
          "dance",
          "dance",
          "pop",
          "classical",
          "classical",
          "jazz",
          "dance",
          "rock",
          "electronic",
          "electronic",
          "electronic",
          "rap",
          "jazz",
          "rock",
          "pop",
          "pop",
          "classical",
          "classical",
          "dance",
          "hip hop",
          "turkish",
          "rap",
          "rap",
          "rap",
          "rap",
          "indie",
          "dance",
          "pop",
          "jazz",
          "jazz",
          "house",
          "rock",
          "hip hop",
          "indie",
          "dance",
          "rock",
          "pop",
          "pop",
          "pop",
          "pop",
          "pop",
          "dance",
          "hip hop",
          "electronic",
          "electronic",
          "pop",
          "house",
          "electronic",
          "classical",
          "pop",
          "latin",
          "hip hop",
          "rock",
          "electronic",
          "electronic",
          "rap",
          "electronic",
          "electronic",
          "pop",
          "blues",
          "rock",
          "electronic",
          "electronic",
          "electronic",
          "dance",
          "dance",
          "dance",
          "hip hop",
          "pop",
          "indie",
          "hip hop",
          "rap",
          "dance",
          "dance",
          "dance",
          "dance",
          "pop",
          "pop",
          "pop",
          "pop",
          "dance",
          "hip hop",
          "jazz",
          "turkish",
          "electronic",
          "classical",
          "soul",
          "pop",
          "pop",
          "pop",
          "pop",
          "jazz",
          "rock",
          "dance",
          "pop",
          "classical",
          "jazz",
          "electronic",
          "electronic",
          "jazz",
          "pop",
          "classical",
          "classical",
          "r&b",
          "turkish",
          "electronic",
          "electronic",
          "pop",
          "pop",
          "hip hop",
          "soul",
          "electronic",
          "electronic",
          "pop",
          "pop",
          "dance",
          "pop",
          "classical",
          "soul",
          "turkish",
          "electronic",
          "lo-fi",
          "pop",
          "electronic",
          "dance",
          "pop",
          "classical",
          "pop",
          "classical",
          "classical",
          "rock",
          "rock",
          "rock",
          "rap",
          "rap",
          "classical",
          "turkish",
          "turkish",
          "electronic",
          "pop",
          "rock",
          "rock",
          "turkish",
          "soul",
          "classical",
          "classical",
          "rock",
          "rap",
          "hip hop",
          "classical",
          "classical",
          "classical",
          "rap",
          "dance",
          "classical",
          "classical",
          "classical",
          "pop",
          "pop",
          "classical",
          "rap",
          "pop",
          "electronic",
          "electronic",
          "electronic",
          "electronic",
          "electronic",
          "electronic",
          "electronic",
          "electronic",
          "electronic",
          "electronic",
          "pop",
          "rock",
          "pop",
          "pop",
          "rock",
          "pop",
          "rock",
          "pop",
          "pop",
          "pop",
          "rock",
          "pop",
          "pop",
          "classical",
          "classical",
          "hip hop",
          "rock",
          "pop"
         ],
         "legendgroup": "",
         "name": "",
         "showlegend": true,
         "textinfo": "percent+label",
         "textposition": "inside",
         "type": "pie",
         "values": [
          98,
          97,
          95,
          95,
          94,
          94,
          92,
          92,
          91,
          91,
          89,
          88,
          88,
          88,
          87,
          87,
          86,
          86,
          86,
          86,
          86,
          85,
          85,
          85,
          85,
          85,
          85,
          85,
          84,
          84,
          84,
          84,
          84,
          84,
          84,
          84,
          84,
          84,
          84,
          84,
          84,
          84,
          83,
          83,
          83,
          83,
          83,
          83,
          83,
          83,
          83,
          83,
          83,
          83,
          83,
          83,
          83,
          83,
          83,
          83,
          82,
          82,
          82,
          82,
          82,
          82,
          82,
          82,
          82,
          82,
          82,
          82,
          82,
          82,
          82,
          82,
          82,
          82,
          82,
          82,
          82,
          81,
          81,
          81,
          81,
          81,
          81,
          81,
          81,
          81,
          81,
          81,
          81,
          81,
          81,
          81,
          81,
          81,
          81,
          81,
          81,
          81,
          81,
          81,
          81,
          81,
          80,
          80,
          80,
          80,
          80,
          80,
          80,
          80,
          80,
          80,
          80,
          80,
          80,
          80,
          80,
          80,
          80,
          80,
          79,
          79,
          79,
          79,
          79,
          79,
          79,
          79,
          79,
          79,
          79,
          79,
          79,
          79,
          79,
          79,
          79,
          79,
          79,
          79,
          79,
          79,
          79,
          78,
          78,
          78,
          78,
          78,
          78,
          78,
          78,
          78,
          78,
          78,
          78,
          78,
          78,
          78,
          78,
          78,
          78,
          78,
          78,
          78,
          78,
          78,
          78,
          78,
          78,
          78,
          78,
          78,
          78,
          78,
          78,
          78,
          78,
          78,
          77,
          77,
          77,
          77,
          77,
          77,
          77,
          77,
          77,
          77,
          77,
          77,
          77,
          77,
          77,
          77,
          77,
          77,
          77,
          77,
          77,
          77,
          77,
          77,
          77,
          76,
          76,
          76,
          76,
          76,
          76,
          76,
          76,
          76,
          76,
          76,
          76,
          76,
          76,
          76,
          76,
          76,
          76,
          76,
          76,
          76,
          76,
          76,
          76,
          76,
          76,
          76,
          76,
          76,
          76,
          76,
          76,
          76,
          76,
          75,
          75,
          75,
          75,
          75,
          75,
          75,
          75,
          75,
          75,
          75,
          75,
          75,
          75,
          75,
          75,
          75,
          75,
          75,
          75,
          75,
          75,
          75,
          75,
          75,
          75,
          75,
          75,
          75,
          75,
          75,
          75,
          75,
          75,
          75,
          75,
          75,
          75,
          75,
          75,
          74,
          74,
          74,
          74,
          74,
          74,
          74,
          74,
          74,
          74,
          74,
          74,
          74,
          74,
          74,
          74,
          74,
          74,
          74,
          74,
          74,
          74,
          74,
          74,
          74,
          74,
          74,
          74,
          74,
          74,
          74,
          74,
          74,
          73,
          73,
          73,
          73,
          73,
          73,
          73,
          73,
          73,
          73,
          73,
          73,
          73,
          73,
          73,
          73,
          73,
          73,
          73,
          73,
          73,
          73,
          73,
          73,
          73,
          73,
          73,
          73,
          73,
          73,
          73,
          73,
          73,
          73,
          73,
          72,
          72,
          72,
          72,
          72,
          72,
          72,
          72,
          72,
          72,
          72,
          72,
          72,
          72,
          72,
          72,
          72,
          72,
          72,
          72,
          72,
          72,
          72,
          72,
          72,
          72,
          72,
          72,
          72,
          72,
          72,
          72,
          72,
          72,
          72,
          72,
          72,
          72,
          72,
          72,
          72,
          71,
          71,
          71,
          71,
          71,
          71,
          71,
          71,
          71,
          71,
          71,
          71,
          71,
          71,
          71,
          71,
          71,
          71,
          71,
          71,
          71,
          71,
          71,
          71,
          71,
          71,
          71,
          71,
          71,
          71,
          71,
          71,
          71,
          71,
          71,
          70,
          70,
          70,
          70,
          70,
          70,
          70,
          70,
          70,
          70,
          70,
          70,
          70,
          70,
          70,
          70,
          70,
          70,
          70,
          70,
          70,
          70,
          70,
          70,
          70,
          70,
          70,
          70,
          70,
          70,
          70,
          70,
          70,
          70,
          70,
          70,
          70,
          69,
          69,
          69,
          69,
          69,
          69,
          69,
          69,
          69,
          69,
          69,
          69,
          69,
          69,
          69,
          69,
          69,
          69,
          69,
          69,
          69,
          69,
          69,
          69,
          69,
          68,
          68,
          68,
          68,
          68,
          68,
          68,
          68,
          68,
          68,
          68,
          68,
          68,
          68,
          68,
          68,
          68,
          68,
          68,
          68,
          68,
          68,
          68,
          68,
          68,
          68,
          68,
          68,
          68,
          68,
          68,
          68,
          68,
          68,
          68,
          68,
          68,
          68,
          68,
          68,
          68,
          68,
          68,
          68,
          68,
          68,
          68,
          68,
          68,
          68,
          68,
          67,
          67,
          67,
          67,
          67,
          67,
          67,
          67,
          67,
          67,
          67,
          67,
          67,
          67,
          67,
          67,
          67,
          67,
          67,
          67,
          67,
          67,
          67,
          67,
          67,
          67,
          67,
          67,
          67,
          67,
          67,
          67,
          67,
          67,
          67,
          67,
          67,
          67,
          67,
          67,
          67,
          67,
          67,
          67,
          67,
          67,
          67,
          67,
          67,
          67,
          66,
          66,
          66,
          66,
          66,
          66,
          66,
          66,
          66,
          66,
          66,
          66,
          66,
          66,
          66,
          66,
          66,
          66,
          66,
          66,
          66,
          66,
          66,
          66,
          66,
          66,
          66,
          66,
          66,
          66,
          66,
          66,
          66,
          66,
          66,
          66,
          66,
          66,
          66,
          66,
          66,
          66,
          66,
          66,
          66,
          66,
          66,
          66,
          66,
          66,
          66,
          65,
          65,
          65,
          65,
          65,
          65,
          65,
          65,
          65,
          65,
          65,
          65,
          65,
          65,
          65,
          65,
          65,
          65,
          65,
          65,
          65,
          65,
          65,
          65,
          65,
          65,
          65,
          65,
          65,
          65,
          65,
          65,
          65,
          65,
          65,
          65,
          65,
          65,
          65,
          65,
          65,
          65,
          65,
          65,
          65,
          65,
          65,
          65,
          65,
          65,
          64,
          64,
          64,
          64,
          64,
          64,
          64,
          64,
          64,
          64,
          64,
          64,
          64,
          64,
          64,
          64,
          64,
          64,
          64,
          64,
          64,
          64,
          64,
          64,
          64,
          64,
          64,
          64,
          64,
          64,
          64,
          64,
          64,
          64,
          64,
          64,
          64,
          64,
          64,
          64,
          64,
          64,
          64,
          64,
          64,
          64,
          64,
          64,
          64,
          64,
          64,
          64,
          64,
          64,
          64,
          64,
          63,
          63,
          63,
          63,
          63,
          63,
          63,
          63,
          63,
          63,
          63,
          63,
          63,
          63,
          63,
          63,
          63,
          63,
          63,
          63,
          63,
          63,
          63,
          63,
          63,
          63,
          63,
          63,
          63,
          63,
          63,
          63,
          63,
          63,
          63,
          63,
          63,
          63,
          63,
          63,
          63,
          63,
          63,
          63,
          63,
          63,
          63,
          63,
          63,
          63,
          63,
          63,
          63,
          63,
          63,
          63,
          63,
          63,
          63,
          63,
          63,
          63,
          63,
          63,
          63,
          62,
          62,
          62,
          62,
          62,
          62,
          62,
          62,
          62,
          62,
          62,
          62,
          62,
          62,
          62,
          62,
          62,
          62,
          62,
          62,
          62,
          62,
          62,
          62,
          62,
          62,
          62,
          62,
          62,
          62,
          62,
          62,
          62,
          62,
          62,
          62,
          62,
          62,
          62,
          62,
          62,
          62,
          62,
          62,
          62,
          62,
          62,
          62,
          62,
          62,
          62,
          62,
          62,
          62,
          62,
          62,
          62,
          62,
          62,
          62,
          62,
          62,
          62,
          62,
          61,
          61,
          61,
          61,
          61,
          61,
          61,
          61,
          61,
          61,
          61,
          61,
          61,
          61,
          61,
          61,
          61,
          61,
          61,
          61,
          61,
          61,
          61,
          61,
          61,
          61,
          61,
          61,
          61,
          61,
          61,
          61,
          61,
          61,
          61,
          61,
          61,
          61,
          61,
          61,
          61,
          61,
          61,
          61,
          61,
          61,
          61,
          61,
          61,
          61,
          61,
          61,
          61,
          61,
          61,
          61,
          61,
          61,
          61,
          61,
          61,
          61,
          61,
          61,
          60,
          60,
          60,
          60,
          60,
          60,
          60,
          60,
          60,
          60,
          60,
          60,
          60,
          60,
          60,
          60,
          60,
          60,
          60,
          60,
          60,
          60,
          60,
          60,
          60,
          60,
          60,
          60,
          60,
          60,
          60,
          60,
          60,
          60,
          60,
          60,
          60,
          60,
          60,
          60,
          60,
          60,
          60,
          60,
          60,
          60,
          60,
          60,
          60,
          60,
          60,
          60,
          60,
          60,
          60,
          60,
          60,
          60,
          60,
          60,
          60,
          60,
          60,
          60,
          60,
          59,
          59,
          59,
          59,
          59,
          59,
          59,
          59,
          59,
          59,
          59,
          59,
          59,
          59,
          59,
          59,
          59,
          59,
          59,
          59,
          59,
          59,
          59,
          59,
          59,
          59,
          59,
          59,
          59,
          59,
          59,
          59,
          59,
          59,
          59,
          59,
          59,
          59,
          59,
          59,
          59,
          59,
          59,
          59,
          59,
          59,
          59,
          59,
          59,
          59,
          59,
          59,
          59,
          59,
          59,
          59,
          59,
          59,
          59,
          59,
          59,
          59,
          59,
          59,
          59,
          58,
          58,
          58,
          58,
          58,
          58,
          58,
          58,
          58,
          58,
          58,
          58,
          58,
          58,
          58,
          58,
          58,
          58,
          58,
          58,
          58,
          58,
          58,
          58,
          58,
          58,
          58,
          58,
          58,
          58,
          58,
          58,
          58,
          58,
          58,
          58,
          58,
          58,
          58,
          58,
          58,
          58,
          58,
          58,
          58,
          58,
          58,
          58,
          58,
          58,
          58,
          58,
          58,
          58,
          58,
          58,
          58,
          58,
          58,
          58,
          58,
          58,
          58,
          58,
          58,
          58,
          58,
          58,
          58,
          58,
          58,
          58,
          58,
          58,
          58,
          58,
          58,
          58,
          58,
          58,
          58,
          58,
          58,
          58,
          57,
          57,
          57,
          57,
          57,
          57,
          57,
          57,
          57,
          57,
          57,
          57,
          57,
          57,
          57,
          57,
          57,
          57,
          57,
          57,
          57,
          57,
          57,
          57,
          57,
          57,
          57,
          57,
          57,
          57,
          57,
          57,
          57,
          57,
          57,
          57,
          57,
          57,
          57,
          57,
          57,
          57,
          57,
          57,
          57,
          57,
          57,
          57,
          57,
          57,
          57,
          57,
          57,
          57,
          57,
          57,
          57,
          57,
          57,
          57,
          57,
          57,
          57,
          57,
          57,
          57,
          57,
          57,
          57,
          57,
          56,
          56,
          56,
          56,
          56,
          56,
          56,
          56,
          56,
          56,
          56,
          56,
          56,
          56,
          56,
          56,
          56,
          56,
          56,
          56,
          56,
          56,
          56,
          56,
          56,
          56,
          56,
          56,
          56,
          56,
          56,
          56,
          56,
          56,
          56,
          56,
          56,
          56,
          56,
          56,
          56,
          56,
          56,
          56,
          56,
          56,
          56,
          56,
          56,
          56,
          56,
          56,
          56,
          56,
          56,
          56,
          56,
          56,
          56,
          56,
          56,
          56,
          56,
          56,
          56,
          56,
          56,
          55,
          55,
          55,
          55,
          55,
          55,
          55,
          55,
          55,
          55,
          55,
          55,
          55,
          55,
          55,
          55,
          55,
          55,
          55,
          55,
          55,
          55,
          55,
          55,
          55,
          55,
          55,
          55,
          55,
          55,
          55,
          55,
          55,
          55,
          55,
          55,
          55,
          55,
          55,
          55,
          55,
          55,
          55,
          55,
          55,
          55,
          55,
          55,
          55,
          55,
          55,
          55,
          55,
          55,
          55,
          55,
          55,
          55,
          55,
          55,
          55,
          55,
          55,
          54,
          54,
          54,
          54,
          54,
          54,
          54,
          54,
          54,
          54,
          54,
          54,
          54,
          54,
          54,
          54,
          54,
          54,
          54,
          54,
          54,
          54,
          54,
          54,
          54,
          54,
          54,
          54,
          54,
          54,
          54,
          54,
          54,
          54,
          54,
          54,
          54,
          54,
          54,
          54,
          54,
          54,
          54,
          54,
          54,
          54,
          54,
          54,
          54,
          54,
          54,
          54,
          54,
          54,
          54,
          54,
          54,
          53,
          53,
          53,
          53,
          53,
          53,
          53,
          53,
          53,
          53,
          53,
          53,
          53,
          53,
          53,
          53,
          53,
          53,
          53,
          53,
          53,
          53,
          53,
          53,
          53,
          53,
          53,
          53,
          53,
          53,
          53,
          53,
          53,
          53,
          53,
          53,
          53,
          53,
          53,
          53,
          53,
          53,
          53,
          53,
          53,
          53,
          53,
          53,
          53,
          53,
          53,
          53,
          53,
          53,
          53,
          53,
          53,
          53,
          53,
          53,
          53,
          53,
          52,
          52,
          52,
          52,
          52,
          52,
          52,
          52,
          52,
          52,
          52,
          52,
          52,
          52,
          52,
          52,
          52,
          52,
          52,
          52,
          52,
          52,
          52,
          52,
          52,
          52,
          52,
          52,
          52,
          52,
          52,
          52,
          52,
          52,
          52,
          52,
          52,
          52,
          52,
          52,
          52,
          52,
          52,
          52,
          52,
          52,
          52,
          52,
          51,
          51,
          51,
          51,
          51,
          51,
          51,
          51,
          51,
          51,
          51,
          51,
          51,
          51,
          51,
          51,
          51,
          51,
          51,
          51,
          51,
          51,
          51,
          51,
          51,
          51,
          51,
          51,
          51,
          51,
          51,
          51,
          51,
          51,
          51,
          51,
          51,
          51,
          51,
          51,
          51,
          51,
          51,
          51,
          51,
          51,
          51,
          51,
          51,
          51,
          51,
          51,
          50,
          50,
          50,
          50,
          50,
          50,
          50,
          50,
          50,
          50,
          50,
          50,
          50,
          50,
          50,
          50,
          50,
          50,
          50,
          50,
          50,
          50,
          50,
          50,
          50,
          50,
          50,
          50,
          50,
          50,
          50,
          50,
          50,
          50,
          50,
          50,
          50,
          50,
          50,
          50,
          50,
          50,
          50,
          50,
          50,
          50,
          50,
          50,
          50,
          50,
          50,
          50,
          50,
          50,
          50,
          50,
          50,
          50,
          50,
          50,
          50,
          50,
          50,
          50,
          50,
          50,
          49,
          49,
          49,
          49,
          49,
          49,
          49,
          49,
          49,
          49,
          49,
          49,
          49,
          49,
          49,
          49,
          49,
          49,
          49,
          49,
          49,
          49,
          49,
          49,
          49,
          49,
          49,
          49,
          49,
          49,
          49,
          49,
          49,
          49,
          49,
          49,
          49,
          49,
          49,
          49,
          49,
          49,
          49,
          49,
          49,
          49,
          49,
          49,
          49,
          49,
          49,
          49,
          48,
          48,
          48,
          48,
          48,
          48,
          48,
          48,
          48,
          48,
          48,
          48,
          48,
          48,
          48,
          48,
          48,
          48,
          48,
          48,
          48,
          48,
          48,
          48,
          48,
          48,
          48,
          48,
          48,
          48,
          48,
          48,
          48,
          48,
          48,
          48,
          48,
          48,
          48,
          48,
          48,
          48,
          48,
          48,
          48,
          48,
          48,
          48,
          48,
          48,
          48,
          48,
          48,
          48,
          48,
          48,
          48,
          47,
          47,
          47,
          47,
          47,
          47,
          47,
          47,
          47,
          47,
          47,
          47,
          47,
          47,
          47,
          47,
          47,
          47,
          47,
          47,
          47,
          47,
          47,
          47,
          47,
          47,
          47,
          47,
          47,
          47,
          47,
          47,
          47,
          47,
          47,
          47,
          47,
          47,
          47,
          47,
          47,
          47,
          47,
          47,
          47,
          47,
          47,
          47,
          47,
          47,
          47,
          46,
          46,
          46,
          46,
          46,
          46,
          46,
          46,
          46,
          46,
          46,
          46,
          46,
          46,
          46,
          46,
          46,
          46,
          46,
          46,
          46,
          46,
          46,
          46,
          46,
          46,
          46,
          46,
          46,
          46,
          46,
          46,
          46,
          46,
          46,
          46,
          46,
          46,
          46,
          46,
          46,
          46,
          46,
          46,
          46,
          46,
          46,
          46,
          46,
          46,
          46,
          46,
          46,
          45,
          45,
          45,
          45,
          45,
          45,
          45,
          45,
          45,
          45,
          45,
          45,
          45,
          45,
          45,
          45,
          45,
          45,
          45,
          45,
          45,
          45,
          45,
          45,
          45,
          45,
          45,
          45,
          45,
          45,
          45,
          45,
          45,
          45,
          45,
          45,
          45,
          45,
          45,
          45,
          45,
          44,
          44,
          44,
          44,
          44,
          44,
          44,
          44,
          44,
          44,
          44,
          44,
          44,
          44,
          44,
          44,
          44,
          44,
          44,
          44,
          44,
          44,
          44,
          44,
          44,
          44,
          44,
          44,
          44,
          44,
          44,
          44,
          44,
          44,
          44,
          44,
          44,
          44,
          44,
          44,
          44,
          44,
          44,
          44,
          44,
          44,
          44,
          44,
          44,
          43,
          43,
          43,
          43,
          43,
          43,
          43,
          43,
          43,
          43,
          43,
          43,
          43,
          43,
          43,
          43,
          43,
          43,
          43,
          43,
          43,
          43,
          43,
          43,
          43,
          43,
          43,
          43,
          43,
          43,
          43,
          43,
          43,
          43,
          43,
          43,
          43,
          43,
          43,
          43,
          43,
          43,
          43,
          43,
          43,
          43,
          43,
          43,
          43,
          43,
          43,
          43,
          43,
          43,
          43,
          43,
          43,
          43,
          43,
          42,
          42,
          42,
          42,
          42,
          42,
          42,
          42,
          42,
          42,
          42,
          42,
          42,
          42,
          42,
          42,
          42,
          42,
          42,
          42,
          42,
          42,
          42,
          42,
          42,
          42,
          42,
          42,
          42,
          42,
          42,
          42,
          42,
          42,
          41,
          41,
          41,
          41,
          41,
          41,
          41,
          41,
          41,
          41,
          41,
          41,
          41,
          41,
          41,
          41,
          41,
          41,
          41,
          41,
          41,
          41,
          41,
          41,
          41,
          41,
          41,
          41,
          41,
          41,
          41,
          41,
          41,
          41,
          41,
          41,
          41,
          41,
          41,
          41,
          41,
          41,
          41,
          41,
          40,
          40,
          40,
          40,
          40,
          40,
          40,
          40,
          40,
          40,
          40,
          40,
          40,
          40,
          40,
          40,
          40,
          40,
          40,
          40,
          40,
          40,
          40,
          40,
          40,
          40,
          40,
          40,
          40,
          39,
          39,
          39,
          39,
          39,
          39,
          39,
          39,
          39,
          39,
          39,
          39,
          39,
          39,
          39,
          39,
          39,
          39,
          39,
          39,
          39,
          39,
          39,
          39,
          39,
          39,
          39,
          39,
          39,
          38,
          38,
          38,
          38,
          38,
          38,
          38,
          38,
          38,
          38,
          38,
          38,
          38,
          38,
          38,
          38,
          38,
          38,
          38,
          38,
          38,
          38,
          38,
          38,
          38,
          37,
          37,
          37,
          37,
          37,
          37,
          37,
          37,
          37,
          37,
          37,
          37,
          37,
          37,
          37,
          37,
          37,
          37,
          37,
          37,
          37,
          37,
          37,
          37,
          37,
          37,
          37,
          37,
          37,
          37,
          37,
          37,
          37,
          37,
          37,
          37,
          37,
          36,
          36,
          36,
          36,
          36,
          36,
          36,
          36,
          36,
          36,
          36,
          36,
          36,
          36,
          36,
          36,
          36,
          36,
          36,
          36,
          36,
          36,
          36,
          36,
          36,
          36,
          36,
          36,
          36,
          36,
          35,
          35,
          35,
          35,
          35,
          35,
          35,
          35,
          35,
          35,
          35,
          35,
          35,
          35,
          35,
          35,
          35,
          35,
          35,
          35,
          35,
          35,
          35,
          35,
          35,
          35,
          35,
          35,
          35,
          34,
          34,
          34,
          34,
          34,
          34,
          34,
          34,
          34,
          34,
          34,
          34,
          34,
          34,
          34,
          34,
          34,
          34,
          34,
          34,
          34,
          33,
          33,
          33,
          33,
          33,
          33,
          33,
          33,
          33,
          33,
          33,
          33,
          33,
          33,
          33,
          33,
          32,
          32,
          32,
          32,
          32,
          32,
          32,
          32,
          32,
          32,
          32,
          32,
          32,
          32,
          32,
          32,
          32,
          32,
          32,
          32,
          32,
          32,
          32,
          32,
          32,
          32,
          31,
          31,
          31,
          31,
          31,
          31,
          31,
          31,
          31,
          31,
          31,
          31,
          31,
          31,
          31,
          31,
          31,
          31,
          31,
          31,
          30,
          30,
          30,
          30,
          30,
          30,
          30,
          30,
          30,
          30,
          30,
          30,
          30,
          30,
          30,
          30,
          30,
          30,
          30,
          30,
          30,
          30,
          29,
          29,
          29,
          29,
          29,
          29,
          29,
          29,
          29,
          29,
          29,
          29,
          28,
          28,
          28,
          28,
          28,
          28,
          28,
          28,
          28,
          27,
          27,
          27,
          27,
          27,
          27,
          27,
          27,
          27,
          27,
          27,
          26,
          26,
          26,
          26,
          26,
          26,
          26,
          26,
          26,
          26,
          26,
          26,
          26,
          25,
          25,
          25,
          25,
          25,
          25,
          25,
          25,
          25,
          25,
          25,
          24,
          24,
          24,
          24,
          24,
          24,
          24,
          24,
          24,
          24,
          24,
          24,
          24,
          23,
          23,
          23,
          23,
          23,
          23,
          23,
          23,
          23,
          23,
          22,
          22,
          22,
          22,
          22,
          22,
          22,
          21,
          21,
          21,
          21,
          21,
          21,
          21,
          21,
          21,
          21,
          21,
          20,
          20,
          20,
          20,
          20,
          20,
          20,
          20,
          20,
          20,
          20,
          19,
          19,
          19,
          19,
          19,
          19,
          19,
          19,
          19,
          18,
          18,
          18,
          18,
          18,
          17,
          17,
          17,
          17,
          17,
          17,
          17,
          16,
          16,
          16,
          16,
          16,
          16,
          16,
          15,
          15,
          15,
          15,
          15,
          15,
          15,
          15,
          14,
          14,
          14,
          13,
          13,
          13,
          13,
          13,
          12,
          12,
          12,
          12,
          11,
          11,
          10,
          10,
          10,
          9,
          9,
          9,
          8,
          8,
          8,
          7,
          7,
          7,
          7,
          7,
          7,
          6,
          6,
          6,
          5,
          4,
          4,
          3,
          3,
          3,
          2,
          1,
          1,
          0,
          0,
          0,
          0,
          0,
          0,
          0,
          0,
          0,
          0,
          0,
          0,
          0,
          0,
          0,
          0,
          0,
          0,
          0,
          0,
          0,
          0,
          0,
          0,
          0,
          0,
          0,
          0,
          0,
          0
         ]
        }
       ],
       "layout": {
        "legend": {
         "tracegroupgap": 0
        },
        "piecolorway": [
         "#2E91E5",
         "#E15F99",
         "#1CA71C",
         "#FB0D0D",
         "#DA16FF",
         "#222A2A",
         "#B68100",
         "#750D86",
         "#EB663B",
         "#511CFB",
         "#00A08B",
         "#FB00D1",
         "#FC0080",
         "#B2828D",
         "#6C7C32",
         "#778AAE",
         "#862A16",
         "#A777F1",
         "#620042",
         "#1616A7",
         "#DA60CA",
         "#6C4516",
         "#0D2A63",
         "#AF0038"
        ],
        "template": {
         "data": {
          "bar": [
           {
            "error_x": {
             "color": "#2a3f5f"
            },
            "error_y": {
             "color": "#2a3f5f"
            },
            "marker": {
             "line": {
              "color": "#E5ECF6",
              "width": 0.5
             },
             "pattern": {
              "fillmode": "overlay",
              "size": 10,
              "solidity": 0.2
             }
            },
            "type": "bar"
           }
          ],
          "barpolar": [
           {
            "marker": {
             "line": {
              "color": "#E5ECF6",
              "width": 0.5
             },
             "pattern": {
              "fillmode": "overlay",
              "size": 10,
              "solidity": 0.2
             }
            },
            "type": "barpolar"
           }
          ],
          "carpet": [
           {
            "aaxis": {
             "endlinecolor": "#2a3f5f",
             "gridcolor": "white",
             "linecolor": "white",
             "minorgridcolor": "white",
             "startlinecolor": "#2a3f5f"
            },
            "baxis": {
             "endlinecolor": "#2a3f5f",
             "gridcolor": "white",
             "linecolor": "white",
             "minorgridcolor": "white",
             "startlinecolor": "#2a3f5f"
            },
            "type": "carpet"
           }
          ],
          "choropleth": [
           {
            "colorbar": {
             "outlinewidth": 0,
             "ticks": ""
            },
            "type": "choropleth"
           }
          ],
          "contour": [
           {
            "colorbar": {
             "outlinewidth": 0,
             "ticks": ""
            },
            "colorscale": [
             [
              0,
              "#0d0887"
             ],
             [
              0.1111111111111111,
              "#46039f"
             ],
             [
              0.2222222222222222,
              "#7201a8"
             ],
             [
              0.3333333333333333,
              "#9c179e"
             ],
             [
              0.4444444444444444,
              "#bd3786"
             ],
             [
              0.5555555555555556,
              "#d8576b"
             ],
             [
              0.6666666666666666,
              "#ed7953"
             ],
             [
              0.7777777777777778,
              "#fb9f3a"
             ],
             [
              0.8888888888888888,
              "#fdca26"
             ],
             [
              1,
              "#f0f921"
             ]
            ],
            "type": "contour"
           }
          ],
          "contourcarpet": [
           {
            "colorbar": {
             "outlinewidth": 0,
             "ticks": ""
            },
            "type": "contourcarpet"
           }
          ],
          "heatmap": [
           {
            "colorbar": {
             "outlinewidth": 0,
             "ticks": ""
            },
            "colorscale": [
             [
              0,
              "#0d0887"
             ],
             [
              0.1111111111111111,
              "#46039f"
             ],
             [
              0.2222222222222222,
              "#7201a8"
             ],
             [
              0.3333333333333333,
              "#9c179e"
             ],
             [
              0.4444444444444444,
              "#bd3786"
             ],
             [
              0.5555555555555556,
              "#d8576b"
             ],
             [
              0.6666666666666666,
              "#ed7953"
             ],
             [
              0.7777777777777778,
              "#fb9f3a"
             ],
             [
              0.8888888888888888,
              "#fdca26"
             ],
             [
              1,
              "#f0f921"
             ]
            ],
            "type": "heatmap"
           }
          ],
          "heatmapgl": [
           {
            "colorbar": {
             "outlinewidth": 0,
             "ticks": ""
            },
            "colorscale": [
             [
              0,
              "#0d0887"
             ],
             [
              0.1111111111111111,
              "#46039f"
             ],
             [
              0.2222222222222222,
              "#7201a8"
             ],
             [
              0.3333333333333333,
              "#9c179e"
             ],
             [
              0.4444444444444444,
              "#bd3786"
             ],
             [
              0.5555555555555556,
              "#d8576b"
             ],
             [
              0.6666666666666666,
              "#ed7953"
             ],
             [
              0.7777777777777778,
              "#fb9f3a"
             ],
             [
              0.8888888888888888,
              "#fdca26"
             ],
             [
              1,
              "#f0f921"
             ]
            ],
            "type": "heatmapgl"
           }
          ],
          "histogram": [
           {
            "marker": {
             "pattern": {
              "fillmode": "overlay",
              "size": 10,
              "solidity": 0.2
             }
            },
            "type": "histogram"
           }
          ],
          "histogram2d": [
           {
            "colorbar": {
             "outlinewidth": 0,
             "ticks": ""
            },
            "colorscale": [
             [
              0,
              "#0d0887"
             ],
             [
              0.1111111111111111,
              "#46039f"
             ],
             [
              0.2222222222222222,
              "#7201a8"
             ],
             [
              0.3333333333333333,
              "#9c179e"
             ],
             [
              0.4444444444444444,
              "#bd3786"
             ],
             [
              0.5555555555555556,
              "#d8576b"
             ],
             [
              0.6666666666666666,
              "#ed7953"
             ],
             [
              0.7777777777777778,
              "#fb9f3a"
             ],
             [
              0.8888888888888888,
              "#fdca26"
             ],
             [
              1,
              "#f0f921"
             ]
            ],
            "type": "histogram2d"
           }
          ],
          "histogram2dcontour": [
           {
            "colorbar": {
             "outlinewidth": 0,
             "ticks": ""
            },
            "colorscale": [
             [
              0,
              "#0d0887"
             ],
             [
              0.1111111111111111,
              "#46039f"
             ],
             [
              0.2222222222222222,
              "#7201a8"
             ],
             [
              0.3333333333333333,
              "#9c179e"
             ],
             [
              0.4444444444444444,
              "#bd3786"
             ],
             [
              0.5555555555555556,
              "#d8576b"
             ],
             [
              0.6666666666666666,
              "#ed7953"
             ],
             [
              0.7777777777777778,
              "#fb9f3a"
             ],
             [
              0.8888888888888888,
              "#fdca26"
             ],
             [
              1,
              "#f0f921"
             ]
            ],
            "type": "histogram2dcontour"
           }
          ],
          "mesh3d": [
           {
            "colorbar": {
             "outlinewidth": 0,
             "ticks": ""
            },
            "type": "mesh3d"
           }
          ],
          "parcoords": [
           {
            "line": {
             "colorbar": {
              "outlinewidth": 0,
              "ticks": ""
             }
            },
            "type": "parcoords"
           }
          ],
          "pie": [
           {
            "automargin": true,
            "type": "pie"
           }
          ],
          "scatter": [
           {
            "marker": {
             "colorbar": {
              "outlinewidth": 0,
              "ticks": ""
             }
            },
            "type": "scatter"
           }
          ],
          "scatter3d": [
           {
            "line": {
             "colorbar": {
              "outlinewidth": 0,
              "ticks": ""
             }
            },
            "marker": {
             "colorbar": {
              "outlinewidth": 0,
              "ticks": ""
             }
            },
            "type": "scatter3d"
           }
          ],
          "scattercarpet": [
           {
            "marker": {
             "colorbar": {
              "outlinewidth": 0,
              "ticks": ""
             }
            },
            "type": "scattercarpet"
           }
          ],
          "scattergeo": [
           {
            "marker": {
             "colorbar": {
              "outlinewidth": 0,
              "ticks": ""
             }
            },
            "type": "scattergeo"
           }
          ],
          "scattergl": [
           {
            "marker": {
             "colorbar": {
              "outlinewidth": 0,
              "ticks": ""
             }
            },
            "type": "scattergl"
           }
          ],
          "scattermapbox": [
           {
            "marker": {
             "colorbar": {
              "outlinewidth": 0,
              "ticks": ""
             }
            },
            "type": "scattermapbox"
           }
          ],
          "scatterpolar": [
           {
            "marker": {
             "colorbar": {
              "outlinewidth": 0,
              "ticks": ""
             }
            },
            "type": "scatterpolar"
           }
          ],
          "scatterpolargl": [
           {
            "marker": {
             "colorbar": {
              "outlinewidth": 0,
              "ticks": ""
             }
            },
            "type": "scatterpolargl"
           }
          ],
          "scatterternary": [
           {
            "marker": {
             "colorbar": {
              "outlinewidth": 0,
              "ticks": ""
             }
            },
            "type": "scatterternary"
           }
          ],
          "surface": [
           {
            "colorbar": {
             "outlinewidth": 0,
             "ticks": ""
            },
            "colorscale": [
             [
              0,
              "#0d0887"
             ],
             [
              0.1111111111111111,
              "#46039f"
             ],
             [
              0.2222222222222222,
              "#7201a8"
             ],
             [
              0.3333333333333333,
              "#9c179e"
             ],
             [
              0.4444444444444444,
              "#bd3786"
             ],
             [
              0.5555555555555556,
              "#d8576b"
             ],
             [
              0.6666666666666666,
              "#ed7953"
             ],
             [
              0.7777777777777778,
              "#fb9f3a"
             ],
             [
              0.8888888888888888,
              "#fdca26"
             ],
             [
              1,
              "#f0f921"
             ]
            ],
            "type": "surface"
           }
          ],
          "table": [
           {
            "cells": {
             "fill": {
              "color": "#EBF0F8"
             },
             "line": {
              "color": "white"
             }
            },
            "header": {
             "fill": {
              "color": "#C8D4E3"
             },
             "line": {
              "color": "white"
             }
            },
            "type": "table"
           }
          ]
         },
         "layout": {
          "annotationdefaults": {
           "arrowcolor": "#2a3f5f",
           "arrowhead": 0,
           "arrowwidth": 1
          },
          "autotypenumbers": "strict",
          "coloraxis": {
           "colorbar": {
            "outlinewidth": 0,
            "ticks": ""
           }
          },
          "colorscale": {
           "diverging": [
            [
             0,
             "#8e0152"
            ],
            [
             0.1,
             "#c51b7d"
            ],
            [
             0.2,
             "#de77ae"
            ],
            [
             0.3,
             "#f1b6da"
            ],
            [
             0.4,
             "#fde0ef"
            ],
            [
             0.5,
             "#f7f7f7"
            ],
            [
             0.6,
             "#e6f5d0"
            ],
            [
             0.7,
             "#b8e186"
            ],
            [
             0.8,
             "#7fbc41"
            ],
            [
             0.9,
             "#4d9221"
            ],
            [
             1,
             "#276419"
            ]
           ],
           "sequential": [
            [
             0,
             "#0d0887"
            ],
            [
             0.1111111111111111,
             "#46039f"
            ],
            [
             0.2222222222222222,
             "#7201a8"
            ],
            [
             0.3333333333333333,
             "#9c179e"
            ],
            [
             0.4444444444444444,
             "#bd3786"
            ],
            [
             0.5555555555555556,
             "#d8576b"
            ],
            [
             0.6666666666666666,
             "#ed7953"
            ],
            [
             0.7777777777777778,
             "#fb9f3a"
            ],
            [
             0.8888888888888888,
             "#fdca26"
            ],
            [
             1,
             "#f0f921"
            ]
           ],
           "sequentialminus": [
            [
             0,
             "#0d0887"
            ],
            [
             0.1111111111111111,
             "#46039f"
            ],
            [
             0.2222222222222222,
             "#7201a8"
            ],
            [
             0.3333333333333333,
             "#9c179e"
            ],
            [
             0.4444444444444444,
             "#bd3786"
            ],
            [
             0.5555555555555556,
             "#d8576b"
            ],
            [
             0.6666666666666666,
             "#ed7953"
            ],
            [
             0.7777777777777778,
             "#fb9f3a"
            ],
            [
             0.8888888888888888,
             "#fdca26"
            ],
            [
             1,
             "#f0f921"
            ]
           ]
          },
          "colorway": [
           "#636efa",
           "#EF553B",
           "#00cc96",
           "#ab63fa",
           "#FFA15A",
           "#19d3f3",
           "#FF6692",
           "#B6E880",
           "#FF97FF",
           "#FECB52"
          ],
          "font": {
           "color": "#2a3f5f"
          },
          "geo": {
           "bgcolor": "white",
           "lakecolor": "white",
           "landcolor": "#E5ECF6",
           "showlakes": true,
           "showland": true,
           "subunitcolor": "white"
          },
          "hoverlabel": {
           "align": "left"
          },
          "hovermode": "closest",
          "mapbox": {
           "style": "light"
          },
          "paper_bgcolor": "white",
          "plot_bgcolor": "#E5ECF6",
          "polar": {
           "angularaxis": {
            "gridcolor": "white",
            "linecolor": "white",
            "ticks": ""
           },
           "bgcolor": "#E5ECF6",
           "radialaxis": {
            "gridcolor": "white",
            "linecolor": "white",
            "ticks": ""
           }
          },
          "scene": {
           "xaxis": {
            "backgroundcolor": "#E5ECF6",
            "gridcolor": "white",
            "gridwidth": 2,
            "linecolor": "white",
            "showbackground": true,
            "ticks": "",
            "zerolinecolor": "white"
           },
           "yaxis": {
            "backgroundcolor": "#E5ECF6",
            "gridcolor": "white",
            "gridwidth": 2,
            "linecolor": "white",
            "showbackground": true,
            "ticks": "",
            "zerolinecolor": "white"
           },
           "zaxis": {
            "backgroundcolor": "#E5ECF6",
            "gridcolor": "white",
            "gridwidth": 2,
            "linecolor": "white",
            "showbackground": true,
            "ticks": "",
            "zerolinecolor": "white"
           }
          },
          "shapedefaults": {
           "line": {
            "color": "#2a3f5f"
           }
          },
          "ternary": {
           "aaxis": {
            "gridcolor": "white",
            "linecolor": "white",
            "ticks": ""
           },
           "baxis": {
            "gridcolor": "white",
            "linecolor": "white",
            "ticks": ""
           },
           "bgcolor": "#E5ECF6",
           "caxis": {
            "gridcolor": "white",
            "linecolor": "white",
            "ticks": ""
           }
          },
          "title": {
           "x": 0.05
          },
          "xaxis": {
           "automargin": true,
           "gridcolor": "white",
           "linecolor": "white",
           "ticks": "",
           "title": {
            "standoff": 15
           },
           "zerolinecolor": "white",
           "zerolinewidth": 2
          },
          "yaxis": {
           "automargin": true,
           "gridcolor": "white",
           "linecolor": "white",
           "ticks": "",
           "title": {
            "standoff": 15
           },
           "zerolinecolor": "white",
           "zerolinewidth": 2
          }
         }
        },
        "title": {
         "text": "Popularity by Genre"
        }
       }
      }
     },
     "metadata": {},
     "output_type": "display_data"
    }
   ],
   "source": [
    "\n",
    "\n",
    "fig2 = px.pie(df, values=\"pop\", names=\"top genre\", title=\"Popularity by Genre\", color_discrete_sequence=px.colors.qualitative.Dark24)\n",
    "fig2.update_traces(textposition='inside', textinfo='percent+label')\n",
    "fig2.show()\n",
    "\n",
    "fig2.write_image(\"./fig2.svg\")"
   ]
  },
  {
   "cell_type": "markdown",
   "metadata": {},
   "source": [
    "![]<img src=\"./fig2.svg\">"
   ]
  }
 ],
 "metadata": {
  "interpreter": {
   "hash": "38cca0c38332a56087b24af0bc80247f4fced29cb4f7f437d91dc159adec9c4e"
  },
  "kernelspec": {
   "display_name": "Python 3.8.8 64-bit ('base': conda)",
   "language": "python",
   "name": "python3"
  },
  "language_info": {
   "codemirror_mode": {
    "name": "ipython",
    "version": 3
   },
   "file_extension": ".py",
   "mimetype": "text/x-python",
   "name": "python",
   "nbconvert_exporter": "python",
   "pygments_lexer": "ipython3",
   "version": "3.8.8"
  },
  "orig_nbformat": 4
 },
 "nbformat": 4,
 "nbformat_minor": 2
}
